{
  "nbformat": 4,
  "nbformat_minor": 0,
  "metadata": {
    "colab": {
      "provenance": [],
      "authorship_tag": "ABX9TyMl9KrqtQ8mgqrV3octgr2X",
      "include_colab_link": true
    },
    "kernelspec": {
      "name": "python3",
      "display_name": "Python 3"
    },
    "language_info": {
      "name": "python"
    }
  },
  "cells": [
    {
      "cell_type": "markdown",
      "metadata": {
        "id": "view-in-github",
        "colab_type": "text"
      },
      "source": [
        "<a href=\"https://colab.research.google.com/github/wave010/EDA-Python/blob/main/New_York_City_Airbnb_Market.ipynb\" target=\"_parent\"><img src=\"https://colab.research.google.com/assets/colab-badge.svg\" alt=\"Open In Colab\"/></a>"
      ]
    },
    {
      "cell_type": "markdown",
      "source": [
        "# **New York City Airbnb Market**\n",
        "\n",
        "dataset : https://www.kaggle.com/datasets/ebrahimelgazar/new-york-city-airbnb-market\n",
        "\n"
      ],
      "metadata": {
        "id": "gbXRfEWCsZyd"
      }
    },
    {
      "cell_type": "code",
      "execution_count": null,
      "metadata": {
        "id": "lPbu2BYPsXGO"
      },
      "outputs": [],
      "source": []
    }
  ]
}