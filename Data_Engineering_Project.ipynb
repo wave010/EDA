{
  "nbformat": 4,
  "nbformat_minor": 0,
  "metadata": {
    "colab": {
      "provenance": [],
      "collapsed_sections": [
        "qZxKI_acNAad",
        "UE90RtNxNOTc",
        "7p1A7WKhLuvY",
        "P-wmcQCzac_E",
        "O1G6HYm8dNRF"
      ],
      "include_colab_link": true
    },
    "kernelspec": {
      "name": "python3",
      "display_name": "Python 3"
    },
    "language_info": {
      "name": "python"
    }
  },
  "cells": [
    {
      "cell_type": "markdown",
      "metadata": {
        "id": "view-in-github",
        "colab_type": "text"
      },
      "source": [
        "<a href=\"https://colab.research.google.com/github/wave010/EDA-Python/blob/main/Data_Engineering_Project.ipynb\" target=\"_parent\"><img src=\"https://colab.research.google.com/assets/colab-badge.svg\" alt=\"Open In Colab\"/></a>"
      ]
    },
    {
      "cell_type": "code",
      "source": [
        "import pandas as pd\n",
        "import seaborn as sns\n",
        "import numpy as np\n",
        "import matplotlib.pyplot as plt"
      ],
      "metadata": {
        "id": "AT8DWAP_hPgP"
      },
      "execution_count": null,
      "outputs": []
    },
    {
      "cell_type": "markdown",
      "source": [
        "# **dataset from Kaggle**"
      ],
      "metadata": {
        "id": "qZxKI_acNAad"
      }
    },
    {
      "cell_type": "code",
      "source": [
        "!gdown --id 1sP8kg1gPefd8mubzUoYnRNww3guPhbm5"
      ],
      "metadata": {
        "colab": {
          "base_uri": "https://localhost:8080/"
        },
        "id": "wKMrj9JGHdvf",
        "outputId": "d16e5907-c890-4d8c-bb74-767f489e2ccf"
      },
      "execution_count": null,
      "outputs": [
        {
          "output_type": "stream",
          "name": "stdout",
          "text": [
            "Downloading...\n",
            "From: https://drive.google.com/uc?id=1sP8kg1gPefd8mubzUoYnRNww3guPhbm5\n",
            "To: /content/Aircraft_Incident_Dataset.csv\n",
            "100% 9.42M/9.42M [00:00<00:00, 29.8MB/s]\n"
          ]
        }
      ]
    },
    {
      "cell_type": "code",
      "source": [
        "data = pd.read_csv(\"Aircraft_Incident_Dataset.csv\") #อ่านไฟล์ dataset\n",
        "data.columns # ดูว่าใน dataframe มีคอลัมน์อะไรบ้าง"
      ],
      "metadata": {
        "colab": {
          "base_uri": "https://localhost:8080/"
        },
        "id": "KMAHD4ekHjwi",
        "outputId": "22187583-6618-4019-da80-c7d700f1ef17"
      },
      "execution_count": null,
      "outputs": [
        {
          "output_type": "execute_result",
          "data": {
            "text/plain": [
              "Index(['Incident_Date', 'Aircaft_Model', 'Aircaft_Registration',\n",
              "       'Aircaft_Operator', 'Aircaft_Nature', 'Incident_Category',\n",
              "       'Incident_Cause(es)', 'Incident_Location', 'Aircaft_Damage_Type',\n",
              "       'Date', 'Time', 'Arit', 'Aircaft_Engines', 'Onboard_Crew',\n",
              "       'Onboard_Passengers', 'Onboard_Total', 'Fatalities',\n",
              "       'Aircaft_First_Flight', 'Aircraft_Phase', 'Departure_Airport',\n",
              "       'Destination_Airport', 'Ground_Casualties', 'Collision_Casualties'],\n",
              "      dtype='object')"
            ]
          },
          "metadata": {},
          "execution_count": 175
        }
      ]
    },
    {
      "cell_type": "code",
      "source": [
        "data.shape # ดูขนาดข้อมูล ได้ว่ามี 23519 แถว 23 คอลัมน์"
      ],
      "metadata": {
        "colab": {
          "base_uri": "https://localhost:8080/"
        },
        "id": "lDL5fNnqH7KF",
        "outputId": "64d630f2-fdb8-4666-8a61-de6fde46f2c7"
      },
      "execution_count": null,
      "outputs": [
        {
          "output_type": "execute_result",
          "data": {
            "text/plain": [
              "(23519, 23)"
            ]
          },
          "metadata": {},
          "execution_count": 176
        }
      ]
    },
    {
      "cell_type": "code",
      "source": [
        "column = ['Date', 'Time','Arit','Aircaft_Engines', 'Aircaft_First_Flight', 'Aircraft_Phase', 'Departure_Airport', 'Destination_Airport', 'Ground_Casualties', 'Collision_Casualties']\n",
        "data = data.drop(columns=column) # เอาคอลัมน์ที่ไม่ใช้ออก"
      ],
      "metadata": {
        "id": "PTalKPgmMWCI"
      },
      "execution_count": null,
      "outputs": []
    },
    {
      "cell_type": "code",
      "source": [
        "data.shape #Show shape of data frame"
      ],
      "metadata": {
        "colab": {
          "base_uri": "https://localhost:8080/"
        },
        "id": "dyzxkF-PM6Cr",
        "outputId": "c8f62391-5e79-4e0d-f60a-9f868df86fb8"
      },
      "execution_count": null,
      "outputs": [
        {
          "output_type": "execute_result",
          "data": {
            "text/plain": [
              "(23519, 13)"
            ]
          },
          "metadata": {},
          "execution_count": 178
        }
      ]
    },
    {
      "cell_type": "markdown",
      "source": [
        "คอลัมน์ที่ใช้\n",
        "```\n",
        "Ancident_Date => วันที่เกิดเหตุการณ์\n",
        "Aircaft_Model => รุ่นเครื่อง\n",
        "Aircaft_Registration => ทะเบียนเครื่อง\n",
        "Aircaft_Operator   => ผู้ครอบครอง\n",
        "Aircaft_Nature   => ชนิดเครื่อง\n",
        "Incident_Category   => หมวดหมู่เหตุการณ์\n",
        "Incident_Cause(es)   => สาเหตุของเหตุการณ์\n",
        "Incident_Location   => สถานที่เกิดเหตุ\n",
        "Aircaft_Damage_Type   => ประเภทความเสียหายของ Aircaft\n",
        "Onboard_Crew   => จำนวนลูกเรือ\n",
        "Onboard_Passengers  => จำนวนผู้โดยสาร\n",
        "Onboard_Total  => จำนวนคนทั้งหมด\n",
        "Fatalities   => ผู้เสียชีวิต\n",
        "\n",
        "```\n"
      ],
      "metadata": {
        "id": "4XqVJFp-IxU2"
      }
    },
    {
      "cell_type": "code",
      "source": [
        "data.isna().sum() #show total nan per column"
      ],
      "metadata": {
        "colab": {
          "base_uri": "https://localhost:8080/"
        },
        "id": "bF1i1fvhcUHv",
        "outputId": "550e9263-c6f8-42f8-d4ae-816917561bf4"
      },
      "execution_count": null,
      "outputs": [
        {
          "output_type": "execute_result",
          "data": {
            "text/plain": [
              "Incident_Date              0\n",
              "Aircaft_Model              0\n",
              "Aircaft_Registration    1561\n",
              "Aircaft_Operator           0\n",
              "Aircaft_Nature             0\n",
              "Incident_Category          0\n",
              "Incident_Cause(es)         0\n",
              "Incident_Location        932\n",
              "Aircaft_Damage_Type        0\n",
              "Onboard_Crew               0\n",
              "Onboard_Passengers         0\n",
              "Onboard_Total              0\n",
              "Fatalities                 0\n",
              "dtype: int64"
            ]
          },
          "metadata": {},
          "execution_count": 179
        }
      ]
    },
    {
      "cell_type": "code",
      "source": [
        "sns.heatmap(data.isnull(),cbar=False,cmap='viridis') #check nan value by heatmap"
      ],
      "metadata": {
        "colab": {
          "base_uri": "https://localhost:8080/",
          "height": 386
        },
        "id": "vY1m_tZ9g2QL",
        "outputId": "254dd843-65fb-4da8-c4b3-3607fe51249f"
      },
      "execution_count": null,
      "outputs": [
        {
          "output_type": "execute_result",
          "data": {
            "text/plain": [
              "<matplotlib.axes._subplots.AxesSubplot at 0x7f0f20f31790>"
            ]
          },
          "metadata": {},
          "execution_count": 180
        },
        {
          "output_type": "display_data",
          "data": {
            "text/plain": [
              "<Figure size 432x288 with 1 Axes>"
            ],
            "image/png": "[encoded data removed]"
          },
          "metadata": {
            "needs_background": "light"
          }
        }
      ]
    },
    {
      "cell_type": "code",
      "source": [
        "data[data.Aircaft_Registration.isna()] #Check nan in Aircaft_Registration"
      ],
      "metadata": {
        "colab": {
          "base_uri": "https://localhost:8080/",
          "height": 765
        },
        "id": "fMIOwmgZwPXa",
        "outputId": "422bc21c-ff54-4417-f25d-1eefb5128ece"
      },
      "execution_count": null,
      "outputs": [
        {
          "output_type": "execute_result",
          "data": {
            "text/plain": [
              "      Incident_Date                  Aircaft_Model Aircaft_Registration  \\\n",
              "4       12-JAN-2022  Beechcraft 200 Super King Air                  NaN   \n",
              "16      12-JAN-2021                 Harbin Y-12-II                  NaN   \n",
              "24      29-JAN-2021        Beechcraft 100 King Air                  NaN   \n",
              "25      ??-JAN-2021                   Antonov An-2                  NaN   \n",
              "37      21-FEB-2021  Beechcraft 200 Super King Air                  NaN   \n",
              "...             ...                            ...                  ...   \n",
              "23502   ??-???-1923                  Aeromarine 75                  NaN   \n",
              "23504   31-MAR-1922               Handley Page O/7                  NaN   \n",
              "23506   15-JAN-1921                  Aeromarine 75                  NaN   \n",
              "23508   04-MAR-1921        Caproni Ca.60 Noviplano                  NaN   \n",
              "23517   02-AUG-1919                  Caproni Ca.48                  NaN   \n",
              "\n",
              "         Aircaft_Operator                    Aircaft_Nature  \\\n",
              "4                 private                    Illegal Flight   \n",
              "16              Kenyan AF                          Military   \n",
              "24                private                    Illegal Flight   \n",
              "25                  KPAAF                          Military   \n",
              "37                private                    Illegal Flight   \n",
              "...                   ...                               ...   \n",
              "23502  Aeromarine Airways                                 -   \n",
              "23504  Chinese Government  Domestic Non Scheduled Passenger   \n",
              "23506  Aeromarine Airways                                 -   \n",
              "23508             Caproni                              Test   \n",
              "23517             Caproni                         Passenger   \n",
              "\n",
              "                                       Incident_Category  \\\n",
              "4      Criminal occurrence (sabotage, shoot down) | h...   \n",
              "16                                  Accident | hull-loss   \n",
              "24     Criminal occurrence (sabotage, shoot down) | h...   \n",
              "25                                  Accident | hull-loss   \n",
              "37     Criminal occurrence (sabotage, shoot down) | h...   \n",
              "...                                                  ...   \n",
              "23502  other occurrence (ground fire, sabotage) | hul...   \n",
              "23504                               Accident | hull-loss   \n",
              "23506  other occurrence (ground fire, sabotage) | hul...   \n",
              "23508                               Accident | hull-loss   \n",
              "23517                               Accident | hull-loss   \n",
              "\n",
              "                   Incident_Cause(es)     Incident_Location  \\\n",
              "4      Result - Damaged on the ground       Machakilha, ...   \n",
              "16                   Info-Unavailable              near Voi   \n",
              "24                   Info-Unavailable       Crooked Tree...   \n",
              "25           Result - Loss of control  near Taechon Air ...   \n",
              "37                   Info-Unavailable       San Andrés, ...   \n",
              "...                               ...                   ...   \n",
              "23502  Result - Damaged on the ground        Havana harbour   \n",
              "23504                Info-Unavailable  near Beijing-Nany...   \n",
              "23506  Result - Damaged on the ground        Havana harbour   \n",
              "23508                Info-Unavailable         Lago Maggiore   \n",
              "23517                Info-Unavailable                Verona   \n",
              "\n",
              "         Aircaft_Damage_Type                  Onboard_Crew  \\\n",
              "4      Damaged beyond repair  Fatalities: 0 / Occupants: 0   \n",
              "16     Damaged beyond repair  Fatalities: 2 / Occupants: 2   \n",
              "24                 Destroyed  Fatalities: 0 / Occupants: 0   \n",
              "25     Damaged beyond repair  Fatalities: 5 / Occupants: 5   \n",
              "37                 Destroyed  Fatalities: 0 / Occupants: 0   \n",
              "...                      ...                           ...   \n",
              "23502  Damaged beyond repair  Fatalities: 0 / Occupants: 0   \n",
              "23504  Damaged beyond repair     Fatalities:  / Occupants:   \n",
              "23506  Damaged beyond repair  Fatalities: 0 / Occupants: 0   \n",
              "23508  Damaged beyond repair  Fatalities: 0 / Occupants: 1   \n",
              "23517              Destroyed  Fatalities: 2 / Occupants: 2   \n",
              "\n",
              "                   Onboard_Passengers                   Onboard_Total  \\\n",
              "4        Fatalities: 0 / Occupants: 0    Fatalities: 0 / Occupants: 0   \n",
              "16       Fatalities: 2 / Occupants: 2    Fatalities: 4 / Occupants: 4   \n",
              "24       Fatalities: 0 / Occupants: 0    Fatalities: 0 / Occupants: 0   \n",
              "25       Fatalities: 0 / Occupants: 0    Fatalities: 5 / Occupants: 5   \n",
              "37       Fatalities: 0 / Occupants: 0    Fatalities: 0 / Occupants: 0   \n",
              "...                               ...                             ...   \n",
              "23502    Fatalities: 0 / Occupants: 0    Fatalities: 0 / Occupants: 0   \n",
              "23504       Fatalities:  / Occupants:  Fatalities: 14 / Occupants: 14   \n",
              "23506    Fatalities: 0 / Occupants: 0    Fatalities: 0 / Occupants: 0   \n",
              "23508    Fatalities: 0 / Occupants: 0    Fatalities: 0 / Occupants: 1   \n",
              "23517  Fatalities: 12 / Occupants: 12  Fatalities: 14 / Occupants: 14   \n",
              "\n",
              "       Fatalities  \n",
              "4               0  \n",
              "16              4  \n",
              "24              0  \n",
              "25              5  \n",
              "37              0  \n",
              "...           ...  \n",
              "23502           0  \n",
              "23504          14  \n",
              "23506           0  \n",
              "23508           0  \n",
              "23517          14  \n",
              "\n",
              "[1561 rows x 13 columns]"
            ],
            "text/html": [
              "\n",
              "  <div id=\"df-3156756b-5084-4122-abae-4f32d7b08688\">\n",
              "    <div class=\"colab-df-container\">\n",
              "      <div>\n",
              "<style scoped>\n",
              "    .dataframe tbody tr th:only-of-type {\n",
              "        vertical-align: middle;\n",
              "    }\n",
              "\n",
              "    .dataframe tbody tr th {\n",
              "        vertical-align: top;\n",
              "    }\n",
              "\n",
              "    .dataframe thead th {\n",
              "        text-align: right;\n",
              "    }\n",
              "</style>\n",
              "<table border=\"1\" class=\"dataframe\">\n",
              "  <thead>\n",
              "    <tr style=\"text-align: right;\">\n",
              "      <th></th>\n",
              "      <th>Incident_Date</th>\n",
              "      <th>Aircaft_Model</th>\n",
              "      <th>Aircaft_Registration</th>\n",
              "      <th>Aircaft_Operator</th>\n",
              "      <th>Aircaft_Nature</th>\n",
              "      <th>Incident_Category</th>\n",
              "      <th>Incident_Cause(es)</th>\n",
              "      <th>Incident_Location</th>\n",
              "      <th>Aircaft_Damage_Type</th>\n",
              "      <th>Onboard_Crew</th>\n",
              "      <th>Onboard_Passengers</th>\n",
              "      <th>Onboard_Total</th>\n",
              "      <th>Fatalities</th>\n",
              "    </tr>\n",
              "  </thead>\n",
              "  <tbody>\n",
              "    <tr>\n",
              "      <th>4</th>\n",
              "      <td>12-JAN-2022</td>\n",
              "      <td>Beechcraft 200 Super King Air</td>\n",
              "      <td>NaN</td>\n",
              "      <td>private</td>\n",
              "      <td>Illegal Flight</td>\n",
              "      <td>Criminal occurrence (sabotage, shoot down) | h...</td>\n",
              "      <td>Result - Damaged on the ground</td>\n",
              "      <td>Machakilha, ...</td>\n",
              "      <td>Damaged beyond repair</td>\n",
              "      <td>Fatalities: 0 / Occupants: 0</td>\n",
              "      <td>Fatalities: 0 / Occupants: 0</td>\n",
              "      <td>Fatalities: 0 / Occupants: 0</td>\n",
              "      <td>0</td>\n",
              "    </tr>\n",
              "    <tr>\n",
              "      <th>16</th>\n",
              "      <td>12-JAN-2021</td>\n",
              "      <td>Harbin Y-12-II</td>\n",
              "      <td>NaN</td>\n",
              "      <td>Kenyan AF</td>\n",
              "      <td>Military</td>\n",
              "      <td>Accident | hull-loss</td>\n",
              "      <td>Info-Unavailable</td>\n",
              "      <td>near Voi</td>\n",
              "      <td>Damaged beyond repair</td>\n",
              "      <td>Fatalities: 2 / Occupants: 2</td>\n",
              "      <td>Fatalities: 2 / Occupants: 2</td>\n",
              "      <td>Fatalities: 4 / Occupants: 4</td>\n",
              "      <td>4</td>\n",
              "    </tr>\n",
              "    <tr>\n",
              "      <th>24</th>\n",
              "      <td>29-JAN-2021</td>\n",
              "      <td>Beechcraft 100 King Air</td>\n",
              "      <td>NaN</td>\n",
              "      <td>private</td>\n",
              "      <td>Illegal Flight</td>\n",
              "      <td>Criminal occurrence (sabotage, shoot down) | h...</td>\n",
              "      <td>Info-Unavailable</td>\n",
              "      <td>Crooked Tree...</td>\n",
              "      <td>Destroyed</td>\n",
              "      <td>Fatalities: 0 / Occupants: 0</td>\n",
              "      <td>Fatalities: 0 / Occupants: 0</td>\n",
              "      <td>Fatalities: 0 / Occupants: 0</td>\n",
              "      <td>0</td>\n",
              "    </tr>\n",
              "    <tr>\n",
              "      <th>25</th>\n",
              "      <td>??-JAN-2021</td>\n",
              "      <td>Antonov An-2</td>\n",
              "      <td>NaN</td>\n",
              "      <td>KPAAF</td>\n",
              "      <td>Military</td>\n",
              "      <td>Accident | hull-loss</td>\n",
              "      <td>Result - Loss of control</td>\n",
              "      <td>near Taechon Air ...</td>\n",
              "      <td>Damaged beyond repair</td>\n",
              "      <td>Fatalities: 5 / Occupants: 5</td>\n",
              "      <td>Fatalities: 0 / Occupants: 0</td>\n",
              "      <td>Fatalities: 5 / Occupants: 5</td>\n",
              "      <td>5</td>\n",
              "    </tr>\n",
              "    <tr>\n",
              "      <th>37</th>\n",
              "      <td>21-FEB-2021</td>\n",
              "      <td>Beechcraft 200 Super King Air</td>\n",
              "      <td>NaN</td>\n",
              "      <td>private</td>\n",
              "      <td>Illegal Flight</td>\n",
              "      <td>Criminal occurrence (sabotage, shoot down) | h...</td>\n",
              "      <td>Info-Unavailable</td>\n",
              "      <td>San Andrés, ...</td>\n",
              "      <td>Destroyed</td>\n",
              "      <td>Fatalities: 0 / Occupants: 0</td>\n",
              "      <td>Fatalities: 0 / Occupants: 0</td>\n",
              "      <td>Fatalities: 0 / Occupants: 0</td>\n",
              "      <td>0</td>\n",
              "    </tr>\n",
              "    <tr>\n",
              "      <th>...</th>\n",
              "      <td>...</td>\n",
              "      <td>...</td>\n",
              "      <td>...</td>\n",
              "      <td>...</td>\n",
              "      <td>...</td>\n",
              "      <td>...</td>\n",
              "      <td>...</td>\n",
              "      <td>...</td>\n",
              "      <td>...</td>\n",
              "      <td>...</td>\n",
              "      <td>...</td>\n",
              "      <td>...</td>\n",
              "      <td>...</td>\n",
              "    </tr>\n",
              "    <tr>\n",
              "      <th>23502</th>\n",
              "      <td>??-???-1923</td>\n",
              "      <td>Aeromarine 75</td>\n",
              "      <td>NaN</td>\n",
              "      <td>Aeromarine Airways</td>\n",
              "      <td>-</td>\n",
              "      <td>other occurrence (ground fire, sabotage) | hul...</td>\n",
              "      <td>Result - Damaged on the ground</td>\n",
              "      <td>Havana harbour</td>\n",
              "      <td>Damaged beyond repair</td>\n",
              "      <td>Fatalities: 0 / Occupants: 0</td>\n",
              "      <td>Fatalities: 0 / Occupants: 0</td>\n",
              "      <td>Fatalities: 0 / Occupants: 0</td>\n",
              "      <td>0</td>\n",
              "    </tr>\n",
              "    <tr>\n",
              "      <th>23504</th>\n",
              "      <td>31-MAR-1922</td>\n",
              "      <td>Handley Page O/7</td>\n",
              "      <td>NaN</td>\n",
              "      <td>Chinese Government</td>\n",
              "      <td>Domestic Non Scheduled Passenger</td>\n",
              "      <td>Accident | hull-loss</td>\n",
              "      <td>Info-Unavailable</td>\n",
              "      <td>near Beijing-Nany...</td>\n",
              "      <td>Damaged beyond repair</td>\n",
              "      <td>Fatalities:  / Occupants:</td>\n",
              "      <td>Fatalities:  / Occupants:</td>\n",
              "      <td>Fatalities: 14 / Occupants: 14</td>\n",
              "      <td>14</td>\n",
              "    </tr>\n",
              "    <tr>\n",
              "      <th>23506</th>\n",
              "      <td>15-JAN-1921</td>\n",
              "      <td>Aeromarine 75</td>\n",
              "      <td>NaN</td>\n",
              "      <td>Aeromarine Airways</td>\n",
              "      <td>-</td>\n",
              "      <td>other occurrence (ground fire, sabotage) | hul...</td>\n",
              "      <td>Result - Damaged on the ground</td>\n",
              "      <td>Havana harbour</td>\n",
              "      <td>Damaged beyond repair</td>\n",
              "      <td>Fatalities: 0 / Occupants: 0</td>\n",
              "      <td>Fatalities: 0 / Occupants: 0</td>\n",
              "      <td>Fatalities: 0 / Occupants: 0</td>\n",
              "      <td>0</td>\n",
              "    </tr>\n",
              "    <tr>\n",
              "      <th>23508</th>\n",
              "      <td>04-MAR-1921</td>\n",
              "      <td>Caproni Ca.60 Noviplano</td>\n",
              "      <td>NaN</td>\n",
              "      <td>Caproni</td>\n",
              "      <td>Test</td>\n",
              "      <td>Accident | hull-loss</td>\n",
              "      <td>Info-Unavailable</td>\n",
              "      <td>Lago Maggiore</td>\n",
              "      <td>Damaged beyond repair</td>\n",
              "      <td>Fatalities: 0 / Occupants: 1</td>\n",
              "      <td>Fatalities: 0 / Occupants: 0</td>\n",
              "      <td>Fatalities: 0 / Occupants: 1</td>\n",
              "      <td>0</td>\n",
              "    </tr>\n",
              "    <tr>\n",
              "      <th>23517</th>\n",
              "      <td>02-AUG-1919</td>\n",
              "      <td>Caproni Ca.48</td>\n",
              "      <td>NaN</td>\n",
              "      <td>Caproni</td>\n",
              "      <td>Passenger</td>\n",
              "      <td>Accident | hull-loss</td>\n",
              "      <td>Info-Unavailable</td>\n",
              "      <td>Verona</td>\n",
              "      <td>Destroyed</td>\n",
              "      <td>Fatalities: 2 / Occupants: 2</td>\n",
              "      <td>Fatalities: 12 / Occupants: 12</td>\n",
              "      <td>Fatalities: 14 / Occupants: 14</td>\n",
              "      <td>14</td>\n",
              "    </tr>\n",
              "  </tbody>\n",
              "</table>\n",
              "<p>1561 rows × 13 columns</p>\n",
              "</div>\n",
              "      <button class=\"colab-df-convert\" onclick=\"convertToInteractive('df-3156756b-5084-4122-abae-4f32d7b08688')\"\n",
              "              title=\"Convert this dataframe to an interactive table.\"\n",
              "              style=\"display:none;\">\n",
              "        \n",
              "  <svg xmlns=\"http://www.w3.org/2000/svg\" height=\"24px\"viewBox=\"0 0 24 24\"\n",
              "       width=\"24px\">\n",
              "    <path d=\"M0 0h24v24H0V0z\" fill=\"none\"/>\n",
              "    <path d=\"M18.56 5.44l.94 2.06.94-2.06 2.06-.94-2.06-.94-.94-2.06-.94 2.06-2.06.94zm-11 1L8.5 8.5l.94-2.06 2.06-.94-2.06-.94L8.5 2.5l-.94 2.06-2.06.94zm10 10l.94 2.06.94-2.06 2.06-.94-2.06-.94-.94-2.06-.94 2.06-2.06.94z\"/><path d=\"M17.41 7.96l-1.37-1.37c-.4-.4-.92-.59-1.43-.59-.52 0-1.04.2-1.43.59L10.3 9.45l-7.72 7.72c-.78.78-.78 2.05 0 2.83L4 21.41c.39.39.9.59 1.41.59.51 0 1.02-.2 1.41-.59l7.78-7.78 2.81-2.81c.8-.78.8-2.07 0-2.86zM5.41 20L4 18.59l7.72-7.72 1.47 1.35L5.41 20z\"/>\n",
              "  </svg>\n",
              "      </button>\n",
              "      \n",
              "  <style>\n",
              "    .colab-df-container {\n",
              "      display:flex;\n",
              "      flex-wrap:wrap;\n",
              "      gap: 12px;\n",
              "    }\n",
              "\n",
              "    .colab-df-convert {\n",
              "      background-color: #E8F0FE;\n",
              "      border: none;\n",
              "      border-radius: 50%;\n",
              "      cursor: pointer;\n",
              "      display: none;\n",
              "      fill: #1967D2;\n",
              "      height: 32px;\n",
              "      padding: 0 0 0 0;\n",
              "      width: 32px;\n",
              "    }\n",
              "\n",
              "    .colab-df-convert:hover {\n",
              "      background-color: #E2EBFA;\n",
              "      box-shadow: 0px 1px 2px rgba(60, 64, 67, 0.3), 0px 1px 3px 1px rgba(60, 64, 67, 0.15);\n",
              "      fill: #174EA6;\n",
              "    }\n",
              "\n",
              "    [theme=dark] .colab-df-convert {\n",
              "      background-color: #3B4455;\n",
              "      fill: #D2E3FC;\n",
              "    }\n",
              "\n",
              "    [theme=dark] .colab-df-convert:hover {\n",
              "      background-color: #434B5C;\n",
              "      box-shadow: 0px 1px 3px 1px rgba(0, 0, 0, 0.15);\n",
              "      filter: drop-shadow(0px 1px 2px rgba(0, 0, 0, 0.3));\n",
              "      fill: #FFFFFF;\n",
              "    }\n",
              "  </style>\n",
              "\n",
              "      <script>\n",
              "        const buttonEl =\n",
              "          document.querySelector('#df-3156756b-5084-4122-abae-4f32d7b08688 button.colab-df-convert');\n",
              "        buttonEl.style.display =\n",
              "          google.colab.kernel.accessAllowed ? 'block' : 'none';\n",
              "\n",
              "        async function convertToInteractive(key) {\n",
              "          const element = document.querySelector('#df-3156756b-5084-4122-abae-4f32d7b08688');\n",
              "          const dataTable =\n",
              "            await google.colab.kernel.invokeFunction('convertToInteractive',\n",
              "                                                     [key], {});\n",
              "          if (!dataTable) return;\n",
              "\n",
              "          const docLinkHtml = 'Like what you see? Visit the ' +\n",
              "            '<a target=\"_blank\" href=https://colab.research.google.com/notebooks/data_table.ipynb>data table notebook</a>'\n",
              "            + ' to learn more about interactive tables.';\n",
              "          element.innerHTML = '';\n",
              "          dataTable['output_type'] = 'display_data';\n",
              "          await google.colab.output.renderOutput(dataTable, element);\n",
              "          const docLink = document.createElement('div');\n",
              "          docLink.innerHTML = docLinkHtml;\n",
              "          element.appendChild(docLink);\n",
              "        }\n",
              "      </script>\n",
              "    </div>\n",
              "  </div>\n",
              "  "
            ]
          },
          "metadata": {},
          "execution_count": 181
        }
      ]
    },
    {
      "cell_type": "code",
      "source": [
        "data = data[data['Aircaft_Registration'].notna()] #Drop Reg เพราะregเป็นเลขทะเบียนของแต่ละลำ"
      ],
      "metadata": {
        "id": "yI8QnMSPwUh9"
      },
      "execution_count": null,
      "outputs": []
    },
    {
      "cell_type": "code",
      "source": [
        "data[data.Incident_Location.isna()] #Check nan in Incident_Location"
      ],
      "metadata": {
        "colab": {
          "base_uri": "https://localhost:8080/",
          "height": 696
        },
        "id": "RCq-Yu4Yc2QL",
        "outputId": "f77c07e1-bb4f-4f57-cd2b-df35aa74d4f7"
      },
      "execution_count": null,
      "outputs": [
        {
          "output_type": "execute_result",
          "data": {
            "text/plain": [
              "      Incident_Date              Aircaft_Model Aircaft_Registration  \\\n",
              "3555    02-MAY-2004            Yakovlev Yak-40            YV-1070CP   \n",
              "3646    09-OCT-2004               Let L-410UVP               9XR-KL   \n",
              "3774    15-APR-2003       Vickers 836 Viscount               9Q-CGL   \n",
              "3789    10-MAY-2003              Antonov An-2R             UK-68038   \n",
              "4329    14-NOV-2001  Cessna 208B Grand Caravan               8R-GTG   \n",
              "...             ...                        ...                  ...   \n",
              "23268   ??-MAY-1936             Junkers G.31fo               D-ABIL   \n",
              "23350   23-AUG-1934        Junkers PS-5 (G.24)            CCCP-L742   \n",
              "23374   13-AUG-1933        Junkers PS-5 (G.24)            CCCP-L743   \n",
              "23463   ??-OCT-1929     Farman F.63bis Goliath               F-FARI   \n",
              "23483   ??-DEC-1928             Junkers G.31ce               D-1137   \n",
              "\n",
              "                 Aircaft_Operator                Aircaft_Nature  \\\n",
              "3555               CIACA Airlines                       Unknown   \n",
              "3646               El Amiron Plus             Ferry/positioning   \n",
              "3774                 Trans Intair                       Unknown   \n",
              "3789           Uzbekistan Airways                  Agricultural   \n",
              "4329         Trans Guyana Airways  Domestic Scheduled Passenger   \n",
              "...                           ...                           ...   \n",
              "23268  Reichsluftfahrtministerium                       Unknown   \n",
              "23350                    Dobrolet                       Unknown   \n",
              "23374                    Dobrolet                       Unknown   \n",
              "23463                        SGTA                       Unknown   \n",
              "23483          Deutsche Lufthansa                       Unknown   \n",
              "\n",
              "                    Incident_Category  \\\n",
              "3555             Accident | hull-loss   \n",
              "3646             Accident | hull-loss   \n",
              "3774             Accident | hull-loss   \n",
              "3789     Accident | repairable-damage   \n",
              "4329    Hijacking | repairable-damage   \n",
              "...                               ...   \n",
              "23268            Accident | hull-loss   \n",
              "23350            Accident | hull-loss   \n",
              "23374  occurrence unknown | hull-loss   \n",
              "23463  occurrence unknown | hull-loss   \n",
              "23483            Accident | hull-loss   \n",
              "\n",
              "                                      Incident_Cause(es) Incident_Location  \\\n",
              "3555                                    Info-Unavailable               NaN   \n",
              "3646   Result - Emergency, forced landing - Outside a...               NaN   \n",
              "3774                                    Info-Unavailable               NaN   \n",
              "3789                                    Info-Unavailable               NaN   \n",
              "4329   Result - Hijacking - Hijacker(s) escaped, Secu...               NaN   \n",
              "...                                                  ...               ...   \n",
              "23268                                   Info-Unavailable               NaN   \n",
              "23350                                   Info-Unavailable               NaN   \n",
              "23374                                   Info-Unavailable               NaN   \n",
              "23463                                   Info-Unavailable               NaN   \n",
              "23483                                   Info-Unavailable               NaN   \n",
              "\n",
              "         Aircaft_Damage_Type                  Onboard_Crew  \\\n",
              "3555   Damaged beyond repair     Fatalities:  / Occupants:   \n",
              "3646   Damaged beyond repair  Fatalities: 0 / Occupants: 2   \n",
              "3774   Damaged beyond repair  Fatalities: 0 / Occupants: 3   \n",
              "3789             Substantial     Fatalities:  / Occupants:   \n",
              "4329                    None  Fatalities: 0 / Occupants: 1   \n",
              "...                      ...                           ...   \n",
              "23268  Damaged beyond repair     Fatalities:  / Occupants:   \n",
              "23350  Damaged beyond repair     Fatalities:  / Occupants:   \n",
              "23374  Damaged beyond repair     Fatalities:  / Occupants:   \n",
              "23463  Damaged beyond repair     Fatalities:  / Occupants:   \n",
              "23483  Damaged beyond repair     Fatalities:  / Occupants:   \n",
              "\n",
              "                  Onboard_Passengers                  Onboard_Total  \\\n",
              "3555       Fatalities:  / Occupants:      Fatalities:  / Occupants:   \n",
              "3646    Fatalities: 0 / Occupants: 0   Fatalities: 0 / Occupants: 2   \n",
              "3774    Fatalities: 0 / Occupants: 0   Fatalities: 0 / Occupants: 3   \n",
              "3789       Fatalities:  / Occupants:      Fatalities:  / Occupants:   \n",
              "4329   Fatalities: 0 / Occupants: 12  Fatalities: 0 / Occupants: 13   \n",
              "...                              ...                            ...   \n",
              "23268      Fatalities:  / Occupants:      Fatalities:  / Occupants:   \n",
              "23350      Fatalities:  / Occupants:      Fatalities:  / Occupants:   \n",
              "23374      Fatalities:  / Occupants:      Fatalities:  / Occupants:   \n",
              "23463      Fatalities:  / Occupants:      Fatalities:  / Occupants:   \n",
              "23483      Fatalities:  / Occupants:      Fatalities:  / Occupants:   \n",
              "\n",
              "       Fatalities  \n",
              "3555            0  \n",
              "3646            0  \n",
              "3774            0  \n",
              "3789            0  \n",
              "4329            0  \n",
              "...           ...  \n",
              "23268           0  \n",
              "23350           0  \n",
              "23374           0  \n",
              "23463           0  \n",
              "23483           0  \n",
              "\n",
              "[830 rows x 13 columns]"
            ],
            "text/html": [
              "\n",
              "  <div id=\"df-68744927-a0db-4ebd-b46c-fb7a71853892\">\n",
              "    <div class=\"colab-df-container\">\n",
              "      <div>\n",
              "<style scoped>\n",
              "    .dataframe tbody tr th:only-of-type {\n",
              "        vertical-align: middle;\n",
              "    }\n",
              "\n",
              "    .dataframe tbody tr th {\n",
              "        vertical-align: top;\n",
              "    }\n",
              "\n",
              "    .dataframe thead th {\n",
              "        text-align: right;\n",
              "    }\n",
              "</style>\n",
              "<table border=\"1\" class=\"dataframe\">\n",
              "  <thead>\n",
              "    <tr style=\"text-align: right;\">\n",
              "      <th></th>\n",
              "      <th>Incident_Date</th>\n",
              "      <th>Aircaft_Model</th>\n",
              "      <th>Aircaft_Registration</th>\n",
              "      <th>Aircaft_Operator</th>\n",
              "      <th>Aircaft_Nature</th>\n",
              "      <th>Incident_Category</th>\n",
              "      <th>Incident_Cause(es)</th>\n",
              "      <th>Incident_Location</th>\n",
              "      <th>Aircaft_Damage_Type</th>\n",
              "      <th>Onboard_Crew</th>\n",
              "      <th>Onboard_Passengers</th>\n",
              "      <th>Onboard_Total</th>\n",
              "      <th>Fatalities</th>\n",
              "    </tr>\n",
              "  </thead>\n",
              "  <tbody>\n",
              "    <tr>\n",
              "      <th>3555</th>\n",
              "      <td>02-MAY-2004</td>\n",
              "      <td>Yakovlev Yak-40</td>\n",
              "      <td>YV-1070CP</td>\n",
              "      <td>CIACA Airlines</td>\n",
              "      <td>Unknown</td>\n",
              "      <td>Accident | hull-loss</td>\n",
              "      <td>Info-Unavailable</td>\n",
              "      <td>NaN</td>\n",
              "      <td>Damaged beyond repair</td>\n",
              "      <td>Fatalities:  / Occupants:</td>\n",
              "      <td>Fatalities:  / Occupants:</td>\n",
              "      <td>Fatalities:  / Occupants:</td>\n",
              "      <td>0</td>\n",
              "    </tr>\n",
              "    <tr>\n",
              "      <th>3646</th>\n",
              "      <td>09-OCT-2004</td>\n",
              "      <td>Let L-410UVP</td>\n",
              "      <td>9XR-KL</td>\n",
              "      <td>El Amiron Plus</td>\n",
              "      <td>Ferry/positioning</td>\n",
              "      <td>Accident | hull-loss</td>\n",
              "      <td>Result - Emergency, forced landing - Outside a...</td>\n",
              "      <td>NaN</td>\n",
              "      <td>Damaged beyond repair</td>\n",
              "      <td>Fatalities: 0 / Occupants: 2</td>\n",
              "      <td>Fatalities: 0 / Occupants: 0</td>\n",
              "      <td>Fatalities: 0 / Occupants: 2</td>\n",
              "      <td>0</td>\n",
              "    </tr>\n",
              "    <tr>\n",
              "      <th>3774</th>\n",
              "      <td>15-APR-2003</td>\n",
              "      <td>Vickers 836 Viscount</td>\n",
              "      <td>9Q-CGL</td>\n",
              "      <td>Trans Intair</td>\n",
              "      <td>Unknown</td>\n",
              "      <td>Accident | hull-loss</td>\n",
              "      <td>Info-Unavailable</td>\n",
              "      <td>NaN</td>\n",
              "      <td>Damaged beyond repair</td>\n",
              "      <td>Fatalities: 0 / Occupants: 3</td>\n",
              "      <td>Fatalities: 0 / Occupants: 0</td>\n",
              "      <td>Fatalities: 0 / Occupants: 3</td>\n",
              "      <td>0</td>\n",
              "    </tr>\n",
              "    <tr>\n",
              "      <th>3789</th>\n",
              "      <td>10-MAY-2003</td>\n",
              "      <td>Antonov An-2R</td>\n",
              "      <td>UK-68038</td>\n",
              "      <td>Uzbekistan Airways</td>\n",
              "      <td>Agricultural</td>\n",
              "      <td>Accident | repairable-damage</td>\n",
              "      <td>Info-Unavailable</td>\n",
              "      <td>NaN</td>\n",
              "      <td>Substantial</td>\n",
              "      <td>Fatalities:  / Occupants:</td>\n",
              "      <td>Fatalities:  / Occupants:</td>\n",
              "      <td>Fatalities:  / Occupants:</td>\n",
              "      <td>0</td>\n",
              "    </tr>\n",
              "    <tr>\n",
              "      <th>4329</th>\n",
              "      <td>14-NOV-2001</td>\n",
              "      <td>Cessna 208B Grand Caravan</td>\n",
              "      <td>8R-GTG</td>\n",
              "      <td>Trans Guyana Airways</td>\n",
              "      <td>Domestic Scheduled Passenger</td>\n",
              "      <td>Hijacking | repairable-damage</td>\n",
              "      <td>Result - Hijacking - Hijacker(s) escaped, Secu...</td>\n",
              "      <td>NaN</td>\n",
              "      <td>None</td>\n",
              "      <td>Fatalities: 0 / Occupants: 1</td>\n",
              "      <td>Fatalities: 0 / Occupants: 12</td>\n",
              "      <td>Fatalities: 0 / Occupants: 13</td>\n",
              "      <td>0</td>\n",
              "    </tr>\n",
              "    <tr>\n",
              "      <th>...</th>\n",
              "      <td>...</td>\n",
              "      <td>...</td>\n",
              "      <td>...</td>\n",
              "      <td>...</td>\n",
              "      <td>...</td>\n",
              "      <td>...</td>\n",
              "      <td>...</td>\n",
              "      <td>...</td>\n",
              "      <td>...</td>\n",
              "      <td>...</td>\n",
              "      <td>...</td>\n",
              "      <td>...</td>\n",
              "      <td>...</td>\n",
              "    </tr>\n",
              "    <tr>\n",
              "      <th>23268</th>\n",
              "      <td>??-MAY-1936</td>\n",
              "      <td>Junkers G.31fo</td>\n",
              "      <td>D-ABIL</td>\n",
              "      <td>Reichsluftfahrtministerium</td>\n",
              "      <td>Unknown</td>\n",
              "      <td>Accident | hull-loss</td>\n",
              "      <td>Info-Unavailable</td>\n",
              "      <td>NaN</td>\n",
              "      <td>Damaged beyond repair</td>\n",
              "      <td>Fatalities:  / Occupants:</td>\n",
              "      <td>Fatalities:  / Occupants:</td>\n",
              "      <td>Fatalities:  / Occupants:</td>\n",
              "      <td>0</td>\n",
              "    </tr>\n",
              "    <tr>\n",
              "      <th>23350</th>\n",
              "      <td>23-AUG-1934</td>\n",
              "      <td>Junkers PS-5 (G.24)</td>\n",
              "      <td>CCCP-L742</td>\n",
              "      <td>Dobrolet</td>\n",
              "      <td>Unknown</td>\n",
              "      <td>Accident | hull-loss</td>\n",
              "      <td>Info-Unavailable</td>\n",
              "      <td>NaN</td>\n",
              "      <td>Damaged beyond repair</td>\n",
              "      <td>Fatalities:  / Occupants:</td>\n",
              "      <td>Fatalities:  / Occupants:</td>\n",
              "      <td>Fatalities:  / Occupants:</td>\n",
              "      <td>0</td>\n",
              "    </tr>\n",
              "    <tr>\n",
              "      <th>23374</th>\n",
              "      <td>13-AUG-1933</td>\n",
              "      <td>Junkers PS-5 (G.24)</td>\n",
              "      <td>CCCP-L743</td>\n",
              "      <td>Dobrolet</td>\n",
              "      <td>Unknown</td>\n",
              "      <td>occurrence unknown | hull-loss</td>\n",
              "      <td>Info-Unavailable</td>\n",
              "      <td>NaN</td>\n",
              "      <td>Damaged beyond repair</td>\n",
              "      <td>Fatalities:  / Occupants:</td>\n",
              "      <td>Fatalities:  / Occupants:</td>\n",
              "      <td>Fatalities:  / Occupants:</td>\n",
              "      <td>0</td>\n",
              "    </tr>\n",
              "    <tr>\n",
              "      <th>23463</th>\n",
              "      <td>??-OCT-1929</td>\n",
              "      <td>Farman F.63bis Goliath</td>\n",
              "      <td>F-FARI</td>\n",
              "      <td>SGTA</td>\n",
              "      <td>Unknown</td>\n",
              "      <td>occurrence unknown | hull-loss</td>\n",
              "      <td>Info-Unavailable</td>\n",
              "      <td>NaN</td>\n",
              "      <td>Damaged beyond repair</td>\n",
              "      <td>Fatalities:  / Occupants:</td>\n",
              "      <td>Fatalities:  / Occupants:</td>\n",
              "      <td>Fatalities:  / Occupants:</td>\n",
              "      <td>0</td>\n",
              "    </tr>\n",
              "    <tr>\n",
              "      <th>23483</th>\n",
              "      <td>??-DEC-1928</td>\n",
              "      <td>Junkers G.31ce</td>\n",
              "      <td>D-1137</td>\n",
              "      <td>Deutsche Lufthansa</td>\n",
              "      <td>Unknown</td>\n",
              "      <td>Accident | hull-loss</td>\n",
              "      <td>Info-Unavailable</td>\n",
              "      <td>NaN</td>\n",
              "      <td>Damaged beyond repair</td>\n",
              "      <td>Fatalities:  / Occupants:</td>\n",
              "      <td>Fatalities:  / Occupants:</td>\n",
              "      <td>Fatalities:  / Occupants:</td>\n",
              "      <td>0</td>\n",
              "    </tr>\n",
              "  </tbody>\n",
              "</table>\n",
              "<p>830 rows × 13 columns</p>\n",
              "</div>\n",
              "      <button class=\"colab-df-convert\" onclick=\"convertToInteractive('df-68744927-a0db-4ebd-b46c-fb7a71853892')\"\n",
              "              title=\"Convert this dataframe to an interactive table.\"\n",
              "              style=\"display:none;\">\n",
              "        \n",
              "  <svg xmlns=\"http://www.w3.org/2000/svg\" height=\"24px\"viewBox=\"0 0 24 24\"\n",
              "       width=\"24px\">\n",
              "    <path d=\"M0 0h24v24H0V0z\" fill=\"none\"/>\n",
              "    <path d=\"M18.56 5.44l.94 2.06.94-2.06 2.06-.94-2.06-.94-.94-2.06-.94 2.06-2.06.94zm-11 1L8.5 8.5l.94-2.06 2.06-.94-2.06-.94L8.5 2.5l-.94 2.06-2.06.94zm10 10l.94 2.06.94-2.06 2.06-.94-2.06-.94-.94-2.06-.94 2.06-2.06.94z\"/><path d=\"M17.41 7.96l-1.37-1.37c-.4-.4-.92-.59-1.43-.59-.52 0-1.04.2-1.43.59L10.3 9.45l-7.72 7.72c-.78.78-.78 2.05 0 2.83L4 21.41c.39.39.9.59 1.41.59.51 0 1.02-.2 1.41-.59l7.78-7.78 2.81-2.81c.8-.78.8-2.07 0-2.86zM5.41 20L4 18.59l7.72-7.72 1.47 1.35L5.41 20z\"/>\n",
              "  </svg>\n",
              "      </button>\n",
              "      \n",
              "  <style>\n",
              "    .colab-df-container {\n",
              "      display:flex;\n",
              "      flex-wrap:wrap;\n",
              "      gap: 12px;\n",
              "    }\n",
              "\n",
              "    .colab-df-convert {\n",
              "      background-color: #E8F0FE;\n",
              "      border: none;\n",
              "      border-radius: 50%;\n",
              "      cursor: pointer;\n",
              "      display: none;\n",
              "      fill: #1967D2;\n",
              "      height: 32px;\n",
              "      padding: 0 0 0 0;\n",
              "      width: 32px;\n",
              "    }\n",
              "\n",
              "    .colab-df-convert:hover {\n",
              "      background-color: #E2EBFA;\n",
              "      box-shadow: 0px 1px 2px rgba(60, 64, 67, 0.3), 0px 1px 3px 1px rgba(60, 64, 67, 0.15);\n",
              "      fill: #174EA6;\n",
              "    }\n",
              "\n",
              "    [theme=dark] .colab-df-convert {\n",
              "      background-color: #3B4455;\n",
              "      fill: #D2E3FC;\n",
              "    }\n",
              "\n",
              "    [theme=dark] .colab-df-convert:hover {\n",
              "      background-color: #434B5C;\n",
              "      box-shadow: 0px 1px 3px 1px rgba(0, 0, 0, 0.15);\n",
              "      filter: drop-shadow(0px 1px 2px rgba(0, 0, 0, 0.3));\n",
              "      fill: #FFFFFF;\n",
              "    }\n",
              "  </style>\n",
              "\n",
              "      <script>\n",
              "        const buttonEl =\n",
              "          document.querySelector('#df-68744927-a0db-4ebd-b46c-fb7a71853892 button.colab-df-convert');\n",
              "        buttonEl.style.display =\n",
              "          google.colab.kernel.accessAllowed ? 'block' : 'none';\n",
              "\n",
              "        async function convertToInteractive(key) {\n",
              "          const element = document.querySelector('#df-68744927-a0db-4ebd-b46c-fb7a71853892');\n",
              "          const dataTable =\n",
              "            await google.colab.kernel.invokeFunction('convertToInteractive',\n",
              "                                                     [key], {});\n",
              "          if (!dataTable) return;\n",
              "\n",
              "          const docLinkHtml = 'Like what you see? Visit the ' +\n",
              "            '<a target=\"_blank\" href=https://colab.research.google.com/notebooks/data_table.ipynb>data table notebook</a>'\n",
              "            + ' to learn more about interactive tables.';\n",
              "          element.innerHTML = '';\n",
              "          dataTable['output_type'] = 'display_data';\n",
              "          await google.colab.output.renderOutput(dataTable, element);\n",
              "          const docLink = document.createElement('div');\n",
              "          docLink.innerHTML = docLinkHtml;\n",
              "          element.appendChild(docLink);\n",
              "        }\n",
              "      </script>\n",
              "    </div>\n",
              "  </div>\n",
              "  "
            ]
          },
          "metadata": {},
          "execution_count": 183
        }
      ]
    },
    {
      "cell_type": "code",
      "source": [
        "data = data[data['Incident_Location'].notna()] #ไม่สามารถหาแหล่งข้อมูลที่อ้างอิงหรือคาดเดาได้อาจทำให้วัคถุคลาดเคลื่อน"
      ],
      "metadata": {
        "id": "iLF8OIniwZZa"
      },
      "execution_count": null,
      "outputs": []
    },
    {
      "cell_type": "code",
      "source": [
        "data.shape #Shape after drop nan"
      ],
      "metadata": {
        "id": "D_G028DMwbif",
        "outputId": "ce3904cb-2095-452e-df95-0d2d160b3850",
        "colab": {
          "base_uri": "https://localhost:8080/"
        }
      },
      "execution_count": null,
      "outputs": [
        {
          "output_type": "execute_result",
          "data": {
            "text/plain": [
              "(21128, 13)"
            ]
          },
          "metadata": {},
          "execution_count": 185
        }
      ]
    },
    {
      "cell_type": "code",
      "source": [
        "data.drop_duplicates(subset=['Aircaft_Registration'],inplace=True) #drop duplicate data"
      ],
      "metadata": {
        "id": "FA8dvixtgy1u"
      },
      "execution_count": null,
      "outputs": []
    },
    {
      "cell_type": "code",
      "source": [
        "data.shape #Shape after drop duplicate"
      ],
      "metadata": {
        "colab": {
          "base_uri": "https://localhost:8080/"
        },
        "id": "dfkNjx65g72u",
        "outputId": "9e1fd5c6-eb61-4c0e-aa24-541b70568fd9"
      },
      "execution_count": null,
      "outputs": [
        {
          "output_type": "execute_result",
          "data": {
            "text/plain": [
              "(20713, 13)"
            ]
          },
          "metadata": {},
          "execution_count": 187
        }
      ]
    },
    {
      "cell_type": "code",
      "source": [
        "sns.heatmap(data.isnull(),cbar=False,cmap='viridis') #Check nan with heat map"
      ],
      "metadata": {
        "colab": {
          "base_uri": "https://localhost:8080/",
          "height": 386
        },
        "id": "0D_4itKxg8wo",
        "outputId": "2a78aefb-b93f-4ff5-fddb-aeaf3b7f24b4"
      },
      "execution_count": null,
      "outputs": [
        {
          "output_type": "execute_result",
          "data": {
            "text/plain": [
              "<matplotlib.axes._subplots.AxesSubplot at 0x7f0f215ad090>"
            ]
          },
          "metadata": {},
          "execution_count": 188
        },
        {
          "output_type": "display_data",
          "data": {
            "text/plain": [
              "<Figure size 432x288 with 1 Axes>"
            ],
            "image/png": "[encoded data removed]"
          },
          "metadata": {
            "needs_background": "light"
          }
        }
      ]
    },
    {
      "cell_type": "code",
      "source": [
        "dam = data['Aircaft_Model'].value_counts()"
      ],
      "metadata": {
        "id": "p2vDVq7lg_1J"
      },
      "execution_count": null,
      "outputs": []
    },
    {
      "cell_type": "code",
      "source": [
        "dam"
      ],
      "metadata": {
        "id": "NjNliPaEhC5e"
      },
      "execution_count": null,
      "outputs": []
    },
    {
      "cell_type": "code",
      "source": [
        "data['Incident_Location'].replace('(\\.\\.\\.)','',regex=True, inplace=True)\n",
        "data['Incident_Location'].replace('(^near\\s)','',regex=True, inplace=True)\n",
        "data['Incident_Location'].replace('(^between\\s)','',regex=True, inplace=True)\n",
        "data['Incident_Location'].replace('(^within\\s)','',regex=True, inplace=True)\n",
        "#data['Incident_Location'].replace('(region\\s)','',regex=True, inplace=True)\n",
        "#data['Incident_Location'].replace('(,.{1,})','',regex=True, inplace=True)\n",
        "#data['Incident_Location'].replace('(\\s[A-Z][a-z])','',regex=True, inplace=True)\n",
        "#data['Incident_Location'].replace('([\\d])','',regex=True, inplace=True)"
      ],
      "metadata": {
        "id": "zA0toUqyomWB"
      },
      "execution_count": null,
      "outputs": []
    },
    {
      "cell_type": "code",
      "source": [
        "data.drop(columns=['Onboard_Crew','Onboard_Passengers','Onboard_Total'],inplace=True)"
      ],
      "metadata": {
        "id": "xib4H1zsoobG"
      },
      "execution_count": null,
      "outputs": []
    },
    {
      "cell_type": "code",
      "source": [
        "data.columns"
      ],
      "metadata": {
        "id": "P5v0yA5eoqid"
      },
      "execution_count": null,
      "outputs": []
    },
    {
      "cell_type": "code",
      "source": [
        "data.info()"
      ],
      "metadata": {
        "id": "yi_aQEfQotcB"
      },
      "execution_count": null,
      "outputs": []
    },
    {
      "cell_type": "code",
      "source": [
        "data['Incident_Location'].to_csv('INdata.csv')"
      ],
      "metadata": {
        "id": "lxa36pGTovCZ"
      },
      "execution_count": null,
      "outputs": []
    },
    {
      "cell_type": "markdown",
      "source": [
        "##Add country"
      ],
      "metadata": {
        "id": "smoAJU1Eo1ix"
      }
    },
    {
      "cell_type": "code",
      "source": [
        "!gdown --id 17FcDlxL9JOTr5V3nToVqeRCyYodi6vqd"
      ],
      "metadata": {
        "id": "1usc5759o-ix",
        "colab": {
          "base_uri": "https://localhost:8080/"
        },
        "outputId": "f462a997-9625-4cfe-f1e2-7d14c70cbfae"
      },
      "execution_count": null,
      "outputs": [
        {
          "output_type": "stream",
          "name": "stdout",
          "text": [
            "Downloading...\n",
            "From: https://drive.google.com/uc?id=17FcDlxL9JOTr5V3nToVqeRCyYodi6vqd\n",
            "To: /content/INv3.1.csv\n",
            "\r  0% 0.00/386k [00:00<?, ?B/s]\r100% 386k/386k [00:00<00:00, 101MB/s]\n"
          ]
        }
      ]
    },
    {
      "cell_type": "code",
      "source": [
        "ct = pd.read_csv('/content/INv3.1.csv',encoding = \"ISO-8859-1\")\n",
        "ct.columns"
      ],
      "metadata": {
        "id": "hLv2MLqjpAF3",
        "colab": {
          "base_uri": "https://localhost:8080/"
        },
        "outputId": "86274f65-8bec-43ed-db31-2fb350d23ff3"
      },
      "execution_count": null,
      "outputs": [
        {
          "output_type": "execute_result",
          "data": {
            "text/plain": [
              "Index(['Unnamed: 0', 'Incident', 'Cou', 'Unnamed: 3', 'Country '], dtype='object')"
            ]
          },
          "metadata": {},
          "execution_count": 197
        }
      ]
    },
    {
      "cell_type": "code",
      "source": [
        "column = ['Unnamed: 0', 'Cou', 'Unnamed: 3']\n",
        "ct = ct.drop(columns=column) # เอาคอลัมน์ที่ไม่ใช้ออก"
      ],
      "metadata": {
        "id": "8Vcq3fRQpENt"
      },
      "execution_count": null,
      "outputs": []
    },
    {
      "cell_type": "code",
      "source": [
        "ct.rename(columns={\"Incident\" : \"Incident_Location\", 'Country ':'Country'},inplace=True)"
      ],
      "metadata": {
        "id": "8Ha2Hi6YpGbX"
      },
      "execution_count": null,
      "outputs": []
    },
    {
      "cell_type": "code",
      "source": [
        "ct.shape"
      ],
      "metadata": {
        "id": "SWSx3Y5xpINL",
        "colab": {
          "base_uri": "https://localhost:8080/"
        },
        "outputId": "b67091ae-7601-4691-9c52-854b8f55b672"
      },
      "execution_count": null,
      "outputs": [
        {
          "output_type": "execute_result",
          "data": {
            "text/plain": [
              "(11767, 2)"
            ]
          },
          "metadata": {},
          "execution_count": 200
        }
      ]
    },
    {
      "cell_type": "code",
      "source": [
        "ct[ct.Country.isna()]"
      ],
      "metadata": {
        "id": "FV7euzxfpJnK"
      },
      "execution_count": null,
      "outputs": []
    },
    {
      "cell_type": "code",
      "source": [
        "ct = ct[ct['Country'].notna()]"
      ],
      "metadata": {
        "id": "tX_2ZqbbpMWz"
      },
      "execution_count": null,
      "outputs": []
    },
    {
      "cell_type": "code",
      "source": [
        "ct.shape"
      ],
      "metadata": {
        "id": "9uV35vHgpNcy",
        "colab": {
          "base_uri": "https://localhost:8080/"
        },
        "outputId": "15b62748-c682-4611-a09a-05a5d1fdd8ef"
      },
      "execution_count": null,
      "outputs": [
        {
          "output_type": "execute_result",
          "data": {
            "text/plain": [
              "(5453, 2)"
            ]
          },
          "metadata": {},
          "execution_count": 203
        }
      ]
    },
    {
      "cell_type": "code",
      "source": [
        "out = pd.merge(data, ct,  how='right', on=[\"Incident_Location\"])"
      ],
      "metadata": {
        "id": "qV3wiTGrpPUe"
      },
      "execution_count": null,
      "outputs": []
    },
    {
      "cell_type": "code",
      "source": [
        "out.shape"
      ],
      "metadata": {
        "id": "n5xQillBpRO5",
        "colab": {
          "base_uri": "https://localhost:8080/"
        },
        "outputId": "4f212789-f7f7-4ca3-9303-de5120cc4b09"
      },
      "execution_count": null,
      "outputs": [
        {
          "output_type": "execute_result",
          "data": {
            "text/plain": [
              "(7701, 11)"
            ]
          },
          "metadata": {},
          "execution_count": 205
        }
      ]
    },
    {
      "cell_type": "code",
      "source": [
        "out.notnull().sum()"
      ],
      "metadata": {
        "id": "QVq8dSlfpSNF",
        "colab": {
          "base_uri": "https://localhost:8080/"
        },
        "outputId": "30fcf156-8ce3-45f7-fcf0-6e17d8176de8"
      },
      "execution_count": null,
      "outputs": [
        {
          "output_type": "execute_result",
          "data": {
            "text/plain": [
              "Incident_Date           4660\n",
              "Aircaft_Model           4660\n",
              "Aircaft_Registration    4660\n",
              "Aircaft_Operator        4660\n",
              "Aircaft_Nature          4660\n",
              "Incident_Category       4660\n",
              "Incident_Cause(es)      4660\n",
              "Incident_Location       7701\n",
              "Aircaft_Damage_Type     4660\n",
              "Fatalities              4660\n",
              "Country                 7701\n",
              "dtype: int64"
            ]
          },
          "metadata": {},
          "execution_count": 206
        }
      ]
    },
    {
      "cell_type": "code",
      "source": [
        "# out = out[out['Country'].notna()]"
      ],
      "metadata": {
        "id": "Mm4rcIWupTdR"
      },
      "execution_count": null,
      "outputs": []
    },
    {
      "cell_type": "code",
      "source": [
        "# out.dropna(subset=['Country'])"
      ],
      "metadata": {
        "id": "PbYwi1D3pVOS"
      },
      "execution_count": null,
      "outputs": []
    },
    {
      "cell_type": "code",
      "source": [
        "out"
      ],
      "metadata": {
        "id": "vCch-6uIpW0i"
      },
      "execution_count": null,
      "outputs": []
    },
    {
      "cell_type": "code",
      "source": [
        "#out.isnull().sum()"
      ],
      "metadata": {
        "id": "WscumpzPpZOd"
      },
      "execution_count": null,
      "outputs": []
    },
    {
      "cell_type": "code",
      "source": [
        "out[out.Incident_Location.isna()] #Check nan in Incident_Location"
      ],
      "metadata": {
        "id": "smFDi_TppaKZ"
      },
      "execution_count": null,
      "outputs": []
    },
    {
      "cell_type": "code",
      "source": [
        "kag=out.dropna()"
      ],
      "metadata": {
        "id": "n-n5SGU6pa8H"
      },
      "execution_count": null,
      "outputs": []
    },
    {
      "cell_type": "code",
      "source": [
        "kag.head()"
      ],
      "metadata": {
        "id": "yl8NJqcJpbyi",
        "colab": {
          "base_uri": "https://localhost:8080/",
          "height": 461
        },
        "outputId": "8350130c-a4dc-497f-8820-050fffa5e104"
      },
      "execution_count": null,
      "outputs": [
        {
          "output_type": "execute_result",
          "data": {
            "text/plain": [
              "  Incident_Date                        Aircaft_Model Aircaft_Registration  \\\n",
              "0   03-JAN-2022  British Aerospace 4121 Jetstream 41               ZS-NRJ   \n",
              "2   05-JAN-2022                       Boeing 737-4H6               EP-CAP   \n",
              "3   18-NOV-2009                           Fokker 100               EP-CFO   \n",
              "4   05-JAN-1998                           Fokker 100               EP-IDC   \n",
              "5   05-JAN-1995        Lockheed L-1329-25 JetStar II                 1003   \n",
              "\n",
              "   Aircaft_Operator                    Aircaft_Nature  \\\n",
              "0        SA Airlink  Domestic Non Scheduled Passenger   \n",
              "2  Caspian Airlines      Domestic Scheduled Passenger   \n",
              "3          Iran Air      Domestic Scheduled Passenger   \n",
              "4          Iran Air      Domestic Scheduled Passenger   \n",
              "5           Iran AF                          Military   \n",
              "\n",
              "              Incident_Category  \\\n",
              "0  Accident | repairable-damage   \n",
              "2  Accident | repairable-damage   \n",
              "3  Accident | repairable-damage   \n",
              "4          Accident | hull-loss   \n",
              "5          Accident | hull-loss   \n",
              "\n",
              "                                  Incident_Cause(es) Incident_Location  \\\n",
              "0  Airplane - Engines, Airplane - Engines - Prop/...      Venetia Mine   \n",
              "2  Airplane - Undercarriage, Airplane - Undercarr...      Isfahan-Shah   \n",
              "3                                   Info-Unavailable      Isfahan-Shah   \n",
              "4                                   Info-Unavailable      Isfahan-Shah   \n",
              "5                                   Info-Unavailable      Isfahan-Shah   \n",
              "\n",
              "     Aircaft_Damage_Type  Fatalities       Country  \n",
              "0            Substantial         0.0  South Africa  \n",
              "2            Substantial         0.0          Iran  \n",
              "3            Substantial         0.0          Iran  \n",
              "4            Substantial         0.0          Iran  \n",
              "5  Damaged beyond repair        12.0          Iran  "
            ],
            "text/html": [
              "\n",
              "  <div id=\"df-aa25bcd6-e47f-4baf-879a-78928ca109e5\">\n",
              "    <div class=\"colab-df-container\">\n",
              "      <div>\n",
              "<style scoped>\n",
              "    .dataframe tbody tr th:only-of-type {\n",
              "        vertical-align: middle;\n",
              "    }\n",
              "\n",
              "    .dataframe tbody tr th {\n",
              "        vertical-align: top;\n",
              "    }\n",
              "\n",
              "    .dataframe thead th {\n",
              "        text-align: right;\n",
              "    }\n",
              "</style>\n",
              "<table border=\"1\" class=\"dataframe\">\n",
              "  <thead>\n",
              "    <tr style=\"text-align: right;\">\n",
              "      <th></th>\n",
              "      <th>Incident_Date</th>\n",
              "      <th>Aircaft_Model</th>\n",
              "      <th>Aircaft_Registration</th>\n",
              "      <th>Aircaft_Operator</th>\n",
              "      <th>Aircaft_Nature</th>\n",
              "      <th>Incident_Category</th>\n",
              "      <th>Incident_Cause(es)</th>\n",
              "      <th>Incident_Location</th>\n",
              "      <th>Aircaft_Damage_Type</th>\n",
              "      <th>Fatalities</th>\n",
              "      <th>Country</th>\n",
              "    </tr>\n",
              "  </thead>\n",
              "  <tbody>\n",
              "    <tr>\n",
              "      <th>0</th>\n",
              "      <td>03-JAN-2022</td>\n",
              "      <td>British Aerospace 4121 Jetstream 41</td>\n",
              "      <td>ZS-NRJ</td>\n",
              "      <td>SA Airlink</td>\n",
              "      <td>Domestic Non Scheduled Passenger</td>\n",
              "      <td>Accident | repairable-damage</td>\n",
              "      <td>Airplane - Engines, Airplane - Engines - Prop/...</td>\n",
              "      <td>Venetia Mine</td>\n",
              "      <td>Substantial</td>\n",
              "      <td>0.0</td>\n",
              "      <td>South Africa</td>\n",
              "    </tr>\n",
              "    <tr>\n",
              "      <th>2</th>\n",
              "      <td>05-JAN-2022</td>\n",
              "      <td>Boeing 737-4H6</td>\n",
              "      <td>EP-CAP</td>\n",
              "      <td>Caspian Airlines</td>\n",
              "      <td>Domestic Scheduled Passenger</td>\n",
              "      <td>Accident | repairable-damage</td>\n",
              "      <td>Airplane - Undercarriage, Airplane - Undercarr...</td>\n",
              "      <td>Isfahan-Shah</td>\n",
              "      <td>Substantial</td>\n",
              "      <td>0.0</td>\n",
              "      <td>Iran</td>\n",
              "    </tr>\n",
              "    <tr>\n",
              "      <th>3</th>\n",
              "      <td>18-NOV-2009</td>\n",
              "      <td>Fokker 100</td>\n",
              "      <td>EP-CFO</td>\n",
              "      <td>Iran Air</td>\n",
              "      <td>Domestic Scheduled Passenger</td>\n",
              "      <td>Accident | repairable-damage</td>\n",
              "      <td>Info-Unavailable</td>\n",
              "      <td>Isfahan-Shah</td>\n",
              "      <td>Substantial</td>\n",
              "      <td>0.0</td>\n",
              "      <td>Iran</td>\n",
              "    </tr>\n",
              "    <tr>\n",
              "      <th>4</th>\n",
              "      <td>05-JAN-1998</td>\n",
              "      <td>Fokker 100</td>\n",
              "      <td>EP-IDC</td>\n",
              "      <td>Iran Air</td>\n",
              "      <td>Domestic Scheduled Passenger</td>\n",
              "      <td>Accident | hull-loss</td>\n",
              "      <td>Info-Unavailable</td>\n",
              "      <td>Isfahan-Shah</td>\n",
              "      <td>Substantial</td>\n",
              "      <td>0.0</td>\n",
              "      <td>Iran</td>\n",
              "    </tr>\n",
              "    <tr>\n",
              "      <th>5</th>\n",
              "      <td>05-JAN-1995</td>\n",
              "      <td>Lockheed L-1329-25 JetStar II</td>\n",
              "      <td>1003</td>\n",
              "      <td>Iran AF</td>\n",
              "      <td>Military</td>\n",
              "      <td>Accident | hull-loss</td>\n",
              "      <td>Info-Unavailable</td>\n",
              "      <td>Isfahan-Shah</td>\n",
              "      <td>Damaged beyond repair</td>\n",
              "      <td>12.0</td>\n",
              "      <td>Iran</td>\n",
              "    </tr>\n",
              "  </tbody>\n",
              "</table>\n",
              "</div>\n",
              "      <button class=\"colab-df-convert\" onclick=\"convertToInteractive('df-aa25bcd6-e47f-4baf-879a-78928ca109e5')\"\n",
              "              title=\"Convert this dataframe to an interactive table.\"\n",
              "              style=\"display:none;\">\n",
              "        \n",
              "  <svg xmlns=\"http://www.w3.org/2000/svg\" height=\"24px\"viewBox=\"0 0 24 24\"\n",
              "       width=\"24px\">\n",
              "    <path d=\"M0 0h24v24H0V0z\" fill=\"none\"/>\n",
              "    <path d=\"M18.56 5.44l.94 2.06.94-2.06 2.06-.94-2.06-.94-.94-2.06-.94 2.06-2.06.94zm-11 1L8.5 8.5l.94-2.06 2.06-.94-2.06-.94L8.5 2.5l-.94 2.06-2.06.94zm10 10l.94 2.06.94-2.06 2.06-.94-2.06-.94-.94-2.06-.94 2.06-2.06.94z\"/><path d=\"M17.41 7.96l-1.37-1.37c-.4-.4-.92-.59-1.43-.59-.52 0-1.04.2-1.43.59L10.3 9.45l-7.72 7.72c-.78.78-.78 2.05 0 2.83L4 21.41c.39.39.9.59 1.41.59.51 0 1.02-.2 1.41-.59l7.78-7.78 2.81-2.81c.8-.78.8-2.07 0-2.86zM5.41 20L4 18.59l7.72-7.72 1.47 1.35L5.41 20z\"/>\n",
              "  </svg>\n",
              "      </button>\n",
              "      \n",
              "  <style>\n",
              "    .colab-df-container {\n",
              "      display:flex;\n",
              "      flex-wrap:wrap;\n",
              "      gap: 12px;\n",
              "    }\n",
              "\n",
              "    .colab-df-convert {\n",
              "      background-color: #E8F0FE;\n",
              "      border: none;\n",
              "      border-radius: 50%;\n",
              "      cursor: pointer;\n",
              "      display: none;\n",
              "      fill: #1967D2;\n",
              "      height: 32px;\n",
              "      padding: 0 0 0 0;\n",
              "      width: 32px;\n",
              "    }\n",
              "\n",
              "    .colab-df-convert:hover {\n",
              "      background-color: #E2EBFA;\n",
              "      box-shadow: 0px 1px 2px rgba(60, 64, 67, 0.3), 0px 1px 3px 1px rgba(60, 64, 67, 0.15);\n",
              "      fill: #174EA6;\n",
              "    }\n",
              "\n",
              "    [theme=dark] .colab-df-convert {\n",
              "      background-color: #3B4455;\n",
              "      fill: #D2E3FC;\n",
              "    }\n",
              "\n",
              "    [theme=dark] .colab-df-convert:hover {\n",
              "      background-color: #434B5C;\n",
              "      box-shadow: 0px 1px 3px 1px rgba(0, 0, 0, 0.15);\n",
              "      filter: drop-shadow(0px 1px 2px rgba(0, 0, 0, 0.3));\n",
              "      fill: #FFFFFF;\n",
              "    }\n",
              "  </style>\n",
              "\n",
              "      <script>\n",
              "        const buttonEl =\n",
              "          document.querySelector('#df-aa25bcd6-e47f-4baf-879a-78928ca109e5 button.colab-df-convert');\n",
              "        buttonEl.style.display =\n",
              "          google.colab.kernel.accessAllowed ? 'block' : 'none';\n",
              "\n",
              "        async function convertToInteractive(key) {\n",
              "          const element = document.querySelector('#df-aa25bcd6-e47f-4baf-879a-78928ca109e5');\n",
              "          const dataTable =\n",
              "            await google.colab.kernel.invokeFunction('convertToInteractive',\n",
              "                                                     [key], {});\n",
              "          if (!dataTable) return;\n",
              "\n",
              "          const docLinkHtml = 'Like what you see? Visit the ' +\n",
              "            '<a target=\"_blank\" href=https://colab.research.google.com/notebooks/data_table.ipynb>data table notebook</a>'\n",
              "            + ' to learn more about interactive tables.';\n",
              "          element.innerHTML = '';\n",
              "          dataTable['output_type'] = 'display_data';\n",
              "          await google.colab.output.renderOutput(dataTable, element);\n",
              "          const docLink = document.createElement('div');\n",
              "          docLink.innerHTML = docLinkHtml;\n",
              "          element.appendChild(docLink);\n",
              "        }\n",
              "      </script>\n",
              "    </div>\n",
              "  </div>\n",
              "  "
            ]
          },
          "metadata": {},
          "execution_count": 210
        }
      ]
    },
    {
      "cell_type": "code",
      "source": [
        "#export kag \n",
        "kag.to_csv('kaggle_data.csv')"
      ],
      "metadata": {
        "id": "ANCs0-Okz44L"
      },
      "execution_count": null,
      "outputs": []
    },
    {
      "cell_type": "markdown",
      "source": [
        "# **Web scraping from wiki**"
      ],
      "metadata": {
        "id": "UE90RtNxNOTc"
      }
    },
    {
      "cell_type": "markdown",
      "source": [
        "url = https://en.wikipedia.org/wiki/List_of_accidents_and_incidents_involving_commercial_aircraft"
      ],
      "metadata": {
        "id": "pTb7C-AJYoil"
      }
    },
    {
      "cell_type": "code",
      "source": [
        "from bs4 import BeautifulSoup\n",
        "import requests \n",
        "\n",
        "url = 'https://en.wikipedia.org/wiki/List_of_accidents_and_incidents_involving_commercial_aircraft' #url ที่ใช้ในการ scraping \n",
        "headers = {'User-Agent': 'Mozilla/5.0 (Macintosh; Intel Mac OS X 10_11_5) AppleWebKit/537.36 (KHTML, like Gecko) Chrome/50.0.2661.102 Safari/537.36'}\n",
        "result = requests.get(url, headers = headers) # get request\n",
        "html_doc = result.text #เปลี่ยนเป็น text\n",
        "soup = BeautifulSoup(html_doc, features='html.parser') #ทำ text เป็นไฟล์ html\n",
        "#print(soup)"
      ],
      "metadata": {
        "id": "YfDlMBwrNZnK"
      },
      "execution_count": null,
      "outputs": []
    },
    {
      "cell_type": "code",
      "source": [
        "import pandas as pd\n",
        "web_data = pd.DataFrame(columns=[\"detail\"]) #สร้าง dataFrame มาเพื่อเก็บข้อมูลจากการ Web scraping "
      ],
      "metadata": {
        "id": "ibRwhuJ5Zfmr"
      },
      "execution_count": null,
      "outputs": []
    },
    {
      "cell_type": "code",
      "source": [
        "col = ['detail'] # list เก็บชื่อ column ของ web_data\n",
        "for item in soup.find_all('li'): #ดึงข้อความ\n",
        "  #print(item.text[:])\n",
        "  data_item =[[item.text[:]]] #สร้าง list เก็บข้อความ\n",
        "  new_df = pd.DataFrame(data=data_item, columns=col) #สร้าง dataFrame ขึ้นมาใหม่\n",
        "  web_data = web_data.append(new_df) #เพิ่มแถวให้กับ web_data\n",
        "  if \"Grodno Aviakompania Flight 1252\" in item.text:\n",
        "    break"
      ],
      "metadata": {
        "id": "Zm-Z9ULkaiSV"
      },
      "execution_count": null,
      "outputs": []
    },
    {
      "cell_type": "code",
      "source": [
        "web_data = web_data.reset_index() #รีเซ็ท index\n",
        "web_data = web_data.drop(columns=[\"index\"]) # drop columns\n",
        "web_data"
      ],
      "metadata": {
        "colab": {
          "base_uri": "https://localhost:8080/",
          "height": 423
        },
        "id": "KuzRFgv_bL4-",
        "outputId": "861d49a4-d24a-4c80-d7d5-4d35748f0326"
      },
      "execution_count": null,
      "outputs": [
        {
          "output_type": "execute_result",
          "data": {
            "text/plain": [
              "                                                 detail\n",
              "0     July 21 – The Goodyear dirigible Wingfoot Air ...\n",
              "1     August 2 – A Caproni Ca.48 crashes at Verona, ...\n",
              "2     December 14 – A Handley Page O/400 hits a tree...\n",
              "3     April 7 – In the Picardie mid-air collision, a...\n",
              "4     May 14 – An Air Union Farman F.60 Goliath cras...\n",
              "...                                                 ...\n",
              "1401  July 6 – Petropavlovsk-Kamchatsky Air Enterpri...\n",
              "1402  July 16 – Siberian Light Aviation Flight 42, a...\n",
              "1403  September 12 – Siberian Light Aviation Flight ...\n",
              "1404  October 19 – In the 2021 Houston MD-87 crash, ...\n",
              "1405  November 3 – Grodno Aviakompania Flight 1252, ...\n",
              "\n",
              "[1406 rows x 1 columns]"
            ],
            "text/html": [
              "\n",
              "  <div id=\"df-6f9854cb-8ab7-4614-9abf-aa6ed94da0b3\">\n",
              "    <div class=\"colab-df-container\">\n",
              "      <div>\n",
              "<style scoped>\n",
              "    .dataframe tbody tr th:only-of-type {\n",
              "        vertical-align: middle;\n",
              "    }\n",
              "\n",
              "    .dataframe tbody tr th {\n",
              "        vertical-align: top;\n",
              "    }\n",
              "\n",
              "    .dataframe thead th {\n",
              "        text-align: right;\n",
              "    }\n",
              "</style>\n",
              "<table border=\"1\" class=\"dataframe\">\n",
              "  <thead>\n",
              "    <tr style=\"text-align: right;\">\n",
              "      <th></th>\n",
              "      <th>detail</th>\n",
              "    </tr>\n",
              "  </thead>\n",
              "  <tbody>\n",
              "    <tr>\n",
              "      <th>0</th>\n",
              "      <td>July 21 – The Goodyear dirigible Wingfoot Air ...</td>\n",
              "    </tr>\n",
              "    <tr>\n",
              "      <th>1</th>\n",
              "      <td>August 2 – A Caproni Ca.48 crashes at Verona, ...</td>\n",
              "    </tr>\n",
              "    <tr>\n",
              "      <th>2</th>\n",
              "      <td>December 14 – A Handley Page O/400 hits a tree...</td>\n",
              "    </tr>\n",
              "    <tr>\n",
              "      <th>3</th>\n",
              "      <td>April 7 – In the Picardie mid-air collision, a...</td>\n",
              "    </tr>\n",
              "    <tr>\n",
              "      <th>4</th>\n",
              "      <td>May 14 – An Air Union Farman F.60 Goliath cras...</td>\n",
              "    </tr>\n",
              "    <tr>\n",
              "      <th>...</th>\n",
              "      <td>...</td>\n",
              "    </tr>\n",
              "    <tr>\n",
              "      <th>1401</th>\n",
              "      <td>July 6 – Petropavlovsk-Kamchatsky Air Enterpri...</td>\n",
              "    </tr>\n",
              "    <tr>\n",
              "      <th>1402</th>\n",
              "      <td>July 16 – Siberian Light Aviation Flight 42, a...</td>\n",
              "    </tr>\n",
              "    <tr>\n",
              "      <th>1403</th>\n",
              "      <td>September 12 – Siberian Light Aviation Flight ...</td>\n",
              "    </tr>\n",
              "    <tr>\n",
              "      <th>1404</th>\n",
              "      <td>October 19 – In the 2021 Houston MD-87 crash, ...</td>\n",
              "    </tr>\n",
              "    <tr>\n",
              "      <th>1405</th>\n",
              "      <td>November 3 – Grodno Aviakompania Flight 1252, ...</td>\n",
              "    </tr>\n",
              "  </tbody>\n",
              "</table>\n",
              "<p>1406 rows × 1 columns</p>\n",
              "</div>\n",
              "      <button class=\"colab-df-convert\" onclick=\"convertToInteractive('df-6f9854cb-8ab7-4614-9abf-aa6ed94da0b3')\"\n",
              "              title=\"Convert this dataframe to an interactive table.\"\n",
              "              style=\"display:none;\">\n",
              "        \n",
              "  <svg xmlns=\"http://www.w3.org/2000/svg\" height=\"24px\"viewBox=\"0 0 24 24\"\n",
              "       width=\"24px\">\n",
              "    <path d=\"M0 0h24v24H0V0z\" fill=\"none\"/>\n",
              "    <path d=\"M18.56 5.44l.94 2.06.94-2.06 2.06-.94-2.06-.94-.94-2.06-.94 2.06-2.06.94zm-11 1L8.5 8.5l.94-2.06 2.06-.94-2.06-.94L8.5 2.5l-.94 2.06-2.06.94zm10 10l.94 2.06.94-2.06 2.06-.94-2.06-.94-.94-2.06-.94 2.06-2.06.94z\"/><path d=\"M17.41 7.96l-1.37-1.37c-.4-.4-.92-.59-1.43-.59-.52 0-1.04.2-1.43.59L10.3 9.45l-7.72 7.72c-.78.78-.78 2.05 0 2.83L4 21.41c.39.39.9.59 1.41.59.51 0 1.02-.2 1.41-.59l7.78-7.78 2.81-2.81c.8-.78.8-2.07 0-2.86zM5.41 20L4 18.59l7.72-7.72 1.47 1.35L5.41 20z\"/>\n",
              "  </svg>\n",
              "      </button>\n",
              "      \n",
              "  <style>\n",
              "    .colab-df-container {\n",
              "      display:flex;\n",
              "      flex-wrap:wrap;\n",
              "      gap: 12px;\n",
              "    }\n",
              "\n",
              "    .colab-df-convert {\n",
              "      background-color: #E8F0FE;\n",
              "      border: none;\n",
              "      border-radius: 50%;\n",
              "      cursor: pointer;\n",
              "      display: none;\n",
              "      fill: #1967D2;\n",
              "      height: 32px;\n",
              "      padding: 0 0 0 0;\n",
              "      width: 32px;\n",
              "    }\n",
              "\n",
              "    .colab-df-convert:hover {\n",
              "      background-color: #E2EBFA;\n",
              "      box-shadow: 0px 1px 2px rgba(60, 64, 67, 0.3), 0px 1px 3px 1px rgba(60, 64, 67, 0.15);\n",
              "      fill: #174EA6;\n",
              "    }\n",
              "\n",
              "    [theme=dark] .colab-df-convert {\n",
              "      background-color: #3B4455;\n",
              "      fill: #D2E3FC;\n",
              "    }\n",
              "\n",
              "    [theme=dark] .colab-df-convert:hover {\n",
              "      background-color: #434B5C;\n",
              "      box-shadow: 0px 1px 3px 1px rgba(0, 0, 0, 0.15);\n",
              "      filter: drop-shadow(0px 1px 2px rgba(0, 0, 0, 0.3));\n",
              "      fill: #FFFFFF;\n",
              "    }\n",
              "  </style>\n",
              "\n",
              "      <script>\n",
              "        const buttonEl =\n",
              "          document.querySelector('#df-6f9854cb-8ab7-4614-9abf-aa6ed94da0b3 button.colab-df-convert');\n",
              "        buttonEl.style.display =\n",
              "          google.colab.kernel.accessAllowed ? 'block' : 'none';\n",
              "\n",
              "        async function convertToInteractive(key) {\n",
              "          const element = document.querySelector('#df-6f9854cb-8ab7-4614-9abf-aa6ed94da0b3');\n",
              "          const dataTable =\n",
              "            await google.colab.kernel.invokeFunction('convertToInteractive',\n",
              "                                                     [key], {});\n",
              "          if (!dataTable) return;\n",
              "\n",
              "          const docLinkHtml = 'Like what you see? Visit the ' +\n",
              "            '<a target=\"_blank\" href=https://colab.research.google.com/notebooks/data_table.ipynb>data table notebook</a>'\n",
              "            + ' to learn more about interactive tables.';\n",
              "          element.innerHTML = '';\n",
              "          dataTable['output_type'] = 'display_data';\n",
              "          await google.colab.output.renderOutput(dataTable, element);\n",
              "          const docLink = document.createElement('div');\n",
              "          docLink.innerHTML = docLinkHtml;\n",
              "          element.appendChild(docLink);\n",
              "        }\n",
              "      </script>\n",
              "    </div>\n",
              "  </div>\n",
              "  "
            ]
          },
          "metadata": {},
          "execution_count": 208
        }
      ]
    },
    {
      "cell_type": "code",
      "source": [
        "web_data['date'] = web_data['detail'].str.extract('(^[A-z]{1}[a-z]{2,}\\s\\d{1,2}\\s)') #เพิ่มคอลัมน์ date เอาข้อมูลจากคอลัมน์ detail\n",
        "web_data['detail'].replace('(^[A-z]{1}[a-z]{2,}\\s\\d{1,2}\\s)','',regex=True, inplace=True)\n",
        "web_data.dropna(subset=['date'], inplace=True) #ดรอปแถวที่ไม่สามรถแยกวันที่ออกมาได้\n",
        "\n",
        "web_data = web_data.reset_index() #รีเซ็ท index\n",
        "web_data = web_data.drop(columns=[\"index\"]) # drop columns\n",
        "\n",
        "#สร้างคอลัมน์ Title\n",
        "web_data['Title'] = web_data['detail'].str.extract('(,.{3,}\\.)')\n",
        "web_data = web_data.rename(columns = {'detail':'Title','Title':'detail'}) \n",
        "web_data['Title'].replace('(,.{3,}\\.)','',regex=True, inplace=True)\n",
        "web_data['Title'].replace('(^.\\s)','',regex=True, inplace=True)\n",
        "web_data['detail'].replace('(^,\\s)','',regex=True, inplace=True)"
      ],
      "metadata": {
        "id": "XXbE38tp56NF"
      },
      "execution_count": null,
      "outputs": []
    },
    {
      "cell_type": "code",
      "source": [
        "#โหลดไฟล์ xlsx ที่ใช้เก็บปีของ web-scrap เพื่อนำไปใช้ใน web_data\n",
        "!gdown --id 1QgVqOYNmcIYv36sS-hZFiI8bSfy6ikdM"
      ],
      "metadata": {
        "id": "wftuxw8X8zg8",
        "colab": {
          "base_uri": "https://localhost:8080/"
        },
        "outputId": "b221b4ce-1e71-4bf0-9e5b-b06e6e7152cc"
      },
      "execution_count": null,
      "outputs": [
        {
          "output_type": "stream",
          "name": "stdout",
          "text": [
            "Downloading...\n",
            "From: https://drive.google.com/uc?id=1QgVqOYNmcIYv36sS-hZFiI8bSfy6ikdM\n",
            "To: /content/year.xlsx\n",
            "\r  0% 0.00/11.6k [00:00<?, ?B/s]\r100% 11.6k/11.6k [00:00<00:00, 4.69MB/s]\n"
          ]
        }
      ]
    },
    {
      "cell_type": "code",
      "source": [
        "year = pd.read_excel(\"year.xlsx\")\n",
        "year = year.drop(columns=['Unnamed: 0'])\n",
        "#year.head()"
      ],
      "metadata": {
        "id": "0PYIi5Kk9IJw"
      },
      "execution_count": null,
      "outputs": []
    },
    {
      "cell_type": "code",
      "source": [
        "import numpy as np\n",
        "#สร้างคอลัมน์ year ให้กับ web_data \n",
        "for idx,row in year.iterrows():\n",
        "  start = row.start\n",
        "  end = row.end\n",
        "  year = row.year\n",
        "  if start == end :\n",
        "    web_data.loc[[start],'Year'] = year\n",
        "  else:\n",
        "    web_data.loc[np.arange(start,end+1),'Year'] = year"
      ],
      "metadata": {
        "id": "xlM8n5d49kkE"
      },
      "execution_count": null,
      "outputs": []
    },
    {
      "cell_type": "code",
      "source": [
        "web_data = web_data[['Title','date','Year','detail']] #เรียงคอลัมน์ใหม่"
      ],
      "metadata": {
        "id": "I386urfrCGLw"
      },
      "execution_count": null,
      "outputs": []
    },
    {
      "cell_type": "code",
      "source": [
        "#สร้าง col2\n",
        "web_data[\"Col2\"] =web_data['detail'].str.extract('(,.{3,}\\.)')\n",
        "web_data = web_data.rename(columns = {'detail':'Col2','Col2':'detail'}) \n",
        "web_data['Col2'].replace('(,.{3,}\\.)','',regex=True, inplace=True)\n",
        "web_data['detail'].replace('(^,\\s)','',regex=True, inplace=True)\n",
        "#สร้าง col3\n",
        "web_data[\"Col3\"] =web_data['detail'].str.extract('(,.{3,}\\.)')\n",
        "web_data = web_data.rename(columns = {'detail':'Col3','Col3':'detail'}) \n",
        "web_data['Col3'].replace('(,.{3,}\\.)','',regex=True, inplace=True)\n",
        "web_data['detail'].replace('(^,\\s)','',regex=True, inplace=True)\n",
        "#สร้าง col4\n",
        "web_data[\"Col4\"] =web_data['detail'].str.extract('(,.{3,}\\.)')\n",
        "web_data = web_data.rename(columns = {'detail':'Col4','Col4':'Col5'}) \n",
        "web_data['Col4'].replace('(,.{3,}\\.)','',regex=True, inplace=True)\n",
        "web_data['Col5'].replace('(^,\\s)','',regex=True, inplace=True)\n",
        "\n",
        "web_data"
      ],
      "metadata": {
        "colab": {
          "base_uri": "https://localhost:8080/",
          "height": 641
        },
        "id": "nMSwz6SDByon",
        "outputId": "cfe51905-ee91-4fe9-aa56-627fd7bcb127"
      },
      "execution_count": null,
      "outputs": [
        {
          "output_type": "execute_result",
          "data": {
            "text/plain": [
              "                                                  Title           date  \\\n",
              "0     The Goodyear dirigible Wingfoot Air Express ca...       July 21    \n",
              "1                     A Caproni Ca.48 crashes at Verona      August 2    \n",
              "2     A Handley Page O/400 hits a tree and crashes a...   December 14    \n",
              "3                     In the Picardie mid-air collision       April 7    \n",
              "4     An Air Union Farman F.60 Goliath crashes near ...        May 14    \n",
              "...                                                 ...            ...   \n",
              "1397  Petropavlovsk-Kamchatsky Air Enterprise Flight...        July 6    \n",
              "1398                  Siberian Light Aviation Flight 42       July 16    \n",
              "1399                  Siberian Light Aviation Flight 51  September 12    \n",
              "1400                    In the 2021 Houston MD-87 crash    October 19    \n",
              "1401                    Grodno Aviakompania Flight 1252    November 3    \n",
              "\n",
              "        Year                                               Col2  \\\n",
              "0     1919.0                                           Illinois   \n",
              "1     1919.0                                              Italy   \n",
              "2     1920.0                                             London   \n",
              "3     1922.0                              a de Havilland DH.18A   \n",
              "4     1923.0                                              Somme   \n",
              "...      ...                                                ...   \n",
              "1397  2021.0  an Antonov An-26 operating a domestic flight f...   \n",
              "1398  2021.0  an Antonov An-28 operating a domestic flight f...   \n",
              "1399  2021.0  a Let L-410 operating a domestic flight from I...   \n",
              "1400  2021.0  a McDonnell Douglas MD-87 aircraft crashes on ...   \n",
              "1401     NaN                                   an Antonov An-12   \n",
              "\n",
              "                                                   Col3  \\\n",
              "0     while carrying passengers to a local amusement...   \n",
              "1                during a flight from Venice to Taliedo   \n",
              "2        after failing to gain height following takeoff   \n",
              "3                                                G-EAWO   \n",
              "4                                                France   \n",
              "...                                                 ...   \n",
              "1397                                             Russia   \n",
              "1398                                             Russia   \n",
              "1399                                             Russia   \n",
              "1400                                            Houston   \n",
              "1401  crashes whilst attempting to land at Irkutsk I...   \n",
              "\n",
              "                                                   Col4  \\\n",
              "0     killing thirteen people: three out of the five...   \n",
              "1                                                 Milan   \n",
              "2                   killing four out of eight on board.   \n",
              "3                         operated by Daimler Hire Ltd.   \n",
              "4               due to the structural failure of a wing   \n",
              "...                                                 ...   \n",
              "1397  crashes on approach. All 22 passengers and 6 c...   \n",
              "1398                makes a crash landing after takeoff   \n",
              "1399  crashes in a forest short of the runway while ...   \n",
              "1400             Texas. All 21 people on board survive.   \n",
              "1401  Russia whilst operating a cargo flight. All 9 ...   \n",
              "\n",
              "                                                   Col5  \n",
              "0           with 27 others on the ground being injured.  \n",
              "1     killing all on board (14, 15, or 17 people, ac...  \n",
              "2                                                   NaN  \n",
              "3     collides with a Farman F.60 Goliath, F-GEAD, o...  \n",
              "4                             killing all six on board.  \n",
              "...                                                 ...  \n",
              "1397                                                NaN  \n",
              "1398  injuring 11 of the 18 passengers and crew on b...  \n",
              "1399                                                NaN  \n",
              "1400                                                NaN  \n",
              "1401                                                NaN  \n",
              "\n",
              "[1402 rows x 7 columns]"
            ],
            "text/html": [
              "\n",
              "  <div id=\"df-864c0655-dc49-432e-a885-f6ed0b78af81\">\n",
              "    <div class=\"colab-df-container\">\n",
              "      <div>\n",
              "<style scoped>\n",
              "    .dataframe tbody tr th:only-of-type {\n",
              "        vertical-align: middle;\n",
              "    }\n",
              "\n",
              "    .dataframe tbody tr th {\n",
              "        vertical-align: top;\n",
              "    }\n",
              "\n",
              "    .dataframe thead th {\n",
              "        text-align: right;\n",
              "    }\n",
              "</style>\n",
              "<table border=\"1\" class=\"dataframe\">\n",
              "  <thead>\n",
              "    <tr style=\"text-align: right;\">\n",
              "      <th></th>\n",
              "      <th>Title</th>\n",
              "      <th>date</th>\n",
              "      <th>Year</th>\n",
              "      <th>Col2</th>\n",
              "      <th>Col3</th>\n",
              "      <th>Col4</th>\n",
              "      <th>Col5</th>\n",
              "    </tr>\n",
              "  </thead>\n",
              "  <tbody>\n",
              "    <tr>\n",
              "      <th>0</th>\n",
              "      <td>The Goodyear dirigible Wingfoot Air Express ca...</td>\n",
              "      <td>July 21</td>\n",
              "      <td>1919.0</td>\n",
              "      <td>Illinois</td>\n",
              "      <td>while carrying passengers to a local amusement...</td>\n",
              "      <td>killing thirteen people: three out of the five...</td>\n",
              "      <td>with 27 others on the ground being injured.</td>\n",
              "    </tr>\n",
              "    <tr>\n",
              "      <th>1</th>\n",
              "      <td>A Caproni Ca.48 crashes at Verona</td>\n",
              "      <td>August 2</td>\n",
              "      <td>1919.0</td>\n",
              "      <td>Italy</td>\n",
              "      <td>during a flight from Venice to Taliedo</td>\n",
              "      <td>Milan</td>\n",
              "      <td>killing all on board (14, 15, or 17 people, ac...</td>\n",
              "    </tr>\n",
              "    <tr>\n",
              "      <th>2</th>\n",
              "      <td>A Handley Page O/400 hits a tree and crashes a...</td>\n",
              "      <td>December 14</td>\n",
              "      <td>1920.0</td>\n",
              "      <td>London</td>\n",
              "      <td>after failing to gain height following takeoff</td>\n",
              "      <td>killing four out of eight on board.</td>\n",
              "      <td>NaN</td>\n",
              "    </tr>\n",
              "    <tr>\n",
              "      <th>3</th>\n",
              "      <td>In the Picardie mid-air collision</td>\n",
              "      <td>April 7</td>\n",
              "      <td>1922.0</td>\n",
              "      <td>a de Havilland DH.18A</td>\n",
              "      <td>G-EAWO</td>\n",
              "      <td>operated by Daimler Hire Ltd.</td>\n",
              "      <td>collides with a Farman F.60 Goliath, F-GEAD, o...</td>\n",
              "    </tr>\n",
              "    <tr>\n",
              "      <th>4</th>\n",
              "      <td>An Air Union Farman F.60 Goliath crashes near ...</td>\n",
              "      <td>May 14</td>\n",
              "      <td>1923.0</td>\n",
              "      <td>Somme</td>\n",
              "      <td>France</td>\n",
              "      <td>due to the structural failure of a wing</td>\n",
              "      <td>killing all six on board.</td>\n",
              "    </tr>\n",
              "    <tr>\n",
              "      <th>...</th>\n",
              "      <td>...</td>\n",
              "      <td>...</td>\n",
              "      <td>...</td>\n",
              "      <td>...</td>\n",
              "      <td>...</td>\n",
              "      <td>...</td>\n",
              "      <td>...</td>\n",
              "    </tr>\n",
              "    <tr>\n",
              "      <th>1397</th>\n",
              "      <td>Petropavlovsk-Kamchatsky Air Enterprise Flight...</td>\n",
              "      <td>July 6</td>\n",
              "      <td>2021.0</td>\n",
              "      <td>an Antonov An-26 operating a domestic flight f...</td>\n",
              "      <td>Russia</td>\n",
              "      <td>crashes on approach. All 22 passengers and 6 c...</td>\n",
              "      <td>NaN</td>\n",
              "    </tr>\n",
              "    <tr>\n",
              "      <th>1398</th>\n",
              "      <td>Siberian Light Aviation Flight 42</td>\n",
              "      <td>July 16</td>\n",
              "      <td>2021.0</td>\n",
              "      <td>an Antonov An-28 operating a domestic flight f...</td>\n",
              "      <td>Russia</td>\n",
              "      <td>makes a crash landing after takeoff</td>\n",
              "      <td>injuring 11 of the 18 passengers and crew on b...</td>\n",
              "    </tr>\n",
              "    <tr>\n",
              "      <th>1399</th>\n",
              "      <td>Siberian Light Aviation Flight 51</td>\n",
              "      <td>September 12</td>\n",
              "      <td>2021.0</td>\n",
              "      <td>a Let L-410 operating a domestic flight from I...</td>\n",
              "      <td>Russia</td>\n",
              "      <td>crashes in a forest short of the runway while ...</td>\n",
              "      <td>NaN</td>\n",
              "    </tr>\n",
              "    <tr>\n",
              "      <th>1400</th>\n",
              "      <td>In the 2021 Houston MD-87 crash</td>\n",
              "      <td>October 19</td>\n",
              "      <td>2021.0</td>\n",
              "      <td>a McDonnell Douglas MD-87 aircraft crashes on ...</td>\n",
              "      <td>Houston</td>\n",
              "      <td>Texas. All 21 people on board survive.</td>\n",
              "      <td>NaN</td>\n",
              "    </tr>\n",
              "    <tr>\n",
              "      <th>1401</th>\n",
              "      <td>Grodno Aviakompania Flight 1252</td>\n",
              "      <td>November 3</td>\n",
              "      <td>NaN</td>\n",
              "      <td>an Antonov An-12</td>\n",
              "      <td>crashes whilst attempting to land at Irkutsk I...</td>\n",
              "      <td>Russia whilst operating a cargo flight. All 9 ...</td>\n",
              "      <td>NaN</td>\n",
              "    </tr>\n",
              "  </tbody>\n",
              "</table>\n",
              "<p>1402 rows × 7 columns</p>\n",
              "</div>\n",
              "      <button class=\"colab-df-convert\" onclick=\"convertToInteractive('df-864c0655-dc49-432e-a885-f6ed0b78af81')\"\n",
              "              title=\"Convert this dataframe to an interactive table.\"\n",
              "              style=\"display:none;\">\n",
              "        \n",
              "  <svg xmlns=\"http://www.w3.org/2000/svg\" height=\"24px\"viewBox=\"0 0 24 24\"\n",
              "       width=\"24px\">\n",
              "    <path d=\"M0 0h24v24H0V0z\" fill=\"none\"/>\n",
              "    <path d=\"M18.56 5.44l.94 2.06.94-2.06 2.06-.94-2.06-.94-.94-2.06-.94 2.06-2.06.94zm-11 1L8.5 8.5l.94-2.06 2.06-.94-2.06-.94L8.5 2.5l-.94 2.06-2.06.94zm10 10l.94 2.06.94-2.06 2.06-.94-2.06-.94-.94-2.06-.94 2.06-2.06.94z\"/><path d=\"M17.41 7.96l-1.37-1.37c-.4-.4-.92-.59-1.43-.59-.52 0-1.04.2-1.43.59L10.3 9.45l-7.72 7.72c-.78.78-.78 2.05 0 2.83L4 21.41c.39.39.9.59 1.41.59.51 0 1.02-.2 1.41-.59l7.78-7.78 2.81-2.81c.8-.78.8-2.07 0-2.86zM5.41 20L4 18.59l7.72-7.72 1.47 1.35L5.41 20z\"/>\n",
              "  </svg>\n",
              "      </button>\n",
              "      \n",
              "  <style>\n",
              "    .colab-df-container {\n",
              "      display:flex;\n",
              "      flex-wrap:wrap;\n",
              "      gap: 12px;\n",
              "    }\n",
              "\n",
              "    .colab-df-convert {\n",
              "      background-color: #E8F0FE;\n",
              "      border: none;\n",
              "      border-radius: 50%;\n",
              "      cursor: pointer;\n",
              "      display: none;\n",
              "      fill: #1967D2;\n",
              "      height: 32px;\n",
              "      padding: 0 0 0 0;\n",
              "      width: 32px;\n",
              "    }\n",
              "\n",
              "    .colab-df-convert:hover {\n",
              "      background-color: #E2EBFA;\n",
              "      box-shadow: 0px 1px 2px rgba(60, 64, 67, 0.3), 0px 1px 3px 1px rgba(60, 64, 67, 0.15);\n",
              "      fill: #174EA6;\n",
              "    }\n",
              "\n",
              "    [theme=dark] .colab-df-convert {\n",
              "      background-color: #3B4455;\n",
              "      fill: #D2E3FC;\n",
              "    }\n",
              "\n",
              "    [theme=dark] .colab-df-convert:hover {\n",
              "      background-color: #434B5C;\n",
              "      box-shadow: 0px 1px 3px 1px rgba(0, 0, 0, 0.15);\n",
              "      filter: drop-shadow(0px 1px 2px rgba(0, 0, 0, 0.3));\n",
              "      fill: #FFFFFF;\n",
              "    }\n",
              "  </style>\n",
              "\n",
              "      <script>\n",
              "        const buttonEl =\n",
              "          document.querySelector('#df-864c0655-dc49-432e-a885-f6ed0b78af81 button.colab-df-convert');\n",
              "        buttonEl.style.display =\n",
              "          google.colab.kernel.accessAllowed ? 'block' : 'none';\n",
              "\n",
              "        async function convertToInteractive(key) {\n",
              "          const element = document.querySelector('#df-864c0655-dc49-432e-a885-f6ed0b78af81');\n",
              "          const dataTable =\n",
              "            await google.colab.kernel.invokeFunction('convertToInteractive',\n",
              "                                                     [key], {});\n",
              "          if (!dataTable) return;\n",
              "\n",
              "          const docLinkHtml = 'Like what you see? Visit the ' +\n",
              "            '<a target=\"_blank\" href=https://colab.research.google.com/notebooks/data_table.ipynb>data table notebook</a>'\n",
              "            + ' to learn more about interactive tables.';\n",
              "          element.innerHTML = '';\n",
              "          dataTable['output_type'] = 'display_data';\n",
              "          await google.colab.output.renderOutput(dataTable, element);\n",
              "          const docLink = document.createElement('div');\n",
              "          docLink.innerHTML = docLinkHtml;\n",
              "          element.appendChild(docLink);\n",
              "        }\n",
              "      </script>\n",
              "    </div>\n",
              "  </div>\n",
              "  "
            ]
          },
          "metadata": {},
          "execution_count": 213
        }
      ]
    },
    {
      "cell_type": "code",
      "source": [
        "web_data.to_csv(\"web_data.csv\") # บันทึกไฟล์ Dataframe"
      ],
      "metadata": {
        "id": "RkhgAkGmIAfD"
      },
      "execution_count": null,
      "outputs": []
    },
    {
      "cell_type": "markdown",
      "source": [
        "# **Clean data from web scraping Part 1**"
      ],
      "metadata": {
        "id": "7p1A7WKhLuvY"
      }
    },
    {
      "cell_type": "code",
      "source": [
        "!gdown --id 12d2evZRGnG6zBxoEfd0cofeuamw5-jt9"
      ],
      "metadata": {
        "colab": {
          "base_uri": "https://localhost:8080/"
        },
        "id": "82FJKuDkIRm2",
        "outputId": "b7222c9b-ad20-4170-bd6c-200284832fcb"
      },
      "execution_count": null,
      "outputs": [
        {
          "output_type": "stream",
          "name": "stdout",
          "text": [
            "Downloading...\n",
            "From: https://drive.google.com/uc?id=12d2evZRGnG6zBxoEfd0cofeuamw5-jt9\n",
            "To: /content/web_data.csv\n",
            "\r  0% 0.00/307k [00:00<?, ?B/s]\r100% 307k/307k [00:00<00:00, 96.2MB/s]\n"
          ]
        }
      ]
    },
    {
      "cell_type": "code",
      "source": [
        "import pandas as pd\n",
        "web_data = pd.read_csv(\"web_data.csv\") # อ่านไฟล์ใหม่อีกครั้ง"
      ],
      "metadata": {
        "id": "UxDp9xUUIZvq"
      },
      "execution_count": null,
      "outputs": []
    },
    {
      "cell_type": "markdown",
      "source": [
        "เป็นการสกัดข้อมูลโดยใช้ Regular Expression"
      ],
      "metadata": {
        "id": "5Q9dADP0aqah"
      }
    },
    {
      "cell_type": "markdown",
      "source": [
        "**จัดการกับ Column Col2**"
      ],
      "metadata": {
        "id": "17ii4OhuDVm8"
      }
    },
    {
      "cell_type": "code",
      "source": [
        "#ดึงชื่อรุ่นของเครื่องบินออกจาก col2\n",
        "web_data[\"Aircaft_Model1\"] =web_data['Col2'].str.extract('(^an*\\s[A-Z]{1}.{1,}\\d[A-Z]*)')\n",
        "web_data['Col2'].replace('(^an*\\s[A-Z]{1}.{1,}\\d[A-Z]*)','',regex=True, inplace=True)\n",
        "web_data[\"Aircaft_Model2\"] =web_data['Col2'].str.extract('(^a\\sde\\s.{1,}[1-9]*[A-Z]*)')\n",
        "web_data['Col2'].replace('(^a\\sde\\s.{1,}[1-9]*[A-Z]*)','',regex=True, inplace=True)\n",
        "\n",
        "#ลบข้อความที่ไม่จำเป็นออกใน Col2\n",
        "web_data['Col2'].replace('(^\\soperating.{1,})','',regex=True, inplace=True)\n",
        "web_data['Col2'].replace('(^\\sflying.{1,})','',regex=True, inplace=True)\n",
        "web_data['Col2'].replace('((^\\sen.{1,}|^\\sbound.{1,}|^\\son\\sboard$|^\\speople\\son\\sboard$))','',regex=True, inplace=True)\n",
        "\n",
        "#สร้าง columns ชื่อ cash_Col2 เอาข้อมูลจาก Col2\n",
        "web_data['cash_Col2'] = web_data['Col2'].str.extract('(crashes.{1,})') \n",
        "web_data['Col2'].replace('(crashes.{1,})','',regex=True, inplace=True)\n",
        "\n",
        "#ลบข้อความที่ไม่จำเป็นออกใน Col2\n",
        "web_data['Col2'].replace('((^disappears.{1,}|^\\sLodestar|^\\sConstellation))','',regex=True, inplace=True)\n",
        "\n",
        "#สร้าง columns ชื่อ Aircaft_Model3 เอาข้อมูลจาก Col2\n",
        "web_data[\"Aircaft_Model3\"] =web_data['Col2'].str.extract('(^a.{1,})') \n",
        "web_data['Col2'].replace('(^a.{1,})','',regex=True, inplace=True)\n",
        "\n",
        "#ลบข้อความที่ไม่จำเป็นออกใน Col2\n",
        "web_data['Col2'].replace('((^\\sSuper.{1,}|^Southern.{1,}|including.{1,}|\\sdisappears))','',regex=True, inplace=True)\n",
        "web_data['Col2'].replace('((^\\sinbound.{1,}|^while.{1,};))','',regex=True, inplace=True)\n",
        "web_data['Col2'].replace('((^\\sai.{1,}|^\\son.{1,}|^\\sViking|^\\sSkymaster|^\\snick.{1,}))','',regex=True, inplace=True)\n",
        "web_data['Col2'].replace('((^while.{1,}|^when.{1,};|\\sTurbolet|^\\sCaravan|^\\scargo.{1,}))','',regex=True, inplace=True)\n",
        "web_data['Col2'].replace('((^\\sElectr.{1,}|^\\sTwin.{1,}|^\\sfre.{1,}|^\\sis.{1,}))','',regex=True, inplace=True)\n",
        "web_data['Col2'].replace('((^\\/Adv|^\\sover.{1,}|.{1,}km\\)|Pennsylvani.{1,}|operating.{1,}))','',regex=True, inplace=True)\n",
        "web_data['Col2'].replace('((^\\sat.{1,}|^\\sBig.{1,}|^\\sTur.{1,}|^\\sskids.{1,}|^\\sbuilt.{1,}))','',regex=True, inplace=True)\n",
        "web_data['Col2'].replace('((^\\sfails.{1,}|^between.{1,}|^\\sCP.{1,}|\\sModifie.{1,}|^\\sen.{1,}))','',regex=True, inplace=True)\n",
        "web_data['Col2'].replace('(^\\sa\\sSilk\\sWay\\sAirlines\\s)','',regex=True, inplace=True)\n",
        "web_data['Col2'].replace('(^when.{1,}|^\\stha.{1,}|^en.{1,}|^\\stransporting.{1,}|^\\soperated.{1,})','',regex=True, inplace=True)\n",
        "web_data['Col2'].replace('((^\\speople$|^\\shelicopter|^\\sre.{1,}|^\\scollides.{1,}|^pos.{1,}|\\sFriendship))','',regex=True, inplace=True)\n",
        "web_data['Col2'].replace('((^\\sseries|^\\sIslander|^which|\\sleased.{1,}|\\sturboprop|^\\sFellowship))','',regex=True, inplace=True)\n",
        "web_data['Col2'].replace('((^re.{1,};|F-BBDM|only.{1,}|\\sfrom.{1,}))','',regex=True, inplace=True)\n",
        "web_data['Col2'].replace('((^\\sStratocruiser|^\\sditches.{1,}|^Malta.{1,}|\\sArgonaut\\s|\\sFreighter.{1,}|^\\sViscount|^Russia\\sdue.{1,}|^\\sCommando|\\sSkytrain))','',regex=True, inplace=True)\n",
        "web_data['Col2'].replace('((^.{1,}Airway.{1,}|Strand|\\spropliner|\\sdestined.{1,}|^.{1,}soldiers.{1,}|^.{1,}Airlines.{1,}))','',regex=True, inplace=True)\n",
        "web_data['Col2'].replace('((but.{1,}|\\sstalls\\sand\\s|^\\sflight|^\\sprototype|^\\sCaravelle|^two.{1,}))','',regex=True, inplace=True)\n",
        "web_data['Col2'].replace('((^due.{1,};|.{1,}flying|shortly.{1,}|.{1,}Flight.{1,}|\\swas.{1,}|Morocco.{1,};|\\sNomad\\s|\\sTristar\\s|.{1,}team.{1,}))','',regex=True, inplace=True)\n",
        "web_data['Col2'].replace('((\\sTristar|\\sTriStar|\\sdeparting|Venezuela.{1,};|.{1,}Army.{1,}|the\\sFokker.{1,};|\\sLockheed.{1,};|^in.{1,}|^\\sas.{1,}))','',regex=True, inplace=True)\n",
        "web_data['Col2'].replace('((Boeing.{1,}|^nine.{1,}|\\sChinook\\s|\\sStratofreighter\\s|\\sAdvanced|^\\ssuffers.{1,}|involving.{1,}))','',regex=True, inplace=True)\n",
        "\n",
        "#สร้าง columns ชื่อ Aircaft_Model4 เอาข้อมูลจาก Col2\n",
        "web_data[\"Aircaft_Model4\"] =web_data['Col2'].str.extract('(^the.{1,})') \n",
        "web_data['Col2'].replace('(^the.{1,})','',regex=True, inplace=True)\n",
        "\n",
        "#สร้าง columns ชื่อ Aircaft_Model5 เอาข้อมูลจาก Col2\n",
        "web_data[\"Aircaft_Model5\"] =web_data['Col2'].str.extract('(.{1,}Metro.{1,})') \n",
        "web_data['Col2'].replace('(.{1,}Metro.{1,})','',regex=True, inplace=True)\n",
        "\n",
        "#สร้าง columns ชื่อ Aircaft_Model6 เอาข้อมูลจาก Col2\n",
        "web_data[\"Aircaft_Model6\"] =web_data['Col2'].str.extract('(Anto.{1,})') \n",
        "web_data['Col2'].replace('(Anto.{1,})','',regex=True, inplace=True)\n",
        "\n",
        "#ลบข้อความที่ไม่จำเป็นออกใน Col2\n",
        "web_data['Col2'].replace('((^\\scrash.{1,}|^\\screw.{1,}|^\\sone.{1,}|.{1,}poor.{1,}\\.))','',regex=True, inplace=True)\n",
        "\n",
        "#สร้าง columns ชื่อ Fatalities เอาข้อมูลจาก Col2\n",
        "web_data[\"Fatalities1\"] =web_data['Col2'].str.extract('(killing.{1,})') \n",
        "web_data['Col2'].replace('(killing.{1,})','',regex=True, inplace=True)\n",
        "\n",
        "web_data[\"Fatalities2\"] =web_data['Col2'].str.extract('(all\\s[0-9]{1,}.{1,})') \n",
        "web_data['Col2'].replace('(all\\s[0-9]{1,}.{1,})','',regex=True, inplace=True)\n",
        "\n",
        "web_data[\"Fatalities3\"] =web_data['Col2'].str.extract('(\\s[0-9]{2}.{1,})') \n",
        "web_data['Col2'].replace('(\\s[0-9]{2}.{1,})','',regex=True, inplace=True)\n",
        "\n",
        "web_data[\"Fatalities4\"] =web_data['Col2'].str.extract('(all.{1,}killed)') \n",
        "web_data['Col2'].replace('(all.{1,}killed)','',regex=True, inplace=True)\n",
        "\n",
        "web_data[\"Fatalities5\"] =web_data['Col2'].str.extract('(All.{1,}killed)') \n",
        "web_data['Col2'].replace('(All.{1,}killed)','',regex=True, inplace=True)\n",
        "\n",
        "web_data[\"Fatalities6\"] =web_data['Col2'].str.extract('(pass.{1,})') \n",
        "web_data['Col2'].replace('(pass.{1,})','',regex=True, inplace=True)\n",
        "\n",
        "#ลบข้อความที่ไม่จำเป็นออกใน Col2\n",
        "web_data['Col2'].replace('((people.{1,}|\\sof\\sthe$|\\sWith.{1,}))','',regex=True, inplace=True)\n",
        "\n",
        "#สร้าง columns ชื่อ country_city เอาข้อมูลจาก Col2\n",
        "web_data[\"country_city_Col2\"] =web_data['Col2'].str.extract('([a-zA-Z].{1,})') \n",
        "web_data['Col2'].replace('([a-zA-Z].{1,})','',regex=True, inplace=True)\n",
        "\n",
        "#สร้าง column ชื่อ Aircaft_Model_Col2 โดยใช้ column Aircaft_Model1+....+Aircaft_Model6\n",
        "for idx, row in web_data.iterrows():\n",
        "    web_data.loc[[idx],'Aircaft_Model_Col2'] = str(row.Aircaft_Model1) +\",\"+str(row.Aircaft_Model2)+\",\"+str(row.Aircaft_Model3) +\",\"+str(row.Aircaft_Model4) +\",\"+str(row.Aircaft_Model5) +\",\"+str(row.Aircaft_Model6)\n",
        "#ลบข้อความที่ไม่จำเป็นออกใน Aircaft_Model_Col2\n",
        "web_data['Aircaft_Model_Col2'].replace('((,|nan))','',regex=True, inplace=True)\n",
        "\n",
        "#สร้าง column ชื่อ Fatalities_Col2 โดยใช้ column Fatalitiesl1+....+Fatalities6\n",
        "for idx, row in web_data.iterrows():\n",
        "    web_data.loc[[idx],'Fatalities_Col2'] = str(row.Fatalities1) +\",\"+str(row.Fatalities2)+\",\"+str(row.Fatalities3) +\",\"+str(row.Fatalities4) +\",\"+str(row.Fatalities5) +\",\"+str(row.Fatalities6)\n",
        "#ลบข้อความที่ไม่จำเป็นออกใน Fatalities_Col2\n",
        "web_data['Fatalities_Col2'].replace('((,|nan))','',regex=True, inplace=True)\n",
        "\n",
        "# drop columns\n",
        "web_data = web_data.drop(columns=[ 'Col2','Aircaft_Model1', 'Aircaft_Model2','Aircaft_Model3','Aircaft_Model4', 'Aircaft_Model5', 'Aircaft_Model6', 'Fatalities1','Fatalities2', 'Fatalities3', 'Fatalities4', 'Fatalities5','Fatalities6']) \n",
        "\n",
        "# drop columns\n",
        "web_data = web_data.drop(columns=[ 'Unnamed: 0',]) "
      ],
      "metadata": {
        "id": "zZDP-e4AZtgy"
      },
      "execution_count": null,
      "outputs": []
    },
    {
      "cell_type": "code",
      "source": [
        "web_data"
      ],
      "metadata": {
        "id": "sTE5Fq3iCqId"
      },
      "execution_count": null,
      "outputs": []
    },
    {
      "cell_type": "markdown",
      "source": [
        "**จัดการกับ Column Col3**"
      ],
      "metadata": {
        "id": "AaatHct1DfCn"
      }
    },
    {
      "cell_type": "code",
      "source": [
        "#สร้าง columns ชื่อ crash_col3เอาข้อมูลจาก Col3\n",
        "web_data[\"crash_col3\"] =web_data['Col3'].str.extract('(^crashes.{1,})') \n",
        "web_data['Col3'].replace('(^crashes.{1,})','',regex=True, inplace=True)\n",
        "\n",
        "#ลบข้อความที่ไม่จำเป็นออกใน Col3\n",
        "web_data['Col3'].replace('((^sca.{1,}|^skids.{1,};|^flying.{1,}))','',regex=True, inplace=True)\n",
        "web_data['Col3'].replace('((^while.{1,}|^during.{1,}rm|^after.{1,};|^overshoots.{1,};))','',regex=True, inplace=True) \n",
        "web_data['Col3'].replace('((^durin.{1,}|^after.{1,}|^with.{1,}\\.))','',regex=True, inplace=True) \n",
        "\n",
        "#สร้าง columns ชื่อ kill1_col3เอาข้อมูลจาก Col3\n",
        "web_data[\"kill1_col3\"] =web_data['Col3'].str.extract('(killing.{1,}board\\.)') \n",
        "web_data['Col3'].replace('(killing.{1,}board\\.)','',regex=True, inplace=True)\n",
        "\n",
        "#สร้าง columns ชื่อ kill2_col3เอาข้อมูลจาก Col3\n",
        "web_data[\"kill2_col3\"] =web_data['Col3'].str.extract('(killing.{1,})') \n",
        "web_data['Col3'].replace('(killing.{1,})','',regex=True, inplace=True)\n",
        "\n",
        "#สร้าง columns ชื่อ kill3_col3เอาข้อมูลจาก Col3\n",
        "web_data[\"kill3_col3\"] =web_data['Col3'].str.extract('(kills.{1,})') \n",
        "web_data['Col3'].replace('(kills.{1,})','',regex=True, inplace=True)\n",
        "\n",
        "#สร้าง columns ชื่อ kill4_col3เอาข้อมูลจาก Col3\n",
        "web_data[\"kill4_col3\"] =web_data['Col3'].str.extract('(All\\s[0-9].{1,})') \n",
        "web_data['Col3'].replace('(All\\s[0-9].{1,})','',regex=True, inplace=True)\n",
        "\n",
        "#ลบข้อความที่ไม่จำเป็นออกใน Col3\n",
        "web_data['Col3'].replace('((^due.{1,}|^Pennsylvani.{1,}|^explo.{1,}))','',regex=True, inplace=True)\n",
        "web_data['Col3'].replace('(^stalls.{1,})','',regex=True, inplace=True)\n",
        "web_data['Col3'].replace('((^makes.{1,}|^loses.{1,};))','',regex=True, inplace=True)\n",
        "web_data['Col3'].replace('((^en.{1,};|^los.{1,}))','',regex=True, inplace=True)\n",
        "web_data['Col3'].replace('(.{1,}Airport.{1,};)','',regex=True, inplace=True)\n",
        "web_data['Col3'].replace('((^disappears.{1,}|^is.{1,};|^breaks.{1,}|the aircraft.{1,};))','',regex=True, inplace=True)\n",
        "web_data['Col3'].replace('((^collides.{1,};|^\\sfollowing.{1,}|^en.{1,}))','',regex=True, inplace=True)\n",
        "web_data['Col3'].replace('((^with a.{1,}|^to.{1,}|collides.{1,}))','',regex=True, inplace=True)\n",
        "web_data['Col3'].replace('((^England\\sand.{1,}|only.{1,}|.{1,}due\\sto.{1,};|^on.{1,}|^at.{1,}))','',regex=True, inplace=True)\n",
        "web_data['Col3'].replace('((.{1,}due\\sto.{1,}|flies.{1,}|suffers.{1,}|disintegrates.{1,}|ditches.{1,};))','',regex=True, inplace=True)\n",
        "web_data['Col3'].replace('((;.{1,}to\\s.{1,}|ditches.{1,}|^is.{1,}))','',regex=True, inplace=True)\n",
        "web_data['Col3'].replace('(.{1,}\\sto\\s.{1,})','',regex=True, inplace=True)\n",
        "web_data['Col3'].replace('((.{1,}Lock.{1,}|^sh.{1,}|.{1,}Airport.{1,}|.{1,}run.{1,}|^\\sduring.{1,}))','',regex=True, inplace=True)\n",
        "web_data['Col3'].replace('((.{1,}rescued.{1,}|collide.{1,}\\.|.{1,}loss.{1,20}\\.|carrying.{1,}))','',regex=True, inplace=True)\n",
        "web_data['Col3'].replace('((\\sin\\sthe.{1,}|^abruptly.{1,}|via.{1,}|^over.{1,}|for\\sreasons\\sunknown.|striking.{1,}\\.))','',regex=True, inplace=True)\n",
        "web_data['Col3'].replace('((^\\sthe.{1,}|.{1,}Flight.{1,}|strays.{1,}|.{1,}bomb.{1,}|^experiences.{1,}))','',regex=True, inplace=True)\n",
        "web_data['Col3'].replace('((^for.{1,}|.{1,}failed.{1,}|operated.{1,}|.{1,}while.{1,}|.{1,}troops.{1,}|.after.{1,}|goes.{1,}|how.{1,}|allegedly.{1,};|run.{1,}))','',regex=True, inplace=True)\n",
        "web_data['Col3'].replace('((performs.{1,}|;.{1,}survive.{1,}|rupturing.{1,}|\\sno\\s.{1,}))','',regex=True, inplace=True)\n",
        "web_data['Col3'].replace('((.{1,}survive.{1,}|hits.{1,};|catches.{1,}over\\s))','',regex=True, inplace=True)\n",
        "web_data['Col3'].replace('((.{1,}including.{1,}|\\sIt\\sis\\sunknown\\s|landing.{1,}|hits.{1,}t.|^freighter|^strikes.{1,}|.{1,}following.{1,}\\.|leave.{1,}|^as\\s.{1,}|.{1,}disappears.{1,}))','',regex=True, inplace=True)\n",
        "web_data['Col3'].replace('((.{1,}evacuated.{1,}|.{1,}occupied.{1,}|.{1,}damaged|coming.{1,}|.{1,}takeoff.{1,}|10\\sminutes))','',regex=True, inplace=True)\n",
        "web_data['Col3'].replace('(( Both crew member.{1,}|from.{1,}|.{1,}escape.{1,}|crash-lands.{1,}))','',regex=True, inplace=True)\n",
        "web_data['Col3'].replace('((with.{1,}|a\\sBoeing\\s.{1,}|.{1,}crash.{1,}|crash.{1,}|accidentally.{1,}|bursts.{1,}|.{1,}during.{1,}))','',regex=True, inplace=True)\n",
        "web_data['Col3'].replace('((^\\s|^and|\\samid.{1,}conditions|a\\spassenger|ruptures.{1,}))','',regex=True, inplace=True)\n",
        "web_data['Col3'].replace('(a\\sVickers\\sViscount)','',regex=True, inplace=True)\n",
        "\n",
        "#สร้าง columns ชื่อ Aircaft_Model1 เอาข้อมูลจาก Col3\n",
        "web_data[\"Aircaft_Model1\"] =web_data['Col3'].str.extract('(G-EAWO)') \n",
        "web_data['Col3'].replace('(G-EAWO)','',regex=True, inplace=True)\n",
        "\n",
        "#สร้าง columns ชื่อ Aircaft_Model2 เอาข้อมูลจาก Col3\n",
        "web_data[\"Aircaft_Model2\"] =web_data['Col3'].str.extract('(^a\\s.{1,})') \n",
        "web_data['Col3'].replace('(^a\\s.{1,})','',regex=True, inplace=True)\n",
        "\n",
        "#สร้าง columns ชื่อ Aircaft_Model3 เอาข้อมูลจาก Col3\n",
        "web_data[\"Aircaft_Model3\"] =web_data['Col3'].str.extract('(^an\\s[A-Z].{1,})') \n",
        "web_data['Col3'].replace('(^an\\s[A-Z].{1,})','',regex=True, inplace=True)\n",
        "\n",
        "#สร้าง columns ชื่อ Aircaft_Model4 เอาข้อมูลจาก Col3\n",
        "web_data[\"Aircaft_Model4\"] =web_data['Col3'].str.extract('(^\\san\\sUS.{1,}ner\\s)') \n",
        "web_data['Col3'].replace('(^\\san\\sUS.{1,}ner\\s)','',regex=True, inplace=True)\n",
        "\n",
        "#สร้าง column ชื่อ Aircaft_Model_Col3 โดยใช้ column Aircaft_Model1+....+Aircaft_Model6\n",
        "for idx, row in web_data.iterrows():\n",
        "    web_data.loc[[idx],'Aircaft_Model_Col3'] = str(row.Aircaft_Model1) +\",\"+str(row.Aircaft_Model2)+\",\"+str(row.Aircaft_Model3) +\",\"+str(row.Aircaft_Model4)\n",
        "#ลบข้อความที่ไม่จำเป็นออกใน Aircaft_Model_Col2\n",
        "web_data['Aircaft_Model_Col3'].replace('((,|nan))','',regex=True, inplace=True)\n",
        "# drop columns\n",
        "web_data = web_data.drop(columns=[ 'Aircaft_Model1', 'Aircaft_Model2','Aircaft_Model3','Aircaft_Model4']) \n",
        "\n",
        "#สร้าง columns ชื่อ kill5_col3เอาข้อมูลจาก Col3\n",
        "web_data[\"kill5_col3\"] =web_data['Col3'].str.extract('(all.{1,})') \n",
        "web_data['Col3'].replace('(all.{1,})','',regex=True, inplace=True)\n",
        "\n",
        "#สร้าง columns ชื่อ kill6_col3เอาข้อมูลจาก Col3\n",
        "web_data[\"kill6_col3\"] =web_data['Col3'].str.extract('(All.{1,})') \n",
        "web_data['Col3'].replace('(All.{1,})','',regex=True, inplace=True)\n",
        "\n",
        "#ลบข้อความที่ไม่จำเป็นออกใน Col3\n",
        "web_data['Col3'].replace('(\\sOf.{1,})','',regex=True, inplace=True) \n",
        "#สร้าง columns ชื่อ kill7_col3เอาข้อมูลจาก Col3\n",
        "web_data[\"kill7_col3\"] =web_data['Col3'].str.extract('(.wo.{1,})') \n",
        "web_data['Col3'].replace('(.wo.{1,})','',regex=True, inplace=True)\n",
        "\n",
        "#สร้าง columns ชื่อ kill8_col3เอาข้อมูลจาก Col3\n",
        "web_data[\"kill8_col3\"] =web_data['Col3'].str.extract('(.hree.{1,})') \n",
        "web_data['Col3'].replace('(.hree.{1,})','',regex=True, inplace=True)\n",
        "\n",
        "#สร้าง columns ชื่อ kill9_col3เอาข้อมูลจาก Col3\n",
        "web_data[\"kill9_col3\"] =web_data['Col3'].str.extract('([Ff]our.{1,})') \n",
        "web_data['Col3'].replace('([Ff]our.{1,})','',regex=True, inplace=True)\n",
        "\n",
        "#สร้าง columns ชื่อ kill10_col3เอาข้อมูลจาก Col3\n",
        "web_data[\"kill10_col3\"] =web_data['Col3'].str.extract('(Five.{1,})') \n",
        "web_data['Col3'].replace('(Five.{1,})','',regex=True, inplace=True)\n",
        "\n",
        "#ลบข้อความที่ไม่จำเป็นออกใน Col3\n",
        "web_data['Col3'].replace('((of.{1,}board$|Both.{1,}))','',regex=True, inplace=True)\n",
        "\n",
        "#สร้าง columns ชื่อ kill11_col3เอาข้อมูลจาก Col3\n",
        "web_data[\"kill11_col3\"] =web_data['Col3'].str.extract('([Ss]ix.{1,})') \n",
        "web_data['Col3'].replace('([Ss]ix.{1,})','',regex=True, inplace=True)\n",
        "\n",
        "#สร้าง columns ชื่อ kill12_col3เอาข้อมูลจาก Col3\n",
        "web_data[\"kill12_col3\"] =web_data['Col3'].str.extract('([1-9].{1,})') \n",
        "web_data['Col3'].replace('([1-9].{1,})','',regex=True, inplace=True)\n",
        "\n",
        "#สร้าง columns ชื่อ kill13_col3เอาข้อมูลจาก Col3\n",
        "web_data[\"kill13_col3\"] =web_data['Col3'].str.extract('(The.{1,})') \n",
        "web_data['Col3'].replace('(The.{1,})','',regex=True, inplace=True)\n",
        "\n",
        "#สร้าง column ชื่อ Fatalities_Col3 โดยใช้ column  'kill1_col3', 'kill2_col3', 'kill3_col3', 'kill4_col3','kill5_col3', 'kill6_col3', 'kill7_col3', 'kill8_col3', 'kill9_col3', 'kill10_col3', 'kill11_col3', 'kill12_col3', 'kill13_col3'\n",
        "for idx, row in web_data.iterrows():\n",
        "    web_data.loc[[idx],'Fatalities_Col3'] = str(row.kill1_col3) +\",\"+ str(row.kill2_col3) +\",\"+ str(row.kill3_col3) +\",\"+ str(row.kill4_col3) +\",\"+ str(row.kill5_col3) +\",\"+ str(row.kill6_col3) +\",\"+ str(row.kill7_col3) +\",\" + str(row.kill8_col3) +\",\"+ str(row.kill9_col3) +\",\"+ str(row.kill10_col3) +\",\"+ str(row.kill11_col3) +\",\"+ str(row.kill12_col3) +\",\"+ str(row.kill13_col3) \n",
        "#ลบข้อความที่ไม่จำเป็นออกใน Fatalities_Col3\n",
        "web_data['Fatalities_Col3'].replace('((,|nan))','',regex=True, inplace=True)\n",
        "# drop columns\n",
        "web_data = web_data.drop(columns=['kill1_col3', 'kill2_col3', 'kill3_col3', 'kill4_col3','kill5_col3', 'kill6_col3', 'kill7_col3', 'kill8_col3', 'kill9_col3', 'kill10_col3', 'kill11_col3', 'kill12_col3', 'kill13_col3']) \n",
        "\n",
        "#สร้าง columns ชื่อ country_city เอาข้อมูลจาก Col3\n",
        "web_data[\"country_city_Col3\"] =web_data['Col3'].str.extract('(.{4,})') \n",
        "web_data['Col3'].replace('(.{4,})','',regex=True, inplace=True)\n",
        "#drop columns\n",
        "web_data = web_data.drop(columns=['Col3'])"
      ],
      "metadata": {
        "id": "_WN5QvhxwIZw"
      },
      "execution_count": null,
      "outputs": []
    },
    {
      "cell_type": "code",
      "source": [
        "web_data"
      ],
      "metadata": {
        "id": "N5zvyRyf_QJq"
      },
      "execution_count": null,
      "outputs": []
    },
    {
      "cell_type": "markdown",
      "source": [
        "**จัดการกับ Column Col4**"
      ],
      "metadata": {
        "id": "pnlmcVAR_q0m"
      }
    },
    {
      "cell_type": "code",
      "source": [
        "#ลบข้อความที่ไม่จำเป็นออกใน Col4\n",
        "web_data['Col4'].replace('((^due\\sto.{1,};|^while.{1,}|^to.{1,};|;.{1,}released.{1,}))','',regex=True, inplace=True)\n",
        "web_data['Col4'].replace('((^due\\sto.{1,}|^to.{1,}|^after.{1,};|.{1,}following.{1,};))','',regex=True, inplace=True)\n",
        "web_data['Col4'].replace('((^after.{1,}|.{1,}following.{1,}|^operated.{1,}))','',regex=True, inplace=True)\n",
        "web_data['Col4'].replace('(([in\\s]*the\\scrash.{1,}))','',regex=True, inplace=True)\n",
        "web_data['Col4'].replace('((following.{1,};|^en\\sroute.{1,}\\.|.{1,}aircraft;))','',regex=True, inplace=True)\n",
        "web_data['Col4'].replace('((following.{1,}|^en\\sroute.{1,}|all.{1,}survive.{1,}))','',regex=True, inplace=True)\n",
        "web_data['Col4'].replace('(;.{1,}survive.{1,})','',regex=True, inplace=True)\n",
        "\n",
        "#สร้าง columns ชื่อ kill1 เอาข้อมูลจาก Col4\n",
        "web_data[\"kill1\"] =web_data['Col4'].str.extract('(^killing.{1,})') \n",
        "web_data['Col4'].replace('(^killing.{1,})','',regex=True, inplace=True)\n",
        "\n",
        "#ลบข้อความที่ไม่จำเป็นออกใน Col4\n",
        "web_data['Col4'].replace('((on\\simpact.{1,}|of\\sthe.{1,}board$))','',regex=True, inplace=True)\n",
        "web_data['Col4'].replace('((^crashes.{1,};|as\\swell.{1,}))','',regex=True, inplace=True)\n",
        "web_data['Col4'].replace('((.{1,}about.{1,}|about.{1,}|overshoots.{1,}|\\sit\\sis.{1,}|shortly.{1,}|.{1,}shortly.{1,}))','',regex=True, inplace=True)\n",
        "web_data['Col4'].replace('((All\\s.{1,}surviv.{1,}|.{1,}while.{1,}))','',regex=True, inplace=True)\n",
        "\n",
        "#สร้าง columns ชื่อ kill2 เอาข้อมูลจาก Col4\n",
        "web_data[\"kill2\"] =web_data['Col4'].str.extract('(All.{1,}killed.)') \n",
        "web_data['Col4'].replace('(All.{1,}killed.)','',regex=True, inplace=True)\n",
        "\n",
        "#ลบข้อความที่ไม่จำเป็นออกใน Col4\n",
        "web_data['Col4'].replace('((;.{1,}injured|\\snone\\sof\\sthe\\s))','',regex=True, inplace=True)\n",
        "web_data['Col4'].replace('(\\..{1,}injure.{1,})','',regex=True, inplace=True)\n",
        "web_data['Col4'].replace('(.{1,}injure.{1,})','',regex=True, inplace=True)\n",
        "web_data['Col4'].replace('((skidding.{1,};|makes.{1,}|.{1,}operating.{1,}|^crashes.{1,}|including.{1,}|and\\sis\\sflown.{1,}|and\\scrashes.{1,}))','',regex=True, inplace=True)\n",
        "web_data['Col4'].replace('((the\\sair.{1,}|^\\s))','',regex=True, inplace=True)\n",
        "web_data['Col4'].replace('((whil.{1,}|.{1,}engine.{1,};))','',regex=True, inplace=True)\n",
        "web_data['Col4'].replace('((.{1,}engine.{1,}|where.{1,}))','',regex=True, inplace=True)\n",
        "\n",
        "#สร้าง columns ชื่อ kill3 เอาข้อมูลจาก Col4\n",
        "web_data[\"kill3\"] =web_data['Col4'].str.extract('(all.{1,}killed)') \n",
        "web_data['Col4'].replace('(all.{1,}killed)','',regex=True, inplace=True)\n",
        "\n",
        "#ลบข้อความที่ไม่จำเป็นออกใน Col4\n",
        "web_data['Col4'].replace('((^but.{1,}|^\\.|^\\s))','',regex=True, inplace=True)\n",
        "web_data['Col4'].replace('((.{1,}\\sto\\s.{1,};|.{1,}after.{1,};|when.{1,}|\\sThe\\splane.{1,}|is\\sshot\\sdown.{1,};|though.{1,}|.{1,}Despite.{1,}))','',regex=True, inplace=True)\n",
        "web_data['Col4'].replace('((injuring.{1,}|\\(.{1,}|\\sOf\\sthe.{1,}board|^\\.|^\\s))','',regex=True, inplace=True)\n",
        "web_data['Col4'].replace('((.{1,}due\\sto.{1,}|collides.{1,}|in\\sRussia.{1,}|suffers.{1,};|on\\sthe\\sTête\\s.{1,};))','',regex=True, inplace=True)\n",
        "web_data['Col4'].replace('((suffers.{1,}|\\sthe\\sDHC-2.{1,}|[1-9].{1,}injuries.|resulting.{1,}))','',regex=True, inplace=True)\n",
        "\n",
        "#ลบข้อความที่ไม่จำเป็นออกใน Col4\n",
        "web_data['Col4'].replace('((^a\\scrash.{1,}|disappears.{1,}|^Air.{1,}|\\)|.{1,}minutes.{1,}|.{1,}into.{1,}\\.|.{1,}during.{1,};|in poor weather.|^and.{1,}))','',regex=True, inplace=True)\n",
        "web_data['Col4'].replace('((into.{1,}|over.{1,}|\\sthe\\sblade.{1,}|after.{1,}or.|leadin.{1,}|four-year.{1,}|Jordan\\..{1,}|who.{1,}))','',regex=True, inplace=True)\n",
        "web_data['Col4'].replace('((\\sof\\sthe.{1,}aircraft$|colli.{1,};|\\sin\\sJapan.{1,}|loses.{1,}|^only.{1,}|claiming.{1,}|\\sa\\stwo\\syear.{1,}|MO$|then\\sbreaks.{1,};|in\\sthe\\sfirst.{1,}))','',regex=True, inplace=True)\n",
        "web_data['Col4'].replace('((\\sthere\\sis.{1,}|all.{1,}der.|The\\sfour\\screw\\smembers\\sand\\s35.{1,}|causing.{1,}|.{1,}cliff.|and\\sone$|.{1,}to.{1,};|.{1,}survives.|^then.{1,};))','',regex=True, inplace=True)\n",
        "\n",
        "#สร้าง columns ชื่อ kill4 เอาข้อมูลจาก Col4\n",
        "web_data[\"kill4\"] =web_data['Col4'].str.extract('(all.{1,}die)') \n",
        "web_data['Col4'].replace('(all.{1,}die)','',regex=True, inplace=True)\n",
        "\n",
        "#ลบข้อความที่ไม่จำเป็นออกใน Col4\n",
        "web_data['Col4'].replace('((^two.{1,}rs|this.{1,}|all.{1,}ve|in.{1,}\\sworst\\s.{1,}))','',regex=True, inplace=True)\n",
        "web_data['Col4'].replace('((.{1,}\\sto\\s.{1,}|breaks.{1,}|^a.{1,}|\\sfor\\sreasons\\sunknown|second.{1,}))','',regex=True, inplace=True)\n",
        "web_data['Col4'].replace('((of carbon.{1,}|bre.{1,}|.{1,}survive.|^on\\s.{1,}|the\\sothers.{1,}|followed.{1,}|^is.{1,}|^for.{1,}|.{1,}uring.{1,}|the\\sEmbraer.{1,}|Hijacker\\sis.{1,}|^kills\\s$))','',regex=True, inplace=True)\n",
        "web_data['Col4'].replace('((;.{1,}with.{1,}|.{1,}Flight.{1,}|\\sin\\sthe\\saccident.|.{1,}released.{1,}|in\\sthe\\sdeadliest.{1,}|.{1,}rash.{1,}|^via.{1,}|.{1,}captured|^giving.{1,}|^if\\sany))','',regex=True, inplace=True)\n",
        "\n",
        "#เปลี่ยยนเลขที่เป็น string\n",
        "web_data['Col4'].replace('(two\\s)','2 ',regex=True, inplace=True)\n",
        "web_data['Col4'].replace('(three\\s)','3 ',regex=True, inplace=True)\n",
        "web_data['Col4'].replace('(four\\s)','4 ',regex=True, inplace=True)\n",
        "web_data['Col4'].replace('(five\\s)','5 ',regex=True, inplace=True)\n",
        "web_data['Col4'].replace('(Seven\\s)','7 ',regex=True, inplace=True)\n",
        "web_data['Col4'].replace('(eight\\s)','8 ',regex=True, inplace=True)\n",
        "web_data['Col4'].replace('(one\\s)','1 ',regex=True, inplace=True)\n",
        "\n",
        "#สร้าง columns ชื่อ kill5 เอาข้อมูลจาก Col4\n",
        "web_data[\"kill5\"] =web_data['Col4'].str.extract('(killing.{1,})') \n",
        "web_data['Col4'].replace('(killing.{1,})','',regex=True, inplace=True)\n",
        "\n",
        "#สร้าง columns ชื่อ kill6 เอาข้อมูลจาก Col4\n",
        "web_data[\"kill6\"] =web_data['Col4'].str.extract('([1-9].{1,}killed)') \n",
        "web_data['Col4'].replace('([1-9].{1,}killed)','',regex=True, inplace=True)\n",
        "\n",
        "#สร้าง columns ชื่อ kill7 เอาข้อมูลจาก Col4\n",
        "web_data[\"kill7\"] =web_data['Col4'].str.extract('([1-9].{1,}die)') \n",
        "web_data['Col4'].replace('([1-9].{1,}die)','',regex=True, inplace=True)"
      ],
      "metadata": {
        "id": "xeLUjIY2N6vX"
      },
      "execution_count": null,
      "outputs": []
    },
    {
      "cell_type": "code",
      "source": [
        "#สร้าง column ชื่อ Fatalities_Col4 โดยใช้ column  kill1-kill7\n",
        "for idx, row in web_data.iterrows():\n",
        "    web_data.loc[[idx],'Fatalities_Col4'] = str(row.kill1) +\",\"+ str(row.kill2) +\",\"+ str(row.kill3) +\",\"+ str(row.kill4) +\",\"+ str(row.kill5) +\",\"+ str(row.kill6) +\",\"+ str(row.kill7) \n",
        "#ลบข้อความที่ไม่จำเป็นออกใน Fatalities_Col4\n",
        "web_data['Fatalities_Col4'].replace('((,|nan))','',regex=True, inplace=True)\n",
        "# drop columns\n",
        "web_data = web_data.drop(columns=['kill1', 'kill2', 'kill3', 'kill4','kill5', 'kill6', 'kill7']) \n",
        "\n",
        "#ลบข้อความที่ไม่จำเป็นออกใน Col4\n",
        "web_data['Col4'].replace('((All\\s.{1,}|All|\\sThe\\s707.{1,}|^the.{1,}|flies.{1,}|catching.{1,}))','',regex=True, inplace=True)\n",
        "web_data['Col4'].replace('((^in|^of.{1,}|\\sOf.{1,}|of\\sthe.{1,}crew|East Berlin.{1,}|\\sThe\\screw.{1,}|because.{1,}|After.{1,}|plowing.{1,}|\\sthe\\screw\\s))','',regex=True, inplace=True)\n",
        "web_data['Col4'].replace('((\\sall.{1,}|[1-9].{1,}|kill.{1,}|by\\sa\\spassenger|bound.{1,}|upon.{1,}|with\\s))','',regex=True, inplace=True)\n",
        "web_data['Col4'].replace('((\\.|;))','',regex=True, inplace=True)\n",
        "\n",
        "#สร้าง columns ชื่อ country1_city เอาข้อมูลจาก Col4\n",
        "web_data[\"country1_city_Col4\"] =web_data['Col4'].str.extract('(.{4,})') \n",
        "web_data['Col4'].replace('(.{4,})','',regex=True, inplace=True)\n",
        "\n",
        "#สร้าง columns ชื่อ country2_city เอาข้อมูลจาก Col4\n",
        "web_data[\"country2_city_Col4\"] =web_data['Col4'].str.extract('(UK)') \n",
        "web_data['Col4'].replace('(UK)','',regex=True, inplace=True)\n",
        "\n",
        "#สร้าง column ชื่อ country_city_Col4 โดยใช้ column  country1_city_Col4 + country2_city_Col4\n",
        "for idx, row in web_data.iterrows():\n",
        "    web_data.loc[[idx],'country_city_Col4'] = str(row.country1_city_Col4) +\",\"+ str(row.country2_city_Col4)  \n",
        "#ลบข้อความที่ไม่จำเป็นออกใน country_city_Col4 \n",
        "web_data['country_city_Col4'].replace('((,|nan))','',regex=True, inplace=True)\n",
        "# drop columns\n",
        "web_data = web_data.drop(columns=['country1_city_Col4','country2_city_Col4']) \n",
        "\n",
        "#drop columns\n",
        "web_data = web_data.drop(columns=['Col4'])"
      ],
      "metadata": {
        "id": "cREcgVCkCGsR"
      },
      "execution_count": null,
      "outputs": []
    },
    {
      "cell_type": "code",
      "source": [
        "web_data"
      ],
      "metadata": {
        "id": "Cj8e8j9OFTca"
      },
      "execution_count": null,
      "outputs": []
    },
    {
      "cell_type": "markdown",
      "source": [
        "**จัดการกับ Column Col5**"
      ],
      "metadata": {
        "id": "7qJL3geQGIRC"
      }
    },
    {
      "cell_type": "code",
      "source": [
        "#ลบข้อความที่ไม่จำเป็นออกใน Col5\n",
        "web_data['Col5'].replace('((due\\sto.{1,};))','',regex=True, inplace=True)\n",
        "web_data['Col5'].replace('(due\\sto.{1,}r,)','',regex=True, inplace=True)\n",
        "web_data['Col5'].replace('(due\\sto.{1,},)','',regex=True, inplace=True)\n",
        "web_data['Col5'].replace('(due\\sto.{1,}ms.)','',regex=True, inplace=True)\n",
        "web_data['Col5'].replace('(due\\sto.{1,})','',regex=True, inplace=True)\n",
        "\n",
        "web_data['Col5'].replace('(^with.{1,},)','',regex=True, inplace=True)\n",
        "web_data['Col5'].replace('(^with.{1,};)','',regex=True, inplace=True)\n",
        "web_data['Col5'].replace('(^with.{1,}on.)','',regex=True, inplace=True)\n",
        "web_data['Col5'].replace('(^with.{1,})','',regex=True, inplace=True)\n",
        "\n",
        "web_data['Col5'].replace('(^the.{1,})','',regex=True, inplace=True)\n",
        "web_data['Col5'].replace('((^collides.{1,}ie,|^and\\scon.{1,},|This\\sis\\sthe\\sfirst.{1,}))','',regex=True, inplace=True)\n",
        "web_data['Col5'].replace('(this\\sis\\sthe\\sfirst.{1,})','',regex=True, inplace=True)\n",
        "web_data['Col5'].replace('(including.{1,})','',regex=True, inplace=True)\n",
        "\n",
        "web_data['Col5'].replace('((the\\sworst.{1,}))','',regex=True, inplace=True)\n",
        "web_data['Col5'].replace('((the machine.{1,}|is\\sshot\\s.{1,};|World.{1,}|after.{1,},))','',regex=True, inplace=True)\n",
        "web_data['Col5'].replace('(after.{1,};)','',regex=True, inplace=True)\n",
        "web_data['Col5'].replace('((3\\smiles.{1,}|while.{1,}rm,|while.{1,}rt,|\\safter.{1,}it\\s))','',regex=True, inplace=True)\n",
        "web_data['Col5'].replace('((the wreckage.{1,}|\\san\\sundiscovered.{1,}))','',regex=True, inplace=True)\n",
        "web_data['Col5'].replace('((while.{1,}land,|shortly\\s\\s))','',regex=True, inplace=True)\n",
        "web_data['Col5'].replace('(^inju.{1,})','',regex=True, inplace=True)\n",
        "web_data['Col5'].replace('((escorted by.{1,}|is\\sforced.{1,}sk,|The Cirrus.{1,}ing.|nor was.{1,}|but two people.{1,}|^suffers.{1,}.sk.\\s))','',regex=True, inplace=True)\n",
        "web_data['Col5'].replace('((operating.{1,}|on approach.{1,}rt,))','',regex=True, inplace=True)\n",
        "\n",
        "#เปลี่ยยนเลขที่เป็น string\n",
        "web_data['Col5'].replace('(\\s[Oo]ne\\s)',' 1 ',regex=True, inplace=True)\n",
        "web_data['Col5'].replace('(\\s[Tt]wo\\s)',' 2 ',regex=True, inplace=True)\n",
        "web_data['Col5'].replace('(\\s[Tt]hree\\s)',' 3 ',regex=True, inplace=True)\n",
        "web_data['Col5'].replace('(\\sfour\\s)',' 4 ',regex=True, inplace=True)\n",
        "web_data['Col5'].replace('(\\s[Ff]ive\\s)',' 5 ',regex=True, inplace=True)\n",
        "web_data['Col5'].replace('(\\ssix\\s)',' 6 ',regex=True, inplace=True)\n",
        "web_data['Col5'].replace('(\\sseven\\s)',' 7 ',regex=True, inplace=True)\n",
        "web_data['Col5'].replace('(\\seight\\s)',' 8 ',regex=True, inplace=True)\n",
        "web_data['Col5'].replace('(\\snine\\s)',' 9 ',regex=True, inplace=True)\n",
        "\n",
        "#ลบข้อความที่ไม่จำเป็นออกใน Col5\n",
        "web_data['Col5'].replace('((only\\sthe\\spilot\\ssurvived|the\\scause\\sis\\s.{1,}|^\\s))','',regex=True, inplace=True)\n",
        "web_data['Col5'].replace('((only.{1,}survive.{1,}|.{1,}attendant\\sFrankie.{1,}|^,000.{1,};|somersaults.{1,},\\s|\\sand\\sthe\\saircraft.{1,}))','',regex=True, inplace=True)\n",
        "web_data['Col5'].replace('(overruns.{1,}rt,\\s|All.{1,}survive.{1,})','',regex=True, inplace=True)\n",
        "web_data['Col5'].replace('(the aircraft.{1,},)','',regex=True, inplace=True)\n",
        "\n",
        "#สร้าง columns ชื่อ kill1 เอาข้อมูลจาก Col5\n",
        "web_data[\"kill1\"] =web_data['Col5'].str.extract('(killing.{1,}board.$)') \n",
        "web_data['Col5'].replace('(killing.{1,}board.$)','',regex=True, inplace=True)\n",
        "\n",
        "#สร้าง columns ชื่อ kill2 เอาข้อมูลจาก Col5\n",
        "web_data[\"kill2\"] =web_data['Col5'].str.extract('(all.{1,}die)') \n",
        "web_data['Col5'].replace('(all.{1,}die)','',regex=True, inplace=True)\n",
        "\n",
        "#ลบข้อความที่ไม่จำเป็นออกใน Col5\n",
        "web_data['Col5'].replace('((killing\\shijackers.{1,}|killing s when.{1,}|but the scene remains.{1,}|as\\swell.{1,}d.))','',regex=True, inplace=True)\n",
        "web_data['Col5'].replace('(injuring.{1,})','',regex=True, inplace=True)\n",
        "web_data['Col5'].replace('((  in the accident.| and crew on board;|while attempting takeoff, |making it ))','',regex=True, inplace=True)\n",
        "web_data['Col5'].replace('((and performs.{1,}|to Amaknak Island off the | coast,.{1,}|overshoots the runway.{1,}|and returns.{1,}fire\\s\\s|suffers a tail.{1,))','',regex=True, inplace=True)\n",
        "web_data['Col5'].replace('(suffers a tail.{1,})','',regex=True, inplace=True)\n",
        "web_data['Col5'].replace('(^to\\s.{1,};)','',regex=True, inplace=True)\n",
        "web_data['Col5'].replace('(\\sto\\s.{1,};)','',regex=True, inplace=True)\n",
        "web_data['Col5'].replace('(during .{1,}flight,)','',regex=True, inplace=True)\n",
        "web_data['Col5'].replace('(during .{1,};)','',regex=True, inplace=True)\n",
        "web_data['Col5'].replace('((the cause of the.{1,}|while.{1,}age.|is shot down .{1,}ay,| after the crew loses control |for reasons unknown,))','',regex=True, inplace=True)\n",
        "web_data['Col5'].replace('(( in severe weather, |to Leopoldville.{1,}pain,|as the result.{1,};|,050 km\\).{1,}| the flight attendant.{1,}|in the deadliest.{1,}))','',regex=True, inplace=True)\n",
        "web_data['Col5'].replace('(.{1,}the aircraft is.{1,})','',regex=True, inplace=True)\n",
        "web_data['Col5'].replace('(killing all on board \\(14,.{1,})','killing all 14 on board',regex=True, inplace=True)\n",
        "web_data['Col5'].replace('((^causing.{1,}|Of\\sthe.{1,}er.|No\\s.{1,}|,.{1,}after.{1,}vive.|whils.{1,}|in poo.{1,}|,.{1,}engine fire\\s))','',regex=True, inplace=True)\n",
        "web_data['Col5'].replace('((.{1,}following.{1,};|following.{1,};|wife.{1,}|collide.{1,}ay\\s))','',regex=True, inplace=True)\n",
        "web_data['Col5'].replace('(\\sand.{1,}ground)','',regex=True, inplace=True)"
      ],
      "metadata": {
        "id": "Ha8alVJESYt0"
      },
      "execution_count": null,
      "outputs": []
    },
    {
      "cell_type": "code",
      "source": [
        "#สร้าง columns ชื่อ kill3 เอาข้อมูลจาก Col5\n",
        "web_data[\"kill3\"] =web_data['Col5'].str.extract('(All.{1,}die)') \n",
        "web_data['Col5'].replace('(All.{1,}die)','',regex=True, inplace=True)\n",
        "\n",
        "#สร้าง columns ชื่อ kill4 เอาข้อมูลจาก Col5\n",
        "web_data[\"kill4\"] =web_data['Col5'].str.extract('(All.{1,}killed)') \n",
        "web_data['Col5'].replace('(All.{1,}killed)','',regex=True, inplace=True)\n",
        "\n",
        "#สร้าง columns ชื่อ kill5 เอาข้อมูลจาก Col5\n",
        "web_data[\"kill5\"] =web_data['Col5'].str.extract('(all.{1,}killed)') \n",
        "web_data['Col5'].replace('(all.{1,}killed)','',regex=True, inplace=True)\n",
        "\n",
        "#ลบข้อความที่ไม่จำเป็นออกใน Col5\n",
        "web_data['Col5'].replace('((NV.{1,}|as a.{2,};|but.{1,}))','',regex=True, inplace=True)\n",
        "web_data['Col5'].replace('((Of.{1,}board|when a fire.{1,}|disappears.{1,}|as\\swell.{1,}|and\\sleading.{1,}|on its .{1,}))','',regex=True, inplace=True)\n",
        "\n",
        "#สร้าง columns ชื่อ kill6 เอาข้อมูลจาก Col5\n",
        "web_data[\"kill6\"] =web_data['Col5'].str.extract('(killing.{1,}board)') \n",
        "web_data['Col5'].replace('(killing.{1,}board)','',regex=True, inplace=True)\n",
        "\n",
        "#ลบข้อความที่ไม่จำเป็นออกใน Col5\n",
        "web_data['Col5'].replace('((.{1,}The\\screw.{1,},|the sole.{1,}|when.{1,}|Flight\\s42.{1,}))','',regex=True, inplace=True)\n",
        "web_data['Col5'].replace('(1 person.{1,})','',regex=True, inplace=True)\n",
        "web_data['Col5'].replace('(( in Australi.{1,}|along.{1,}| breaks up.{1,};| The plane makes.{1,}|in the first loss.{1,}|though it .{1,}| all 7 crew .{1,}))','',regex=True, inplace=True)\n",
        "web_data['Col5'].replace('((;.{1,}the DC-3.{1,}|\\(.{1,}\\)|the aircraft.{1,}))','',regex=True, inplace=True)\n",
        "web_data['Col5'].replace('((\\)|an undetermined.{1,}|.{1,} worst aviation.{1,}|while.{1,};|after a passenger.{1,}|The report.{1,}|is hijacked.{1,}))','',regex=True, inplace=True)\n",
        "web_data['Col5'].replace('((crashes during.{1,}|and ;.{1,}|collides with.{1,},|and forced.{1,}| as the crew.{1,}|suffers an engine.{1,}|leading to.{1,},|initially.{1,}))','',regex=True, inplace=True)\n",
        "web_data['Col5'].replace('((this crash is.{1,}| cause is.{1,}|it remains.{1,}|inside.{1,}| the F-86 .{1,}|a faulty.{1,}|cause is disputed.{1,}))','',regex=True, inplace=True)\n",
        "web_data['Col5'].replace('((killing.{1,}days.$|killing\\sthe\\spi.{1,}|killing\\sall.$))','',regex=True, inplace=True)\n",
        "\n",
        "#สร้าง columns ชื่อ kill7 เอาข้อมูลจาก Col5\n",
        "web_data[\"kill7\"] =web_data['Col5'].str.extract('(killing.{1,};)') \n",
        "web_data['Col5'].replace('(killing.{1,};)','',regex=True, inplace=True)\n",
        "\n",
        "#สร้าง columns ชื่อ kill8 เอาข้อมูลจาก Col5\n",
        "web_data[\"kill8\"] =web_data['Col5'].str.extract('(killing.{1,})') \n",
        "web_data['Col5'].replace('(killing.{1,})','',regex=True, inplace=True)\n",
        "\n",
        "#ลบข้อความที่ไม่จำเป็นออกใน Col5\n",
        "web_data['Col5'].replace('((a.Boeing.{1,}rt;|whose.{1,}|subsequently.{1,}|upon landing.{1,}| A thrust.{1,}|Maintenance.{1,}))','',regex=True, inplace=True)\n",
        "\n",
        "#สร้าง columns ชื่อ kill9 เอาข้อมูลจาก Col5\n",
        "web_data[\"kill9\"] =web_data['Col5'].str.extract('([1-9].{1,}killed.)') \n",
        "web_data['Col5'].replace('([1-9].{1,}killed.)','',regex=True, inplace=True)\n",
        "\n",
        "#ลบข้อความที่ไม่จำเป็นออกใน Col5\n",
        "web_data['Col5'].replace('(crashes.{1,})','',regex=True, inplace=True)\n",
        "web_data['Col5'].replace('(( is attacked .{1,}|lands safely.{1,}| Many.{1,}|to Quatro.{1,}|Germany as.{1,}|.{1,}causing the.{1,}| makes an emergency.{1,}))','',regex=True, inplace=True)\n",
        "web_data['Col5'].replace('((a de Havilland.{1,}|for a refueling.{1,}|over the .{1,}|.{1,}injuries.{1,}))','',regex=True, inplace=True)\n",
        "web_data['Col5'].replace('((and breaks.{1,}|Comodoro.{1,}|while on.{1,}|is seized .{1,}|following.{1,}|none of.{1,}))','',regex=True, inplace=True)\n",
        "\n",
        "#สร้าง columns ชื่อ kill10 เอาข้อมูลจาก Col5\n",
        "web_data[\"kill10\"] =web_data['Col5'].str.extract('([1-9].{1,}die)') \n",
        "web_data['Col5'].replace('([1-9].{1,}die)','',regex=True, inplace=True)\n",
        "\n",
        "#ลบข้อความที่ไม่จำเป็นออกใน Col5\n",
        "web_data['Col5'].replace('((,.{1,}survive.{1,}|almost at Logan.{1,}|intending to.{1,}|.{1,}pilots on board.{1,},|.{1,}deadliest.{1,}))','',regex=True, inplace=True)\n",
        "web_data['Col5'].replace('((narrowly.{1,},|experiences.{1,}|while landing.{1,}|on takeoff.{1,}|traveling from.{1,}))','',regex=True, inplace=True)\n",
        "web_data['Col5'].replace('((Argentina\\s.{1,}| breaks up.{1,}|hits high .{1,}| suffers.{1,}|^\\.|^\\s))','',regex=True, inplace=True)"
      ],
      "metadata": {
        "id": "1VZeItIu0cII"
      },
      "execution_count": null,
      "outputs": []
    },
    {
      "cell_type": "code",
      "source": [
        "#สร้าง column ชื่อ Fatalities_Col5 โดยใช้ column  kill1-kill10\n",
        "for idx, row in web_data.iterrows():\n",
        "    web_data.loc[[idx],'Fatalities_Col5'] = str(row.kill1) +\",\"+ str(row.kill2) +\",\"+ str(row.kill3) +\",\"+ str(row.kill4) +\",\"+ str(row.kill5) +\",\"+ str(row.kill6) +\",\"+ str(row.kill7)+\",\"+ str(row.kill8)+\",\"+ str(row.kill9)+\",\"+ str(row.kill10)    \n",
        "#ลบข้อความที่ไม่จำเป็นออกใน Fatalities_Col2_Col5\n",
        "web_data['Fatalities_Col5'].replace('((,|nan))','',regex=True, inplace=True)\n",
        "# drop columns\n",
        "web_data = web_data.drop(columns=['kill1', 'kill2', 'kill3', 'kill4','kill5', 'kill6', 'kill7', 'kill8', 'kill9', 'kill10']) "
      ],
      "metadata": {
        "id": "FrZm02A1O2zS"
      },
      "execution_count": null,
      "outputs": []
    },
    {
      "cell_type": "code",
      "source": [
        "#ลบข้อความที่ไม่จำเป็นออกใน Col5\n",
        "web_data['Col5'].replace('((^to\\sNew.{1,},|^to\\sT.{1,},|to\\sR.{1,}))','',regex=True, inplace=True)\n",
        "web_data['Col5'].replace('((near.{1,}b,|in\\sthe.{1,}|into.{1,}th,))','',regex=True, inplace=True)\n",
        "web_data['Col5'].replace('(^[a-z].{1,})','',regex=True, inplace=True)\n",
        "web_data['Col5'].replace('((^\\s|^,.{0,}|^\\..{0,}))','',regex=True, inplace=True)\n",
        "web_data['Col5'].replace('((caused by.{1,}|\\s\\s$))','',regex=True, inplace=True)\n",
        "\n",
        "#ลบข้อความที่ไม่จำเป็นออกใน Col5\n",
        "web_data['Col5'].replace('(( in Escambia.{1,}| , making this| for a game; ))','',regex=True, inplace=True)\n",
        "\n",
        "#สร้าง columns ชื่อ country1_city เอาข้อมูลจาก Col5\n",
        "web_data[\"country1_city_Col5\"] =web_data['Col5'].str.extract('(^U.{1,})') \n",
        "web_data['Col5'].replace('(^U.{1,})','',regex=True, inplace=True)\n",
        "\n",
        "#ลบข้อความที่ไม่จำเป็นออกใน Col5\n",
        "web_data['Col5'].replace('(United.{1,})','',regex=True, inplace=True)\n",
        "web_data['Col5'].replace('((\\s[a-z].{1,}|The|None))','',regex=True, inplace=True)\n",
        "web_data['Col5'].replace('((\\s\\s| Thirty-five|;|,|\\.|\\())','',regex=True, inplace=True)\n",
        "web_data['Col5'].replace('(\\s$)','',regex=True, inplace=True)\n",
        "\n",
        "#สร้าง columns ชื่อ country2_city เอาข้อมูลจาก Col5\n",
        "web_data[\"country2_city_Col5\"] =web_data['Col5'].str.extract('(^[A-Z].{1,})') \n",
        "web_data['Col5'].replace('(^[A-Z].{1,})','',regex=True, inplace=True)"
      ],
      "metadata": {
        "id": "xsrfpa13QXqH"
      },
      "execution_count": null,
      "outputs": []
    },
    {
      "cell_type": "code",
      "source": [
        "#สร้าง column ชื่อ country_city_Col5 โดยใช้ column  country1_city_Col5 + country2_city_Col5\n",
        "for idx, row in web_data.iterrows():\n",
        "    web_data.loc[[idx],'country_city_Col5'] = str(row.country1_city_Col5) +\",\"+ str(row.country2_city_Col5)  \n",
        "#ลบข้อความที่ไม่จำเป็นออกใน Fatalities_Col4\n",
        "web_data['country_city_Col5'].replace('((,|nan))','',regex=True, inplace=True)\n",
        "# drop columns\n",
        "web_data = web_data.drop(columns=['country1_city_Col5','country2_city_Col5']) \n",
        "\n",
        "#drop columns\n",
        "web_data = web_data.drop(columns=['Col5','cash_Col2','crash_col3'])"
      ],
      "metadata": {
        "id": "cl4BMOEfXZUI"
      },
      "execution_count": null,
      "outputs": []
    },
    {
      "cell_type": "code",
      "source": [
        "web_data.columns"
      ],
      "metadata": {
        "colab": {
          "base_uri": "https://localhost:8080/"
        },
        "id": "U-WZi311YipI",
        "outputId": "40164200-bc36-46a0-898e-7808390d607d"
      },
      "execution_count": null,
      "outputs": [
        {
          "output_type": "execute_result",
          "data": {
            "text/plain": [
              "Index(['Title', 'date', 'Year', 'country_city_Col2', 'Aircaft_Model_Col2',\n",
              "       'Fatalities_Col2', 'Aircaft_Model_Col3', 'Fatalities_Col3',\n",
              "       'country_city_Col3', 'Fatalities_Col4', 'country_city_Col4',\n",
              "       'Fatalities_Col5', 'country_city_Col5'],\n",
              "      dtype='object')"
            ]
          },
          "metadata": {},
          "execution_count": 109
        }
      ]
    },
    {
      "cell_type": "code",
      "source": [
        "#เรียงคอลัมน์ใหม่\n",
        "web_data = web_data[['date', 'Year', 'Title' ,'Aircaft_Model_Col2', 'Aircaft_Model_Col3',  'country_city_Col2', 'country_city_Col3','country_city_Col4', 'country_city_Col5','Fatalities_Col2','Fatalities_Col3', 'Fatalities_Col4', 'Fatalities_Col5']]"
      ],
      "metadata": {
        "id": "_RoIlRYgY0q_"
      },
      "execution_count": null,
      "outputs": []
    },
    {
      "cell_type": "code",
      "source": [
        "web_data.to_csv(\"web_dataV2.csv\") # บันทึกไฟล์แล้วนำไปอัพลงไดร์ฟ"
      ],
      "metadata": {
        "id": "3Dnj2R7vZzqb"
      },
      "execution_count": null,
      "outputs": []
    },
    {
      "cell_type": "markdown",
      "source": [
        "# **Clean data from web scraping Part 2**"
      ],
      "metadata": {
        "id": "P-wmcQCzac_E"
      }
    },
    {
      "cell_type": "code",
      "source": [
        "!gdown --id 1PAiubQHhSpRb74CBwO1ogvY2nZpj_tJU"
      ],
      "metadata": {
        "colab": {
          "base_uri": "https://localhost:8080/"
        },
        "id": "DP854SAlaUle",
        "outputId": "88b8779f-a060-4f9d-afd3-19563f7276ed"
      },
      "execution_count": null,
      "outputs": [
        {
          "output_type": "stream",
          "name": "stdout",
          "text": [
            "Downloading...\n",
            "From: https://drive.google.com/uc?id=1PAiubQHhSpRb74CBwO1ogvY2nZpj_tJU\n",
            "To: /content/web_dataV2.csv\n",
            "\r  0% 0.00/162k [00:00<?, ?B/s]\r100% 162k/162k [00:00<00:00, 51.2MB/s]\n"
          ]
        }
      ]
    },
    {
      "cell_type": "code",
      "source": [
        "import pandas as pd\n",
        "web_data = pd.read_csv(\"web_dataV2.csv\") # อ่านไฟล์ใหม่อีกครั้ง\n",
        "web_data = web_data.drop(columns=[ 'Unnamed: 0','Title','Year'])"
      ],
      "metadata": {
        "id": "XIlkpsn9bJL0"
      },
      "execution_count": null,
      "outputs": []
    },
    {
      "cell_type": "code",
      "source": [
        "web_data.columns"
      ],
      "metadata": {
        "colab": {
          "base_uri": "https://localhost:8080/"
        },
        "id": "IZ5ztyB_E3uz",
        "outputId": "44b289de-6730-4555-ac6c-99bb8197b69c"
      },
      "execution_count": null,
      "outputs": [
        {
          "output_type": "execute_result",
          "data": {
            "text/plain": [
              "Index(['date', 'Aircaft_Model_Col2', 'Aircaft_Model_Col3', 'country_city_Col2',\n",
              "       'country_city_Col3', 'country_city_Col4', 'country_city_Col5',\n",
              "       'Fatalities_Col2', 'Fatalities_Col3', 'Fatalities_Col4',\n",
              "       'Fatalities_Col5'],\n",
              "      dtype='object')"
            ]
          },
          "metadata": {},
          "execution_count": 25
        }
      ]
    },
    {
      "cell_type": "code",
      "source": [
        "#สร้าง column ชื่อ Aircaft_Model โดยใช้ column Aircaft_Model_Col2+Aircaft_Model_Col3\n",
        "for idx, row in web_data.iterrows():\n",
        "    web_data.loc[[idx],'Aircaft_Model'] = str(row.Aircaft_Model_Col2) +\",\"+str(row.Aircaft_Model_Col3)\n",
        "\n",
        "#สร้าง column ชื่อ country_city โดยใช้ column 'country_city_Col2','country_city_Col3', 'country_city_Col4', 'country_city_Col5',\n",
        "for idx, row in web_data.iterrows():\n",
        "    web_data.loc[[idx],'country_city'] = str(row.country_city_Col2) +\",\"+str(row.country_city_Col3)+\",\"+str(row.country_city_Col4)+\",\"+str(row.country_city_Col5)\n",
        "\n",
        "#สร้าง column ชื่อ 'Fatalities โดยใช้ column 'Fatalities_Col2', 'Fatalities_Col3', 'Fatalities_Col4','Fatalities_Col5'\n",
        "for idx, row in web_data.iterrows():\n",
        "    web_data.loc[[idx],'Fatalities'] = str(row.Fatalities_Col2) +\",\"+str(row.Fatalities_Col3)+\",\"+str(row.Fatalities_Col4)+\",\"+str(row.Fatalities_Col5)"
      ],
      "metadata": {
        "id": "NJZKSTlPFFat"
      },
      "execution_count": null,
      "outputs": []
    },
    {
      "cell_type": "code",
      "source": [
        "# drop columns ที่ไม่ได้ใช้ออกไป\n",
        "web_data = web_data.drop(columns=['Aircaft_Model_Col2', 'Aircaft_Model_Col3', 'country_city_Col2',\n",
        "       'country_city_Col3', 'country_city_Col4', 'country_city_Col5',\n",
        "       'Fatalities_Col2', 'Fatalities_Col3', 'Fatalities_Col4',\n",
        "       'Fatalities_Col5',]) "
      ],
      "metadata": {
        "id": "Xe5MUpZfK5TF"
      },
      "execution_count": null,
      "outputs": []
    },
    {
      "cell_type": "code",
      "source": [
        "web_data.columns"
      ],
      "metadata": {
        "colab": {
          "base_uri": "https://localhost:8080/"
        },
        "id": "khKK5eBmK_Mh",
        "outputId": "fe2f1bc3-aae9-4674-c019-ea13e80477b5"
      },
      "execution_count": null,
      "outputs": [
        {
          "output_type": "execute_result",
          "data": {
            "text/plain": [
              "Index(['date', 'Aircaft_Model', 'country_city', 'Fatalities'], dtype='object')"
            ]
          },
          "metadata": {},
          "execution_count": 7
        }
      ]
    },
    {
      "cell_type": "code",
      "source": [
        "#ลบข้อความที่ไม่จำเป็นออกใน Aircaft_Model\n",
        "web_data['Aircaft_Model'].replace('((,|nan))','',regex=True, inplace=True)\n",
        "web_data['Aircaft_Model'].replace('((crashes.{1,}|return.{1,}|a Stinson .{1,}|.{1,}airliner.{1,}|a Norwegian Air.{1,}))','',regex=True, inplace=True)\n",
        "web_data['Aircaft_Model'].replace('((disap.{1,}|a Catalina.{1,}|a Det Norske.{1,}|a Lockheed Constellation.{1,}|an Italian |Skymaster.{1,}|an Air Transport Charter |a British.{1,}))','',regex=True, inplace=True)\n",
        "web_data['Aircaft_Model'].replace('((a Swearingen Metroliner on.{1,}|a Horizon Air.{1,}|on approach.{1,}|chartered to.{1,}|cargo plane |\\(an Antonov An-140|operating for.{1,}|en route.{1,}))','',regex=True, inplace=True)\n",
        "web_data['Aircaft_Model'].replace('((flying from.{1,}| with 119.{1,}|carrying.{1,}|Super Constellation.{1,}|operating.{1,}|destined.{1,}|a Lockheed Constellation|a Lockheed Super Constellation))','',regex=True, inplace=True)\n",
        "web_data['Aircaft_Model'].replace('((operated by.{1,}|Services Fairchild.{1,}|with .{1,}| takeoff.{1,}|collides.{1,}|a bomb.{1,}a |suffers .{1,}|on a flight.{1,}|armed .{1,}|experiences.{1,}))','',regex=True, inplace=True)"
      ],
      "metadata": {
        "id": "-ePo6PKfFQFr"
      },
      "execution_count": null,
      "outputs": []
    },
    {
      "cell_type": "code",
      "source": [
        "#ลบข้อความที่ไม่จำเป็นออกใน country_city\n",
        "web_data['country_city'].replace('((nan,|nan))','',regex=True, inplace=True)\n",
        "web_data['country_city'].replace('((,$|\\s\\s$|;\\s$|,Japan$|;|\\.$|,Utah$|, Central America,| 2 passengers.{1,}|in sandstorm.{1,}|in poor.{1,}| and loses.{1,}|because.{1,}))','',regex=True, inplace=True)\n",
        "web_data['country_city'].replace('((and the .{1,}|,Alaskan|an island off the coast of ))','',regex=True, inplace=True)"
      ],
      "metadata": {
        "id": "KDISu45lLccz"
      },
      "execution_count": null,
      "outputs": []
    },
    {
      "cell_type": "code",
      "source": [
        "#ลบข้อความที่ไม่จำเป็นออกใน Fatalities\n",
        "web_data[ 'Fatalities'].replace('((nan,|nan))','',regex=True, inplace=True)\n",
        "web_data[ 'Fatalities'].replace('((on board.{1,}|of the.{1,}))','',regex=True, inplace=True)\n",
        "web_data[ 'Fatalities'].replace('((passengers.{1,}| occupants.{1,}))','',regex=True, inplace=True)\n",
        "web_data[ 'Fatalities'].replace('((people.{1,}|killing both crew members and all ))','',regex=True, inplace=True)\n",
        "web_data[ 'Fatalities'].replace('((on board|of.{1,}|onboard.{1,}| although.{1,}))','',regex=True, inplace=True)\n",
        "web_data[ 'Fatalities'].replace('((aboard.{1,}|crew.{1,}|all .{1,}but |and injuring.{1,}))','',regex=True, inplace=True)\n",
        "web_data[ 'Fatalities'].replace('((out.{1,}| but | aboard|on both .{1,}| passengers|with.{1,}| the pilot |1 passenger and |The captain.{1,}|All 108 survive.,.| when.{1,}))','',regex=True, inplace=True)\n",
        "web_data[ 'Fatalities'].replace('((killing both $|passenger die|occupant.,|the | passenger.|ally survivedie|1 flight.{1,}))','',regex=True, inplace=True)\n",
        "web_data[ 'Fatalities'].replace('((die,|die|The pilot and |\\(| and injures four | both pilots.| hostage.{1,}|y diagnosed.{1,}))','',regex=True, inplace=True)\n",
        "web_data[ 'Fatalities'].replace('((;|\\.| its |108 survive.,|,|and |andin.{1,}|seriously.{1,}|sole))','',regex=True, inplace=True)\n",
        "web_data[ 'Fatalities'].replace('(( are killed|All|all|killing|kills))','',regex=True, inplace=True)\n",
        "\n",
        "#เปลี่ยน string ให้เป็นตัวเลข บน Fatalities\n",
        "web_data[ 'Fatalities'].replace('(one|first)','1',regex=True, inplace=True)\n",
        "web_data[ 'Fatalities'].replace('([Tt]wo)','2',regex=True, inplace=True)\n",
        "web_data[ 'Fatalities'].replace('([Tt]hree)','3',regex=True, inplace=True)\n",
        "web_data[ 'Fatalities'].replace('([Ff]our)','4',regex=True, inplace=True)\n",
        "web_data[ 'Fatalities'].replace('([Ff]ive)','5',regex=True, inplace=True)\n",
        "web_data[ 'Fatalities'].replace('([Ss]ix)','6',regex=True, inplace=True)\n",
        "web_data[ 'Fatalities'].replace('(seven)','7',regex=True, inplace=True)\n",
        "web_data[ 'Fatalities'].replace('(eight)','8',regex=True, inplace=True)\n",
        "web_data[ 'Fatalities'].replace('(nine)','9',regex=True, inplace=True)\n",
        "web_data[ 'Fatalities'].replace('(thirteen)','13',regex=True, inplace=True)\n",
        "web_data[ 'Fatalities'].replace('(twelve)','12',regex=True, inplace=True)\n",
        "\n",
        "#ลบข้อความที่ไม่จำเป็นออกใน Fatalities\n",
        "web_data[ 'Fatalities'].replace('([a-z])','',regex=True, inplace=True)\n",
        "web_data[ 'Fatalities'].replace('(\\s)','',regex=True, inplace=True)"
      ],
      "metadata": {
        "id": "QxMb44HLOML1"
      },
      "execution_count": null,
      "outputs": []
    },
    {
      "cell_type": "markdown",
      "source": [
        "**แยก column country_city ออกเป็น 2 ส่วน**"
      ],
      "metadata": {
        "id": "dRV-IjYQKjqn"
      }
    },
    {
      "cell_type": "code",
      "source": [
        "web_data['country_city2'] = web_data['country_city'].str.extract('(,.{1,})')\n",
        "web_data['country_city'].replace('(,.{1,})','',regex=True, inplace=True)\n",
        "web_data['country_city'].replace('(\\s\\s)','',regex=True, inplace=True)\n",
        "web_data['country_city'].replace('((\\.$|\\.\\s|\\s\\.))','',regex=True, inplace=True)\n",
        "\n",
        "#เอาข้อความที่ไม่จำเป็นออก\n",
        "web_data['country_city2'].replace('(,)','',regex=True, inplace=True)\n",
        "web_data['country_city2'].replace('((\\s\\s|\\.))','',regex=True, inplace=True)"
      ],
      "metadata": {
        "id": "Mg3PePJ1H8kJ"
      },
      "execution_count": null,
      "outputs": []
    },
    {
      "cell_type": "code",
      "source": [
        "web_data.dtypes"
      ],
      "metadata": {
        "colab": {
          "base_uri": "https://localhost:8080/"
        },
        "id": "4ZbO6NlNM6Df",
        "outputId": "88150cf4-c033-4f85-ecbc-994c86f4c655"
      },
      "execution_count": null,
      "outputs": [
        {
          "output_type": "execute_result",
          "data": {
            "text/plain": [
              "date             object\n",
              "Aircaft_Model    object\n",
              "country_city     object\n",
              "Fatalities       object\n",
              "country_city2    object\n",
              "dtype: object"
            ]
          },
          "metadata": {},
          "execution_count": 48
        }
      ]
    },
    {
      "cell_type": "code",
      "source": [
        "web_data.head()"
      ],
      "metadata": {
        "id": "NYsrDmm3SOVn"
      },
      "execution_count": null,
      "outputs": []
    },
    {
      "cell_type": "code",
      "source": [
        "!pip install geonamescache  # library   geonamescache ใช้เพื่อ get ข้อมูลชื่อประเทศทั้งหมดทั่วโลก "
      ],
      "metadata": {
        "colab": {
          "base_uri": "https://localhost:8080/"
        },
        "id": "UO9RH_q3RoWC",
        "outputId": "89d1bdcf-e483-4175-db98-3d9981c38656"
      },
      "execution_count": null,
      "outputs": [
        {
          "output_type": "stream",
          "name": "stdout",
          "text": [
            "Requirement already satisfied: geonamescache in /usr/local/lib/python3.7/dist-packages (1.3.0)\n"
          ]
        }
      ]
    },
    {
      "cell_type": "code",
      "source": [
        "import geonamescache #import   geonamescache \n",
        "\n",
        "gc = geonamescache.GeonamesCache() #create object\n",
        "countries = gc.get_countries() # get ข้อมูลประเทศทั่วโลกที่เป็น dict\n",
        "list_countries = [] # สร้าง list มาเก็บชื่อประเทศ\n",
        "\n",
        "for item in countries.values():\n",
        "  list_countries.append(item['name']) # เพิ่มรายชื่อประเทศเข้าไปใน list_countries"
      ],
      "metadata": {
        "id": "3VylemT9R6Iq"
      },
      "execution_count": null,
      "outputs": []
    },
    {
      "cell_type": "code",
      "source": [
        "list_countries.append('England')"
      ],
      "metadata": {
        "id": "6D7g-Eq5VAB6"
      },
      "execution_count": null,
      "outputs": []
    },
    {
      "cell_type": "code",
      "source": [
        "# แยก country และ  city ออกจากคอลัมน์  country_city\n",
        "for idx, row in web_data.iterrows():\n",
        "  text = str(row.country_city).strip()\n",
        "  if text != 'nan':\n",
        "    if text in list_countries :\n",
        "      web_data.loc[[idx],'country'] = text\n",
        "    else :\n",
        "      web_data.loc[[idx],'city'] = text"
      ],
      "metadata": {
        "id": "fz74Rt6ld7OV"
      },
      "execution_count": null,
      "outputs": []
    },
    {
      "cell_type": "code",
      "source": [
        "# แยก country และ  city ออกจากคอลัมน์  country_city2\n",
        "for idx, row in web_data.iterrows():\n",
        "  text = str(row.country_city2).strip()\n",
        "  if text != 'nan':\n",
        "    if text in list_countries :\n",
        "      web_data.loc[[idx],'country'] = text\n",
        "    else :\n",
        "      web_data.loc[[idx],'city'] = text"
      ],
      "metadata": {
        "id": "ypbKtgjiT-55"
      },
      "execution_count": null,
      "outputs": []
    },
    {
      "cell_type": "code",
      "source": [
        "web_data = web_data.drop(columns=[ 'country_city','country_city2'])"
      ],
      "metadata": {
        "id": "H_ABpQlqdlLZ"
      },
      "execution_count": null,
      "outputs": []
    },
    {
      "cell_type": "code",
      "source": [
        "web_data.columns"
      ],
      "metadata": {
        "colab": {
          "base_uri": "https://localhost:8080/"
        },
        "id": "BXGd8NDGc3mf",
        "outputId": "7e7dfec8-4b85-482e-8de9-747e018292f5"
      },
      "execution_count": null,
      "outputs": [
        {
          "output_type": "execute_result",
          "data": {
            "text/plain": [
              "Index(['date', 'Aircaft_Model', 'Fatalities', 'city', 'country'], dtype='object')"
            ]
          },
          "metadata": {},
          "execution_count": 76
        }
      ]
    },
    {
      "cell_type": "code",
      "source": [
        "web_data.to_csv(\"web_dataV3.csv\") # บันทึกไฟล์แล้วนำไปอัพลงไดร์ฟ"
      ],
      "metadata": {
        "id": "v65VCi-4dIYw"
      },
      "execution_count": null,
      "outputs": []
    },
    {
      "cell_type": "markdown",
      "source": [
        "# **Clean data from web scraping Part 3**"
      ],
      "metadata": {
        "id": "O1G6HYm8dNRF"
      }
    },
    {
      "cell_type": "code",
      "source": [
        "!gdown --id 1XrbXOxArFMHQInw6SpyGBmp0RE8p9QRH"
      ],
      "metadata": {
        "colab": {
          "base_uri": "https://localhost:8080/"
        },
        "id": "4rozwWbhdSJt",
        "outputId": "97dce23f-4e7d-4b53-f028-8e0ccff2795b"
      },
      "execution_count": null,
      "outputs": [
        {
          "output_type": "stream",
          "name": "stdout",
          "text": [
            "Downloading...\n",
            "From: https://drive.google.com/uc?id=1XrbXOxArFMHQInw6SpyGBmp0RE8p9QRH\n",
            "To: /content/web_dataV3.csv\n",
            "\r  0% 0.00/56.1k [00:00<?, ?B/s]\r100% 56.1k/56.1k [00:00<00:00, 36.9MB/s]\n"
          ]
        }
      ]
    },
    {
      "cell_type": "code",
      "source": [
        "import pandas as pd\n",
        "web_data = pd.read_csv(\"web_dataV3.csv\")\n",
        "web_data = web_data.drop(columns=[ 'Unnamed: 0'])\n",
        "web_data.head()"
      ],
      "metadata": {
        "colab": {
          "base_uri": "https://localhost:8080/",
          "height": 206
        },
        "id": "7eRwUA2TdsbH",
        "outputId": "44d8af08-f1cf-4a11-e5e7-158d4947e6d0"
      },
      "execution_count": null,
      "outputs": [
        {
          "output_type": "execute_result",
          "data": {
            "text/plain": [
              "           date                Aircaft_Model  Fatalities      city country\n",
              "0      July 21                           NaN        13.0  Illinois     NaN\n",
              "1     August 2                           NaN        14.0     Milan   Italy\n",
              "2  December 14                           NaN         4.0    London     NaN\n",
              "3      April 7   a de Havilland DH.18AG-EAWO         7.0       NaN  France\n",
              "4       May 14                           NaN         6.0     Somme  France"
            ],
            "text/html": [
              "\n",
              "  <div id=\"df-f78fee5b-6b5a-43d4-bb6e-1237dd5fad8c\">\n",
              "    <div class=\"colab-df-container\">\n",
              "      <div>\n",
              "<style scoped>\n",
              "    .dataframe tbody tr th:only-of-type {\n",
              "        vertical-align: middle;\n",
              "    }\n",
              "\n",
              "    .dataframe tbody tr th {\n",
              "        vertical-align: top;\n",
              "    }\n",
              "\n",
              "    .dataframe thead th {\n",
              "        text-align: right;\n",
              "    }\n",
              "</style>\n",
              "<table border=\"1\" class=\"dataframe\">\n",
              "  <thead>\n",
              "    <tr style=\"text-align: right;\">\n",
              "      <th></th>\n",
              "      <th>date</th>\n",
              "      <th>Aircaft_Model</th>\n",
              "      <th>Fatalities</th>\n",
              "      <th>city</th>\n",
              "      <th>country</th>\n",
              "    </tr>\n",
              "  </thead>\n",
              "  <tbody>\n",
              "    <tr>\n",
              "      <th>0</th>\n",
              "      <td>July 21</td>\n",
              "      <td>NaN</td>\n",
              "      <td>13.0</td>\n",
              "      <td>Illinois</td>\n",
              "      <td>NaN</td>\n",
              "    </tr>\n",
              "    <tr>\n",
              "      <th>1</th>\n",
              "      <td>August 2</td>\n",
              "      <td>NaN</td>\n",
              "      <td>14.0</td>\n",
              "      <td>Milan</td>\n",
              "      <td>Italy</td>\n",
              "    </tr>\n",
              "    <tr>\n",
              "      <th>2</th>\n",
              "      <td>December 14</td>\n",
              "      <td>NaN</td>\n",
              "      <td>4.0</td>\n",
              "      <td>London</td>\n",
              "      <td>NaN</td>\n",
              "    </tr>\n",
              "    <tr>\n",
              "      <th>3</th>\n",
              "      <td>April 7</td>\n",
              "      <td>a de Havilland DH.18AG-EAWO</td>\n",
              "      <td>7.0</td>\n",
              "      <td>NaN</td>\n",
              "      <td>France</td>\n",
              "    </tr>\n",
              "    <tr>\n",
              "      <th>4</th>\n",
              "      <td>May 14</td>\n",
              "      <td>NaN</td>\n",
              "      <td>6.0</td>\n",
              "      <td>Somme</td>\n",
              "      <td>France</td>\n",
              "    </tr>\n",
              "  </tbody>\n",
              "</table>\n",
              "</div>\n",
              "      <button class=\"colab-df-convert\" onclick=\"convertToInteractive('df-f78fee5b-6b5a-43d4-bb6e-1237dd5fad8c')\"\n",
              "              title=\"Convert this dataframe to an interactive table.\"\n",
              "              style=\"display:none;\">\n",
              "        \n",
              "  <svg xmlns=\"http://www.w3.org/2000/svg\" height=\"24px\"viewBox=\"0 0 24 24\"\n",
              "       width=\"24px\">\n",
              "    <path d=\"M0 0h24v24H0V0z\" fill=\"none\"/>\n",
              "    <path d=\"M18.56 5.44l.94 2.06.94-2.06 2.06-.94-2.06-.94-.94-2.06-.94 2.06-2.06.94zm-11 1L8.5 8.5l.94-2.06 2.06-.94-2.06-.94L8.5 2.5l-.94 2.06-2.06.94zm10 10l.94 2.06.94-2.06 2.06-.94-2.06-.94-.94-2.06-.94 2.06-2.06.94z\"/><path d=\"M17.41 7.96l-1.37-1.37c-.4-.4-.92-.59-1.43-.59-.52 0-1.04.2-1.43.59L10.3 9.45l-7.72 7.72c-.78.78-.78 2.05 0 2.83L4 21.41c.39.39.9.59 1.41.59.51 0 1.02-.2 1.41-.59l7.78-7.78 2.81-2.81c.8-.78.8-2.07 0-2.86zM5.41 20L4 18.59l7.72-7.72 1.47 1.35L5.41 20z\"/>\n",
              "  </svg>\n",
              "      </button>\n",
              "      \n",
              "  <style>\n",
              "    .colab-df-container {\n",
              "      display:flex;\n",
              "      flex-wrap:wrap;\n",
              "      gap: 12px;\n",
              "    }\n",
              "\n",
              "    .colab-df-convert {\n",
              "      background-color: #E8F0FE;\n",
              "      border: none;\n",
              "      border-radius: 50%;\n",
              "      cursor: pointer;\n",
              "      display: none;\n",
              "      fill: #1967D2;\n",
              "      height: 32px;\n",
              "      padding: 0 0 0 0;\n",
              "      width: 32px;\n",
              "    }\n",
              "\n",
              "    .colab-df-convert:hover {\n",
              "      background-color: #E2EBFA;\n",
              "      box-shadow: 0px 1px 2px rgba(60, 64, 67, 0.3), 0px 1px 3px 1px rgba(60, 64, 67, 0.15);\n",
              "      fill: #174EA6;\n",
              "    }\n",
              "\n",
              "    [theme=dark] .colab-df-convert {\n",
              "      background-color: #3B4455;\n",
              "      fill: #D2E3FC;\n",
              "    }\n",
              "\n",
              "    [theme=dark] .colab-df-convert:hover {\n",
              "      background-color: #434B5C;\n",
              "      box-shadow: 0px 1px 3px 1px rgba(0, 0, 0, 0.15);\n",
              "      filter: drop-shadow(0px 1px 2px rgba(0, 0, 0, 0.3));\n",
              "      fill: #FFFFFF;\n",
              "    }\n",
              "  </style>\n",
              "\n",
              "      <script>\n",
              "        const buttonEl =\n",
              "          document.querySelector('#df-f78fee5b-6b5a-43d4-bb6e-1237dd5fad8c button.colab-df-convert');\n",
              "        buttonEl.style.display =\n",
              "          google.colab.kernel.accessAllowed ? 'block' : 'none';\n",
              "\n",
              "        async function convertToInteractive(key) {\n",
              "          const element = document.querySelector('#df-f78fee5b-6b5a-43d4-bb6e-1237dd5fad8c');\n",
              "          const dataTable =\n",
              "            await google.colab.kernel.invokeFunction('convertToInteractive',\n",
              "                                                     [key], {});\n",
              "          if (!dataTable) return;\n",
              "\n",
              "          const docLinkHtml = 'Like what you see? Visit the ' +\n",
              "            '<a target=\"_blank\" href=https://colab.research.google.com/notebooks/data_table.ipynb>data table notebook</a>'\n",
              "            + ' to learn more about interactive tables.';\n",
              "          element.innerHTML = '';\n",
              "          dataTable['output_type'] = 'display_data';\n",
              "          await google.colab.output.renderOutput(dataTable, element);\n",
              "          const docLink = document.createElement('div');\n",
              "          docLink.innerHTML = docLinkHtml;\n",
              "          element.appendChild(docLink);\n",
              "        }\n",
              "      </script>\n",
              "    </div>\n",
              "  </div>\n",
              "  "
            ]
          },
          "metadata": {},
          "execution_count": 137
        }
      ]
    },
    {
      "cell_type": "code",
      "source": [
        "web_data['city'].replace('((United States| in Canada|England|^in\\s| in Northern Italy| & Labrador))','',regex=True, inplace=True)"
      ],
      "metadata": {
        "id": "KfyuRaxxrSEu"
      },
      "execution_count": null,
      "outputs": []
    },
    {
      "cell_type": "markdown",
      "source": [
        "**จัดการ column country**"
      ],
      "metadata": {
        "id": "pJjYvHR3Arwz"
      }
    },
    {
      "cell_type": "code",
      "source": [
        "web_data['country'].isna().sum()"
      ],
      "metadata": {
        "colab": {
          "base_uri": "https://localhost:8080/"
        },
        "id": "BwsP7X94eNwa",
        "outputId": "267d3ac2-2776-47bb-efee-2a0794a0bd23"
      },
      "execution_count": null,
      "outputs": [
        {
          "output_type": "execute_result",
          "data": {
            "text/plain": [
              "866"
            ]
          },
          "metadata": {},
          "execution_count": 139
        }
      ]
    },
    {
      "cell_type": "code",
      "source": [
        "#สร้าง list_city เพื่อนำข้อมูล city ใน web_data ที่ column country ว่าง\n",
        "list_city = []\n",
        "for idx, row in web_data.iterrows():\n",
        "    if str(row.country).strip() == 'nan':\n",
        "      if str(row.city).strip() != 'nan':\n",
        "            list_city.append(str(row.city))\n"
      ],
      "metadata": {
        "id": "wx4diD6ripmr"
      },
      "execution_count": null,
      "outputs": []
    },
    {
      "cell_type": "code",
      "source": [
        "list_city"
      ],
      "metadata": {
        "id": "f-D1V1n6sUV5"
      },
      "execution_count": null,
      "outputs": []
    },
    {
      "cell_type": "code",
      "source": [
        "#เพิ่ม values ให้กับ columns country โดยอ้างอิงจาก list_city\n",
        "# print(web_data.loc[web_data['city'] == 'Belgium']['city']) #Belgium #28\n",
        "# print(web_data.loc[web_data['city'] == 'Lagos']['city']) #Nigeria #1279\n",
        "# print(web_data.loc[web_data['city'] == 'Republic of Ireland']['city']) #Ireland #1227\n",
        "# print(web_data.loc[web_data['city'] == 'Karachi']['city']) #Pakistan #1220\n",
        "# print(web_data.loc[web_data['city'] == 'Trinidad']['city'])#Trinidad #65\n",
        "# print(web_data.loc[web_data['city'] == 'Addis Ababa']['city']) #Ethiopia #1198\n",
        "# print(web_data.loc[web_data['city'] == 'Sicily']['city']) #Italy # 1091\n",
        "# print(web_data.loc[web_data['city'] == 'Soviet Union']['city']) #Soviet Union #121, 432, 434, 559, 567\n",
        "# print(web_data.loc[web_data['city'] =='Buenos Aires']['city']) #Argentina #256\n",
        "# print(web_data.loc[web_data['city'] =='Czechoslovakia']['city']) #Czechoslovakia #353, 364\n",
        "# print(web_data.loc[web_data['city'] =='Taipei County']['city']) #Taiwan # 372\n",
        "# print(web_data.loc[web_data['city'] =='South West Africa']['city']) #South West Africa #377\n",
        "# print(web_data.loc[web_data['city'] =='South Vietnam']['city']) #Vietnam #466\n",
        "# print(web_data.loc[web_data['city'] =='Fornebu']['city']) #Norway #479\n",
        "# print(web_data.loc[web_data['city'] =='Yugoslavia']['city']) #Yugoslavia #551, 921\n",
        "# print(web_data.loc[web_data['city'] =='western Stockholm']['city']) #Sweden #560\n",
        "# print(web_data.loc[web_data['city'] =='Corsica']['city']) #French #646\n",
        "# print(web_data.loc[web_data['city'] =='Benguet']['city']) #Philippine #744\n",
        "# print(web_data.loc[web_data['city'] =='Brasilia']['city']) #Brazil #803\n",
        "# print(web_data.loc[web_data['city'] =='South America']['city']) #South America #1085\n",
        "# print(web_data.loc[web_data['city'] =='North Island']['city']) #New Zealand #1086\n",
        "\n",
        "#แก้ไขค่าว่าง\n",
        "web_data.loc[[28],['country']] = \"Belgium\"\n",
        "web_data.loc[[1279],['country']] = \"Nigeria\"\n",
        "web_data.loc[[1227],['country']] = \"Ireland\"\n",
        "web_data.loc[[1220],['country']] = \"Pakistan\"\n",
        "web_data.loc[[65],['country']] = \"Trinidad\"\n",
        "web_data.loc[[1198],['country']] = \"Ethiopia\"\n",
        "web_data.loc[[121, 432, 434, 559, 567],['country']] = \"Soviet Union\"\n",
        "web_data.loc[[256],['country']] = \"Argentina\"\n",
        "web_data.loc[[353, 364],['country']] = \"Czechoslovakia\"\n",
        "web_data.loc[[372],['country']] = \"Taiwan\"\n",
        "web_data.loc[[377],['country']] = \"South West Africa\"\n",
        "web_data.loc[[466],['country']] = \"Vietnam\"\n",
        "web_data.loc[[479],['country']] = \"Norway\"\n",
        "web_data.loc[[551, 921],['country']] = \"Yugoslavia\"\n",
        "web_data.loc[[560],['country']] = \"Sweden\"\n",
        "web_data.loc[[646],['country']] = \"French\"\n",
        "web_data.loc[[744],['country']] = \"Philippine\"\n",
        "web_data.loc[[803],['country']] = \"Brazil\"\n",
        "web_data.loc[[1085],['country']] = \"South America\"\n",
        "web_data.loc[[1086],['country']] = \"New Zealand\""
      ],
      "metadata": {
        "id": "rIKbzrbuG_ok"
      },
      "execution_count": null,
      "outputs": []
    },
    {
      "cell_type": "code",
      "source": [
        "United_States = ['Illinois', 'Kansas', 'Wyoming', 'Arkansas', 'Arizona', 'southeast of New York', 'Nevada', 'California', 'Pennsylvania', 'Minnesota', 'Florida', 'Colorado', 'New York', 'Hawaii', 'Ohio', 'New Mexico', 'Missouri', 'Michigan', 'Tennessee', 'New York City', 'Maryland', 'Texas', 'Virginia', 'North Carolina', 'Utah', 'Nebraska', 'Oregon', 'Kentucky', 'New Hampshire', 'Indiana', 'Massachusetts', 'Virgin Islands', 'Washington', 'D.C', 'Coronado', 'South Carolina', 'Maine', 'South Dakota', 'Shetland Islands', 'Alabama', 'Las Vegas', 'Ypsilanti', 'Oahu']\n",
        "England = ['London', 'Kent', 'Alaska', 'Warwickshire', 'Scotland', 'UK', 'Lancashire', 'Middlesex', 'Leicestershire']\n",
        "Australia = ['Western Australia', 'Tasmania', 'New South Wales']\n",
        "Canada = ['Victoria', 'Newfoundland', 'Quebec', 'British Columbia', 'New Brunswick', 'Nova Scotia', 'Ontario']\n",
        "Russia = ['Krasnoyarsk Krai', 'Nanaysky District', 'Leningrad (now StPetersburg)', 'Moscow']\n",
        "Span = ['Tenerife', 'Montrove']\n",
        "Japan = ['Shikoku', 'Fukuoka'] \n",
        "Germany = ['Berlin', 'West Germany']\n",
        "China = ['Lienchiang', 'Wuhan', 'Heilongjiang']\n",
        "Congo = ['Democratic Republic of Congo', 'Republic of Congo']"
      ],
      "metadata": {
        "id": "GilGKNQwRJ_B"
      },
      "execution_count": null,
      "outputs": []
    },
    {
      "cell_type": "code",
      "source": [
        "for idx, row in web_data.iterrows():\n",
        " if str(row.country).strip() == 'nan':\n",
        "      if str(row.city).strip() != 'nan':\n",
        "            if str(row.city).strip() in United_States : \n",
        "              web_data.loc[[idx],['country']] = \"United States\"\n",
        "            elif str(row.city).strip() in England:\n",
        "              web_data.loc[[idx],['country']] = \"England\"\n",
        "            elif str(row.city).strip() in Australia:\n",
        "              web_data.loc[[idx],['country']] = \"Australia\"\n",
        "            elif str(row.city).strip() in Canada:\n",
        "              web_data.loc[[idx],['country']] = \"Canada\"\n",
        "            elif str(row.city).strip() in Russia:\n",
        "              web_data.loc[[idx],['country']] = \"Russia\"\n",
        "            elif str(row.city).strip() in Span:\n",
        "              web_data.loc[[idx],['country']] = \"Span\"\n",
        "            elif str(row.city).strip() in Japan:\n",
        "              web_data.loc[[idx],['country']] = \"Japan\"\n",
        "            elif str(row.city).strip() in Germany:\n",
        "              web_data.loc[[idx],['country']] = \"Germany\"\n",
        "            elif str(row.city).strip() in China:\n",
        "              web_data.loc[[idx],['country']] = \"China\"\n",
        "            elif str(row.city).strip() in Congo:\n",
        "              web_data.loc[[idx],['country']] = \"Congo\""
      ],
      "metadata": {
        "id": "qt66N5Vf19uI"
      },
      "execution_count": null,
      "outputs": []
    },
    {
      "cell_type": "code",
      "source": [
        "web_data['country'].isna().sum()"
      ],
      "metadata": {
        "colab": {
          "base_uri": "https://localhost:8080/"
        },
        "id": "SwwLUH-aTorA",
        "outputId": "a628f050-cc33-421d-f2e2-9a74c3ededb7"
      },
      "execution_count": null,
      "outputs": [
        {
          "output_type": "execute_result",
          "data": {
            "text/plain": [
              "658"
            ]
          },
          "metadata": {},
          "execution_count": 144
        }
      ]
    },
    {
      "cell_type": "code",
      "source": [
        "!gdown --id 1_BrLI1eUCO21WVwpVNwvcXjgqVDdXbmo "
      ],
      "metadata": {
        "colab": {
          "base_uri": "https://localhost:8080/"
        },
        "id": "Swj8pF6e-7h-",
        "outputId": "c1600d0f-9b60-412b-d419-219cc4d2ca9d"
      },
      "execution_count": null,
      "outputs": [
        {
          "output_type": "stream",
          "name": "stdout",
          "text": [
            "Downloading...\n",
            "From: https://drive.google.com/uc?id=1_BrLI1eUCO21WVwpVNwvcXjgqVDdXbmo\n",
            "To: /content/country.csv\n",
            "\r  0% 0.00/6.03k [00:00<?, ?B/s]\r100% 6.03k/6.03k [00:00<00:00, 9.65MB/s]\n"
          ]
        }
      ]
    },
    {
      "cell_type": "code",
      "source": [
        "country = pd.read_csv(\"country.csv\",encoding = \"ISO-8859-1\")\n",
        "country = country.set_index('index')\n",
        "for idx,row in country.iterrows(): #เพิ่มข้อมูลที่เป็นค่าว่าง ใน columns ciuntry\n",
        "    web_data.loc[[idx],'country'] = row.country"
      ],
      "metadata": {
        "id": "OKQ0wLn09OT2"
      },
      "execution_count": null,
      "outputs": []
    },
    {
      "cell_type": "code",
      "source": [
        "web_data['country'].isna().sum() #จะเหลือค่าว่างของ column country"
      ],
      "metadata": {
        "colab": {
          "base_uri": "https://localhost:8080/"
        },
        "id": "6rg8etgc-tpf",
        "outputId": "7251ec58-cc22-42e2-8abc-efa520151f81"
      },
      "execution_count": null,
      "outputs": [
        {
          "output_type": "execute_result",
          "data": {
            "text/plain": [
              "432"
            ]
          },
          "metadata": {},
          "execution_count": 146
        }
      ]
    },
    {
      "cell_type": "code",
      "source": [
        "web_data = web_data.drop(columns=['city'])"
      ],
      "metadata": {
        "id": "Fr8rwTyO_RO-"
      },
      "execution_count": null,
      "outputs": []
    },
    {
      "cell_type": "code",
      "source": [
        "web_data"
      ],
      "metadata": {
        "id": "OoUDjA_XAFdp"
      },
      "execution_count": null,
      "outputs": []
    },
    {
      "cell_type": "markdown",
      "source": [
        "**จัดการ column year**"
      ],
      "metadata": {
        "id": "0gPOyTTOAx6A"
      }
    },
    {
      "cell_type": "code",
      "source": [
        "!gdown --id 1S4cO2sazm_uGgDzDbLDyQe-P-Q29IYKi"
      ],
      "metadata": {
        "colab": {
          "base_uri": "https://localhost:8080/"
        },
        "id": "yrayT5YtZAOI",
        "outputId": "2e96dedd-f5e9-4802-8d7a-874e7752e241"
      },
      "execution_count": null,
      "outputs": [
        {
          "output_type": "stream",
          "name": "stdout",
          "text": [
            "Downloading...\n",
            "From: https://drive.google.com/uc?id=1S4cO2sazm_uGgDzDbLDyQe-P-Q29IYKi\n",
            "To: /content/year2.xlsx\n",
            "\r  0% 0.00/10.8k [00:00<?, ?B/s]\r100% 10.8k/10.8k [00:00<00:00, 9.94MB/s]\n"
          ]
        }
      ]
    },
    {
      "cell_type": "code",
      "source": [
        "year = pd.read_excel(\"year2.xlsx\")"
      ],
      "metadata": {
        "id": "ZAotAqcUZNvG"
      },
      "execution_count": null,
      "outputs": []
    },
    {
      "cell_type": "code",
      "source": [
        "year.columns"
      ],
      "metadata": {
        "colab": {
          "base_uri": "https://localhost:8080/"
        },
        "id": "8szNiKM6Z4RS",
        "outputId": "f1907c0f-f4e9-4201-d654-e8f2245c2326"
      },
      "execution_count": null,
      "outputs": [
        {
          "output_type": "execute_result",
          "data": {
            "text/plain": [
              "Index(['start', 'end', 'year'], dtype='object')"
            ]
          },
          "metadata": {},
          "execution_count": 149
        }
      ]
    },
    {
      "cell_type": "code",
      "source": [
        "import numpy as np\n",
        "#สร้างคอลัมน์ year ให้กับ web_data \n",
        "for idx,row in year.iterrows():\n",
        "  start = row.start\n",
        "  end = row.end\n",
        "  year = row.year\n",
        "  if start == end :\n",
        "    web_data.loc[[start],'Year'] = year\n",
        "  else:\n",
        "    web_data.loc[np.arange(start,end+1),'Year'] = year"
      ],
      "metadata": {
        "id": "oVZXZi3eZp2h"
      },
      "execution_count": null,
      "outputs": []
    },
    {
      "cell_type": "code",
      "source": [
        "web_data = web_data[['date', 'Year', 'Aircaft_Model', 'Fatalities','country']] #เรียงคอลัมน์ใหม่"
      ],
      "metadata": {
        "id": "HYHTnLS7aCu-"
      },
      "execution_count": null,
      "outputs": []
    },
    {
      "cell_type": "markdown",
      "source": [
        "**จัดการกับ columns Fatalities**"
      ],
      "metadata": {
        "id": "md_UX20fcVYU"
      }
    },
    {
      "cell_type": "code",
      "source": [
        "web_data['Fatalities'] = web_data['Fatalities'].fillna(0) #แทนที่ค่าว่างด้วย 0"
      ],
      "metadata": {
        "id": "TLzCb83sf8ga"
      },
      "execution_count": null,
      "outputs": []
    },
    {
      "cell_type": "code",
      "source": [
        "web_data"
      ],
      "metadata": {
        "id": "k0qwMAiggHBj"
      },
      "execution_count": null,
      "outputs": []
    },
    {
      "cell_type": "markdown",
      "source": [
        "**จัดการกับ columns Aircaft_Model**"
      ],
      "metadata": {
        "id": "_nU3V1gigROw"
      }
    },
    {
      "cell_type": "code",
      "source": [
        "# ตัดคำออก\n",
        "web_data['Aircaft_Model'].replace('((^a\\s|^an\\s))','',regex=True, inplace=True)"
      ],
      "metadata": {
        "id": "cFqw6chbhNQs"
      },
      "execution_count": null,
      "outputs": []
    },
    {
      "cell_type": "code",
      "source": [
        "web_data['Aircaft_Model'].isna().sum() #เช็คจำนวนค่าว่างใน column Aircraft_Model"
      ],
      "metadata": {
        "colab": {
          "base_uri": "https://localhost:8080/"
        },
        "id": "E4dSx4pliR7k",
        "outputId": "1acb4f7c-f900-4ba5-aa6e-0c9b36e96391"
      },
      "execution_count": null,
      "outputs": [
        {
          "output_type": "execute_result",
          "data": {
            "text/plain": [
              "197"
            ]
          },
          "metadata": {},
          "execution_count": 154
        }
      ]
    },
    {
      "cell_type": "code",
      "source": [
        "!gdown --id 1lzALN8va-SqUhBimqFAppuiYNlA6rlkE"
      ],
      "metadata": {
        "colab": {
          "base_uri": "https://localhost:8080/"
        },
        "id": "4KRUqcMX7zDb",
        "outputId": "2ed4c465-870a-4a06-a74e-42b2ad34eabf"
      },
      "execution_count": null,
      "outputs": [
        {
          "output_type": "stream",
          "name": "stdout",
          "text": [
            "Downloading...\n",
            "From: https://drive.google.com/uc?id=1lzALN8va-SqUhBimqFAppuiYNlA6rlkE\n",
            "To: /content/AircraftModel.xlsx\n",
            "\r  0% 0.00/17.2k [00:00<?, ?B/s]\r100% 17.2k/17.2k [00:00<00:00, 23.9MB/s]\n"
          ]
        }
      ]
    },
    {
      "cell_type": "code",
      "source": [
        "Aircraft = pd.read_excel(\"AircraftModel.xlsx\")\n",
        "Aircraft = Aircraft.set_index('idx')\n",
        "Aircraft.columns"
      ],
      "metadata": {
        "colab": {
          "base_uri": "https://localhost:8080/"
        },
        "id": "6XIZALek8RY6",
        "outputId": "7f2a5602-48a9-4256-f78c-3f43b752270c"
      },
      "execution_count": null,
      "outputs": [
        {
          "output_type": "execute_result",
          "data": {
            "text/plain": [
              "Index(['date', 'Year', 'model'], dtype='object')"
            ]
          },
          "metadata": {},
          "execution_count": 155
        }
      ]
    },
    {
      "cell_type": "code",
      "source": [
        "for idx, row in Aircraft.iterrows():\n",
        "  web_data.loc[[idx], 'Aircaft_Model'] = str(row.model).strip()"
      ],
      "metadata": {
        "id": "ZmedD25B8ge0"
      },
      "execution_count": null,
      "outputs": []
    },
    {
      "cell_type": "code",
      "source": [
        "web_data['Aircaft_Model'].isna().sum() #เช็คจำนวนค่าว่างใน column Aircraft_Model"
      ],
      "metadata": {
        "colab": {
          "base_uri": "https://localhost:8080/"
        },
        "id": "V82wyty89QDh",
        "outputId": "37d88b5e-32cb-4b97-9fa1-bee0d51cb4a0"
      },
      "execution_count": null,
      "outputs": [
        {
          "output_type": "execute_result",
          "data": {
            "text/plain": [
              "0"
            ]
          },
          "metadata": {},
          "execution_count": 157
        }
      ]
    },
    {
      "cell_type": "markdown",
      "source": [
        "**จัดการ column date**"
      ],
      "metadata": {
        "id": "yz-C4TXWh2TS"
      }
    },
    {
      "cell_type": "code",
      "source": [
        "#สร้าง column month\n",
        "web_data[\"Month\"] =web_data['date'].str.extract('([A-z]{1,})') \n",
        "web_data['date'].replace('([A-z]{1,})','',regex=True, inplace=True)"
      ],
      "metadata": {
        "id": "CrROjYVLjAKE"
      },
      "execution_count": null,
      "outputs": []
    },
    {
      "cell_type": "code",
      "source": [
        "#ลบช่องว่างใน coumn date\n",
        "web_data['date'].replace('(\\s)','',regex=True, inplace=True)"
      ],
      "metadata": {
        "id": "mXPYueg7jl3H"
      },
      "execution_count": null,
      "outputs": []
    },
    {
      "cell_type": "code",
      "source": [
        "web_data.dtypes"
      ],
      "metadata": {
        "colab": {
          "base_uri": "https://localhost:8080/"
        },
        "id": "K0_lKNCeh6h2",
        "outputId": "1ddc08e0-95b5-4fe2-fc2a-c18ebbb55432"
      },
      "execution_count": null,
      "outputs": [
        {
          "output_type": "execute_result",
          "data": {
            "text/plain": [
              "date              object\n",
              "Year             float64\n",
              "Aircaft_Model     object\n",
              "Fatalities       float64\n",
              "country           object\n",
              "Month             object\n",
              "dtype: object"
            ]
          },
          "metadata": {},
          "execution_count": 160
        }
      ]
    },
    {
      "cell_type": "code",
      "source": [
        "#เปลี่ยนชนิดข้อมูล\n",
        "web_data = web_data.astype({'Year':'int32'})\n",
        "web_data = web_data.astype({'Year':'object'})"
      ],
      "metadata": {
        "id": "SsBzmG9wkSbY"
      },
      "execution_count": null,
      "outputs": []
    },
    {
      "cell_type": "code",
      "source": [
        "web_data"
      ],
      "metadata": {
        "id": "XYcyDEqbkfte"
      },
      "execution_count": null,
      "outputs": []
    },
    {
      "cell_type": "code",
      "source": [
        "#สร้าง column Incident_Date\n",
        "web_data['Incident_Date'] =  web_data['date'].map(str) + '-' + web_data['Month'].map(str) + '-' + web_data['Year'].map(str)"
      ],
      "metadata": {
        "id": "49k2Qlc6qrfk"
      },
      "execution_count": null,
      "outputs": []
    },
    {
      "cell_type": "code",
      "source": [
        "web_data = web_data.drop(columns=['date','Month','Year'])"
      ],
      "metadata": {
        "id": "dDu_tpiWr0Ym"
      },
      "execution_count": null,
      "outputs": []
    },
    {
      "cell_type": "code",
      "source": [
        "web_data = web_data[['Incident_Date', 'Aircaft_Model', 'Fatalities', 'country']]"
      ],
      "metadata": {
        "id": "j5HVo6LEs75f"
      },
      "execution_count": null,
      "outputs": []
    },
    {
      "cell_type": "code",
      "source": [
        "web_data['Fatalities'] = web_data['Fatalities'].astype('int32')"
      ],
      "metadata": {
        "id": "JtEXVXWmtM3H"
      },
      "execution_count": null,
      "outputs": []
    },
    {
      "cell_type": "code",
      "source": [
        "web_data"
      ],
      "metadata": {
        "colab": {
          "base_uri": "https://localhost:8080/",
          "height": 423
        },
        "id": "Qf5TOB_ut830",
        "outputId": "98dd46c9-f578-4ac0-b31a-7a7d7c2d82fa"
      },
      "execution_count": null,
      "outputs": [
        {
          "output_type": "execute_result",
          "data": {
            "text/plain": [
              "          Incident_Date              Aircaft_Model  Fatalities        country\n",
              "0          21-July-1919                        nan          13  United States\n",
              "1         2-August-1919              Caproni Ca.48          14          Italy\n",
              "2      14-December-1920         Handley Page O/400           4        England\n",
              "3          7-April-1922  de Havilland DH.18AG-EAWO           7         France\n",
              "4           14-May-1923        Farman F.60 Goliath           6         France\n",
              "...                 ...                        ...         ...            ...\n",
              "1397        6-July-2020              Antonov An-26          22         Russia\n",
              "1398       16-July-2020              Antonov An-28           0         Russia\n",
              "1399  12-September-2020                  Let L-410           0         Russia\n",
              "1400    19-October-2020    McDonnell Douglas MD-87           0  United States\n",
              "1401    3-November-2020              Antonov An-12           9        Russia \n",
              "\n",
              "[1402 rows x 4 columns]"
            ],
            "text/html": [
              "\n",
              "  <div id=\"df-231083d9-97b5-4fd5-854f-c16b3309db3e\">\n",
              "    <div class=\"colab-df-container\">\n",
              "      <div>\n",
              "<style scoped>\n",
              "    .dataframe tbody tr th:only-of-type {\n",
              "        vertical-align: middle;\n",
              "    }\n",
              "\n",
              "    .dataframe tbody tr th {\n",
              "        vertical-align: top;\n",
              "    }\n",
              "\n",
              "    .dataframe thead th {\n",
              "        text-align: right;\n",
              "    }\n",
              "</style>\n",
              "<table border=\"1\" class=\"dataframe\">\n",
              "  <thead>\n",
              "    <tr style=\"text-align: right;\">\n",
              "      <th></th>\n",
              "      <th>Incident_Date</th>\n",
              "      <th>Aircaft_Model</th>\n",
              "      <th>Fatalities</th>\n",
              "      <th>country</th>\n",
              "    </tr>\n",
              "  </thead>\n",
              "  <tbody>\n",
              "    <tr>\n",
              "      <th>0</th>\n",
              "      <td>21-July-1919</td>\n",
              "      <td>nan</td>\n",
              "      <td>13</td>\n",
              "      <td>United States</td>\n",
              "    </tr>\n",
              "    <tr>\n",
              "      <th>1</th>\n",
              "      <td>2-August-1919</td>\n",
              "      <td>Caproni Ca.48</td>\n",
              "      <td>14</td>\n",
              "      <td>Italy</td>\n",
              "    </tr>\n",
              "    <tr>\n",
              "      <th>2</th>\n",
              "      <td>14-December-1920</td>\n",
              "      <td>Handley Page O/400</td>\n",
              "      <td>4</td>\n",
              "      <td>England</td>\n",
              "    </tr>\n",
              "    <tr>\n",
              "      <th>3</th>\n",
              "      <td>7-April-1922</td>\n",
              "      <td>de Havilland DH.18AG-EAWO</td>\n",
              "      <td>7</td>\n",
              "      <td>France</td>\n",
              "    </tr>\n",
              "    <tr>\n",
              "      <th>4</th>\n",
              "      <td>14-May-1923</td>\n",
              "      <td>Farman F.60 Goliath</td>\n",
              "      <td>6</td>\n",
              "      <td>France</td>\n",
              "    </tr>\n",
              "    <tr>\n",
              "      <th>...</th>\n",
              "      <td>...</td>\n",
              "      <td>...</td>\n",
              "      <td>...</td>\n",
              "      <td>...</td>\n",
              "    </tr>\n",
              "    <tr>\n",
              "      <th>1397</th>\n",
              "      <td>6-July-2020</td>\n",
              "      <td>Antonov An-26</td>\n",
              "      <td>22</td>\n",
              "      <td>Russia</td>\n",
              "    </tr>\n",
              "    <tr>\n",
              "      <th>1398</th>\n",
              "      <td>16-July-2020</td>\n",
              "      <td>Antonov An-28</td>\n",
              "      <td>0</td>\n",
              "      <td>Russia</td>\n",
              "    </tr>\n",
              "    <tr>\n",
              "      <th>1399</th>\n",
              "      <td>12-September-2020</td>\n",
              "      <td>Let L-410</td>\n",
              "      <td>0</td>\n",
              "      <td>Russia</td>\n",
              "    </tr>\n",
              "    <tr>\n",
              "      <th>1400</th>\n",
              "      <td>19-October-2020</td>\n",
              "      <td>McDonnell Douglas MD-87</td>\n",
              "      <td>0</td>\n",
              "      <td>United States</td>\n",
              "    </tr>\n",
              "    <tr>\n",
              "      <th>1401</th>\n",
              "      <td>3-November-2020</td>\n",
              "      <td>Antonov An-12</td>\n",
              "      <td>9</td>\n",
              "      <td>Russia</td>\n",
              "    </tr>\n",
              "  </tbody>\n",
              "</table>\n",
              "<p>1402 rows × 4 columns</p>\n",
              "</div>\n",
              "      <button class=\"colab-df-convert\" onclick=\"convertToInteractive('df-231083d9-97b5-4fd5-854f-c16b3309db3e')\"\n",
              "              title=\"Convert this dataframe to an interactive table.\"\n",
              "              style=\"display:none;\">\n",
              "        \n",
              "  <svg xmlns=\"http://www.w3.org/2000/svg\" height=\"24px\"viewBox=\"0 0 24 24\"\n",
              "       width=\"24px\">\n",
              "    <path d=\"M0 0h24v24H0V0z\" fill=\"none\"/>\n",
              "    <path d=\"M18.56 5.44l.94 2.06.94-2.06 2.06-.94-2.06-.94-.94-2.06-.94 2.06-2.06.94zm-11 1L8.5 8.5l.94-2.06 2.06-.94-2.06-.94L8.5 2.5l-.94 2.06-2.06.94zm10 10l.94 2.06.94-2.06 2.06-.94-2.06-.94-.94-2.06-.94 2.06-2.06.94z\"/><path d=\"M17.41 7.96l-1.37-1.37c-.4-.4-.92-.59-1.43-.59-.52 0-1.04.2-1.43.59L10.3 9.45l-7.72 7.72c-.78.78-.78 2.05 0 2.83L4 21.41c.39.39.9.59 1.41.59.51 0 1.02-.2 1.41-.59l7.78-7.78 2.81-2.81c.8-.78.8-2.07 0-2.86zM5.41 20L4 18.59l7.72-7.72 1.47 1.35L5.41 20z\"/>\n",
              "  </svg>\n",
              "      </button>\n",
              "      \n",
              "  <style>\n",
              "    .colab-df-container {\n",
              "      display:flex;\n",
              "      flex-wrap:wrap;\n",
              "      gap: 12px;\n",
              "    }\n",
              "\n",
              "    .colab-df-convert {\n",
              "      background-color: #E8F0FE;\n",
              "      border: none;\n",
              "      border-radius: 50%;\n",
              "      cursor: pointer;\n",
              "      display: none;\n",
              "      fill: #1967D2;\n",
              "      height: 32px;\n",
              "      padding: 0 0 0 0;\n",
              "      width: 32px;\n",
              "    }\n",
              "\n",
              "    .colab-df-convert:hover {\n",
              "      background-color: #E2EBFA;\n",
              "      box-shadow: 0px 1px 2px rgba(60, 64, 67, 0.3), 0px 1px 3px 1px rgba(60, 64, 67, 0.15);\n",
              "      fill: #174EA6;\n",
              "    }\n",
              "\n",
              "    [theme=dark] .colab-df-convert {\n",
              "      background-color: #3B4455;\n",
              "      fill: #D2E3FC;\n",
              "    }\n",
              "\n",
              "    [theme=dark] .colab-df-convert:hover {\n",
              "      background-color: #434B5C;\n",
              "      box-shadow: 0px 1px 3px 1px rgba(0, 0, 0, 0.15);\n",
              "      filter: drop-shadow(0px 1px 2px rgba(0, 0, 0, 0.3));\n",
              "      fill: #FFFFFF;\n",
              "    }\n",
              "  </style>\n",
              "\n",
              "      <script>\n",
              "        const buttonEl =\n",
              "          document.querySelector('#df-231083d9-97b5-4fd5-854f-c16b3309db3e button.colab-df-convert');\n",
              "        buttonEl.style.display =\n",
              "          google.colab.kernel.accessAllowed ? 'block' : 'none';\n",
              "\n",
              "        async function convertToInteractive(key) {\n",
              "          const element = document.querySelector('#df-231083d9-97b5-4fd5-854f-c16b3309db3e');\n",
              "          const dataTable =\n",
              "            await google.colab.kernel.invokeFunction('convertToInteractive',\n",
              "                                                     [key], {});\n",
              "          if (!dataTable) return;\n",
              "\n",
              "          const docLinkHtml = 'Like what you see? Visit the ' +\n",
              "            '<a target=\"_blank\" href=https://colab.research.google.com/notebooks/data_table.ipynb>data table notebook</a>'\n",
              "            + ' to learn more about interactive tables.';\n",
              "          element.innerHTML = '';\n",
              "          dataTable['output_type'] = 'display_data';\n",
              "          await google.colab.output.renderOutput(dataTable, element);\n",
              "          const docLink = document.createElement('div');\n",
              "          docLink.innerHTML = docLinkHtml;\n",
              "          element.appendChild(docLink);\n",
              "        }\n",
              "      </script>\n",
              "    </div>\n",
              "  </div>\n",
              "  "
            ]
          },
          "metadata": {},
          "execution_count": 168
        }
      ]
    },
    {
      "cell_type": "code",
      "source": [
        "# export web_data to csv \n",
        "web_data.to_csv('web_scraping_data.csv')"
      ],
      "metadata": {
        "id": "H2CvQk-auDyQ"
      },
      "execution_count": null,
      "outputs": []
    },
    {
      "cell_type": "markdown",
      "source": [
        "# **EDA DATA**"
      ],
      "metadata": {
        "id": "ngYMaGcsdmIR"
      }
    },
    {
      "cell_type": "code",
      "source": [
        "#โหลดข้อมูลที่ได้จากการ web scraping\n",
        "!gdown --id 18s8h-iz5AAXCP-dUXvlBtxFWqdoD0tzk"
      ],
      "metadata": {
        "id": "MHwzMsNNdq3H",
        "colab": {
          "base_uri": "https://localhost:8080/"
        },
        "outputId": "98726a8d-50b4-48e7-d159-2d4e20aa7e9f"
      },
      "execution_count": null,
      "outputs": [
        {
          "output_type": "stream",
          "name": "stdout",
          "text": [
            "Downloading...\n",
            "From: https://drive.google.com/uc?id=18s8h-iz5AAXCP-dUXvlBtxFWqdoD0tzk\n",
            "To: /content/web_scraping_data.csv\n",
            "\r  0% 0.00/62.9k [00:00<?, ?B/s]\r100% 62.9k/62.9k [00:00<00:00, 36.8MB/s]\n"
          ]
        }
      ]
    },
    {
      "cell_type": "code",
      "source": [
        "import pandas as pd\n",
        "web_data = pd.read_csv('web_scraping_data.csv')\n",
        "web_data = web_data.drop(columns=['Unnamed: 0'])\n",
        "#เพิ่ม column Aircaft_Nature ซึ่งข้อมูลในเว็บเป็น commercial aircraft\n",
        "web_data['Aircaft_Nature'] = 'Commercial'\n",
        "web_data = web_data[['Incident_Date', 'Aircaft_Model', 'Aircaft_Nature', 'Fatalities', 'country']]\n",
        "web_data.head()"
      ],
      "metadata": {
        "colab": {
          "base_uri": "https://localhost:8080/",
          "height": 206
        },
        "id": "aAWTrSKUu2if",
        "outputId": "3dd39226-ef01-4303-a761-c4742843f638"
      },
      "execution_count": null,
      "outputs": [
        {
          "output_type": "execute_result",
          "data": {
            "text/plain": [
              "      Incident_Date              Aircaft_Model Aircaft_Nature  Fatalities  \\\n",
              "0      21-July-1919                        NaN     Commercial          13   \n",
              "1     2-August-1919              Caproni Ca.48     Commercial          14   \n",
              "2  14-December-1920         Handley Page O/400     Commercial           4   \n",
              "3      7-April-1922  de Havilland DH.18AG-EAWO     Commercial           7   \n",
              "4       14-May-1923        Farman F.60 Goliath     Commercial           6   \n",
              "\n",
              "         country  \n",
              "0  United States  \n",
              "1          Italy  \n",
              "2        England  \n",
              "3         France  \n",
              "4         France  "
            ],
            "text/html": [
              "\n",
              "  <div id=\"df-ba16040f-1f12-4847-b192-89d430d46452\">\n",
              "    <div class=\"colab-df-container\">\n",
              "      <div>\n",
              "<style scoped>\n",
              "    .dataframe tbody tr th:only-of-type {\n",
              "        vertical-align: middle;\n",
              "    }\n",
              "\n",
              "    .dataframe tbody tr th {\n",
              "        vertical-align: top;\n",
              "    }\n",
              "\n",
              "    .dataframe thead th {\n",
              "        text-align: right;\n",
              "    }\n",
              "</style>\n",
              "<table border=\"1\" class=\"dataframe\">\n",
              "  <thead>\n",
              "    <tr style=\"text-align: right;\">\n",
              "      <th></th>\n",
              "      <th>Incident_Date</th>\n",
              "      <th>Aircaft_Model</th>\n",
              "      <th>Aircaft_Nature</th>\n",
              "      <th>Fatalities</th>\n",
              "      <th>country</th>\n",
              "    </tr>\n",
              "  </thead>\n",
              "  <tbody>\n",
              "    <tr>\n",
              "      <th>0</th>\n",
              "      <td>21-July-1919</td>\n",
              "      <td>NaN</td>\n",
              "      <td>Commercial</td>\n",
              "      <td>13</td>\n",
              "      <td>United States</td>\n",
              "    </tr>\n",
              "    <tr>\n",
              "      <th>1</th>\n",
              "      <td>2-August-1919</td>\n",
              "      <td>Caproni Ca.48</td>\n",
              "      <td>Commercial</td>\n",
              "      <td>14</td>\n",
              "      <td>Italy</td>\n",
              "    </tr>\n",
              "    <tr>\n",
              "      <th>2</th>\n",
              "      <td>14-December-1920</td>\n",
              "      <td>Handley Page O/400</td>\n",
              "      <td>Commercial</td>\n",
              "      <td>4</td>\n",
              "      <td>England</td>\n",
              "    </tr>\n",
              "    <tr>\n",
              "      <th>3</th>\n",
              "      <td>7-April-1922</td>\n",
              "      <td>de Havilland DH.18AG-EAWO</td>\n",
              "      <td>Commercial</td>\n",
              "      <td>7</td>\n",
              "      <td>France</td>\n",
              "    </tr>\n",
              "    <tr>\n",
              "      <th>4</th>\n",
              "      <td>14-May-1923</td>\n",
              "      <td>Farman F.60 Goliath</td>\n",
              "      <td>Commercial</td>\n",
              "      <td>6</td>\n",
              "      <td>France</td>\n",
              "    </tr>\n",
              "  </tbody>\n",
              "</table>\n",
              "</div>\n",
              "      <button class=\"colab-df-convert\" onclick=\"convertToInteractive('df-ba16040f-1f12-4847-b192-89d430d46452')\"\n",
              "              title=\"Convert this dataframe to an interactive table.\"\n",
              "              style=\"display:none;\">\n",
              "        \n",
              "  <svg xmlns=\"http://www.w3.org/2000/svg\" height=\"24px\"viewBox=\"0 0 24 24\"\n",
              "       width=\"24px\">\n",
              "    <path d=\"M0 0h24v24H0V0z\" fill=\"none\"/>\n",
              "    <path d=\"M18.56 5.44l.94 2.06.94-2.06 2.06-.94-2.06-.94-.94-2.06-.94 2.06-2.06.94zm-11 1L8.5 8.5l.94-2.06 2.06-.94-2.06-.94L8.5 2.5l-.94 2.06-2.06.94zm10 10l.94 2.06.94-2.06 2.06-.94-2.06-.94-.94-2.06-.94 2.06-2.06.94z\"/><path d=\"M17.41 7.96l-1.37-1.37c-.4-.4-.92-.59-1.43-.59-.52 0-1.04.2-1.43.59L10.3 9.45l-7.72 7.72c-.78.78-.78 2.05 0 2.83L4 21.41c.39.39.9.59 1.41.59.51 0 1.02-.2 1.41-.59l7.78-7.78 2.81-2.81c.8-.78.8-2.07 0-2.86zM5.41 20L4 18.59l7.72-7.72 1.47 1.35L5.41 20z\"/>\n",
              "  </svg>\n",
              "      </button>\n",
              "      \n",
              "  <style>\n",
              "    .colab-df-container {\n",
              "      display:flex;\n",
              "      flex-wrap:wrap;\n",
              "      gap: 12px;\n",
              "    }\n",
              "\n",
              "    .colab-df-convert {\n",
              "      background-color: #E8F0FE;\n",
              "      border: none;\n",
              "      border-radius: 50%;\n",
              "      cursor: pointer;\n",
              "      display: none;\n",
              "      fill: #1967D2;\n",
              "      height: 32px;\n",
              "      padding: 0 0 0 0;\n",
              "      width: 32px;\n",
              "    }\n",
              "\n",
              "    .colab-df-convert:hover {\n",
              "      background-color: #E2EBFA;\n",
              "      box-shadow: 0px 1px 2px rgba(60, 64, 67, 0.3), 0px 1px 3px 1px rgba(60, 64, 67, 0.15);\n",
              "      fill: #174EA6;\n",
              "    }\n",
              "\n",
              "    [theme=dark] .colab-df-convert {\n",
              "      background-color: #3B4455;\n",
              "      fill: #D2E3FC;\n",
              "    }\n",
              "\n",
              "    [theme=dark] .colab-df-convert:hover {\n",
              "      background-color: #434B5C;\n",
              "      box-shadow: 0px 1px 3px 1px rgba(0, 0, 0, 0.15);\n",
              "      filter: drop-shadow(0px 1px 2px rgba(0, 0, 0, 0.3));\n",
              "      fill: #FFFFFF;\n",
              "    }\n",
              "  </style>\n",
              "\n",
              "      <script>\n",
              "        const buttonEl =\n",
              "          document.querySelector('#df-ba16040f-1f12-4847-b192-89d430d46452 button.colab-df-convert');\n",
              "        buttonEl.style.display =\n",
              "          google.colab.kernel.accessAllowed ? 'block' : 'none';\n",
              "\n",
              "        async function convertToInteractive(key) {\n",
              "          const element = document.querySelector('#df-ba16040f-1f12-4847-b192-89d430d46452');\n",
              "          const dataTable =\n",
              "            await google.colab.kernel.invokeFunction('convertToInteractive',\n",
              "                                                     [key], {});\n",
              "          if (!dataTable) return;\n",
              "\n",
              "          const docLinkHtml = 'Like what you see? Visit the ' +\n",
              "            '<a target=\"_blank\" href=https://colab.research.google.com/notebooks/data_table.ipynb>data table notebook</a>'\n",
              "            + ' to learn more about interactive tables.';\n",
              "          element.innerHTML = '';\n",
              "          dataTable['output_type'] = 'display_data';\n",
              "          await google.colab.output.renderOutput(dataTable, element);\n",
              "          const docLink = document.createElement('div');\n",
              "          docLink.innerHTML = docLinkHtml;\n",
              "          element.appendChild(docLink);\n",
              "        }\n",
              "      </script>\n",
              "    </div>\n",
              "  </div>\n",
              "  "
            ]
          },
          "metadata": {},
          "execution_count": 412
        }
      ]
    },
    {
      "cell_type": "code",
      "source": [
        "web_data.rename(columns={\"country\":\"Country\"},inplace=True)"
      ],
      "metadata": {
        "id": "7S1-kfgG3JZp"
      },
      "execution_count": null,
      "outputs": []
    },
    {
      "cell_type": "code",
      "source": [
        "web_data.columns"
      ],
      "metadata": {
        "colab": {
          "base_uri": "https://localhost:8080/"
        },
        "id": "X8Yrzfom2tXN",
        "outputId": "539ecce0-6662-4934-e1e0-7e9779e4792c"
      },
      "execution_count": null,
      "outputs": [
        {
          "output_type": "execute_result",
          "data": {
            "text/plain": [
              "Index(['Incident_Date', 'Aircaft_Model', 'Aircaft_Nature', 'Fatalities',\n",
              "       'Country'],\n",
              "      dtype='object')"
            ]
          },
          "metadata": {},
          "execution_count": 414
        }
      ]
    },
    {
      "cell_type": "code",
      "source": [
        "#เปลี่ยนชนิดข้อมูล column Incident_Date เป็น datatime\n",
        "web_data['Incident_Date']=pd.to_datetime(web_data['Incident_Date']) "
      ],
      "metadata": {
        "id": "EQ6goicS4E5A"
      },
      "execution_count": null,
      "outputs": []
    },
    {
      "cell_type": "code",
      "source": [
        "web_data.head()"
      ],
      "metadata": {
        "colab": {
          "base_uri": "https://localhost:8080/",
          "height": 206
        },
        "id": "9yIsYKQ4_6Kc",
        "outputId": "99f85ba7-e004-4ed8-a6f2-5e9f1d5c04b3"
      },
      "execution_count": null,
      "outputs": [
        {
          "output_type": "execute_result",
          "data": {
            "text/plain": [
              "  Incident_Date              Aircaft_Model Aircaft_Nature  Fatalities  \\\n",
              "0    1919-07-21                        NaN     Commercial          13   \n",
              "1    1919-08-02              Caproni Ca.48     Commercial          14   \n",
              "2    1920-12-14         Handley Page O/400     Commercial           4   \n",
              "3    1922-04-07  de Havilland DH.18AG-EAWO     Commercial           7   \n",
              "4    1923-05-14        Farman F.60 Goliath     Commercial           6   \n",
              "\n",
              "         Country  \n",
              "0  United States  \n",
              "1          Italy  \n",
              "2        England  \n",
              "3         France  \n",
              "4         France  "
            ],
            "text/html": [
              "\n",
              "  <div id=\"df-da20dc37-36fc-4e86-b071-789e54117a68\">\n",
              "    <div class=\"colab-df-container\">\n",
              "      <div>\n",
              "<style scoped>\n",
              "    .dataframe tbody tr th:only-of-type {\n",
              "        vertical-align: middle;\n",
              "    }\n",
              "\n",
              "    .dataframe tbody tr th {\n",
              "        vertical-align: top;\n",
              "    }\n",
              "\n",
              "    .dataframe thead th {\n",
              "        text-align: right;\n",
              "    }\n",
              "</style>\n",
              "<table border=\"1\" class=\"dataframe\">\n",
              "  <thead>\n",
              "    <tr style=\"text-align: right;\">\n",
              "      <th></th>\n",
              "      <th>Incident_Date</th>\n",
              "      <th>Aircaft_Model</th>\n",
              "      <th>Aircaft_Nature</th>\n",
              "      <th>Fatalities</th>\n",
              "      <th>Country</th>\n",
              "    </tr>\n",
              "  </thead>\n",
              "  <tbody>\n",
              "    <tr>\n",
              "      <th>0</th>\n",
              "      <td>1919-07-21</td>\n",
              "      <td>NaN</td>\n",
              "      <td>Commercial</td>\n",
              "      <td>13</td>\n",
              "      <td>United States</td>\n",
              "    </tr>\n",
              "    <tr>\n",
              "      <th>1</th>\n",
              "      <td>1919-08-02</td>\n",
              "      <td>Caproni Ca.48</td>\n",
              "      <td>Commercial</td>\n",
              "      <td>14</td>\n",
              "      <td>Italy</td>\n",
              "    </tr>\n",
              "    <tr>\n",
              "      <th>2</th>\n",
              "      <td>1920-12-14</td>\n",
              "      <td>Handley Page O/400</td>\n",
              "      <td>Commercial</td>\n",
              "      <td>4</td>\n",
              "      <td>England</td>\n",
              "    </tr>\n",
              "    <tr>\n",
              "      <th>3</th>\n",
              "      <td>1922-04-07</td>\n",
              "      <td>de Havilland DH.18AG-EAWO</td>\n",
              "      <td>Commercial</td>\n",
              "      <td>7</td>\n",
              "      <td>France</td>\n",
              "    </tr>\n",
              "    <tr>\n",
              "      <th>4</th>\n",
              "      <td>1923-05-14</td>\n",
              "      <td>Farman F.60 Goliath</td>\n",
              "      <td>Commercial</td>\n",
              "      <td>6</td>\n",
              "      <td>France</td>\n",
              "    </tr>\n",
              "  </tbody>\n",
              "</table>\n",
              "</div>\n",
              "      <button class=\"colab-df-convert\" onclick=\"convertToInteractive('df-da20dc37-36fc-4e86-b071-789e54117a68')\"\n",
              "              title=\"Convert this dataframe to an interactive table.\"\n",
              "              style=\"display:none;\">\n",
              "        \n",
              "  <svg xmlns=\"http://www.w3.org/2000/svg\" height=\"24px\"viewBox=\"0 0 24 24\"\n",
              "       width=\"24px\">\n",
              "    <path d=\"M0 0h24v24H0V0z\" fill=\"none\"/>\n",
              "    <path d=\"M18.56 5.44l.94 2.06.94-2.06 2.06-.94-2.06-.94-.94-2.06-.94 2.06-2.06.94zm-11 1L8.5 8.5l.94-2.06 2.06-.94-2.06-.94L8.5 2.5l-.94 2.06-2.06.94zm10 10l.94 2.06.94-2.06 2.06-.94-2.06-.94-.94-2.06-.94 2.06-2.06.94z\"/><path d=\"M17.41 7.96l-1.37-1.37c-.4-.4-.92-.59-1.43-.59-.52 0-1.04.2-1.43.59L10.3 9.45l-7.72 7.72c-.78.78-.78 2.05 0 2.83L4 21.41c.39.39.9.59 1.41.59.51 0 1.02-.2 1.41-.59l7.78-7.78 2.81-2.81c.8-.78.8-2.07 0-2.86zM5.41 20L4 18.59l7.72-7.72 1.47 1.35L5.41 20z\"/>\n",
              "  </svg>\n",
              "      </button>\n",
              "      \n",
              "  <style>\n",
              "    .colab-df-container {\n",
              "      display:flex;\n",
              "      flex-wrap:wrap;\n",
              "      gap: 12px;\n",
              "    }\n",
              "\n",
              "    .colab-df-convert {\n",
              "      background-color: #E8F0FE;\n",
              "      border: none;\n",
              "      border-radius: 50%;\n",
              "      cursor: pointer;\n",
              "      display: none;\n",
              "      fill: #1967D2;\n",
              "      height: 32px;\n",
              "      padding: 0 0 0 0;\n",
              "      width: 32px;\n",
              "    }\n",
              "\n",
              "    .colab-df-convert:hover {\n",
              "      background-color: #E2EBFA;\n",
              "      box-shadow: 0px 1px 2px rgba(60, 64, 67, 0.3), 0px 1px 3px 1px rgba(60, 64, 67, 0.15);\n",
              "      fill: #174EA6;\n",
              "    }\n",
              "\n",
              "    [theme=dark] .colab-df-convert {\n",
              "      background-color: #3B4455;\n",
              "      fill: #D2E3FC;\n",
              "    }\n",
              "\n",
              "    [theme=dark] .colab-df-convert:hover {\n",
              "      background-color: #434B5C;\n",
              "      box-shadow: 0px 1px 3px 1px rgba(0, 0, 0, 0.15);\n",
              "      filter: drop-shadow(0px 1px 2px rgba(0, 0, 0, 0.3));\n",
              "      fill: #FFFFFF;\n",
              "    }\n",
              "  </style>\n",
              "\n",
              "      <script>\n",
              "        const buttonEl =\n",
              "          document.querySelector('#df-da20dc37-36fc-4e86-b071-789e54117a68 button.colab-df-convert');\n",
              "        buttonEl.style.display =\n",
              "          google.colab.kernel.accessAllowed ? 'block' : 'none';\n",
              "\n",
              "        async function convertToInteractive(key) {\n",
              "          const element = document.querySelector('#df-da20dc37-36fc-4e86-b071-789e54117a68');\n",
              "          const dataTable =\n",
              "            await google.colab.kernel.invokeFunction('convertToInteractive',\n",
              "                                                     [key], {});\n",
              "          if (!dataTable) return;\n",
              "\n",
              "          const docLinkHtml = 'Like what you see? Visit the ' +\n",
              "            '<a target=\"_blank\" href=https://colab.research.google.com/notebooks/data_table.ipynb>data table notebook</a>'\n",
              "            + ' to learn more about interactive tables.';\n",
              "          element.innerHTML = '';\n",
              "          dataTable['output_type'] = 'display_data';\n",
              "          await google.colab.output.renderOutput(dataTable, element);\n",
              "          const docLink = document.createElement('div');\n",
              "          docLink.innerHTML = docLinkHtml;\n",
              "          element.appendChild(docLink);\n",
              "        }\n",
              "      </script>\n",
              "    </div>\n",
              "  </div>\n",
              "  "
            ]
          },
          "metadata": {},
          "execution_count": 416
        }
      ]
    },
    {
      "cell_type": "code",
      "source": [
        "#โหลดข้อมูลที่คลีนแล้วจากส่วน dataset from Kaggle \n",
        "!gdown --id 1oPfOBGOvxG6r7dXjgUlhLd9_1rzG2gZS"
      ],
      "metadata": {
        "colab": {
          "base_uri": "https://localhost:8080/"
        },
        "id": "BynA6rPc0IpU",
        "outputId": "a84637b4-520e-4f4d-da85-6948951788ca"
      },
      "execution_count": null,
      "outputs": [
        {
          "output_type": "stream",
          "name": "stdout",
          "text": [
            "Downloading...\n",
            "From: https://drive.google.com/uc?id=1oPfOBGOvxG6r7dXjgUlhLd9_1rzG2gZS\n",
            "To: /content/kaggle_data.csv\n",
            "\r  0% 0.00/853k [00:00<?, ?B/s]\r100% 853k/853k [00:00<00:00, 63.3MB/s]\n"
          ]
        }
      ]
    },
    {
      "cell_type": "code",
      "source": [
        "kaggle = pd.read_csv(\"kaggle_data.csv\",usecols=['Incident_Date','Aircaft_Model','Aircaft_Nature','Fatalities','Country'])\n",
        "#kaggle = kaggle.drop(columns=['Unnamed: 0'])\n",
        "kaggle.head(3)"
      ],
      "metadata": {
        "colab": {
          "base_uri": "https://localhost:8080/",
          "height": 143
        },
        "id": "Y7ZJRHoT0pkb",
        "outputId": "c4a08d1a-0919-4660-cddc-666d759e2152"
      },
      "execution_count": null,
      "outputs": [
        {
          "output_type": "execute_result",
          "data": {
            "text/plain": [
              "  Incident_Date                        Aircaft_Model  \\\n",
              "0   03-JAN-2022  British Aerospace 4121 Jetstream 41   \n",
              "1   05-JAN-2022                       Boeing 737-4H6   \n",
              "2   18-NOV-2009                           Fokker 100   \n",
              "\n",
              "                     Aircaft_Nature  Fatalities       Country  \n",
              "0  Domestic Non Scheduled Passenger         0.0  South Africa  \n",
              "1      Domestic Scheduled Passenger         0.0          Iran  \n",
              "2      Domestic Scheduled Passenger         0.0          Iran  "
            ],
            "text/html": [
              "\n",
              "  <div id=\"df-580919e7-02dd-4585-a4bb-b27b67da280c\">\n",
              "    <div class=\"colab-df-container\">\n",
              "      <div>\n",
              "<style scoped>\n",
              "    .dataframe tbody tr th:only-of-type {\n",
              "        vertical-align: middle;\n",
              "    }\n",
              "\n",
              "    .dataframe tbody tr th {\n",
              "        vertical-align: top;\n",
              "    }\n",
              "\n",
              "    .dataframe thead th {\n",
              "        text-align: right;\n",
              "    }\n",
              "</style>\n",
              "<table border=\"1\" class=\"dataframe\">\n",
              "  <thead>\n",
              "    <tr style=\"text-align: right;\">\n",
              "      <th></th>\n",
              "      <th>Incident_Date</th>\n",
              "      <th>Aircaft_Model</th>\n",
              "      <th>Aircaft_Nature</th>\n",
              "      <th>Fatalities</th>\n",
              "      <th>Country</th>\n",
              "    </tr>\n",
              "  </thead>\n",
              "  <tbody>\n",
              "    <tr>\n",
              "      <th>0</th>\n",
              "      <td>03-JAN-2022</td>\n",
              "      <td>British Aerospace 4121 Jetstream 41</td>\n",
              "      <td>Domestic Non Scheduled Passenger</td>\n",
              "      <td>0.0</td>\n",
              "      <td>South Africa</td>\n",
              "    </tr>\n",
              "    <tr>\n",
              "      <th>1</th>\n",
              "      <td>05-JAN-2022</td>\n",
              "      <td>Boeing 737-4H6</td>\n",
              "      <td>Domestic Scheduled Passenger</td>\n",
              "      <td>0.0</td>\n",
              "      <td>Iran</td>\n",
              "    </tr>\n",
              "    <tr>\n",
              "      <th>2</th>\n",
              "      <td>18-NOV-2009</td>\n",
              "      <td>Fokker 100</td>\n",
              "      <td>Domestic Scheduled Passenger</td>\n",
              "      <td>0.0</td>\n",
              "      <td>Iran</td>\n",
              "    </tr>\n",
              "  </tbody>\n",
              "</table>\n",
              "</div>\n",
              "      <button class=\"colab-df-convert\" onclick=\"convertToInteractive('df-580919e7-02dd-4585-a4bb-b27b67da280c')\"\n",
              "              title=\"Convert this dataframe to an interactive table.\"\n",
              "              style=\"display:none;\">\n",
              "        \n",
              "  <svg xmlns=\"http://www.w3.org/2000/svg\" height=\"24px\"viewBox=\"0 0 24 24\"\n",
              "       width=\"24px\">\n",
              "    <path d=\"M0 0h24v24H0V0z\" fill=\"none\"/>\n",
              "    <path d=\"M18.56 5.44l.94 2.06.94-2.06 2.06-.94-2.06-.94-.94-2.06-.94 2.06-2.06.94zm-11 1L8.5 8.5l.94-2.06 2.06-.94-2.06-.94L8.5 2.5l-.94 2.06-2.06.94zm10 10l.94 2.06.94-2.06 2.06-.94-2.06-.94-.94-2.06-.94 2.06-2.06.94z\"/><path d=\"M17.41 7.96l-1.37-1.37c-.4-.4-.92-.59-1.43-.59-.52 0-1.04.2-1.43.59L10.3 9.45l-7.72 7.72c-.78.78-.78 2.05 0 2.83L4 21.41c.39.39.9.59 1.41.59.51 0 1.02-.2 1.41-.59l7.78-7.78 2.81-2.81c.8-.78.8-2.07 0-2.86zM5.41 20L4 18.59l7.72-7.72 1.47 1.35L5.41 20z\"/>\n",
              "  </svg>\n",
              "      </button>\n",
              "      \n",
              "  <style>\n",
              "    .colab-df-container {\n",
              "      display:flex;\n",
              "      flex-wrap:wrap;\n",
              "      gap: 12px;\n",
              "    }\n",
              "\n",
              "    .colab-df-convert {\n",
              "      background-color: #E8F0FE;\n",
              "      border: none;\n",
              "      border-radius: 50%;\n",
              "      cursor: pointer;\n",
              "      display: none;\n",
              "      fill: #1967D2;\n",
              "      height: 32px;\n",
              "      padding: 0 0 0 0;\n",
              "      width: 32px;\n",
              "    }\n",
              "\n",
              "    .colab-df-convert:hover {\n",
              "      background-color: #E2EBFA;\n",
              "      box-shadow: 0px 1px 2px rgba(60, 64, 67, 0.3), 0px 1px 3px 1px rgba(60, 64, 67, 0.15);\n",
              "      fill: #174EA6;\n",
              "    }\n",
              "\n",
              "    [theme=dark] .colab-df-convert {\n",
              "      background-color: #3B4455;\n",
              "      fill: #D2E3FC;\n",
              "    }\n",
              "\n",
              "    [theme=dark] .colab-df-convert:hover {\n",
              "      background-color: #434B5C;\n",
              "      box-shadow: 0px 1px 3px 1px rgba(0, 0, 0, 0.15);\n",
              "      filter: drop-shadow(0px 1px 2px rgba(0, 0, 0, 0.3));\n",
              "      fill: #FFFFFF;\n",
              "    }\n",
              "  </style>\n",
              "\n",
              "      <script>\n",
              "        const buttonEl =\n",
              "          document.querySelector('#df-580919e7-02dd-4585-a4bb-b27b67da280c button.colab-df-convert');\n",
              "        buttonEl.style.display =\n",
              "          google.colab.kernel.accessAllowed ? 'block' : 'none';\n",
              "\n",
              "        async function convertToInteractive(key) {\n",
              "          const element = document.querySelector('#df-580919e7-02dd-4585-a4bb-b27b67da280c');\n",
              "          const dataTable =\n",
              "            await google.colab.kernel.invokeFunction('convertToInteractive',\n",
              "                                                     [key], {});\n",
              "          if (!dataTable) return;\n",
              "\n",
              "          const docLinkHtml = 'Like what you see? Visit the ' +\n",
              "            '<a target=\"_blank\" href=https://colab.research.google.com/notebooks/data_table.ipynb>data table notebook</a>'\n",
              "            + ' to learn more about interactive tables.';\n",
              "          element.innerHTML = '';\n",
              "          dataTable['output_type'] = 'display_data';\n",
              "          await google.colab.output.renderOutput(dataTable, element);\n",
              "          const docLink = document.createElement('div');\n",
              "          docLink.innerHTML = docLinkHtml;\n",
              "          element.appendChild(docLink);\n",
              "        }\n",
              "      </script>\n",
              "    </div>\n",
              "  </div>\n",
              "  "
            ]
          },
          "metadata": {},
          "execution_count": 418
        }
      ]
    },
    {
      "cell_type": "code",
      "source": [
        "kaggle.columns"
      ],
      "metadata": {
        "colab": {
          "base_uri": "https://localhost:8080/"
        },
        "id": "Uvw4tqW32zj_",
        "outputId": "0b3eeae9-ccb1-41cd-e98d-62e9d02dae35"
      },
      "execution_count": null,
      "outputs": [
        {
          "output_type": "execute_result",
          "data": {
            "text/plain": [
              "Index(['Incident_Date', 'Aircaft_Model', 'Aircaft_Nature', 'Fatalities',\n",
              "       'Country'],\n",
              "      dtype='object')"
            ]
          },
          "metadata": {},
          "execution_count": 419
        }
      ]
    },
    {
      "cell_type": "code",
      "source": [
        "kaggle.shape"
      ],
      "metadata": {
        "colab": {
          "base_uri": "https://localhost:8080/"
        },
        "id": "cD8ZbchC-wui",
        "outputId": "1742c1da-e9e1-4f5e-b133-d16f7a100ccd"
      },
      "execution_count": null,
      "outputs": [
        {
          "output_type": "execute_result",
          "data": {
            "text/plain": [
              "(4660, 5)"
            ]
          },
          "metadata": {},
          "execution_count": 420
        }
      ]
    },
    {
      "cell_type": "code",
      "source": [
        "#ลบค่าใน columns Incident_Date ที่วันที่เป็น ??\n",
        "kaggle['Incident_Date'].replace('(\\?.{1,})', 'nan', regex=True, inplace=True)"
      ],
      "metadata": {
        "id": "GFNNkVLW891U"
      },
      "execution_count": null,
      "outputs": []
    },
    {
      "cell_type": "code",
      "source": [
        "# kaggle[kaggle['Incident_Date'].str.match('nan')]\n",
        "kaggle['Incident_Date'].str.match('nan').sum() #เอาค่าที่เป็น nan ออกมาดู"
      ],
      "metadata": {
        "colab": {
          "base_uri": "https://localhost:8080/"
        },
        "id": "yvICoejR9cQw",
        "outputId": "f2904371-56c4-4be7-92c3-93e78727bc32"
      },
      "execution_count": null,
      "outputs": [
        {
          "output_type": "execute_result",
          "data": {
            "text/plain": [
              "58"
            ]
          },
          "metadata": {},
          "execution_count": 422
        }
      ]
    },
    {
      "cell_type": "code",
      "source": [
        "kaggle = kaggle.drop(kaggle[kaggle['Incident_Date'].str.match('nan')].index) # ดรอปค่าที่เป็น nan ออก"
      ],
      "metadata": {
        "id": "49xQGkDF-zUl"
      },
      "execution_count": null,
      "outputs": []
    },
    {
      "cell_type": "code",
      "source": [
        "kaggle.shape"
      ],
      "metadata": {
        "colab": {
          "base_uri": "https://localhost:8080/"
        },
        "id": "FCaTZits-_Bg",
        "outputId": "aaa532c9-fb7b-44d7-e038-d2ba918de260"
      },
      "execution_count": null,
      "outputs": [
        {
          "output_type": "execute_result",
          "data": {
            "text/plain": [
              "(4602, 5)"
            ]
          },
          "metadata": {},
          "execution_count": 424
        }
      ]
    },
    {
      "cell_type": "code",
      "source": [
        "#เปลี่ยนชนิดข้อมูล column Incident_Date เป็น datatime\n",
        "kaggle['Incident_Date']=pd.to_datetime(kaggle['Incident_Date'])"
      ],
      "metadata": {
        "id": "7Rk3jK6q_eJ6"
      },
      "execution_count": null,
      "outputs": []
    },
    {
      "cell_type": "code",
      "source": [
        "kaggle.dtypes"
      ],
      "metadata": {
        "colab": {
          "base_uri": "https://localhost:8080/"
        },
        "id": "B4Z8u6T4_wl4",
        "outputId": "cb7e6d39-52c3-4c9a-c20a-e73132bf8180"
      },
      "execution_count": null,
      "outputs": [
        {
          "output_type": "execute_result",
          "data": {
            "text/plain": [
              "Incident_Date     datetime64[ns]\n",
              "Aircaft_Model             object\n",
              "Aircaft_Nature            object\n",
              "Fatalities               float64\n",
              "Country                   object\n",
              "dtype: object"
            ]
          },
          "metadata": {},
          "execution_count": 426
        }
      ]
    },
    {
      "cell_type": "code",
      "source": [
        "kaggle.head()"
      ],
      "metadata": {
        "colab": {
          "base_uri": "https://localhost:8080/",
          "height": 206
        },
        "id": "8lNQ-IK7AXLG",
        "outputId": "7c01238c-69af-4e2a-bd13-29a7274f6a87"
      },
      "execution_count": null,
      "outputs": [
        {
          "output_type": "execute_result",
          "data": {
            "text/plain": [
              "  Incident_Date                        Aircaft_Model  \\\n",
              "0    2022-01-03  British Aerospace 4121 Jetstream 41   \n",
              "1    2022-01-05                       Boeing 737-4H6   \n",
              "2    2009-11-18                           Fokker 100   \n",
              "3    1998-01-05                           Fokker 100   \n",
              "4    1995-01-05        Lockheed L-1329-25 JetStar II   \n",
              "\n",
              "                     Aircaft_Nature  Fatalities       Country  \n",
              "0  Domestic Non Scheduled Passenger         0.0  South Africa  \n",
              "1      Domestic Scheduled Passenger         0.0          Iran  \n",
              "2      Domestic Scheduled Passenger         0.0          Iran  \n",
              "3      Domestic Scheduled Passenger         0.0          Iran  \n",
              "4                          Military        12.0          Iran  "
            ],
            "text/html": [
              "\n",
              "  <div id=\"df-82f2ab46-1065-453f-817c-c1f14d0c4311\">\n",
              "    <div class=\"colab-df-container\">\n",
              "      <div>\n",
              "<style scoped>\n",
              "    .dataframe tbody tr th:only-of-type {\n",
              "        vertical-align: middle;\n",
              "    }\n",
              "\n",
              "    .dataframe tbody tr th {\n",
              "        vertical-align: top;\n",
              "    }\n",
              "\n",
              "    .dataframe thead th {\n",
              "        text-align: right;\n",
              "    }\n",
              "</style>\n",
              "<table border=\"1\" class=\"dataframe\">\n",
              "  <thead>\n",
              "    <tr style=\"text-align: right;\">\n",
              "      <th></th>\n",
              "      <th>Incident_Date</th>\n",
              "      <th>Aircaft_Model</th>\n",
              "      <th>Aircaft_Nature</th>\n",
              "      <th>Fatalities</th>\n",
              "      <th>Country</th>\n",
              "    </tr>\n",
              "  </thead>\n",
              "  <tbody>\n",
              "    <tr>\n",
              "      <th>0</th>\n",
              "      <td>2022-01-03</td>\n",
              "      <td>British Aerospace 4121 Jetstream 41</td>\n",
              "      <td>Domestic Non Scheduled Passenger</td>\n",
              "      <td>0.0</td>\n",
              "      <td>South Africa</td>\n",
              "    </tr>\n",
              "    <tr>\n",
              "      <th>1</th>\n",
              "      <td>2022-01-05</td>\n",
              "      <td>Boeing 737-4H6</td>\n",
              "      <td>Domestic Scheduled Passenger</td>\n",
              "      <td>0.0</td>\n",
              "      <td>Iran</td>\n",
              "    </tr>\n",
              "    <tr>\n",
              "      <th>2</th>\n",
              "      <td>2009-11-18</td>\n",
              "      <td>Fokker 100</td>\n",
              "      <td>Domestic Scheduled Passenger</td>\n",
              "      <td>0.0</td>\n",
              "      <td>Iran</td>\n",
              "    </tr>\n",
              "    <tr>\n",
              "      <th>3</th>\n",
              "      <td>1998-01-05</td>\n",
              "      <td>Fokker 100</td>\n",
              "      <td>Domestic Scheduled Passenger</td>\n",
              "      <td>0.0</td>\n",
              "      <td>Iran</td>\n",
              "    </tr>\n",
              "    <tr>\n",
              "      <th>4</th>\n",
              "      <td>1995-01-05</td>\n",
              "      <td>Lockheed L-1329-25 JetStar II</td>\n",
              "      <td>Military</td>\n",
              "      <td>12.0</td>\n",
              "      <td>Iran</td>\n",
              "    </tr>\n",
              "  </tbody>\n",
              "</table>\n",
              "</div>\n",
              "      <button class=\"colab-df-convert\" onclick=\"convertToInteractive('df-82f2ab46-1065-453f-817c-c1f14d0c4311')\"\n",
              "              title=\"Convert this dataframe to an interactive table.\"\n",
              "              style=\"display:none;\">\n",
              "        \n",
              "  <svg xmlns=\"http://www.w3.org/2000/svg\" height=\"24px\"viewBox=\"0 0 24 24\"\n",
              "       width=\"24px\">\n",
              "    <path d=\"M0 0h24v24H0V0z\" fill=\"none\"/>\n",
              "    <path d=\"M18.56 5.44l.94 2.06.94-2.06 2.06-.94-2.06-.94-.94-2.06-.94 2.06-2.06.94zm-11 1L8.5 8.5l.94-2.06 2.06-.94-2.06-.94L8.5 2.5l-.94 2.06-2.06.94zm10 10l.94 2.06.94-2.06 2.06-.94-2.06-.94-.94-2.06-.94 2.06-2.06.94z\"/><path d=\"M17.41 7.96l-1.37-1.37c-.4-.4-.92-.59-1.43-.59-.52 0-1.04.2-1.43.59L10.3 9.45l-7.72 7.72c-.78.78-.78 2.05 0 2.83L4 21.41c.39.39.9.59 1.41.59.51 0 1.02-.2 1.41-.59l7.78-7.78 2.81-2.81c.8-.78.8-2.07 0-2.86zM5.41 20L4 18.59l7.72-7.72 1.47 1.35L5.41 20z\"/>\n",
              "  </svg>\n",
              "      </button>\n",
              "      \n",
              "  <style>\n",
              "    .colab-df-container {\n",
              "      display:flex;\n",
              "      flex-wrap:wrap;\n",
              "      gap: 12px;\n",
              "    }\n",
              "\n",
              "    .colab-df-convert {\n",
              "      background-color: #E8F0FE;\n",
              "      border: none;\n",
              "      border-radius: 50%;\n",
              "      cursor: pointer;\n",
              "      display: none;\n",
              "      fill: #1967D2;\n",
              "      height: 32px;\n",
              "      padding: 0 0 0 0;\n",
              "      width: 32px;\n",
              "    }\n",
              "\n",
              "    .colab-df-convert:hover {\n",
              "      background-color: #E2EBFA;\n",
              "      box-shadow: 0px 1px 2px rgba(60, 64, 67, 0.3), 0px 1px 3px 1px rgba(60, 64, 67, 0.15);\n",
              "      fill: #174EA6;\n",
              "    }\n",
              "\n",
              "    [theme=dark] .colab-df-convert {\n",
              "      background-color: #3B4455;\n",
              "      fill: #D2E3FC;\n",
              "    }\n",
              "\n",
              "    [theme=dark] .colab-df-convert:hover {\n",
              "      background-color: #434B5C;\n",
              "      box-shadow: 0px 1px 3px 1px rgba(0, 0, 0, 0.15);\n",
              "      filter: drop-shadow(0px 1px 2px rgba(0, 0, 0, 0.3));\n",
              "      fill: #FFFFFF;\n",
              "    }\n",
              "  </style>\n",
              "\n",
              "      <script>\n",
              "        const buttonEl =\n",
              "          document.querySelector('#df-82f2ab46-1065-453f-817c-c1f14d0c4311 button.colab-df-convert');\n",
              "        buttonEl.style.display =\n",
              "          google.colab.kernel.accessAllowed ? 'block' : 'none';\n",
              "\n",
              "        async function convertToInteractive(key) {\n",
              "          const element = document.querySelector('#df-82f2ab46-1065-453f-817c-c1f14d0c4311');\n",
              "          const dataTable =\n",
              "            await google.colab.kernel.invokeFunction('convertToInteractive',\n",
              "                                                     [key], {});\n",
              "          if (!dataTable) return;\n",
              "\n",
              "          const docLinkHtml = 'Like what you see? Visit the ' +\n",
              "            '<a target=\"_blank\" href=https://colab.research.google.com/notebooks/data_table.ipynb>data table notebook</a>'\n",
              "            + ' to learn more about interactive tables.';\n",
              "          element.innerHTML = '';\n",
              "          dataTable['output_type'] = 'display_data';\n",
              "          await google.colab.output.renderOutput(dataTable, element);\n",
              "          const docLink = document.createElement('div');\n",
              "          docLink.innerHTML = docLinkHtml;\n",
              "          element.appendChild(docLink);\n",
              "        }\n",
              "      </script>\n",
              "    </div>\n",
              "  </div>\n",
              "  "
            ]
          },
          "metadata": {},
          "execution_count": 427
        }
      ]
    },
    {
      "cell_type": "code",
      "source": [
        "#แก้ไขค่าให้ง่ายต่อการ eda\n",
        "kaggle['Aircaft_Nature'].replace('(.{1,}Passeng.{1,})','Commercial', regex = True, inplace= True)\n",
        "kaggle['Aircaft_Nature'].replace('(Passenger)','Commercial', regex = True, inplace= True)\n",
        "kaggle['Aircaft_Nature'].replace('(-$)','Unknown', regex = True, inplace= True)"
      ],
      "metadata": {
        "id": "0ZAI5PBDXnd0"
      },
      "execution_count": null,
      "outputs": []
    },
    {
      "cell_type": "code",
      "source": [
        "# for idx, row in kaggle.iterrows():\n",
        "#   print(row.Aircaft_Nature)"
      ],
      "metadata": {
        "id": "TMpS5gVyXVGW"
      },
      "execution_count": null,
      "outputs": []
    },
    {
      "cell_type": "markdown",
      "source": [
        "**เอาข้อมูลมารวมกัน**"
      ],
      "metadata": {
        "id": "nHOx_3JwBMCo"
      }
    },
    {
      "cell_type": "code",
      "source": [
        "df = pd.concat([kaggle, web_data])"
      ],
      "metadata": {
        "id": "CZnNdJSBBggP"
      },
      "execution_count": null,
      "outputs": []
    },
    {
      "cell_type": "code",
      "source": [
        "df"
      ],
      "metadata": {
        "colab": {
          "base_uri": "https://localhost:8080/",
          "height": 423
        },
        "id": "YWjo6s24BtzC",
        "outputId": "517a8a1b-7615-4e50-bb02-cf61870bcbe5"
      },
      "execution_count": null,
      "outputs": [
        {
          "output_type": "execute_result",
          "data": {
            "text/plain": [
              "     Incident_Date                        Aircaft_Model Aircaft_Nature  \\\n",
              "0       2022-01-03  British Aerospace 4121 Jetstream 41     Commercial   \n",
              "1       2022-01-05                       Boeing 737-4H6     Commercial   \n",
              "2       2009-11-18                           Fokker 100     Commercial   \n",
              "3       1998-01-05                           Fokker 100     Commercial   \n",
              "4       1995-01-05        Lockheed L-1329-25 JetStar II       Military   \n",
              "...            ...                                  ...            ...   \n",
              "1397    2020-07-06                        Antonov An-26     Commercial   \n",
              "1398    2020-07-16                        Antonov An-28     Commercial   \n",
              "1399    2020-09-12                            Let L-410     Commercial   \n",
              "1400    2020-10-19              McDonnell Douglas MD-87     Commercial   \n",
              "1401    2020-11-03                        Antonov An-12     Commercial   \n",
              "\n",
              "      Fatalities        Country  \n",
              "0            0.0   South Africa  \n",
              "1            0.0           Iran  \n",
              "2            0.0           Iran  \n",
              "3            0.0           Iran  \n",
              "4           12.0           Iran  \n",
              "...          ...            ...  \n",
              "1397        22.0         Russia  \n",
              "1398         0.0         Russia  \n",
              "1399         0.0         Russia  \n",
              "1400         0.0  United States  \n",
              "1401         9.0        Russia   \n",
              "\n",
              "[6004 rows x 5 columns]"
            ],
            "text/html": [
              "\n",
              "  <div id=\"df-57e02f10-59b4-4162-ba9b-87e829564185\">\n",
              "    <div class=\"colab-df-container\">\n",
              "      <div>\n",
              "<style scoped>\n",
              "    .dataframe tbody tr th:only-of-type {\n",
              "        vertical-align: middle;\n",
              "    }\n",
              "\n",
              "    .dataframe tbody tr th {\n",
              "        vertical-align: top;\n",
              "    }\n",
              "\n",
              "    .dataframe thead th {\n",
              "        text-align: right;\n",
              "    }\n",
              "</style>\n",
              "<table border=\"1\" class=\"dataframe\">\n",
              "  <thead>\n",
              "    <tr style=\"text-align: right;\">\n",
              "      <th></th>\n",
              "      <th>Incident_Date</th>\n",
              "      <th>Aircaft_Model</th>\n",
              "      <th>Aircaft_Nature</th>\n",
              "      <th>Fatalities</th>\n",
              "      <th>Country</th>\n",
              "    </tr>\n",
              "  </thead>\n",
              "  <tbody>\n",
              "    <tr>\n",
              "      <th>0</th>\n",
              "      <td>2022-01-03</td>\n",
              "      <td>British Aerospace 4121 Jetstream 41</td>\n",
              "      <td>Commercial</td>\n",
              "      <td>0.0</td>\n",
              "      <td>South Africa</td>\n",
              "    </tr>\n",
              "    <tr>\n",
              "      <th>1</th>\n",
              "      <td>2022-01-05</td>\n",
              "      <td>Boeing 737-4H6</td>\n",
              "      <td>Commercial</td>\n",
              "      <td>0.0</td>\n",
              "      <td>Iran</td>\n",
              "    </tr>\n",
              "    <tr>\n",
              "      <th>2</th>\n",
              "      <td>2009-11-18</td>\n",
              "      <td>Fokker 100</td>\n",
              "      <td>Commercial</td>\n",
              "      <td>0.0</td>\n",
              "      <td>Iran</td>\n",
              "    </tr>\n",
              "    <tr>\n",
              "      <th>3</th>\n",
              "      <td>1998-01-05</td>\n",
              "      <td>Fokker 100</td>\n",
              "      <td>Commercial</td>\n",
              "      <td>0.0</td>\n",
              "      <td>Iran</td>\n",
              "    </tr>\n",
              "    <tr>\n",
              "      <th>4</th>\n",
              "      <td>1995-01-05</td>\n",
              "      <td>Lockheed L-1329-25 JetStar II</td>\n",
              "      <td>Military</td>\n",
              "      <td>12.0</td>\n",
              "      <td>Iran</td>\n",
              "    </tr>\n",
              "    <tr>\n",
              "      <th>...</th>\n",
              "      <td>...</td>\n",
              "      <td>...</td>\n",
              "      <td>...</td>\n",
              "      <td>...</td>\n",
              "      <td>...</td>\n",
              "    </tr>\n",
              "    <tr>\n",
              "      <th>1397</th>\n",
              "      <td>2020-07-06</td>\n",
              "      <td>Antonov An-26</td>\n",
              "      <td>Commercial</td>\n",
              "      <td>22.0</td>\n",
              "      <td>Russia</td>\n",
              "    </tr>\n",
              "    <tr>\n",
              "      <th>1398</th>\n",
              "      <td>2020-07-16</td>\n",
              "      <td>Antonov An-28</td>\n",
              "      <td>Commercial</td>\n",
              "      <td>0.0</td>\n",
              "      <td>Russia</td>\n",
              "    </tr>\n",
              "    <tr>\n",
              "      <th>1399</th>\n",
              "      <td>2020-09-12</td>\n",
              "      <td>Let L-410</td>\n",
              "      <td>Commercial</td>\n",
              "      <td>0.0</td>\n",
              "      <td>Russia</td>\n",
              "    </tr>\n",
              "    <tr>\n",
              "      <th>1400</th>\n",
              "      <td>2020-10-19</td>\n",
              "      <td>McDonnell Douglas MD-87</td>\n",
              "      <td>Commercial</td>\n",
              "      <td>0.0</td>\n",
              "      <td>United States</td>\n",
              "    </tr>\n",
              "    <tr>\n",
              "      <th>1401</th>\n",
              "      <td>2020-11-03</td>\n",
              "      <td>Antonov An-12</td>\n",
              "      <td>Commercial</td>\n",
              "      <td>9.0</td>\n",
              "      <td>Russia</td>\n",
              "    </tr>\n",
              "  </tbody>\n",
              "</table>\n",
              "<p>6004 rows × 5 columns</p>\n",
              "</div>\n",
              "      <button class=\"colab-df-convert\" onclick=\"convertToInteractive('df-57e02f10-59b4-4162-ba9b-87e829564185')\"\n",
              "              title=\"Convert this dataframe to an interactive table.\"\n",
              "              style=\"display:none;\">\n",
              "        \n",
              "  <svg xmlns=\"http://www.w3.org/2000/svg\" height=\"24px\"viewBox=\"0 0 24 24\"\n",
              "       width=\"24px\">\n",
              "    <path d=\"M0 0h24v24H0V0z\" fill=\"none\"/>\n",
              "    <path d=\"M18.56 5.44l.94 2.06.94-2.06 2.06-.94-2.06-.94-.94-2.06-.94 2.06-2.06.94zm-11 1L8.5 8.5l.94-2.06 2.06-.94-2.06-.94L8.5 2.5l-.94 2.06-2.06.94zm10 10l.94 2.06.94-2.06 2.06-.94-2.06-.94-.94-2.06-.94 2.06-2.06.94z\"/><path d=\"M17.41 7.96l-1.37-1.37c-.4-.4-.92-.59-1.43-.59-.52 0-1.04.2-1.43.59L10.3 9.45l-7.72 7.72c-.78.78-.78 2.05 0 2.83L4 21.41c.39.39.9.59 1.41.59.51 0 1.02-.2 1.41-.59l7.78-7.78 2.81-2.81c.8-.78.8-2.07 0-2.86zM5.41 20L4 18.59l7.72-7.72 1.47 1.35L5.41 20z\"/>\n",
              "  </svg>\n",
              "      </button>\n",
              "      \n",
              "  <style>\n",
              "    .colab-df-container {\n",
              "      display:flex;\n",
              "      flex-wrap:wrap;\n",
              "      gap: 12px;\n",
              "    }\n",
              "\n",
              "    .colab-df-convert {\n",
              "      background-color: #E8F0FE;\n",
              "      border: none;\n",
              "      border-radius: 50%;\n",
              "      cursor: pointer;\n",
              "      display: none;\n",
              "      fill: #1967D2;\n",
              "      height: 32px;\n",
              "      padding: 0 0 0 0;\n",
              "      width: 32px;\n",
              "    }\n",
              "\n",
              "    .colab-df-convert:hover {\n",
              "      background-color: #E2EBFA;\n",
              "      box-shadow: 0px 1px 2px rgba(60, 64, 67, 0.3), 0px 1px 3px 1px rgba(60, 64, 67, 0.15);\n",
              "      fill: #174EA6;\n",
              "    }\n",
              "\n",
              "    [theme=dark] .colab-df-convert {\n",
              "      background-color: #3B4455;\n",
              "      fill: #D2E3FC;\n",
              "    }\n",
              "\n",
              "    [theme=dark] .colab-df-convert:hover {\n",
              "      background-color: #434B5C;\n",
              "      box-shadow: 0px 1px 3px 1px rgba(0, 0, 0, 0.15);\n",
              "      filter: drop-shadow(0px 1px 2px rgba(0, 0, 0, 0.3));\n",
              "      fill: #FFFFFF;\n",
              "    }\n",
              "  </style>\n",
              "\n",
              "      <script>\n",
              "        const buttonEl =\n",
              "          document.querySelector('#df-57e02f10-59b4-4162-ba9b-87e829564185 button.colab-df-convert');\n",
              "        buttonEl.style.display =\n",
              "          google.colab.kernel.accessAllowed ? 'block' : 'none';\n",
              "\n",
              "        async function convertToInteractive(key) {\n",
              "          const element = document.querySelector('#df-57e02f10-59b4-4162-ba9b-87e829564185');\n",
              "          const dataTable =\n",
              "            await google.colab.kernel.invokeFunction('convertToInteractive',\n",
              "                                                     [key], {});\n",
              "          if (!dataTable) return;\n",
              "\n",
              "          const docLinkHtml = 'Like what you see? Visit the ' +\n",
              "            '<a target=\"_blank\" href=https://colab.research.google.com/notebooks/data_table.ipynb>data table notebook</a>'\n",
              "            + ' to learn more about interactive tables.';\n",
              "          element.innerHTML = '';\n",
              "          dataTable['output_type'] = 'display_data';\n",
              "          await google.colab.output.renderOutput(dataTable, element);\n",
              "          const docLink = document.createElement('div');\n",
              "          docLink.innerHTML = docLinkHtml;\n",
              "          element.appendChild(docLink);\n",
              "        }\n",
              "      </script>\n",
              "    </div>\n",
              "  </div>\n",
              "  "
            ]
          },
          "metadata": {},
          "execution_count": 430
        }
      ]
    },
    {
      "cell_type": "code",
      "source": [
        "df = df.sort_values(by=\"Incident_Date\")"
      ],
      "metadata": {
        "id": "JuG8w2GlB6Gb"
      },
      "execution_count": null,
      "outputs": []
    },
    {
      "cell_type": "code",
      "source": [
        "df=df.reset_index(drop=True)"
      ],
      "metadata": {
        "id": "X5j6q8ejBuI1"
      },
      "execution_count": null,
      "outputs": []
    },
    {
      "cell_type": "code",
      "source": [
        "df.columns"
      ],
      "metadata": {
        "colab": {
          "base_uri": "https://localhost:8080/"
        },
        "id": "mL4xtuXuCB58",
        "outputId": "b858a237-3b66-4506-911e-d692a11dd000"
      },
      "execution_count": null,
      "outputs": [
        {
          "output_type": "execute_result",
          "data": {
            "text/plain": [
              "Index(['Incident_Date', 'Aircaft_Model', 'Aircaft_Nature', 'Fatalities',\n",
              "       'Country'],\n",
              "      dtype='object')"
            ]
          },
          "metadata": {},
          "execution_count": 433
        }
      ]
    },
    {
      "cell_type": "code",
      "source": [
        "df"
      ],
      "metadata": {
        "colab": {
          "base_uri": "https://localhost:8080/",
          "height": 423
        },
        "id": "912ann9CCj_d",
        "outputId": "d6f8c096-c904-44b8-bd35-674322d26738"
      },
      "execution_count": null,
      "outputs": [
        {
          "output_type": "execute_result",
          "data": {
            "text/plain": [
              "     Incident_Date                    Aircaft_Model Aircaft_Nature  \\\n",
              "0       1919-07-21                              NaN     Commercial   \n",
              "1       1919-08-02                    Caproni Ca.48     Commercial   \n",
              "2       1919-08-11                  Felixstowe Fury           Test   \n",
              "3       1920-02-23                 Handley Page O/7     Commercial   \n",
              "4       1920-02-25               Handley Page O/400        Unknown   \n",
              "...            ...                              ...            ...   \n",
              "5999    2022-02-05        Cessna 208B Grand Caravan        Unknown   \n",
              "6000    2022-02-08                    Antonov An-26       Military   \n",
              "6001    2022-02-11                    Antonov An-2R          Cargo   \n",
              "6002    2022-02-14                  Let L-410UVP-E3          Cargo   \n",
              "6003    2022-02-15  Britten-Norman BN-2A-9 Islander     Commercial   \n",
              "\n",
              "      Fatalities        Country  \n",
              "0           13.0  United States  \n",
              "1           14.0          Italy  \n",
              "2            1.0        England  \n",
              "3            0.0         France  \n",
              "4            0.0          Egypt  \n",
              "...          ...            ...  \n",
              "5999         0.0    South Sudan  \n",
              "6000         0.0          Sudan  \n",
              "6001         2.0         Russia  \n",
              "6002         0.0          Congo  \n",
              "6003         0.0    Puerto Rico  \n",
              "\n",
              "[6004 rows x 5 columns]"
            ],
            "text/html": [
              "\n",
              "  <div id=\"df-4b5ebe93-8c0f-4ada-9547-109d5500930b\">\n",
              "    <div class=\"colab-df-container\">\n",
              "      <div>\n",
              "<style scoped>\n",
              "    .dataframe tbody tr th:only-of-type {\n",
              "        vertical-align: middle;\n",
              "    }\n",
              "\n",
              "    .dataframe tbody tr th {\n",
              "        vertical-align: top;\n",
              "    }\n",
              "\n",
              "    .dataframe thead th {\n",
              "        text-align: right;\n",
              "    }\n",
              "</style>\n",
              "<table border=\"1\" class=\"dataframe\">\n",
              "  <thead>\n",
              "    <tr style=\"text-align: right;\">\n",
              "      <th></th>\n",
              "      <th>Incident_Date</th>\n",
              "      <th>Aircaft_Model</th>\n",
              "      <th>Aircaft_Nature</th>\n",
              "      <th>Fatalities</th>\n",
              "      <th>Country</th>\n",
              "    </tr>\n",
              "  </thead>\n",
              "  <tbody>\n",
              "    <tr>\n",
              "      <th>0</th>\n",
              "      <td>1919-07-21</td>\n",
              "      <td>NaN</td>\n",
              "      <td>Commercial</td>\n",
              "      <td>13.0</td>\n",
              "      <td>United States</td>\n",
              "    </tr>\n",
              "    <tr>\n",
              "      <th>1</th>\n",
              "      <td>1919-08-02</td>\n",
              "      <td>Caproni Ca.48</td>\n",
              "      <td>Commercial</td>\n",
              "      <td>14.0</td>\n",
              "      <td>Italy</td>\n",
              "    </tr>\n",
              "    <tr>\n",
              "      <th>2</th>\n",
              "      <td>1919-08-11</td>\n",
              "      <td>Felixstowe Fury</td>\n",
              "      <td>Test</td>\n",
              "      <td>1.0</td>\n",
              "      <td>England</td>\n",
              "    </tr>\n",
              "    <tr>\n",
              "      <th>3</th>\n",
              "      <td>1920-02-23</td>\n",
              "      <td>Handley Page O/7</td>\n",
              "      <td>Commercial</td>\n",
              "      <td>0.0</td>\n",
              "      <td>France</td>\n",
              "    </tr>\n",
              "    <tr>\n",
              "      <th>4</th>\n",
              "      <td>1920-02-25</td>\n",
              "      <td>Handley Page O/400</td>\n",
              "      <td>Unknown</td>\n",
              "      <td>0.0</td>\n",
              "      <td>Egypt</td>\n",
              "    </tr>\n",
              "    <tr>\n",
              "      <th>...</th>\n",
              "      <td>...</td>\n",
              "      <td>...</td>\n",
              "      <td>...</td>\n",
              "      <td>...</td>\n",
              "      <td>...</td>\n",
              "    </tr>\n",
              "    <tr>\n",
              "      <th>5999</th>\n",
              "      <td>2022-02-05</td>\n",
              "      <td>Cessna 208B Grand Caravan</td>\n",
              "      <td>Unknown</td>\n",
              "      <td>0.0</td>\n",
              "      <td>South Sudan</td>\n",
              "    </tr>\n",
              "    <tr>\n",
              "      <th>6000</th>\n",
              "      <td>2022-02-08</td>\n",
              "      <td>Antonov An-26</td>\n",
              "      <td>Military</td>\n",
              "      <td>0.0</td>\n",
              "      <td>Sudan</td>\n",
              "    </tr>\n",
              "    <tr>\n",
              "      <th>6001</th>\n",
              "      <td>2022-02-11</td>\n",
              "      <td>Antonov An-2R</td>\n",
              "      <td>Cargo</td>\n",
              "      <td>2.0</td>\n",
              "      <td>Russia</td>\n",
              "    </tr>\n",
              "    <tr>\n",
              "      <th>6002</th>\n",
              "      <td>2022-02-14</td>\n",
              "      <td>Let L-410UVP-E3</td>\n",
              "      <td>Cargo</td>\n",
              "      <td>0.0</td>\n",
              "      <td>Congo</td>\n",
              "    </tr>\n",
              "    <tr>\n",
              "      <th>6003</th>\n",
              "      <td>2022-02-15</td>\n",
              "      <td>Britten-Norman BN-2A-9 Islander</td>\n",
              "      <td>Commercial</td>\n",
              "      <td>0.0</td>\n",
              "      <td>Puerto Rico</td>\n",
              "    </tr>\n",
              "  </tbody>\n",
              "</table>\n",
              "<p>6004 rows × 5 columns</p>\n",
              "</div>\n",
              "      <button class=\"colab-df-convert\" onclick=\"convertToInteractive('df-4b5ebe93-8c0f-4ada-9547-109d5500930b')\"\n",
              "              title=\"Convert this dataframe to an interactive table.\"\n",
              "              style=\"display:none;\">\n",
              "        \n",
              "  <svg xmlns=\"http://www.w3.org/2000/svg\" height=\"24px\"viewBox=\"0 0 24 24\"\n",
              "       width=\"24px\">\n",
              "    <path d=\"M0 0h24v24H0V0z\" fill=\"none\"/>\n",
              "    <path d=\"M18.56 5.44l.94 2.06.94-2.06 2.06-.94-2.06-.94-.94-2.06-.94 2.06-2.06.94zm-11 1L8.5 8.5l.94-2.06 2.06-.94-2.06-.94L8.5 2.5l-.94 2.06-2.06.94zm10 10l.94 2.06.94-2.06 2.06-.94-2.06-.94-.94-2.06-.94 2.06-2.06.94z\"/><path d=\"M17.41 7.96l-1.37-1.37c-.4-.4-.92-.59-1.43-.59-.52 0-1.04.2-1.43.59L10.3 9.45l-7.72 7.72c-.78.78-.78 2.05 0 2.83L4 21.41c.39.39.9.59 1.41.59.51 0 1.02-.2 1.41-.59l7.78-7.78 2.81-2.81c.8-.78.8-2.07 0-2.86zM5.41 20L4 18.59l7.72-7.72 1.47 1.35L5.41 20z\"/>\n",
              "  </svg>\n",
              "      </button>\n",
              "      \n",
              "  <style>\n",
              "    .colab-df-container {\n",
              "      display:flex;\n",
              "      flex-wrap:wrap;\n",
              "      gap: 12px;\n",
              "    }\n",
              "\n",
              "    .colab-df-convert {\n",
              "      background-color: #E8F0FE;\n",
              "      border: none;\n",
              "      border-radius: 50%;\n",
              "      cursor: pointer;\n",
              "      display: none;\n",
              "      fill: #1967D2;\n",
              "      height: 32px;\n",
              "      padding: 0 0 0 0;\n",
              "      width: 32px;\n",
              "    }\n",
              "\n",
              "    .colab-df-convert:hover {\n",
              "      background-color: #E2EBFA;\n",
              "      box-shadow: 0px 1px 2px rgba(60, 64, 67, 0.3), 0px 1px 3px 1px rgba(60, 64, 67, 0.15);\n",
              "      fill: #174EA6;\n",
              "    }\n",
              "\n",
              "    [theme=dark] .colab-df-convert {\n",
              "      background-color: #3B4455;\n",
              "      fill: #D2E3FC;\n",
              "    }\n",
              "\n",
              "    [theme=dark] .colab-df-convert:hover {\n",
              "      background-color: #434B5C;\n",
              "      box-shadow: 0px 1px 3px 1px rgba(0, 0, 0, 0.15);\n",
              "      filter: drop-shadow(0px 1px 2px rgba(0, 0, 0, 0.3));\n",
              "      fill: #FFFFFF;\n",
              "    }\n",
              "  </style>\n",
              "\n",
              "      <script>\n",
              "        const buttonEl =\n",
              "          document.querySelector('#df-4b5ebe93-8c0f-4ada-9547-109d5500930b button.colab-df-convert');\n",
              "        buttonEl.style.display =\n",
              "          google.colab.kernel.accessAllowed ? 'block' : 'none';\n",
              "\n",
              "        async function convertToInteractive(key) {\n",
              "          const element = document.querySelector('#df-4b5ebe93-8c0f-4ada-9547-109d5500930b');\n",
              "          const dataTable =\n",
              "            await google.colab.kernel.invokeFunction('convertToInteractive',\n",
              "                                                     [key], {});\n",
              "          if (!dataTable) return;\n",
              "\n",
              "          const docLinkHtml = 'Like what you see? Visit the ' +\n",
              "            '<a target=\"_blank\" href=https://colab.research.google.com/notebooks/data_table.ipynb>data table notebook</a>'\n",
              "            + ' to learn more about interactive tables.';\n",
              "          element.innerHTML = '';\n",
              "          dataTable['output_type'] = 'display_data';\n",
              "          await google.colab.output.renderOutput(dataTable, element);\n",
              "          const docLink = document.createElement('div');\n",
              "          docLink.innerHTML = docLinkHtml;\n",
              "          element.appendChild(docLink);\n",
              "        }\n",
              "      </script>\n",
              "    </div>\n",
              "  </div>\n",
              "  "
            ]
          },
          "metadata": {},
          "execution_count": 434
        }
      ]
    },
    {
      "cell_type": "code",
      "source": [
        "df.isnull().sum()"
      ],
      "metadata": {
        "colab": {
          "base_uri": "https://localhost:8080/"
        },
        "id": "ZPGGqKKVDFdS",
        "outputId": "c94ce306-48c5-4c3d-e416-d647f00e7a5a"
      },
      "execution_count": null,
      "outputs": [
        {
          "output_type": "execute_result",
          "data": {
            "text/plain": [
              "Incident_Date       0\n",
              "Aircaft_Model       4\n",
              "Aircaft_Nature      0\n",
              "Fatalities          0\n",
              "Country           432\n",
              "dtype: int64"
            ]
          },
          "metadata": {},
          "execution_count": 435
        }
      ]
    },
    {
      "cell_type": "code",
      "source": [
        "df=df.dropna()"
      ],
      "metadata": {
        "id": "fAZK4D48DJse"
      },
      "execution_count": null,
      "outputs": []
    },
    {
      "cell_type": "code",
      "source": [
        "df.isnull().sum()"
      ],
      "metadata": {
        "colab": {
          "base_uri": "https://localhost:8080/"
        },
        "id": "9VhS0PhlDOrO",
        "outputId": "f0883d40-349d-46e3-943c-6c5577a74d66"
      },
      "execution_count": null,
      "outputs": [
        {
          "output_type": "execute_result",
          "data": {
            "text/plain": [
              "Incident_Date     0\n",
              "Aircaft_Model     0\n",
              "Aircaft_Nature    0\n",
              "Fatalities        0\n",
              "Country           0\n",
              "dtype: int64"
            ]
          },
          "metadata": {},
          "execution_count": 437
        }
      ]
    },
    {
      "cell_type": "markdown",
      "source": [
        "**สร้าง column continent**"
      ],
      "metadata": {
        "id": "zEW7KIqsFD9i"
      }
    },
    {
      "cell_type": "code",
      "source": [
        "#โหลด dataset ที่เก็บข้อมูล country, alpha-2, \talpha-3, \tregion เพื่อเอาข้อมูลไปใส่ใน df \n",
        "!gdown --id 1pUYHwr3TuxxQ39g5dkFSdkBvtVY9glNh"
      ],
      "metadata": {
        "colab": {
          "base_uri": "https://localhost:8080/"
        },
        "id": "Kajlv9YHPNf5",
        "outputId": "2264203c-063e-4a0f-ce0e-3762dd98ffe9"
      },
      "execution_count": null,
      "outputs": [
        {
          "output_type": "stream",
          "name": "stdout",
          "text": [
            "Downloading...\n",
            "From: https://drive.google.com/uc?id=1pUYHwr3TuxxQ39g5dkFSdkBvtVY9glNh\n",
            "To: /content/continents2.csv\n",
            "\r  0% 0.00/19.7k [00:00<?, ?B/s]\r100% 19.7k/19.7k [00:00<00:00, 18.7MB/s]\n"
          ]
        }
      ]
    },
    {
      "cell_type": "code",
      "source": [
        "continents = pd.read_csv('continents2.csv',usecols=['name', 'alpha-2', 'alpha-3', 'region'])\n",
        "continents = continents.rename(columns={'name':'Country'})\n",
        "continents.head(2)"
      ],
      "metadata": {
        "id": "gTFL7JzcDaJ4",
        "colab": {
          "base_uri": "https://localhost:8080/",
          "height": 112
        },
        "outputId": "5cd6b879-1031-403a-d43a-89acac51c89c"
      },
      "execution_count": null,
      "outputs": [
        {
          "output_type": "execute_result",
          "data": {
            "text/plain": [
              "         Country alpha-2 alpha-3  region\n",
              "0    Afghanistan      AF     AFG    Asia\n",
              "1  Åland Islands      AX     ALA  Europe"
            ],
            "text/html": [
              "\n",
              "  <div id=\"df-0b5cb826-20c2-4a00-bc56-1bea964709fe\">\n",
              "    <div class=\"colab-df-container\">\n",
              "      <div>\n",
              "<style scoped>\n",
              "    .dataframe tbody tr th:only-of-type {\n",
              "        vertical-align: middle;\n",
              "    }\n",
              "\n",
              "    .dataframe tbody tr th {\n",
              "        vertical-align: top;\n",
              "    }\n",
              "\n",
              "    .dataframe thead th {\n",
              "        text-align: right;\n",
              "    }\n",
              "</style>\n",
              "<table border=\"1\" class=\"dataframe\">\n",
              "  <thead>\n",
              "    <tr style=\"text-align: right;\">\n",
              "      <th></th>\n",
              "      <th>Country</th>\n",
              "      <th>alpha-2</th>\n",
              "      <th>alpha-3</th>\n",
              "      <th>region</th>\n",
              "    </tr>\n",
              "  </thead>\n",
              "  <tbody>\n",
              "    <tr>\n",
              "      <th>0</th>\n",
              "      <td>Afghanistan</td>\n",
              "      <td>AF</td>\n",
              "      <td>AFG</td>\n",
              "      <td>Asia</td>\n",
              "    </tr>\n",
              "    <tr>\n",
              "      <th>1</th>\n",
              "      <td>Åland Islands</td>\n",
              "      <td>AX</td>\n",
              "      <td>ALA</td>\n",
              "      <td>Europe</td>\n",
              "    </tr>\n",
              "  </tbody>\n",
              "</table>\n",
              "</div>\n",
              "      <button class=\"colab-df-convert\" onclick=\"convertToInteractive('df-0b5cb826-20c2-4a00-bc56-1bea964709fe')\"\n",
              "              title=\"Convert this dataframe to an interactive table.\"\n",
              "              style=\"display:none;\">\n",
              "        \n",
              "  <svg xmlns=\"http://www.w3.org/2000/svg\" height=\"24px\"viewBox=\"0 0 24 24\"\n",
              "       width=\"24px\">\n",
              "    <path d=\"M0 0h24v24H0V0z\" fill=\"none\"/>\n",
              "    <path d=\"M18.56 5.44l.94 2.06.94-2.06 2.06-.94-2.06-.94-.94-2.06-.94 2.06-2.06.94zm-11 1L8.5 8.5l.94-2.06 2.06-.94-2.06-.94L8.5 2.5l-.94 2.06-2.06.94zm10 10l.94 2.06.94-2.06 2.06-.94-2.06-.94-.94-2.06-.94 2.06-2.06.94z\"/><path d=\"M17.41 7.96l-1.37-1.37c-.4-.4-.92-.59-1.43-.59-.52 0-1.04.2-1.43.59L10.3 9.45l-7.72 7.72c-.78.78-.78 2.05 0 2.83L4 21.41c.39.39.9.59 1.41.59.51 0 1.02-.2 1.41-.59l7.78-7.78 2.81-2.81c.8-.78.8-2.07 0-2.86zM5.41 20L4 18.59l7.72-7.72 1.47 1.35L5.41 20z\"/>\n",
              "  </svg>\n",
              "      </button>\n",
              "      \n",
              "  <style>\n",
              "    .colab-df-container {\n",
              "      display:flex;\n",
              "      flex-wrap:wrap;\n",
              "      gap: 12px;\n",
              "    }\n",
              "\n",
              "    .colab-df-convert {\n",
              "      background-color: #E8F0FE;\n",
              "      border: none;\n",
              "      border-radius: 50%;\n",
              "      cursor: pointer;\n",
              "      display: none;\n",
              "      fill: #1967D2;\n",
              "      height: 32px;\n",
              "      padding: 0 0 0 0;\n",
              "      width: 32px;\n",
              "    }\n",
              "\n",
              "    .colab-df-convert:hover {\n",
              "      background-color: #E2EBFA;\n",
              "      box-shadow: 0px 1px 2px rgba(60, 64, 67, 0.3), 0px 1px 3px 1px rgba(60, 64, 67, 0.15);\n",
              "      fill: #174EA6;\n",
              "    }\n",
              "\n",
              "    [theme=dark] .colab-df-convert {\n",
              "      background-color: #3B4455;\n",
              "      fill: #D2E3FC;\n",
              "    }\n",
              "\n",
              "    [theme=dark] .colab-df-convert:hover {\n",
              "      background-color: #434B5C;\n",
              "      box-shadow: 0px 1px 3px 1px rgba(0, 0, 0, 0.15);\n",
              "      filter: drop-shadow(0px 1px 2px rgba(0, 0, 0, 0.3));\n",
              "      fill: #FFFFFF;\n",
              "    }\n",
              "  </style>\n",
              "\n",
              "      <script>\n",
              "        const buttonEl =\n",
              "          document.querySelector('#df-0b5cb826-20c2-4a00-bc56-1bea964709fe button.colab-df-convert');\n",
              "        buttonEl.style.display =\n",
              "          google.colab.kernel.accessAllowed ? 'block' : 'none';\n",
              "\n",
              "        async function convertToInteractive(key) {\n",
              "          const element = document.querySelector('#df-0b5cb826-20c2-4a00-bc56-1bea964709fe');\n",
              "          const dataTable =\n",
              "            await google.colab.kernel.invokeFunction('convertToInteractive',\n",
              "                                                     [key], {});\n",
              "          if (!dataTable) return;\n",
              "\n",
              "          const docLinkHtml = 'Like what you see? Visit the ' +\n",
              "            '<a target=\"_blank\" href=https://colab.research.google.com/notebooks/data_table.ipynb>data table notebook</a>'\n",
              "            + ' to learn more about interactive tables.';\n",
              "          element.innerHTML = '';\n",
              "          dataTable['output_type'] = 'display_data';\n",
              "          await google.colab.output.renderOutput(dataTable, element);\n",
              "          const docLink = document.createElement('div');\n",
              "          docLink.innerHTML = docLinkHtml;\n",
              "          element.appendChild(docLink);\n",
              "        }\n",
              "      </script>\n",
              "    </div>\n",
              "  </div>\n",
              "  "
            ]
          },
          "metadata": {},
          "execution_count": 440
        }
      ]
    },
    {
      "cell_type": "code",
      "source": [
        "result = pd.merge(df, continents, how=\"inner\", on=[\"Country\"])\n",
        "result = result.sort_values(by=\"Incident_Date\")\n",
        "result.reset_index(drop=True, inplace=True)\n",
        "result"
      ],
      "metadata": {
        "colab": {
          "base_uri": "https://localhost:8080/",
          "height": 423
        },
        "id": "RimIZPJOPz5f",
        "outputId": "99d62e22-82cc-40f0-fb85-32079b5ae7d2"
      },
      "execution_count": null,
      "outputs": [
        {
          "output_type": "execute_result",
          "data": {
            "text/plain": [
              "     Incident_Date                    Aircaft_Model Aircaft_Nature  \\\n",
              "0       1919-08-02                    Caproni Ca.48     Commercial   \n",
              "1       1920-02-23                 Handley Page O/7     Commercial   \n",
              "2       1920-02-25               Handley Page O/400        Unknown   \n",
              "3       1921-03-02                 Handley Page O/7        Unknown   \n",
              "4       1921-08-26              Farman F.60 Goliath          Cargo   \n",
              "...            ...                              ...            ...   \n",
              "5276    2022-02-05        Cessna 208B Grand Caravan        Unknown   \n",
              "5277    2022-02-08                    Antonov An-26       Military   \n",
              "5278    2022-02-11                    Antonov An-2R          Cargo   \n",
              "5279    2022-02-14                  Let L-410UVP-E3          Cargo   \n",
              "5280    2022-02-15  Britten-Norman BN-2A-9 Islander     Commercial   \n",
              "\n",
              "      Fatalities      Country alpha-2 alpha-3    region  \n",
              "0           14.0        Italy      IT     ITA    Europe  \n",
              "1            0.0       France      FR     FRA    Europe  \n",
              "2            0.0        Egypt      EG     EGY    Africa  \n",
              "3            0.0        India      IN     IND      Asia  \n",
              "4            2.0       France      FR     FRA    Europe  \n",
              "...          ...          ...     ...     ...       ...  \n",
              "5276         0.0  South Sudan      SS     SSD    Africa  \n",
              "5277         0.0        Sudan      SD     SDN    Africa  \n",
              "5278         2.0       Russia      RU     RUS    Europe  \n",
              "5279         0.0        Congo      CG     COG    Africa  \n",
              "5280         0.0  Puerto Rico      PR     PRI  Americas  \n",
              "\n",
              "[5281 rows x 8 columns]"
            ],
            "text/html": [
              "\n",
              "  <div id=\"df-e7ebfca3-286e-43ae-8f5d-dbcf991b1458\">\n",
              "    <div class=\"colab-df-container\">\n",
              "      <div>\n",
              "<style scoped>\n",
              "    .dataframe tbody tr th:only-of-type {\n",
              "        vertical-align: middle;\n",
              "    }\n",
              "\n",
              "    .dataframe tbody tr th {\n",
              "        vertical-align: top;\n",
              "    }\n",
              "\n",
              "    .dataframe thead th {\n",
              "        text-align: right;\n",
              "    }\n",
              "</style>\n",
              "<table border=\"1\" class=\"dataframe\">\n",
              "  <thead>\n",
              "    <tr style=\"text-align: right;\">\n",
              "      <th></th>\n",
              "      <th>Incident_Date</th>\n",
              "      <th>Aircaft_Model</th>\n",
              "      <th>Aircaft_Nature</th>\n",
              "      <th>Fatalities</th>\n",
              "      <th>Country</th>\n",
              "      <th>alpha-2</th>\n",
              "      <th>alpha-3</th>\n",
              "      <th>region</th>\n",
              "    </tr>\n",
              "  </thead>\n",
              "  <tbody>\n",
              "    <tr>\n",
              "      <th>0</th>\n",
              "      <td>1919-08-02</td>\n",
              "      <td>Caproni Ca.48</td>\n",
              "      <td>Commercial</td>\n",
              "      <td>14.0</td>\n",
              "      <td>Italy</td>\n",
              "      <td>IT</td>\n",
              "      <td>ITA</td>\n",
              "      <td>Europe</td>\n",
              "    </tr>\n",
              "    <tr>\n",
              "      <th>1</th>\n",
              "      <td>1920-02-23</td>\n",
              "      <td>Handley Page O/7</td>\n",
              "      <td>Commercial</td>\n",
              "      <td>0.0</td>\n",
              "      <td>France</td>\n",
              "      <td>FR</td>\n",
              "      <td>FRA</td>\n",
              "      <td>Europe</td>\n",
              "    </tr>\n",
              "    <tr>\n",
              "      <th>2</th>\n",
              "      <td>1920-02-25</td>\n",
              "      <td>Handley Page O/400</td>\n",
              "      <td>Unknown</td>\n",
              "      <td>0.0</td>\n",
              "      <td>Egypt</td>\n",
              "      <td>EG</td>\n",
              "      <td>EGY</td>\n",
              "      <td>Africa</td>\n",
              "    </tr>\n",
              "    <tr>\n",
              "      <th>3</th>\n",
              "      <td>1921-03-02</td>\n",
              "      <td>Handley Page O/7</td>\n",
              "      <td>Unknown</td>\n",
              "      <td>0.0</td>\n",
              "      <td>India</td>\n",
              "      <td>IN</td>\n",
              "      <td>IND</td>\n",
              "      <td>Asia</td>\n",
              "    </tr>\n",
              "    <tr>\n",
              "      <th>4</th>\n",
              "      <td>1921-08-26</td>\n",
              "      <td>Farman F.60 Goliath</td>\n",
              "      <td>Cargo</td>\n",
              "      <td>2.0</td>\n",
              "      <td>France</td>\n",
              "      <td>FR</td>\n",
              "      <td>FRA</td>\n",
              "      <td>Europe</td>\n",
              "    </tr>\n",
              "    <tr>\n",
              "      <th>...</th>\n",
              "      <td>...</td>\n",
              "      <td>...</td>\n",
              "      <td>...</td>\n",
              "      <td>...</td>\n",
              "      <td>...</td>\n",
              "      <td>...</td>\n",
              "      <td>...</td>\n",
              "      <td>...</td>\n",
              "    </tr>\n",
              "    <tr>\n",
              "      <th>5276</th>\n",
              "      <td>2022-02-05</td>\n",
              "      <td>Cessna 208B Grand Caravan</td>\n",
              "      <td>Unknown</td>\n",
              "      <td>0.0</td>\n",
              "      <td>South Sudan</td>\n",
              "      <td>SS</td>\n",
              "      <td>SSD</td>\n",
              "      <td>Africa</td>\n",
              "    </tr>\n",
              "    <tr>\n",
              "      <th>5277</th>\n",
              "      <td>2022-02-08</td>\n",
              "      <td>Antonov An-26</td>\n",
              "      <td>Military</td>\n",
              "      <td>0.0</td>\n",
              "      <td>Sudan</td>\n",
              "      <td>SD</td>\n",
              "      <td>SDN</td>\n",
              "      <td>Africa</td>\n",
              "    </tr>\n",
              "    <tr>\n",
              "      <th>5278</th>\n",
              "      <td>2022-02-11</td>\n",
              "      <td>Antonov An-2R</td>\n",
              "      <td>Cargo</td>\n",
              "      <td>2.0</td>\n",
              "      <td>Russia</td>\n",
              "      <td>RU</td>\n",
              "      <td>RUS</td>\n",
              "      <td>Europe</td>\n",
              "    </tr>\n",
              "    <tr>\n",
              "      <th>5279</th>\n",
              "      <td>2022-02-14</td>\n",
              "      <td>Let L-410UVP-E3</td>\n",
              "      <td>Cargo</td>\n",
              "      <td>0.0</td>\n",
              "      <td>Congo</td>\n",
              "      <td>CG</td>\n",
              "      <td>COG</td>\n",
              "      <td>Africa</td>\n",
              "    </tr>\n",
              "    <tr>\n",
              "      <th>5280</th>\n",
              "      <td>2022-02-15</td>\n",
              "      <td>Britten-Norman BN-2A-9 Islander</td>\n",
              "      <td>Commercial</td>\n",
              "      <td>0.0</td>\n",
              "      <td>Puerto Rico</td>\n",
              "      <td>PR</td>\n",
              "      <td>PRI</td>\n",
              "      <td>Americas</td>\n",
              "    </tr>\n",
              "  </tbody>\n",
              "</table>\n",
              "<p>5281 rows × 8 columns</p>\n",
              "</div>\n",
              "      <button class=\"colab-df-convert\" onclick=\"convertToInteractive('df-e7ebfca3-286e-43ae-8f5d-dbcf991b1458')\"\n",
              "              title=\"Convert this dataframe to an interactive table.\"\n",
              "              style=\"display:none;\">\n",
              "        \n",
              "  <svg xmlns=\"http://www.w3.org/2000/svg\" height=\"24px\"viewBox=\"0 0 24 24\"\n",
              "       width=\"24px\">\n",
              "    <path d=\"M0 0h24v24H0V0z\" fill=\"none\"/>\n",
              "    <path d=\"M18.56 5.44l.94 2.06.94-2.06 2.06-.94-2.06-.94-.94-2.06-.94 2.06-2.06.94zm-11 1L8.5 8.5l.94-2.06 2.06-.94-2.06-.94L8.5 2.5l-.94 2.06-2.06.94zm10 10l.94 2.06.94-2.06 2.06-.94-2.06-.94-.94-2.06-.94 2.06-2.06.94z\"/><path d=\"M17.41 7.96l-1.37-1.37c-.4-.4-.92-.59-1.43-.59-.52 0-1.04.2-1.43.59L10.3 9.45l-7.72 7.72c-.78.78-.78 2.05 0 2.83L4 21.41c.39.39.9.59 1.41.59.51 0 1.02-.2 1.41-.59l7.78-7.78 2.81-2.81c.8-.78.8-2.07 0-2.86zM5.41 20L4 18.59l7.72-7.72 1.47 1.35L5.41 20z\"/>\n",
              "  </svg>\n",
              "      </button>\n",
              "      \n",
              "  <style>\n",
              "    .colab-df-container {\n",
              "      display:flex;\n",
              "      flex-wrap:wrap;\n",
              "      gap: 12px;\n",
              "    }\n",
              "\n",
              "    .colab-df-convert {\n",
              "      background-color: #E8F0FE;\n",
              "      border: none;\n",
              "      border-radius: 50%;\n",
              "      cursor: pointer;\n",
              "      display: none;\n",
              "      fill: #1967D2;\n",
              "      height: 32px;\n",
              "      padding: 0 0 0 0;\n",
              "      width: 32px;\n",
              "    }\n",
              "\n",
              "    .colab-df-convert:hover {\n",
              "      background-color: #E2EBFA;\n",
              "      box-shadow: 0px 1px 2px rgba(60, 64, 67, 0.3), 0px 1px 3px 1px rgba(60, 64, 67, 0.15);\n",
              "      fill: #174EA6;\n",
              "    }\n",
              "\n",
              "    [theme=dark] .colab-df-convert {\n",
              "      background-color: #3B4455;\n",
              "      fill: #D2E3FC;\n",
              "    }\n",
              "\n",
              "    [theme=dark] .colab-df-convert:hover {\n",
              "      background-color: #434B5C;\n",
              "      box-shadow: 0px 1px 3px 1px rgba(0, 0, 0, 0.15);\n",
              "      filter: drop-shadow(0px 1px 2px rgba(0, 0, 0, 0.3));\n",
              "      fill: #FFFFFF;\n",
              "    }\n",
              "  </style>\n",
              "\n",
              "      <script>\n",
              "        const buttonEl =\n",
              "          document.querySelector('#df-e7ebfca3-286e-43ae-8f5d-dbcf991b1458 button.colab-df-convert');\n",
              "        buttonEl.style.display =\n",
              "          google.colab.kernel.accessAllowed ? 'block' : 'none';\n",
              "\n",
              "        async function convertToInteractive(key) {\n",
              "          const element = document.querySelector('#df-e7ebfca3-286e-43ae-8f5d-dbcf991b1458');\n",
              "          const dataTable =\n",
              "            await google.colab.kernel.invokeFunction('convertToInteractive',\n",
              "                                                     [key], {});\n",
              "          if (!dataTable) return;\n",
              "\n",
              "          const docLinkHtml = 'Like what you see? Visit the ' +\n",
              "            '<a target=\"_blank\" href=https://colab.research.google.com/notebooks/data_table.ipynb>data table notebook</a>'\n",
              "            + ' to learn more about interactive tables.';\n",
              "          element.innerHTML = '';\n",
              "          dataTable['output_type'] = 'display_data';\n",
              "          await google.colab.output.renderOutput(dataTable, element);\n",
              "          const docLink = document.createElement('div');\n",
              "          docLink.innerHTML = docLinkHtml;\n",
              "          element.appendChild(docLink);\n",
              "        }\n",
              "      </script>\n",
              "    </div>\n",
              "  </div>\n",
              "  "
            ]
          },
          "metadata": {},
          "execution_count": 441
        }
      ]
    },
    {
      "cell_type": "code",
      "source": [
        "result['year'] = result['Incident_Date'].dt.year\n",
        "result.head()"
      ],
      "metadata": {
        "id": "EEGkYsG9baN_",
        "colab": {
          "base_uri": "https://localhost:8080/",
          "height": 206
        },
        "outputId": "e0b23d72-da2e-488d-a380-24d958a7c003"
      },
      "execution_count": null,
      "outputs": [
        {
          "output_type": "execute_result",
          "data": {
            "text/plain": [
              "  Incident_Date        Aircaft_Model Aircaft_Nature  Fatalities Country  \\\n",
              "0    1919-08-02        Caproni Ca.48     Commercial        14.0   Italy   \n",
              "1    1920-02-23     Handley Page O/7     Commercial         0.0  France   \n",
              "2    1920-02-25   Handley Page O/400        Unknown         0.0   Egypt   \n",
              "3    1921-03-02     Handley Page O/7        Unknown         0.0   India   \n",
              "4    1921-08-26  Farman F.60 Goliath          Cargo         2.0  France   \n",
              "\n",
              "  alpha-2 alpha-3  region  year  \n",
              "0      IT     ITA  Europe  1919  \n",
              "1      FR     FRA  Europe  1920  \n",
              "2      EG     EGY  Africa  1920  \n",
              "3      IN     IND    Asia  1921  \n",
              "4      FR     FRA  Europe  1921  "
            ],
            "text/html": [
              "\n",
              "  <div id=\"df-d3c67f25-d71a-4f1d-8787-cf03d6b38fe6\">\n",
              "    <div class=\"colab-df-container\">\n",
              "      <div>\n",
              "<style scoped>\n",
              "    .dataframe tbody tr th:only-of-type {\n",
              "        vertical-align: middle;\n",
              "    }\n",
              "\n",
              "    .dataframe tbody tr th {\n",
              "        vertical-align: top;\n",
              "    }\n",
              "\n",
              "    .dataframe thead th {\n",
              "        text-align: right;\n",
              "    }\n",
              "</style>\n",
              "<table border=\"1\" class=\"dataframe\">\n",
              "  <thead>\n",
              "    <tr style=\"text-align: right;\">\n",
              "      <th></th>\n",
              "      <th>Incident_Date</th>\n",
              "      <th>Aircaft_Model</th>\n",
              "      <th>Aircaft_Nature</th>\n",
              "      <th>Fatalities</th>\n",
              "      <th>Country</th>\n",
              "      <th>alpha-2</th>\n",
              "      <th>alpha-3</th>\n",
              "      <th>region</th>\n",
              "      <th>year</th>\n",
              "    </tr>\n",
              "  </thead>\n",
              "  <tbody>\n",
              "    <tr>\n",
              "      <th>0</th>\n",
              "      <td>1919-08-02</td>\n",
              "      <td>Caproni Ca.48</td>\n",
              "      <td>Commercial</td>\n",
              "      <td>14.0</td>\n",
              "      <td>Italy</td>\n",
              "      <td>IT</td>\n",
              "      <td>ITA</td>\n",
              "      <td>Europe</td>\n",
              "      <td>1919</td>\n",
              "    </tr>\n",
              "    <tr>\n",
              "      <th>1</th>\n",
              "      <td>1920-02-23</td>\n",
              "      <td>Handley Page O/7</td>\n",
              "      <td>Commercial</td>\n",
              "      <td>0.0</td>\n",
              "      <td>France</td>\n",
              "      <td>FR</td>\n",
              "      <td>FRA</td>\n",
              "      <td>Europe</td>\n",
              "      <td>1920</td>\n",
              "    </tr>\n",
              "    <tr>\n",
              "      <th>2</th>\n",
              "      <td>1920-02-25</td>\n",
              "      <td>Handley Page O/400</td>\n",
              "      <td>Unknown</td>\n",
              "      <td>0.0</td>\n",
              "      <td>Egypt</td>\n",
              "      <td>EG</td>\n",
              "      <td>EGY</td>\n",
              "      <td>Africa</td>\n",
              "      <td>1920</td>\n",
              "    </tr>\n",
              "    <tr>\n",
              "      <th>3</th>\n",
              "      <td>1921-03-02</td>\n",
              "      <td>Handley Page O/7</td>\n",
              "      <td>Unknown</td>\n",
              "      <td>0.0</td>\n",
              "      <td>India</td>\n",
              "      <td>IN</td>\n",
              "      <td>IND</td>\n",
              "      <td>Asia</td>\n",
              "      <td>1921</td>\n",
              "    </tr>\n",
              "    <tr>\n",
              "      <th>4</th>\n",
              "      <td>1921-08-26</td>\n",
              "      <td>Farman F.60 Goliath</td>\n",
              "      <td>Cargo</td>\n",
              "      <td>2.0</td>\n",
              "      <td>France</td>\n",
              "      <td>FR</td>\n",
              "      <td>FRA</td>\n",
              "      <td>Europe</td>\n",
              "      <td>1921</td>\n",
              "    </tr>\n",
              "  </tbody>\n",
              "</table>\n",
              "</div>\n",
              "      <button class=\"colab-df-convert\" onclick=\"convertToInteractive('df-d3c67f25-d71a-4f1d-8787-cf03d6b38fe6')\"\n",
              "              title=\"Convert this dataframe to an interactive table.\"\n",
              "              style=\"display:none;\">\n",
              "        \n",
              "  <svg xmlns=\"http://www.w3.org/2000/svg\" height=\"24px\"viewBox=\"0 0 24 24\"\n",
              "       width=\"24px\">\n",
              "    <path d=\"M0 0h24v24H0V0z\" fill=\"none\"/>\n",
              "    <path d=\"M18.56 5.44l.94 2.06.94-2.06 2.06-.94-2.06-.94-.94-2.06-.94 2.06-2.06.94zm-11 1L8.5 8.5l.94-2.06 2.06-.94-2.06-.94L8.5 2.5l-.94 2.06-2.06.94zm10 10l.94 2.06.94-2.06 2.06-.94-2.06-.94-.94-2.06-.94 2.06-2.06.94z\"/><path d=\"M17.41 7.96l-1.37-1.37c-.4-.4-.92-.59-1.43-.59-.52 0-1.04.2-1.43.59L10.3 9.45l-7.72 7.72c-.78.78-.78 2.05 0 2.83L4 21.41c.39.39.9.59 1.41.59.51 0 1.02-.2 1.41-.59l7.78-7.78 2.81-2.81c.8-.78.8-2.07 0-2.86zM5.41 20L4 18.59l7.72-7.72 1.47 1.35L5.41 20z\"/>\n",
              "  </svg>\n",
              "      </button>\n",
              "      \n",
              "  <style>\n",
              "    .colab-df-container {\n",
              "      display:flex;\n",
              "      flex-wrap:wrap;\n",
              "      gap: 12px;\n",
              "    }\n",
              "\n",
              "    .colab-df-convert {\n",
              "      background-color: #E8F0FE;\n",
              "      border: none;\n",
              "      border-radius: 50%;\n",
              "      cursor: pointer;\n",
              "      display: none;\n",
              "      fill: #1967D2;\n",
              "      height: 32px;\n",
              "      padding: 0 0 0 0;\n",
              "      width: 32px;\n",
              "    }\n",
              "\n",
              "    .colab-df-convert:hover {\n",
              "      background-color: #E2EBFA;\n",
              "      box-shadow: 0px 1px 2px rgba(60, 64, 67, 0.3), 0px 1px 3px 1px rgba(60, 64, 67, 0.15);\n",
              "      fill: #174EA6;\n",
              "    }\n",
              "\n",
              "    [theme=dark] .colab-df-convert {\n",
              "      background-color: #3B4455;\n",
              "      fill: #D2E3FC;\n",
              "    }\n",
              "\n",
              "    [theme=dark] .colab-df-convert:hover {\n",
              "      background-color: #434B5C;\n",
              "      box-shadow: 0px 1px 3px 1px rgba(0, 0, 0, 0.15);\n",
              "      filter: drop-shadow(0px 1px 2px rgba(0, 0, 0, 0.3));\n",
              "      fill: #FFFFFF;\n",
              "    }\n",
              "  </style>\n",
              "\n",
              "      <script>\n",
              "        const buttonEl =\n",
              "          document.querySelector('#df-d3c67f25-d71a-4f1d-8787-cf03d6b38fe6 button.colab-df-convert');\n",
              "        buttonEl.style.display =\n",
              "          google.colab.kernel.accessAllowed ? 'block' : 'none';\n",
              "\n",
              "        async function convertToInteractive(key) {\n",
              "          const element = document.querySelector('#df-d3c67f25-d71a-4f1d-8787-cf03d6b38fe6');\n",
              "          const dataTable =\n",
              "            await google.colab.kernel.invokeFunction('convertToInteractive',\n",
              "                                                     [key], {});\n",
              "          if (!dataTable) return;\n",
              "\n",
              "          const docLinkHtml = 'Like what you see? Visit the ' +\n",
              "            '<a target=\"_blank\" href=https://colab.research.google.com/notebooks/data_table.ipynb>data table notebook</a>'\n",
              "            + ' to learn more about interactive tables.';\n",
              "          element.innerHTML = '';\n",
              "          dataTable['output_type'] = 'display_data';\n",
              "          await google.colab.output.renderOutput(dataTable, element);\n",
              "          const docLink = document.createElement('div');\n",
              "          docLink.innerHTML = docLinkHtml;\n",
              "          element.appendChild(docLink);\n",
              "        }\n",
              "      </script>\n",
              "    </div>\n",
              "  </div>\n",
              "  "
            ]
          },
          "metadata": {},
          "execution_count": 442
        }
      ]
    },
    {
      "cell_type": "code",
      "source": [
        "result=result.dropna() #ดรอปค่าว่าง"
      ],
      "metadata": {
        "id": "EZGELUJTaDqU"
      },
      "execution_count": null,
      "outputs": []
    },
    {
      "cell_type": "code",
      "source": [
        "result.isnull().sum()"
      ],
      "metadata": {
        "colab": {
          "base_uri": "https://localhost:8080/"
        },
        "id": "tbWCImyhaI53",
        "outputId": "d5fe491d-7ee8-4133-bb05-d83e320e3650"
      },
      "execution_count": null,
      "outputs": [
        {
          "output_type": "execute_result",
          "data": {
            "text/plain": [
              "Incident_Date     0\n",
              "Aircaft_Model     0\n",
              "Aircaft_Nature    0\n",
              "Fatalities        0\n",
              "Country           0\n",
              "alpha-2           0\n",
              "alpha-3           0\n",
              "region            0\n",
              "year              0\n",
              "dtype: int64"
            ]
          },
          "metadata": {},
          "execution_count": 444
        }
      ]
    },
    {
      "cell_type": "markdown",
      "source": [
        "##Plot"
      ],
      "metadata": {
        "id": "9pGCYF4NaQqm"
      }
    },
    {
      "cell_type": "code",
      "source": [
        "yv = result['year'].value_counts() #นับจำนวนปีที่เกิดอุบัติเหตุมากที่สุดของแต่ละปี\n",
        "yv[:10]"
      ],
      "metadata": {
        "colab": {
          "base_uri": "https://localhost:8080/"
        },
        "id": "ulrVOb5NeWCe",
        "outputId": "b0e6a3e1-5fb0-4864-9659-e94973ae7bc7"
      },
      "execution_count": null,
      "outputs": [
        {
          "output_type": "execute_result",
          "data": {
            "text/plain": [
              "1944    479\n",
              "1945    319\n",
              "1943    160\n",
              "2021    117\n",
              "2020    109\n",
              "1972    101\n",
              "1946     97\n",
              "1948     94\n",
              "1947     88\n",
              "1969     80\n",
              "Name: year, dtype: int64"
            ]
          },
          "metadata": {},
          "execution_count": 445
        }
      ]
    },
    {
      "cell_type": "code",
      "source": [
        "plt.figure(figsize=(12,7))\n",
        "sns.barplot(x=yv.index[:10], y=yv.values[:10], palette=\"Blues_d\").set(title='Most of year with accident') #plot \n",
        "plt.xlabel('Year')\n",
        "plt.ylabel('Count')"
      ],
      "metadata": {
        "colab": {
          "base_uri": "https://localhost:8080/",
          "height": 475
        },
        "id": "cZAw--Sled2s",
        "outputId": "738f752d-a2d1-4c36-e0ac-402c8c3afcb8"
      },
      "execution_count": null,
      "outputs": [
        {
          "output_type": "execute_result",
          "data": {
            "text/plain": [
              "Text(0, 0.5, 'Count')"
            ]
          },
          "metadata": {},
          "execution_count": 459
        },
        {
          "output_type": "display_data",
          "data": {
            "text/plain": [
              "<Figure size 864x504 with 1 Axes>"
            ],
            "image/png": "[encoded data removed]"
          },
          "metadata": {
            "needs_background": "light"
          }
        }
      ]
    },
    {
      "cell_type": "code",
      "source": [
        "yna = result['Aircaft_Nature'].value_counts() #นับจำนวนประเภทของเครื่องบินที่เกิดอุบัติเหตุ\n",
        "yna[:10]"
      ],
      "metadata": {
        "id": "58ZnTnIRbFBo",
        "colab": {
          "base_uri": "https://localhost:8080/"
        },
        "outputId": "ac2634bb-55db-4eaf-b4f2-15a34d66e4da"
      },
      "execution_count": null,
      "outputs": [
        {
          "output_type": "execute_result",
          "data": {
            "text/plain": [
              "Commercial           2006\n",
              "Military             1675\n",
              "Unknown               630\n",
              "Cargo                 424\n",
              "Ferry/positioning     114\n",
              "Executive              78\n",
              "Training               70\n",
              "Private                58\n",
              "Test                   49\n",
              "Illegal Flight         41\n",
              "Name: Aircaft_Nature, dtype: int64"
            ]
          },
          "metadata": {},
          "execution_count": 452
        }
      ]
    },
    {
      "cell_type": "code",
      "source": [
        "plt.figure(figsize=(12,7))\n",
        "sns.barplot(x=yna.index[:10], y=yna.values[:10], palette=\"Blues_d\").set(title='Most of Aircaft Nature with accident')\n",
        "plt.xlabel('Aircaft Nature')\n",
        "plt.ylabel('Count')"
      ],
      "metadata": {
        "colab": {
          "base_uri": "https://localhost:8080/",
          "height": 475
        },
        "id": "zZ7U999Pgnss",
        "outputId": "c7869218-b6e9-4c6a-b91e-4617d3920551"
      },
      "execution_count": null,
      "outputs": [
        {
          "output_type": "execute_result",
          "data": {
            "text/plain": [
              "Text(0, 0.5, 'Count')"
            ]
          },
          "metadata": {},
          "execution_count": 458
        },
        {
          "output_type": "display_data",
          "data": {
            "text/plain": [
              "<Figure size 864x504 with 1 Axes>"
            ],
            "image/png": "[encoded data removed]"
          },
          "metadata": {
            "needs_background": "light"
          }
        }
      ]
    },
    {
      "cell_type": "code",
      "source": [
        "re = result['region'].value_counts() #นับจำนวนทวีปของอุบัติเหตุที่เกิดขึ้น\n",
        "re"
      ],
      "metadata": {
        "colab": {
          "base_uri": "https://localhost:8080/"
        },
        "id": "Uj9THU4Gg6Qs",
        "outputId": "e9387604-30e4-4b68-918f-e88e05bda3f2"
      },
      "execution_count": null,
      "outputs": [
        {
          "output_type": "execute_result",
          "data": {
            "text/plain": [
              "Americas    1725\n",
              "Europe      1473\n",
              "Asia        1373\n",
              "Africa       531\n",
              "Oceania      176\n",
              "Name: region, dtype: int64"
            ]
          },
          "metadata": {},
          "execution_count": 454
        }
      ]
    },
    {
      "cell_type": "code",
      "source": [
        "plt.figure(figsize=(12,7))\n",
        "sns.barplot(x=re.index, y=re.values, palette=\"Blues_d\").set(title='Most of region with accident')\n",
        "plt.xlabel('Aircaft Nature')\n",
        "plt.ylabel('Count')"
      ],
      "metadata": {
        "colab": {
          "base_uri": "https://localhost:8080/",
          "height": 475
        },
        "id": "N1knlMlzg_s_",
        "outputId": "0ef78182-1054-4db8-a346-d2a22fa3f43c"
      },
      "execution_count": null,
      "outputs": [
        {
          "output_type": "execute_result",
          "data": {
            "text/plain": [
              "Text(0, 0.5, 'Count')"
            ]
          },
          "metadata": {},
          "execution_count": 460
        },
        {
          "output_type": "display_data",
          "data": {
            "text/plain": [
              "<Figure size 864x504 with 1 Axes>"
            ],
            "image/png": "[encoded data removed]"
          },
          "metadata": {
            "needs_background": "light"
          }
        }
      ]
    },
    {
      "cell_type": "code",
      "source": [
        "#export data\n",
        "result.to_csv(\"concat_data.csv\")"
      ],
      "metadata": {
        "id": "hZi4U3C4tYFB"
      },
      "execution_count": null,
      "outputs": []
    }
  ]
}