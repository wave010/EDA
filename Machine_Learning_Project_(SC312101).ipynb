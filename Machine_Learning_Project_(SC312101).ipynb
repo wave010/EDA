{
  "nbformat": 4,
  "nbformat_minor": 0,
  "metadata": {
    "colab": {
      "provenance": [],
      "collapsed_sections": [
        "QlEyemtqbrzp",
        "-bWOvUVe4vI7",
        "rYxKEwRI5BGN"
      ],
      "authorship_tag": "ABX9TyML1SV/WG79mePkbB7GilLo",
      "include_colab_link": true
    },
    "kernelspec": {
      "name": "python3",
      "display_name": "Python 3"
    },
    "language_info": {
      "name": "python"
    }
  },
  "cells": [
    {
      "cell_type": "markdown",
      "metadata": {
        "id": "view-in-github",
        "colab_type": "text"
      },
      "source": [
        "<a href=\"https://colab.research.google.com/github/wave010/EDA-Python/blob/main/Machine_Learning_Project_(SC312101).ipynb\" target=\"_parent\"><img src=\"https://colab.research.google.com/assets/colab-badge.svg\" alt=\"Open In Colab\"/></a>"
      ]
    },
    {
      "cell_type": "markdown",
      "source": [
        "**รายชื่อสมาชิกกลุ่ม 7**\n",
        "* 633020393-2 นายถิรวัฒน์ พงษ์สิมา\n",
        "* 633021005-2 นายศุภกร มุ่งสมัคร\n",
        "* 633020038-2 ภูดิส แสนทิพย์\n",
        "* 633020039-0 ภูธเนศ เครือคำ\n",
        "* 633020410-8 พัฒนศักดิ์ นิเรียงรัมย์"
      ],
      "metadata": {
        "id": "mw-BLvd5GWey"
      }
    },
    {
      "cell_type": "markdown",
      "source": [
        "# **Classification**"
      ],
      "metadata": {
        "id": "QlEyemtqbrzp"
      }
    },
    {
      "cell_type": "markdown",
      "source": [
        "**ข้อมูล**"
      ],
      "metadata": {
        "id": "cacwADuKDRsJ"
      }
    },
    {
      "cell_type": "markdown",
      "source": [
        "ข้อมูลที่ใช้คือ ข้อมูลที่ไว้ระบุชนิดของแก้วจาก UCI ประกอบด้วย 10 แอตทริบิวต์ ต่อแก้ว 7 ประเภท จำนวนข้อมูลมีทั้งหมด 214 แถว [data link](https://www.kaggle.com/datasets/uciml/glass?select=glass.csv) \n",
        "\n",
        "ข้อมูลแต่ละแอตทริบิวต์ คือ ❗\n",
        "1. RI: refractive index (ค่าดัชนีการหักเหของแสง)\n",
        "2. Na: Sodium (unit measurement: weight percent in corresponding oxide, as are attributes 4-10)\n",
        "3. Mg: Magnesium\n",
        "4. Al: Aluminum\n",
        "5. Si: Silicon\n",
        "6. K: Potassium\n",
        "7. Ca: Calcium\n",
        "8. Ba: Barium\n",
        "9. Fe: Iron\n",
        "10. Type of glass: (class attribute) ▶\n",
        "  * 1 buildingwindowsfloatprocessed \n",
        "  * 2 buildingwindowsnonfloatprocessed \n",
        "  * 3 vehiclewindowsfloatprocessed\n",
        "  * 4 vehiclewindowsnonfloatprocessed (none in this database)\n",
        "  * 5 containers\n",
        "  * 6 tableware\n",
        "  * 7 headlamps\n",
        "\n",
        "กำหนดข้อมูล Input และ Output\n",
        "* Input : แอตทริบิวต์ 1 - 9 📥\n",
        "* Output : แอตทริบิวต์ 10 (Type of glass) 📤\n",
        "\n"
      ],
      "metadata": {
        "id": "DVdZTtE2Dldk"
      }
    },
    {
      "cell_type": "markdown",
      "source": [
        "รายละเอียดกระบวนการ machine learning ที่ออกแบบมาสำหรับ classification\n",
        "\n",
        "-- ผลการทำงาน/การวัดประสิทธิภาพ (อาจจะวัดโดยใช้ model 2 ตัว หรือใช้ 1 model แล้วทำการทดลองเปลี่ยนค่า parameter)\n",
        "\n",
        "-- วิเคราะห์ผล"
      ],
      "metadata": {
        "id": "n3Z_Z7I7IZsN"
      }
    },
    {
      "cell_type": "markdown",
      "source": [
        "**เพื่อทำการพยากรณ์ชนิดของแก้ว**"
      ],
      "metadata": {
        "id": "AUyf9QeoQViB"
      }
    },
    {
      "cell_type": "code",
      "execution_count": null,
      "metadata": {
        "id": "HNgVy3libgYU",
        "colab": {
          "base_uri": "https://localhost:8080/"
        },
        "outputId": "1f7a234a-c90d-425a-e945-a637ee849d98"
      },
      "outputs": [
        {
          "output_type": "stream",
          "name": "stdout",
          "text": [
            "/usr/local/lib/python3.7/dist-packages/gdown/cli.py:131: FutureWarning: Option `--id` was deprecated in version 4.3.1 and will be removed in 5.0. You don't need to pass it anymore to use a file ID.\n",
            "  category=FutureWarning,\n",
            "Downloading...\n",
            "From: https://drive.google.com/uc?id=1GRkFPfDAMM51AYS2g_E69MuOtU2NpV19\n",
            "To: /content/glass.csv\n",
            "100% 10.1k/10.1k [00:00<00:00, 16.3MB/s]\n"
          ]
        }
      ],
      "source": [
        "# download ข้อมูล แล้วอัพลง Google Drive เพื่อให้ง่ายต่อการนำข้อมูลมาใช้งานใน Google Colab\n",
        "!gdown --id 1GRkFPfDAMM51AYS2g_E69MuOtU2NpV19 #ใช้คำสั่ง !gdown --id <link id> เพื่อโหลดข้อมูลจาก Google Drive"
      ]
    },
    {
      "cell_type": "code",
      "source": [
        "import pandas as pd #import library pandas เพื่อใช้จัดการกับข้อมูลตาราง\n",
        "\n",
        "glass = pd.read_csv(\"glass.csv\") # อ่านข้อมูลจากไฟล์ เก็บเป็น DataFrame ลงตัวแปร glass \n",
        "glass.head() #แสดงข้อมูล 5 แถวแรก"
      ],
      "metadata": {
        "colab": {
          "base_uri": "https://localhost:8080/",
          "height": 206
        },
        "id": "mkFXXW5CIrSf",
        "outputId": "f58bf8b8-dd87-4822-fa8c-cf6ae9ac9c00"
      },
      "execution_count": null,
      "outputs": [
        {
          "output_type": "execute_result",
          "data": {
            "text/plain": [
              "        RI     Na    Mg    Al     Si     K    Ca   Ba   Fe  Type\n",
              "0  1.52101  13.64  4.49  1.10  71.78  0.06  8.75  0.0  0.0     1\n",
              "1  1.51761  13.89  3.60  1.36  72.73  0.48  7.83  0.0  0.0     1\n",
              "2  1.51618  13.53  3.55  1.54  72.99  0.39  7.78  0.0  0.0     1\n",
              "3  1.51766  13.21  3.69  1.29  72.61  0.57  8.22  0.0  0.0     1\n",
              "4  1.51742  13.27  3.62  1.24  73.08  0.55  8.07  0.0  0.0     1"
            ],
            "text/html": [
              "\n",
              "  <div id=\"df-2954c066-b701-46a1-8244-fc625ce38891\">\n",
              "    <div class=\"colab-df-container\">\n",
              "      <div>\n",
              "<style scoped>\n",
              "    .dataframe tbody tr th:only-of-type {\n",
              "        vertical-align: middle;\n",
              "    }\n",
              "\n",
              "    .dataframe tbody tr th {\n",
              "        vertical-align: top;\n",
              "    }\n",
              "\n",
              "    .dataframe thead th {\n",
              "        text-align: right;\n",
              "    }\n",
              "</style>\n",
              "<table border=\"1\" class=\"dataframe\">\n",
              "  <thead>\n",
              "    <tr style=\"text-align: right;\">\n",
              "      <th></th>\n",
              "      <th>RI</th>\n",
              "      <th>Na</th>\n",
              "      <th>Mg</th>\n",
              "      <th>Al</th>\n",
              "      <th>Si</th>\n",
              "      <th>K</th>\n",
              "      <th>Ca</th>\n",
              "      <th>Ba</th>\n",
              "      <th>Fe</th>\n",
              "      <th>Type</th>\n",
              "    </tr>\n",
              "  </thead>\n",
              "  <tbody>\n",
              "    <tr>\n",
              "      <th>0</th>\n",
              "      <td>1.52101</td>\n",
              "      <td>13.64</td>\n",
              "      <td>4.49</td>\n",
              "      <td>1.10</td>\n",
              "      <td>71.78</td>\n",
              "      <td>0.06</td>\n",
              "      <td>8.75</td>\n",
              "      <td>0.0</td>\n",
              "      <td>0.0</td>\n",
              "      <td>1</td>\n",
              "    </tr>\n",
              "    <tr>\n",
              "      <th>1</th>\n",
              "      <td>1.51761</td>\n",
              "      <td>13.89</td>\n",
              "      <td>3.60</td>\n",
              "      <td>1.36</td>\n",
              "      <td>72.73</td>\n",
              "      <td>0.48</td>\n",
              "      <td>7.83</td>\n",
              "      <td>0.0</td>\n",
              "      <td>0.0</td>\n",
              "      <td>1</td>\n",
              "    </tr>\n",
              "    <tr>\n",
              "      <th>2</th>\n",
              "      <td>1.51618</td>\n",
              "      <td>13.53</td>\n",
              "      <td>3.55</td>\n",
              "      <td>1.54</td>\n",
              "      <td>72.99</td>\n",
              "      <td>0.39</td>\n",
              "      <td>7.78</td>\n",
              "      <td>0.0</td>\n",
              "      <td>0.0</td>\n",
              "      <td>1</td>\n",
              "    </tr>\n",
              "    <tr>\n",
              "      <th>3</th>\n",
              "      <td>1.51766</td>\n",
              "      <td>13.21</td>\n",
              "      <td>3.69</td>\n",
              "      <td>1.29</td>\n",
              "      <td>72.61</td>\n",
              "      <td>0.57</td>\n",
              "      <td>8.22</td>\n",
              "      <td>0.0</td>\n",
              "      <td>0.0</td>\n",
              "      <td>1</td>\n",
              "    </tr>\n",
              "    <tr>\n",
              "      <th>4</th>\n",
              "      <td>1.51742</td>\n",
              "      <td>13.27</td>\n",
              "      <td>3.62</td>\n",
              "      <td>1.24</td>\n",
              "      <td>73.08</td>\n",
              "      <td>0.55</td>\n",
              "      <td>8.07</td>\n",
              "      <td>0.0</td>\n",
              "      <td>0.0</td>\n",
              "      <td>1</td>\n",
              "    </tr>\n",
              "  </tbody>\n",
              "</table>\n",
              "</div>\n",
              "      <button class=\"colab-df-convert\" onclick=\"convertToInteractive('df-2954c066-b701-46a1-8244-fc625ce38891')\"\n",
              "              title=\"Convert this dataframe to an interactive table.\"\n",
              "              style=\"display:none;\">\n",
              "        \n",
              "  <svg xmlns=\"http://www.w3.org/2000/svg\" height=\"24px\"viewBox=\"0 0 24 24\"\n",
              "       width=\"24px\">\n",
              "    <path d=\"M0 0h24v24H0V0z\" fill=\"none\"/>\n",
              "    <path d=\"M18.56 5.44l.94 2.06.94-2.06 2.06-.94-2.06-.94-.94-2.06-.94 2.06-2.06.94zm-11 1L8.5 8.5l.94-2.06 2.06-.94-2.06-.94L8.5 2.5l-.94 2.06-2.06.94zm10 10l.94 2.06.94-2.06 2.06-.94-2.06-.94-.94-2.06-.94 2.06-2.06.94z\"/><path d=\"M17.41 7.96l-1.37-1.37c-.4-.4-.92-.59-1.43-.59-.52 0-1.04.2-1.43.59L10.3 9.45l-7.72 7.72c-.78.78-.78 2.05 0 2.83L4 21.41c.39.39.9.59 1.41.59.51 0 1.02-.2 1.41-.59l7.78-7.78 2.81-2.81c.8-.78.8-2.07 0-2.86zM5.41 20L4 18.59l7.72-7.72 1.47 1.35L5.41 20z\"/>\n",
              "  </svg>\n",
              "      </button>\n",
              "      \n",
              "  <style>\n",
              "    .colab-df-container {\n",
              "      display:flex;\n",
              "      flex-wrap:wrap;\n",
              "      gap: 12px;\n",
              "    }\n",
              "\n",
              "    .colab-df-convert {\n",
              "      background-color: #E8F0FE;\n",
              "      border: none;\n",
              "      border-radius: 50%;\n",
              "      cursor: pointer;\n",
              "      display: none;\n",
              "      fill: #1967D2;\n",
              "      height: 32px;\n",
              "      padding: 0 0 0 0;\n",
              "      width: 32px;\n",
              "    }\n",
              "\n",
              "    .colab-df-convert:hover {\n",
              "      background-color: #E2EBFA;\n",
              "      box-shadow: 0px 1px 2px rgba(60, 64, 67, 0.3), 0px 1px 3px 1px rgba(60, 64, 67, 0.15);\n",
              "      fill: #174EA6;\n",
              "    }\n",
              "\n",
              "    [theme=dark] .colab-df-convert {\n",
              "      background-color: #3B4455;\n",
              "      fill: #D2E3FC;\n",
              "    }\n",
              "\n",
              "    [theme=dark] .colab-df-convert:hover {\n",
              "      background-color: #434B5C;\n",
              "      box-shadow: 0px 1px 3px 1px rgba(0, 0, 0, 0.15);\n",
              "      filter: drop-shadow(0px 1px 2px rgba(0, 0, 0, 0.3));\n",
              "      fill: #FFFFFF;\n",
              "    }\n",
              "  </style>\n",
              "\n",
              "      <script>\n",
              "        const buttonEl =\n",
              "          document.querySelector('#df-2954c066-b701-46a1-8244-fc625ce38891 button.colab-df-convert');\n",
              "        buttonEl.style.display =\n",
              "          google.colab.kernel.accessAllowed ? 'block' : 'none';\n",
              "\n",
              "        async function convertToInteractive(key) {\n",
              "          const element = document.querySelector('#df-2954c066-b701-46a1-8244-fc625ce38891');\n",
              "          const dataTable =\n",
              "            await google.colab.kernel.invokeFunction('convertToInteractive',\n",
              "                                                     [key], {});\n",
              "          if (!dataTable) return;\n",
              "\n",
              "          const docLinkHtml = 'Like what you see? Visit the ' +\n",
              "            '<a target=\"_blank\" href=https://colab.research.google.com/notebooks/data_table.ipynb>data table notebook</a>'\n",
              "            + ' to learn more about interactive tables.';\n",
              "          element.innerHTML = '';\n",
              "          dataTable['output_type'] = 'display_data';\n",
              "          await google.colab.output.renderOutput(dataTable, element);\n",
              "          const docLink = document.createElement('div');\n",
              "          docLink.innerHTML = docLinkHtml;\n",
              "          element.appendChild(docLink);\n",
              "        }\n",
              "      </script>\n",
              "    </div>\n",
              "  </div>\n",
              "  "
            ]
          },
          "metadata": {},
          "execution_count": 2
        }
      ]
    },
    {
      "cell_type": "code",
      "source": [
        "glass.shape # ขนาดช้อมูล "
      ],
      "metadata": {
        "colab": {
          "base_uri": "https://localhost:8080/"
        },
        "id": "JVQtNjr_bIFh",
        "outputId": "4e64b45a-efee-492e-e0e5-a18f2e1982dd"
      },
      "execution_count": null,
      "outputs": [
        {
          "output_type": "execute_result",
          "data": {
            "text/plain": [
              "(214, 10)"
            ]
          },
          "metadata": {},
          "execution_count": 3
        }
      ]
    },
    {
      "cell_type": "code",
      "source": [
        "glass.info()"
      ],
      "metadata": {
        "colab": {
          "base_uri": "https://localhost:8080/"
        },
        "id": "ZGy8aLPAIrdj",
        "outputId": "b211ed70-5d87-4523-b3a4-91732b32f87b"
      },
      "execution_count": null,
      "outputs": [
        {
          "output_type": "stream",
          "name": "stdout",
          "text": [
            "<class 'pandas.core.frame.DataFrame'>\n",
            "RangeIndex: 214 entries, 0 to 213\n",
            "Data columns (total 10 columns):\n",
            " #   Column  Non-Null Count  Dtype  \n",
            "---  ------  --------------  -----  \n",
            " 0   RI      214 non-null    float64\n",
            " 1   Na      214 non-null    float64\n",
            " 2   Mg      214 non-null    float64\n",
            " 3   Al      214 non-null    float64\n",
            " 4   Si      214 non-null    float64\n",
            " 5   K       214 non-null    float64\n",
            " 6   Ca      214 non-null    float64\n",
            " 7   Ba      214 non-null    float64\n",
            " 8   Fe      214 non-null    float64\n",
            " 9   Type    214 non-null    int64  \n",
            "dtypes: float64(9), int64(1)\n",
            "memory usage: 16.8 KB\n"
          ]
        }
      ]
    },
    {
      "cell_type": "code",
      "source": [
        "glass.isna().sum().sort_values() #ตรวจสอบหาข้อมูลที่เป็น null"
      ],
      "metadata": {
        "colab": {
          "base_uri": "https://localhost:8080/"
        },
        "id": "L4lIHnPMJMua",
        "outputId": "7195c43c-0f6a-4278-bb00-d5ea56b8993c"
      },
      "execution_count": null,
      "outputs": [
        {
          "output_type": "execute_result",
          "data": {
            "text/plain": [
              "RI      0\n",
              "Na      0\n",
              "Mg      0\n",
              "Al      0\n",
              "Si      0\n",
              "K       0\n",
              "Ca      0\n",
              "Ba      0\n",
              "Fe      0\n",
              "Type    0\n",
              "dtype: int64"
            ]
          },
          "metadata": {},
          "execution_count": 5
        }
      ]
    },
    {
      "cell_type": "markdown",
      "source": [
        "**Model**\n",
        "\n",
        "ใช้โมเดล 2 ตัวได้แก่  KNeighborsClassifier และ Gaussian Naive Bayes"
      ],
      "metadata": {
        "id": "d8lMIx-aX84O"
      }
    },
    {
      "cell_type": "code",
      "source": [
        "#split data ทำการแบ่งข้อมูลออกเป็น 2 ชุด คือ ข้อมูล train (ให้โมเดลเรียนรู้) และ ข้อมูล test (สำหรับทดสอบโมเดล)\n",
        "from sklearn.model_selection import train_test_split # libraly ที่้ไช้เพื่อแยกข้อมูลออกเป็น 2 ส่วน\n",
        "\n",
        "X = glass.drop('Type', axis=1) # สำหรับแยกข้อมูล Input\n",
        "y = glass['Type'] # สำหรับแยกข้อมูล Output\n",
        "\n",
        "#แยกข้อมูล train, test : ข้อมูล train 70 % และข้อมูล test 30 % \n",
        "X_train, X_test, y_train, y_test = train_test_split(X, y, test_size = 0.3, random_state=0)"
      ],
      "metadata": {
        "id": "qNYz89F7X8aV"
      },
      "execution_count": null,
      "outputs": []
    },
    {
      "cell_type": "code",
      "source": [
        "X_train.shape # ขนาดข้อมูล train"
      ],
      "metadata": {
        "colab": {
          "base_uri": "https://localhost:8080/"
        },
        "id": "biSQBfnwaygs",
        "outputId": "b6bff214-75f6-4f05-ea16-94b1235b9077"
      },
      "execution_count": null,
      "outputs": [
        {
          "output_type": "execute_result",
          "data": {
            "text/plain": [
              "(149, 9)"
            ]
          },
          "metadata": {},
          "execution_count": 7
        }
      ]
    },
    {
      "cell_type": "code",
      "source": [
        "X_test.shape # ขนาดข้อมูล test"
      ],
      "metadata": {
        "colab": {
          "base_uri": "https://localhost:8080/"
        },
        "id": "xL7QxOTea-NB",
        "outputId": "c804066e-da97-4298-b35e-875d1e27c217"
      },
      "execution_count": null,
      "outputs": [
        {
          "output_type": "execute_result",
          "data": {
            "text/plain": [
              "(65, 9)"
            ]
          },
          "metadata": {},
          "execution_count": 8
        }
      ]
    },
    {
      "cell_type": "code",
      "source": [
        "from sklearn.metrics import classification_report,accuracy_score, precision_score, recall_score, f1_score\n",
        "#Classifier implementing the k-nearest neighbors vote.\n",
        "from sklearn.neighbors import  KNeighborsClassifier #impor model KNN\n",
        "from sklearn.preprocessing import StandardScaler # Standardize features by removing the mean and scaling to unit variance. z = (x - u) / s\n",
        "from sklearn.pipeline import Pipeline # Pipeline of transforms with a final estimator.\n",
        "\n",
        "#create pipe\n",
        "pipe = Pipeline([\n",
        "    ('StandardScakaer',StandardScaler()),\n",
        "    ('KNeighboorClassifier',KNeighborsClassifier(n_neighbors=3))\n",
        "])\n",
        "\n",
        "#train data\n",
        "pipe.fit(X_train,y_train) \n",
        "\n",
        "#score\n",
        "y_predict = pipe.predict(X_test)\n",
        "print(classification_report(y_test, y_predict))\n",
        "# ในการพยากรณ์หาชนิดชองแก้ว โดยใช้โมเดล KNeighborsClassifier โดยใช้ตำแหน่งใกล้เคียงเป็นคือ 3 วัดประสิทธิภาพการพยากร์สำหรับข้อมูลทดสอบได้ 72 % "
      ],
      "metadata": {
        "colab": {
          "base_uri": "https://localhost:8080/"
        },
        "id": "lYEuHD1MKOxl",
        "outputId": "1c5efa3b-152c-4228-c4c2-08dfb916848c"
      },
      "execution_count": null,
      "outputs": [
        {
          "output_type": "stream",
          "name": "stdout",
          "text": [
            "              precision    recall  f1-score   support\n",
            "\n",
            "           1       0.59      0.81      0.68        21\n",
            "           2       0.77      0.77      0.77        26\n",
            "           3       0.00      0.00      0.00         7\n",
            "           5       1.00      1.00      1.00         2\n",
            "           6       1.00      0.50      0.67         2\n",
            "           7       1.00      1.00      1.00         7\n",
            "\n",
            "    accuracy                           0.72        65\n",
            "   macro avg       0.73      0.68      0.69        65\n",
            "weighted avg       0.67      0.72      0.69        65\n",
            "\n"
          ]
        },
        {
          "output_type": "stream",
          "name": "stderr",
          "text": [
            "/usr/local/lib/python3.7/dist-packages/sklearn/metrics/_classification.py:1318: UndefinedMetricWarning: Precision and F-score are ill-defined and being set to 0.0 in labels with no predicted samples. Use `zero_division` parameter to control this behavior.\n",
            "  _warn_prf(average, modifier, msg_start, len(result))\n",
            "/usr/local/lib/python3.7/dist-packages/sklearn/metrics/_classification.py:1318: UndefinedMetricWarning: Precision and F-score are ill-defined and being set to 0.0 in labels with no predicted samples. Use `zero_division` parameter to control this behavior.\n",
            "  _warn_prf(average, modifier, msg_start, len(result))\n",
            "/usr/local/lib/python3.7/dist-packages/sklearn/metrics/_classification.py:1318: UndefinedMetricWarning: Precision and F-score are ill-defined and being set to 0.0 in labels with no predicted samples. Use `zero_division` parameter to control this behavior.\n",
            "  _warn_prf(average, modifier, msg_start, len(result))\n"
          ]
        }
      ]
    },
    {
      "cell_type": "code",
      "source": [
        "#Gaussian Naive Bayes\n",
        "from sklearn.naive_bayes import GaussianNB #import model\n",
        "\n",
        "#create pipe\n",
        "pipe = Pipeline([\n",
        "    ('StandardScakaer',StandardScaler()),\n",
        "    ('GaussianNB',GaussianNB())\n",
        "])\n",
        "\n",
        "#train data\n",
        "pipe.fit(X_train,y_train) \n",
        "\n",
        "#score\n",
        "y_predict = pipe.predict(X_test)\n",
        "print(classification_report(y_test, y_predict))\n",
        "\n",
        "# ในการพยากรณ์หาชนิดชองแก้ว โดยใช้โมเดล Gaussian Naive Bayes วัดประสิทธิภาพการพยากร์สำหรับข้อมูลทดสอบได้ 46 % "
      ],
      "metadata": {
        "colab": {
          "base_uri": "https://localhost:8080/"
        },
        "id": "azBZ2YozSdmI",
        "outputId": "cc321577-4390-40f4-d7bb-2d1ea8da794b"
      },
      "execution_count": null,
      "outputs": [
        {
          "output_type": "stream",
          "name": "stdout",
          "text": [
            "              precision    recall  f1-score   support\n",
            "\n",
            "           1       0.39      0.86      0.54        21\n",
            "           2       0.50      0.12      0.19        26\n",
            "           3       0.00      0.00      0.00         7\n",
            "           5       0.00      0.00      0.00         2\n",
            "           6       0.67      1.00      0.80         2\n",
            "           7       0.88      1.00      0.93         7\n",
            "\n",
            "    accuracy                           0.46        65\n",
            "   macro avg       0.41      0.50      0.41        65\n",
            "weighted avg       0.44      0.46      0.37        65\n",
            "\n"
          ]
        }
      ]
    },
    {
      "cell_type": "markdown",
      "source": [
        "**วิเคราะห์ผล**\n",
        "\n",
        "ในการพยากรณ์หาชนิดของแก้ว ซึ่งเป็นข้อมูลที่ได้รับมาจาก kaggle ประกอบด้วย 10 แอตทริบิวต์ ต่อแก้ว 7 ประเภท จำนวนข้อมูลมีทั้งหมด 214 แถว โดยกำหนดข้อมูล input คือ แอตทริบิวต์ RI(refractive index ค่าดัชนีการหักเหของแสง),Na(Sodium), Mg( Magnesium), Al (Aluminum), Si (Silicon), K(Potassium), Ca (Calcium), Ba( Barium), Fe (Iron) และข้อมูล output คือ แอตทริบิวต์ type (ชนิดของแก้ว) ในการพยากรณ์หาชนิดของแก้ว จะใช้โมเดล Classification ในส่วนการเตรียมข้อมูล ขั้นแรกทำความสะอาดข้อมูลคือการตรวจสอบหาค่าว่างข้อมูล ขั้นถัดไปคือการแยกข้อมูลออกเป็น 2 ส่วน คือ ข้อมูลชุดเรียนรู้ 70% และข้อมูลชุดทดสอบ 30% ของข้อมูลทั้งหมด โมเดลที่ใช้ในการเรียนรู้จะใช้ K-Nearest Neighbors Classifier และ Gaussian Naive Bayes ซึ่งมีการรวบรวมการทำงานเป็นขั้นตอนไว้ใน pipeline ขั้นตอนการทำงานในส่วนแรกคือการ แปลงข้อมูลโดยใช้ StandardScaler และส่วนถัดไปคือการ train โมเดลแต่ละตัว ผลจากการวัดประสิทธิภาพของโมเดล K-Nearest Neighbors Classifier ซึ่งใช้ตำแหน่งใกล้ 3 ตำแหน่ง ได้ค่าความแม่นยำ 72 % และวัดประสิทธิภาพของโมเดล Gaussian Naive Bayes ได้ค่าความแม่นยำ 4ุ6 % ดังนั้นการพยากรณ์ชนิดของแก้วโดยใช้โมเดล K-Nearest Neighbors Classifier ซึ่งใช้ตำแหน่งใกล้ 3 ตำแหน่ง และFมเดล Gaussian Naive Bayes ทราบว่า K-Nearest Neighbors Classifier ให้ความแม่นยำในการพยากรณ์ได้ดีกว่าGaussian Naive Bayes"
      ],
      "metadata": {
        "id": "ldzcneTUZaAY"
      }
    },
    {
      "cell_type": "markdown",
      "source": [
        "# **Regression**"
      ],
      "metadata": {
        "id": "-bWOvUVe4vI7"
      }
    },
    {
      "cell_type": "markdown",
      "source": [
        "**ข้อมูล**\n",
        "ข้อมูลที่ใช้คือ ข้อมูลที่ไว้ระบุคุณภาพของ Red Wine ประกอบด้วย 12 Attribute  จำนวนข้อมูลมีทั้งหมด 1599 แถว https://www.kaggle.com/datasets/uciml/red-wine-quality-cortez-et-al-2009\n",
        "\n",
        "ข้อมูลแต่ละ Attribute คือ \n",
        "1. fixed acidity (ความเป็นกรดคงที่)\n",
        "2. volatile acidity (ความเป็นกรดระเหย)\n",
        "3. citric acid (กรดมะนาม)\n",
        "4. residual sugar (น้ำตาลตกค้าง)\n",
        "5. chlorides\n",
        "6. free sulfur dioxide (ฟรีซัลเฟอร์ไดออกไซด์)\n",
        "7. total sulfur dioxide (ซัลเฟอร์ไดออกไซด์ทั้งหมด)\n",
        "8. density (ความหนาแน่น)\n",
        "9. pH (ค่าที่แสดงความเป็นกรดเป็นเบสของสารเคมีจากปฏิกิริยาของไฮโดรเจนไอออน)\n",
        "10. sulphates \n",
        "11. alcohol (ค่าที่ใช้บ่งชี้ความเข้มข้นของเอทานอล)\n",
        "\n",
        "Output variable (based on sensory data):\n",
        "12. quality (score between 0 and 10)\n",
        "\n",
        "กำหนดข้อมูล Input และ Output\n",
        "* Input : Attribute 1 - 11 \n",
        "* Output : Attribute 12 (quality) "
      ],
      "metadata": {
        "id": "dCr1jHTKvtmY"
      }
    },
    {
      "cell_type": "markdown",
      "source": [
        "รายละเอียดกระบวนการ machine learning ที่ออกแบบมาสำหรับ Regression\n",
        "\n",
        "-- ผลการทำงาน/การวัดประสิทธิภาพ (อาจจะวัดโดยใช้ model 2 ตัว หรือใช้ 1 model แล้วทำการทดลองเปลี่ยนค่า parameter)\n",
        "\n",
        "-- วิเคราะห์ผล"
      ],
      "metadata": {
        "id": "i9lDVe0av4tq"
      }
    },
    {
      "cell_type": "markdown",
      "source": [
        "**Import**"
      ],
      "metadata": {
        "id": "i119jPE9v74Z"
      }
    },
    {
      "cell_type": "code",
      "source": [
        "import pandas as pd\n",
        "import numpy as np\n",
        "import matplotlib.pyplot as plt\n",
        "from sklearn.preprocessing import MinMaxScaler\n",
        "from sklearn.decomposition import PCA\n",
        "from sklearn.preprocessing import StandardScaler\n",
        "from sklearn.pipeline import Pipeline"
      ],
      "metadata": {
        "id": "l1z6BHZi4ioQ"
      },
      "execution_count": null,
      "outputs": []
    },
    {
      "cell_type": "markdown",
      "source": [
        "**Dataset**"
      ],
      "metadata": {
        "id": "UbRfzU2XwA7y"
      }
    },
    {
      "cell_type": "code",
      "source": [
        "! gdown --id 1EKhRT_DcOfOBgfDH2gPlAcO_rtD_zW-E"
      ],
      "metadata": {
        "colab": {
          "base_uri": "https://localhost:8080/"
        },
        "id": "xg93ooApv_Ni",
        "outputId": "d3812ad4-ab50-4001-964d-563a54116814"
      },
      "execution_count": null,
      "outputs": [
        {
          "output_type": "stream",
          "name": "stdout",
          "text": [
            "/usr/local/lib/python3.7/dist-packages/gdown/cli.py:131: FutureWarning: Option `--id` was deprecated in version 4.3.1 and will be removed in 5.0. You don't need to pass it anymore to use a file ID.\n",
            "  category=FutureWarning,\n",
            "Downloading...\n",
            "From: https://drive.google.com/uc?id=1EKhRT_DcOfOBgfDH2gPlAcO_rtD_zW-E\n",
            "To: /content/winequality-red.csv\n",
            "100% 101k/101k [00:00<00:00, 52.2MB/s]\n"
          ]
        }
      ]
    },
    {
      "cell_type": "code",
      "source": [
        "regressdata = pd.read_csv('winequality-red.csv') #อ่านไฟล์ winequality-red.csv\n",
        "regressdata.head() #แสดงผลตาราง"
      ],
      "metadata": {
        "colab": {
          "base_uri": "https://localhost:8080/",
          "height": 206
        },
        "id": "2HqpdeAEwMQC",
        "outputId": "c231a33e-1e8a-4666-e005-4d0b571a21e5"
      },
      "execution_count": null,
      "outputs": [
        {
          "output_type": "execute_result",
          "data": {
            "text/plain": [
              "   fixed acidity  volatile acidity  citric acid  residual sugar  chlorides  \\\n",
              "0            7.4              0.70         0.00             1.9      0.076   \n",
              "1            7.8              0.88         0.00             2.6      0.098   \n",
              "2            7.8              0.76         0.04             2.3      0.092   \n",
              "3           11.2              0.28         0.56             1.9      0.075   \n",
              "4            7.4              0.70         0.00             1.9      0.076   \n",
              "\n",
              "   free sulfur dioxide  total sulfur dioxide  density    pH  sulphates  \\\n",
              "0                 11.0                  34.0   0.9978  3.51       0.56   \n",
              "1                 25.0                  67.0   0.9968  3.20       0.68   \n",
              "2                 15.0                  54.0   0.9970  3.26       0.65   \n",
              "3                 17.0                  60.0   0.9980  3.16       0.58   \n",
              "4                 11.0                  34.0   0.9978  3.51       0.56   \n",
              "\n",
              "   alcohol  quality  \n",
              "0      9.4        5  \n",
              "1      9.8        5  \n",
              "2      9.8        5  \n",
              "3      9.8        6  \n",
              "4      9.4        5  "
            ],
            "text/html": [
              "\n",
              "  <div id=\"df-88b034bf-b449-46e2-b29f-fb6fde866ba7\">\n",
              "    <div class=\"colab-df-container\">\n",
              "      <div>\n",
              "<style scoped>\n",
              "    .dataframe tbody tr th:only-of-type {\n",
              "        vertical-align: middle;\n",
              "    }\n",
              "\n",
              "    .dataframe tbody tr th {\n",
              "        vertical-align: top;\n",
              "    }\n",
              "\n",
              "    .dataframe thead th {\n",
              "        text-align: right;\n",
              "    }\n",
              "</style>\n",
              "<table border=\"1\" class=\"dataframe\">\n",
              "  <thead>\n",
              "    <tr style=\"text-align: right;\">\n",
              "      <th></th>\n",
              "      <th>fixed acidity</th>\n",
              "      <th>volatile acidity</th>\n",
              "      <th>citric acid</th>\n",
              "      <th>residual sugar</th>\n",
              "      <th>chlorides</th>\n",
              "      <th>free sulfur dioxide</th>\n",
              "      <th>total sulfur dioxide</th>\n",
              "      <th>density</th>\n",
              "      <th>pH</th>\n",
              "      <th>sulphates</th>\n",
              "      <th>alcohol</th>\n",
              "      <th>quality</th>\n",
              "    </tr>\n",
              "  </thead>\n",
              "  <tbody>\n",
              "    <tr>\n",
              "      <th>0</th>\n",
              "      <td>7.4</td>\n",
              "      <td>0.70</td>\n",
              "      <td>0.00</td>\n",
              "      <td>1.9</td>\n",
              "      <td>0.076</td>\n",
              "      <td>11.0</td>\n",
              "      <td>34.0</td>\n",
              "      <td>0.9978</td>\n",
              "      <td>3.51</td>\n",
              "      <td>0.56</td>\n",
              "      <td>9.4</td>\n",
              "      <td>5</td>\n",
              "    </tr>\n",
              "    <tr>\n",
              "      <th>1</th>\n",
              "      <td>7.8</td>\n",
              "      <td>0.88</td>\n",
              "      <td>0.00</td>\n",
              "      <td>2.6</td>\n",
              "      <td>0.098</td>\n",
              "      <td>25.0</td>\n",
              "      <td>67.0</td>\n",
              "      <td>0.9968</td>\n",
              "      <td>3.20</td>\n",
              "      <td>0.68</td>\n",
              "      <td>9.8</td>\n",
              "      <td>5</td>\n",
              "    </tr>\n",
              "    <tr>\n",
              "      <th>2</th>\n",
              "      <td>7.8</td>\n",
              "      <td>0.76</td>\n",
              "      <td>0.04</td>\n",
              "      <td>2.3</td>\n",
              "      <td>0.092</td>\n",
              "      <td>15.0</td>\n",
              "      <td>54.0</td>\n",
              "      <td>0.9970</td>\n",
              "      <td>3.26</td>\n",
              "      <td>0.65</td>\n",
              "      <td>9.8</td>\n",
              "      <td>5</td>\n",
              "    </tr>\n",
              "    <tr>\n",
              "      <th>3</th>\n",
              "      <td>11.2</td>\n",
              "      <td>0.28</td>\n",
              "      <td>0.56</td>\n",
              "      <td>1.9</td>\n",
              "      <td>0.075</td>\n",
              "      <td>17.0</td>\n",
              "      <td>60.0</td>\n",
              "      <td>0.9980</td>\n",
              "      <td>3.16</td>\n",
              "      <td>0.58</td>\n",
              "      <td>9.8</td>\n",
              "      <td>6</td>\n",
              "    </tr>\n",
              "    <tr>\n",
              "      <th>4</th>\n",
              "      <td>7.4</td>\n",
              "      <td>0.70</td>\n",
              "      <td>0.00</td>\n",
              "      <td>1.9</td>\n",
              "      <td>0.076</td>\n",
              "      <td>11.0</td>\n",
              "      <td>34.0</td>\n",
              "      <td>0.9978</td>\n",
              "      <td>3.51</td>\n",
              "      <td>0.56</td>\n",
              "      <td>9.4</td>\n",
              "      <td>5</td>\n",
              "    </tr>\n",
              "  </tbody>\n",
              "</table>\n",
              "</div>\n",
              "      <button class=\"colab-df-convert\" onclick=\"convertToInteractive('df-88b034bf-b449-46e2-b29f-fb6fde866ba7')\"\n",
              "              title=\"Convert this dataframe to an interactive table.\"\n",
              "              style=\"display:none;\">\n",
              "        \n",
              "  <svg xmlns=\"http://www.w3.org/2000/svg\" height=\"24px\"viewBox=\"0 0 24 24\"\n",
              "       width=\"24px\">\n",
              "    <path d=\"M0 0h24v24H0V0z\" fill=\"none\"/>\n",
              "    <path d=\"M18.56 5.44l.94 2.06.94-2.06 2.06-.94-2.06-.94-.94-2.06-.94 2.06-2.06.94zm-11 1L8.5 8.5l.94-2.06 2.06-.94-2.06-.94L8.5 2.5l-.94 2.06-2.06.94zm10 10l.94 2.06.94-2.06 2.06-.94-2.06-.94-.94-2.06-.94 2.06-2.06.94z\"/><path d=\"M17.41 7.96l-1.37-1.37c-.4-.4-.92-.59-1.43-.59-.52 0-1.04.2-1.43.59L10.3 9.45l-7.72 7.72c-.78.78-.78 2.05 0 2.83L4 21.41c.39.39.9.59 1.41.59.51 0 1.02-.2 1.41-.59l7.78-7.78 2.81-2.81c.8-.78.8-2.07 0-2.86zM5.41 20L4 18.59l7.72-7.72 1.47 1.35L5.41 20z\"/>\n",
              "  </svg>\n",
              "      </button>\n",
              "      \n",
              "  <style>\n",
              "    .colab-df-container {\n",
              "      display:flex;\n",
              "      flex-wrap:wrap;\n",
              "      gap: 12px;\n",
              "    }\n",
              "\n",
              "    .colab-df-convert {\n",
              "      background-color: #E8F0FE;\n",
              "      border: none;\n",
              "      border-radius: 50%;\n",
              "      cursor: pointer;\n",
              "      display: none;\n",
              "      fill: #1967D2;\n",
              "      height: 32px;\n",
              "      padding: 0 0 0 0;\n",
              "      width: 32px;\n",
              "    }\n",
              "\n",
              "    .colab-df-convert:hover {\n",
              "      background-color: #E2EBFA;\n",
              "      box-shadow: 0px 1px 2px rgba(60, 64, 67, 0.3), 0px 1px 3px 1px rgba(60, 64, 67, 0.15);\n",
              "      fill: #174EA6;\n",
              "    }\n",
              "\n",
              "    [theme=dark] .colab-df-convert {\n",
              "      background-color: #3B4455;\n",
              "      fill: #D2E3FC;\n",
              "    }\n",
              "\n",
              "    [theme=dark] .colab-df-convert:hover {\n",
              "      background-color: #434B5C;\n",
              "      box-shadow: 0px 1px 3px 1px rgba(0, 0, 0, 0.15);\n",
              "      filter: drop-shadow(0px 1px 2px rgba(0, 0, 0, 0.3));\n",
              "      fill: #FFFFFF;\n",
              "    }\n",
              "  </style>\n",
              "\n",
              "      <script>\n",
              "        const buttonEl =\n",
              "          document.querySelector('#df-88b034bf-b449-46e2-b29f-fb6fde866ba7 button.colab-df-convert');\n",
              "        buttonEl.style.display =\n",
              "          google.colab.kernel.accessAllowed ? 'block' : 'none';\n",
              "\n",
              "        async function convertToInteractive(key) {\n",
              "          const element = document.querySelector('#df-88b034bf-b449-46e2-b29f-fb6fde866ba7');\n",
              "          const dataTable =\n",
              "            await google.colab.kernel.invokeFunction('convertToInteractive',\n",
              "                                                     [key], {});\n",
              "          if (!dataTable) return;\n",
              "\n",
              "          const docLinkHtml = 'Like what you see? Visit the ' +\n",
              "            '<a target=\"_blank\" href=https://colab.research.google.com/notebooks/data_table.ipynb>data table notebook</a>'\n",
              "            + ' to learn more about interactive tables.';\n",
              "          element.innerHTML = '';\n",
              "          dataTable['output_type'] = 'display_data';\n",
              "          await google.colab.output.renderOutput(dataTable, element);\n",
              "          const docLink = document.createElement('div');\n",
              "          docLink.innerHTML = docLinkHtml;\n",
              "          element.appendChild(docLink);\n",
              "        }\n",
              "      </script>\n",
              "    </div>\n",
              "  </div>\n",
              "  "
            ]
          },
          "metadata": {},
          "execution_count": 3
        }
      ]
    },
    {
      "cell_type": "code",
      "source": [
        "regressdata.shape # Dimension"
      ],
      "metadata": {
        "colab": {
          "base_uri": "https://localhost:8080/"
        },
        "id": "2M72GjGYwOXo",
        "outputId": "4aff6eb2-c1da-4179-d7b0-986b2b9ee1fb"
      },
      "execution_count": null,
      "outputs": [
        {
          "output_type": "execute_result",
          "data": {
            "text/plain": [
              "(1599, 12)"
            ]
          },
          "metadata": {},
          "execution_count": 4
        }
      ]
    },
    {
      "cell_type": "code",
      "source": [
        "regressdata.info()"
      ],
      "metadata": {
        "colab": {
          "base_uri": "https://localhost:8080/"
        },
        "id": "4SRhT4SRwP70",
        "outputId": "82a9ca21-0d60-4682-db39-f6c23fcda726"
      },
      "execution_count": null,
      "outputs": [
        {
          "output_type": "stream",
          "name": "stdout",
          "text": [
            "<class 'pandas.core.frame.DataFrame'>\n",
            "RangeIndex: 1599 entries, 0 to 1598\n",
            "Data columns (total 12 columns):\n",
            " #   Column                Non-Null Count  Dtype  \n",
            "---  ------                --------------  -----  \n",
            " 0   fixed acidity         1599 non-null   float64\n",
            " 1   volatile acidity      1599 non-null   float64\n",
            " 2   citric acid           1599 non-null   float64\n",
            " 3   residual sugar        1599 non-null   float64\n",
            " 4   chlorides             1599 non-null   float64\n",
            " 5   free sulfur dioxide   1599 non-null   float64\n",
            " 6   total sulfur dioxide  1599 non-null   float64\n",
            " 7   density               1599 non-null   float64\n",
            " 8   pH                    1599 non-null   float64\n",
            " 9   sulphates             1599 non-null   float64\n",
            " 10  alcohol               1599 non-null   float64\n",
            " 11  quality               1599 non-null   int64  \n",
            "dtypes: float64(11), int64(1)\n",
            "memory usage: 150.0 KB\n"
          ]
        }
      ]
    },
    {
      "cell_type": "code",
      "source": [
        "regressdata.isna().sum() # ตรวจสอบค่า Null "
      ],
      "metadata": {
        "colab": {
          "base_uri": "https://localhost:8080/"
        },
        "id": "pEMIPzYAwRgg",
        "outputId": "25eab585-c984-4be3-e5f2-2d9ec20518ee"
      },
      "execution_count": null,
      "outputs": [
        {
          "output_type": "execute_result",
          "data": {
            "text/plain": [
              "fixed acidity           0\n",
              "volatile acidity        0\n",
              "citric acid             0\n",
              "residual sugar          0\n",
              "chlorides               0\n",
              "free sulfur dioxide     0\n",
              "total sulfur dioxide    0\n",
              "density                 0\n",
              "pH                      0\n",
              "sulphates               0\n",
              "alcohol                 0\n",
              "quality                 0\n",
              "dtype: int64"
            ]
          },
          "metadata": {},
          "execution_count": 6
        }
      ]
    },
    {
      "cell_type": "markdown",
      "source": [
        "**Model**"
      ],
      "metadata": {
        "id": "yoOP6zjbwTB0"
      }
    },
    {
      "cell_type": "code",
      "source": [
        "from sklearn.model_selection import train_test_split\n",
        "\n",
        "X = regressdata.drop(regressdata.columns[[0,11]],axis = 1).values # column 1-11\n",
        "y = regressdata['quality'].values # column 12\n",
        "\n",
        "X_train, X_test, y_train, y_test = train_test_split(X, y, test_size=0.3,random_state = 0) # แยกข้อมูล Train Test"
      ],
      "metadata": {
        "id": "TJrSQqwFwgaq"
      },
      "execution_count": null,
      "outputs": []
    },
    {
      "cell_type": "code",
      "source": [
        "print('X =\\n',X_train)\n",
        "print('y = \\n',y_train)"
      ],
      "metadata": {
        "colab": {
          "base_uri": "https://localhost:8080/"
        },
        "id": "rGnkYuvGwg_U",
        "outputId": "b0aef3c6-4898-46a5-a6f4-d01b54d5b461"
      },
      "execution_count": null,
      "outputs": [
        {
          "output_type": "stream",
          "name": "stdout",
          "text": [
            "X =\n",
            " [[ 0.49  0.29  2.   ...  2.93  1.98  9.8 ]\n",
            " [ 0.18  0.37  0.9  ...  2.89  0.44 12.7 ]\n",
            " [ 0.67  0.    1.9  ...  3.4   0.74  9.7 ]\n",
            " ...\n",
            " [ 0.57  0.31  2.   ...  3.29  0.69  9.5 ]\n",
            " [ 0.47  0.49  4.3  ...  3.3   0.68 12.7 ]\n",
            " [ 0.98  0.32  2.3  ...  3.25  0.48  9.4 ]]\n",
            "y = \n",
            " [5 6 5 ... 6 6 5]\n"
          ]
        }
      ]
    },
    {
      "cell_type": "code",
      "source": [
        "X_train.shape"
      ],
      "metadata": {
        "colab": {
          "base_uri": "https://localhost:8080/"
        },
        "id": "Qy1Do04fwidC",
        "outputId": "a2a5a042-c67a-4f6e-f841-5e84f3de25ea"
      },
      "execution_count": null,
      "outputs": [
        {
          "output_type": "execute_result",
          "data": {
            "text/plain": [
              "(1119, 10)"
            ]
          },
          "metadata": {},
          "execution_count": 9
        }
      ]
    },
    {
      "cell_type": "code",
      "source": [
        "X_test.shape"
      ],
      "metadata": {
        "colab": {
          "base_uri": "https://localhost:8080/"
        },
        "id": "1yE7IkKxwkOT",
        "outputId": "19b713d4-5f0c-480f-9faa-05627736824e"
      },
      "execution_count": null,
      "outputs": [
        {
          "output_type": "execute_result",
          "data": {
            "text/plain": [
              "(480, 10)"
            ]
          },
          "metadata": {},
          "execution_count": 12
        }
      ]
    },
    {
      "cell_type": "code",
      "source": [
        "y_train.shape"
      ],
      "metadata": {
        "colab": {
          "base_uri": "https://localhost:8080/"
        },
        "id": "lQL48Ftkwlsb",
        "outputId": "6b254b85-95dd-4f5f-87d8-6460f08382bc"
      },
      "execution_count": null,
      "outputs": [
        {
          "output_type": "execute_result",
          "data": {
            "text/plain": [
              "(1119,)"
            ]
          },
          "metadata": {},
          "execution_count": 11
        }
      ]
    },
    {
      "cell_type": "code",
      "source": [
        "y_test.shape"
      ],
      "metadata": {
        "colab": {
          "base_uri": "https://localhost:8080/"
        },
        "id": "9tewqJ41wnIP",
        "outputId": "98bdc9d4-c6fc-4906-8b25-662ddf91ef58"
      },
      "execution_count": null,
      "outputs": [
        {
          "output_type": "execute_result",
          "data": {
            "text/plain": [
              "(480,)"
            ]
          },
          "metadata": {},
          "execution_count": 13
        }
      ]
    },
    {
      "cell_type": "code",
      "source": [
        "#MLP Model\n",
        "from sklearn.neural_network import MLPRegressor \n",
        "\n",
        "pipe = Pipeline([\n",
        "    ('minmax' , MinMaxScaler()),\n",
        "    ('StandardScakaer',StandardScaler()),\n",
        "    ('pca' , PCA(n_components=8)),\n",
        "    ('MLP' , MLPRegressor()),\n",
        "])\n",
        "pipe.fit(X_train, y_train)\n",
        "y_predict = pipe.predict(X_test)\n",
        "\n",
        "print('y_predict : \\n',y_predict)\n",
        "print('y_test : \\n',y_test)"
      ],
      "metadata": {
        "colab": {
          "base_uri": "https://localhost:8080/"
        },
        "id": "eJ0nxGumwpB9",
        "outputId": "7ec14352-90c3-4ef5-bc1c-0f71e9b265f4"
      },
      "execution_count": null,
      "outputs": [
        {
          "output_type": "stream",
          "name": "stdout",
          "text": [
            "y_predict : \n",
            " [4.76483861 5.33802813 6.89557727 5.04683898 6.10320318 5.57462378\n",
            " 5.54753997 6.02331391 4.97350065 5.20648657 5.34332976 5.3057118\n",
            " 5.13839945 5.39023074 5.60893716 6.44724017 7.26643555 5.41186978\n",
            " 5.21764118 5.24724066 6.66120045 5.14506589 5.4541644  6.63085439\n",
            " 5.75723444 5.00228312 5.25378757 6.58942438 5.09270639 6.09102425\n",
            " 5.87176882 5.30250425 5.5006901  5.15124389 5.62542675 6.30425411\n",
            " 5.20300586 6.61799117 6.30873825 5.72799024 5.34225647 5.98893788\n",
            " 7.69397989 7.08907359 5.79712537 5.25469861 5.59272917 5.6920534\n",
            " 5.02222927 6.02203961 5.45473062 5.28107455 5.32700205 6.83262624\n",
            " 5.58604388 5.2005848  5.13183532 5.46748363 6.64902743 5.28451791\n",
            " 5.62893903 5.32745609 5.93609048 5.76499526 5.31299375 6.14113068\n",
            " 5.22715975 6.16369901 6.18017003 5.60701218 5.07266162 4.97587235\n",
            " 5.02611528 5.12013848 5.34486842 5.97039053 5.74355791 5.27629424\n",
            " 5.1503192  6.61103214 5.4803151  5.45211601 5.7590573  5.60203508\n",
            " 5.49368772 5.16349314 6.41542554 4.85295376 5.37040425 5.16594447\n",
            " 5.20256805 4.76630899 5.68124667 5.33131098 6.30571702 5.07266162\n",
            " 6.26667358 5.21720176 5.85550373 6.06358486 6.99494006 6.0548907\n",
            " 5.77826887 6.82390774 4.86834916 5.01180068 4.86834916 5.46506581\n",
            " 5.80615883 5.51739379 6.27230789 5.45368574 6.2995403  5.10804432\n",
            " 5.50068709 5.40888789 5.88915866 6.15082907 5.27682418 5.4541644\n",
            " 5.24524737 6.03308652 5.31022877 5.24988229 6.3112588  6.58507057\n",
            " 5.35391942 5.61898296 6.23594208 6.59390152 5.35572951 5.48534852\n",
            " 5.92714942 6.14330789 6.4182291  5.36351359 6.03903212 5.47383354\n",
            " 6.55107592 5.37495735 5.61837296 5.38801442 5.59272917 5.93877464\n",
            " 6.50721695 5.58996284 6.2995403  6.7345646  6.33059694 5.17464183\n",
            " 5.56370076 5.72479421 5.46506581 5.08439929 6.05190303 5.14438745\n",
            " 5.90947847 5.05987692 5.86485433 5.66323586 5.39322376 5.42413462\n",
            " 6.13640927 5.80662604 5.68908867 5.15632325 6.42801943 6.13334959\n",
            " 5.14437954 5.68179994 5.73864863 6.0437401  5.35493315 7.2274647\n",
            " 6.34957552 6.01482947 6.27969891 7.29841186 6.11372576 5.11401758\n",
            " 4.99026047 7.88054168 5.40662247 5.52947964 6.90961621 5.43084815\n",
            " 5.17674398 5.77826887 5.08074855 6.24150127 5.62984466 5.80068244\n",
            " 5.45274741 5.65819221 5.38395991 5.14228478 5.34332976 5.02184244\n",
            " 5.03299753 4.30731257 5.19766002 6.45624976 5.27496231 5.38851651\n",
            " 5.21755394 4.99572484 5.09322572 6.26435138 5.7890314  5.4601146\n",
            " 5.83168755 6.50770083 4.97728686 7.17918086 5.40676719 5.53642431\n",
            " 6.06672958 5.89410596 5.59919202 4.93622775 5.25218296 5.61314251\n",
            " 6.1467091  5.48510598 5.27574013 5.49014089 6.16552384 5.60776745\n",
            " 5.9205774  5.8688127  5.00212972 5.52922575 4.68522268 5.0452982\n",
            " 6.41565016 5.69716513 5.76294286 6.73572063 6.53039353 5.89007379\n",
            " 5.40679671 4.3691983  5.21913174 4.88188864 5.96270218 5.03076318\n",
            " 5.53978921 5.00915544 5.3765609  6.4431925  5.21368    4.89311622\n",
            " 5.14925268 5.03010288 5.6262294  6.001094   5.04723994 5.14929364\n",
            " 5.11818596 6.31541847 5.39138183 7.20518744 5.42578826 5.62545018\n",
            " 5.46929128 5.24332543 5.16573494 4.4042326  5.78203642 6.70616315\n",
            " 5.30638335 5.93551447 5.0803283  5.85249129 6.23144272 6.32349334\n",
            " 6.14878481 5.18680636 6.54227368 6.33516882 5.39770716 7.38065882\n",
            " 5.93551447 6.09935093 5.92756432 5.29896155 5.09251982 5.65425229\n",
            " 6.29814498 5.39339249 5.64239482 4.9546619  6.38467742 5.57125949\n",
            " 5.31886712 5.40878227 5.25621975 5.47587751 4.80355832 5.19534147\n",
            " 5.68127105 4.66786564 5.39304216 5.43252809 6.10643282 5.97800864\n",
            " 4.96873855 5.15334488 5.45054619 5.27224121 5.8354841  5.95792453\n",
            " 5.29587276 5.21720176 5.42889944 6.77040138 5.82537189 6.08460234\n",
            " 5.33362678 6.5841439  5.27224121 5.16150145 6.32878105 6.42004017\n",
            " 5.1459     5.44180857 6.95427117 5.28920961 5.54929938 5.31560692\n",
            " 6.97569204 5.11198243 5.1306923  6.24150127 5.41469518 5.97383204\n",
            " 5.48462929 5.64884691 4.8944857  5.4479282  5.06899759 5.14285822\n",
            " 5.22715975 6.36613187 5.40878227 5.55225912 5.66214106 4.8712848\n",
            " 5.87452426 6.90067059 5.51087306 6.29030096 5.40077989 5.85837268\n",
            " 7.08666901 4.66221185 5.62984466 5.9641752  5.65136618 6.54600989\n",
            " 5.2183341  6.4431925  5.21753892 5.89978714 5.36240186 5.26099437\n",
            " 6.61799117 6.73604242 4.9320997  5.06724502 5.0020503  5.67882517\n",
            " 5.19914098 6.20238324 5.33980447 5.0413771  5.72479421 6.26363807\n",
            " 5.69716513 5.91016874 6.21978979 5.52944064 4.80869903 5.47858257\n",
            " 5.44180407 5.75028519 6.3508816  5.54820049 5.56527926 5.01481658\n",
            " 6.57017101 5.34654359 5.05823396 6.19517383 5.8230748  5.51617765\n",
            " 5.43098244 5.8354841  6.85309105 5.54614864 5.60357864 5.54614864\n",
            " 5.20078405 4.79052198 5.20895693 5.46748363 5.96362508 6.08695934\n",
            " 5.54619559 6.13955357 5.53642431 5.43591623 5.39998963 6.19816642\n",
            " 5.05350467 5.21325922 6.18376143 4.99797765 4.99923735 6.0123907\n",
            " 5.90782697 5.62592814 6.58478817 5.95803285 5.30255328 5.18402032\n",
            " 5.8542923  5.6327543  5.44354021 5.00915544 4.82791389 5.56527926\n",
            " 4.76630899 6.09159912 5.88339583 6.29207251 5.79762732 6.17577433\n",
            " 5.44960692 5.48978733 5.48903971 5.70364991 5.89007379 4.83211418\n",
            " 5.6186352  5.6394342  5.64884691 7.68816332 5.58320715 5.31326805\n",
            " 5.38988943 4.9435093  6.52706072 6.68413755 6.21600213 5.14681718\n",
            " 5.59839    5.00972255 6.38467742 5.46595086 5.42818522 7.61259807\n",
            " 5.37495735 4.99734706 5.15147251 5.57462378 6.19477495 5.03457699\n",
            " 5.2838382  5.29311753 5.85696115 5.19543657 5.00257116 4.94903266\n",
            " 5.39339249 5.15939299 5.00415939 5.22781956 5.75028519 5.00972255]\n",
            "y_test : \n",
            " [6 5 7 6 5 6 5 6 4 5 5 5 6 5 6 6 7 5 5 4 7 6 6 4 6 5 5 7 5 6 5 6 5 6 7 7 5\n",
            " 6 6 7 5 7 6 6 5 5 6 6 6 5 5 5 6 6 6 5 5 5 6 5 5 6 6 6 5 6 5 5 6 6 6 6 4 6\n",
            " 5 6 5 5 5 6 6 5 6 6 6 5 6 5 5 5 5 6 4 5 7 6 6 5 6 5 8 6 6 6 5 5 5 5 7 5 6\n",
            " 5 7 5 6 6 6 7 6 6 5 7 5 5 6 6 5 5 5 6 6 6 6 6 6 5 6 5 8 5 6 5 6 5 4 6 7 6\n",
            " 5 6 6 5 5 5 6 6 3 6 6 6 6 6 6 6 5 5 6 6 6 6 5 5 5 8 5 6 6 7 7 5 5 7 5 6 6\n",
            " 4 5 6 5 5 6 5 6 6 5 5 5 5 5 5 5 6 6 5 6 6 5 6 7 6 6 6 5 5 5 6 5 6 6 5 5 5\n",
            " 6 6 5 6 6 6 3 6 5 5 7 6 7 6 6 7 7 6 5 6 5 5 6 5 5 5 5 6 5 5 5 6 6 5 5 5 6\n",
            " 7 5 6 5 6 5 4 5 5 6 7 6 5 5 4 5 6 7 6 6 7 5 7 5 6 6 5 5 5 6 6 5 6 6 6 5 6\n",
            " 6 5 6 5 6 5 6 6 6 6 5 5 6 5 5 6 5 5 5 6 4 5 4 6 5 5 5 8 6 6 7 6 5 5 7 5 5\n",
            " 5 5 6 7 5 4 5 5 5 5 8 6 5 6 5 5 7 5 6 5 6 7 5 6 6 5 7 5 6 5 7 5 5 6 7 6 4\n",
            " 6 6 4 7 6 5 5 7 6 6 6 6 5 6 6 6 6 5 6 7 6 6 5 7 5 6 5 5 7 5 5 5 5 6 5 5 6\n",
            " 6 5 7 6 5 5 6 6 6 6 6 5 5 6 5 6 5 5 6 5 6 5 5 5 6 6 6 5 7 6 5 5 6 6 6 6 5\n",
            " 5 5 5 6 6 5 7 5 7 6 6 5 4 5 6 6 3 6 5 6 5 6 7 5 5 5 6 6 5 5 6 5 5 5 6 5]\n"
          ]
        },
        {
          "output_type": "stream",
          "name": "stderr",
          "text": [
            "/usr/local/lib/python3.7/dist-packages/sklearn/neural_network/_multilayer_perceptron.py:696: ConvergenceWarning: Stochastic Optimizer: Maximum iterations (200) reached and the optimization hasn't converged yet.\n",
            "  ConvergenceWarning,\n"
          ]
        }
      ]
    },
    {
      "cell_type": "code",
      "source": [
        "from sklearn.metrics import mean_absolute_error, mean_squared_error, mean_absolute_percentage_error\n",
        "\n",
        "print(\"MAE: \", mean_absolute_error(y_test, y_predict))\n",
        "print(\"MSE: \", mean_squared_error(y_test, y_predict))\n",
        "print(\"MAPE: \", mean_absolute_percentage_error(y_test, y_predict))"
      ],
      "metadata": {
        "colab": {
          "base_uri": "https://localhost:8080/"
        },
        "id": "pGeoaOpHwqlM",
        "outputId": "f73ed84e-06b8-4a84-fb84-339e2ee48f8d"
      },
      "execution_count": null,
      "outputs": [
        {
          "output_type": "stream",
          "name": "stdout",
          "text": [
            "MAE:  0.5401808488986346\n",
            "MSE:  0.5012733801911509\n",
            "MAPE:  0.1006176211067929\n"
          ]
        }
      ]
    },
    {
      "cell_type": "code",
      "source": [
        "#LinearRegression model\n",
        "from sklearn.linear_model import LinearRegression\n",
        "\n",
        "pipe = Pipeline([\n",
        "    ('minmax' , MinMaxScaler()),\n",
        "    ('StandardScakaer',StandardScaler()),\n",
        "    ('pca' , PCA(n_components=8)),\n",
        "    ('Linear',LinearRegression())\n",
        "])\n",
        "pipe.fit(X_train, y_train)\n",
        "y_predict = pipe.predict(X_test)\n",
        "\n",
        "print('y_predict : \\n',y_predict)\n",
        "print('y_test : \\n',y_test)"
      ],
      "metadata": {
        "colab": {
          "base_uri": "https://localhost:8080/"
        },
        "id": "DOBXWlNBwsqw",
        "outputId": "11e84b2d-74c0-49ba-8603-442fe091ceb9"
      },
      "execution_count": null,
      "outputs": [
        {
          "output_type": "stream",
          "name": "stdout",
          "text": [
            "y_predict : \n",
            " [5.60734288 5.018833   6.55443915 5.35307191 5.9201545  5.15217277\n",
            " 5.43927207 5.89395837 4.86591272 5.04039098 5.41093197 5.37607721\n",
            " 5.70463836 5.24010211 5.588844   6.37698906 6.84925051 5.79550146\n",
            " 5.96254774 5.19013545 6.25932723 5.28243255 5.56257385 6.52044379\n",
            " 5.53845026 5.03986983 5.25772936 6.46397121 5.38340136 6.25361758\n",
            " 6.05380447 5.79617824 5.41498421 5.31360685 5.57128601 6.1907468\n",
            " 5.33751245 5.53233715 6.3735042  5.70425915 5.36553001 6.02423931\n",
            " 6.88735275 6.50531049 6.04398306 4.82524224 5.60906487 5.93164916\n",
            " 5.62616942 6.11205504 5.50128997 5.47711331 5.90103291 6.12780812\n",
            " 5.69090779 5.19869413 5.20687459 5.33858514 6.45441643 5.46221478\n",
            " 5.19235773 5.70047792 5.8652134  6.22170549 5.03601515 6.1226251\n",
            " 5.39375658 5.72303871 6.13854626 5.88243781 5.15979791 5.49934684\n",
            " 4.98413382 5.50847915 5.63744949 6.16827306 5.4416768  5.32568326\n",
            " 5.89062656 6.38987215 5.60988619 5.30331577 6.0788061  6.05031108\n",
            " 5.49048286 5.3857021  6.30636522 5.10670361 5.33897797 4.97342209\n",
            " 5.20317013 5.22680005 5.75779278 5.42569929 6.31963752 5.15979791\n",
            " 6.2427728  5.31191074 5.43130838 6.01703406 6.84885672 6.10689894\n",
            " 5.65672787 6.47934655 5.63713817 4.97170542 5.63713817 5.37459104\n",
            " 6.01905957 5.32046614 5.91864989 5.22009556 6.29778654 5.18788181\n",
            " 5.51682452 5.78905916 5.60752302 6.4393202  5.82841387 5.56257385\n",
            " 5.16185602 5.82983184 5.4593603  5.27103409 6.15574458 6.33629909\n",
            " 5.42040284 5.37787599 6.12263569 6.41023167 5.41328985 5.22373085\n",
            " 6.0601346  5.80377975 6.32647874 5.41219184 5.8156134  5.35443992\n",
            " 6.16237154 5.37523798 5.90285963 5.16511916 5.60906487 5.25747375\n",
            " 5.68203433 5.7522487  6.29778654 6.42165132 6.24624124 5.44372378\n",
            " 5.91581332 6.04399874 5.37459104 5.48804152 5.53017067 5.28059444\n",
            " 5.18960789 5.36640031 6.06489656 5.94977782 5.94635888 5.60519619\n",
            " 6.21980147 4.99015653 5.80861741 4.98768863 5.8959549  6.44232546\n",
            " 5.33934156 5.9672262  5.83206135 5.52168879 5.04848505 6.69874064\n",
            " 5.84932907 6.34850608 6.30718973 6.78941191 6.04610221 5.06955982\n",
            " 5.15824292 6.89888031 5.48661257 6.00809437 6.80967116 5.07528966\n",
            " 5.64630583 5.65672787 4.98682728 6.19301836 5.94682068 5.89603832\n",
            " 5.18021549 5.52420439 5.23258353 5.26470781 5.41093197 5.1153513\n",
            " 5.19560274 4.95472384 5.1611592  6.21574212 5.26589435 5.28416207\n",
            " 5.37539026 5.0565055  5.11568625 6.25848589 5.99525463 5.43846695\n",
            " 5.97972893 6.23145816 5.3061772  6.17863254 5.03627235 5.38870659\n",
            " 6.00676868 6.22527626 5.5245191  5.11267371 5.01508638 5.89769651\n",
            " 6.30987721 5.75102672 5.3554774  5.85568716 6.36590569 5.94964642\n",
            " 4.90260884 5.55573731 5.03532592 5.84492363 5.07596374 5.73212357\n",
            " 6.2335384  5.50497004 6.0424171  6.52172601 6.56034755 6.09381837\n",
            " 5.30388071 4.94181795 4.92122438 5.11237885 5.98575006 4.93512159\n",
            " 5.6284753  5.22074033 4.94775647 6.31722531 4.92017546 5.26879485\n",
            " 5.13974424 5.27485717 5.51376979 5.60310766 5.14132697 5.13843562\n",
            " 5.12311638 5.65855204 5.30331373 6.79489549 5.18884059 5.67566364\n",
            " 5.23898443 4.72426434 5.39898595 4.85394442 5.59314357 6.38698238\n",
            " 5.73674611 5.78966263 5.74122119 6.14987726 6.032009   5.77178857\n",
            " 6.37942089 5.2280489  6.68728134 6.16760154 5.2273142  6.80333076\n",
            " 5.78966263 6.24577996 5.8753887  5.1400793  5.713687   5.43149284\n",
            " 6.29364668 5.91371994 5.6187176  5.38954581 6.10668136 5.28638549\n",
            " 5.15991279 5.62685888 5.58467738 5.30528583 5.24342815 5.19091326\n",
            " 5.59380888 5.02491102 5.45043731 5.79048283 6.16896945 5.58374991\n",
            " 5.30630826 5.08912069 5.77327753 5.35860121 5.93253677 5.85767491\n",
            " 5.4063036  5.31191074 5.01460148 6.54421775 6.06237726 6.29765142\n",
            " 5.09013181 6.38805067 5.35860121 5.82213055 6.24529619 6.0387627\n",
            " 5.456189   5.51416139 6.60538608 5.50580606 5.27978195 5.86126907\n",
            " 6.62197203 5.15180795 5.4771946  6.19301836 4.9582975  6.04504261\n",
            " 5.96250637 5.41136938 5.39836893 5.25392174 5.04713584 5.45985237\n",
            " 5.39375658 6.19220511 5.62685888 5.54185015 5.49679721 5.117963\n",
            " 5.44329647 6.51307881 5.57602217 6.13390372 5.55336485 5.92298762\n",
            " 6.68689235 4.88001096 5.94682068 6.14245292 5.52349885 6.15304666\n",
            " 5.1535306  6.31722531 5.4870849  6.03347049 5.76354635 5.30177872\n",
            " 5.53233715 6.45394621 5.14482746 5.45081711 5.65547098 5.56827513\n",
            " 5.58645491 5.96667704 5.24782019 5.32872167 6.04399874 6.26680008\n",
            " 5.50497004 5.7483885  6.21810944 5.82421703 5.0071819  5.38310852\n",
            " 5.68262112 5.57906425 5.99304738 5.6575089  6.06829042 5.62708942\n",
            " 6.40672087 5.56080726 5.16242325 6.42883624 5.52398439 5.90134523\n",
            " 5.56907431 5.93253677 5.65066404 5.4723816  5.33038598 5.4723816\n",
            " 5.20073112 5.19692056 6.00984194 5.33858514 5.83936342 6.04372438\n",
            " 5.30397025 5.84759097 5.38870659 5.18991147 4.94715274 6.00879643\n",
            " 5.36761641 5.36728254 6.11570249 5.14501382 5.33575177 6.06767624\n",
            " 6.01725457 5.67131127 6.30424931 5.94341041 5.30323281 5.57143087\n",
            " 5.92149946 6.01937664 5.34165696 5.22074033 5.50904634 6.06829042\n",
            " 5.22680005 6.39851927 5.91129295 6.66030826 5.68656093 6.38314988\n",
            " 5.48889477 5.32812825 5.64521715 5.29245001 6.09381837 5.15288193\n",
            " 5.78336522 5.65569171 5.41136938 6.90474449 6.0860289  5.55596085\n",
            " 5.86874788 5.13477853 6.0861205  6.5811013  6.14333504 5.17156245\n",
            " 5.62069691 5.36655585 6.10668136 5.5427081  5.21831789 6.64140726\n",
            " 5.37523798 5.08724734 5.04483476 5.15217277 6.00084272 5.11711704\n",
            " 5.46155319 5.22459451 5.60124415 5.54131225 5.33724478 5.43152525\n",
            " 5.91371994 5.43412895 5.13490992 5.24999078 5.57906425 5.36655585]\n",
            "y_test : \n",
            " [6 5 7 6 5 6 5 6 4 5 5 5 6 5 6 6 7 5 5 4 7 6 6 4 6 5 5 7 5 6 5 6 5 6 7 7 5\n",
            " 6 6 7 5 7 6 6 5 5 6 6 6 5 5 5 6 6 6 5 5 5 6 5 5 6 6 6 5 6 5 5 6 6 6 6 4 6\n",
            " 5 6 5 5 5 6 6 5 6 6 6 5 6 5 5 5 5 6 4 5 7 6 6 5 6 5 8 6 6 6 5 5 5 5 7 5 6\n",
            " 5 7 5 6 6 6 7 6 6 5 7 5 5 6 6 5 5 5 6 6 6 6 6 6 5 6 5 8 5 6 5 6 5 4 6 7 6\n",
            " 5 6 6 5 5 5 6 6 3 6 6 6 6 6 6 6 5 5 6 6 6 6 5 5 5 8 5 6 6 7 7 5 5 7 5 6 6\n",
            " 4 5 6 5 5 6 5 6 6 5 5 5 5 5 5 5 6 6 5 6 6 5 6 7 6 6 6 5 5 5 6 5 6 6 5 5 5\n",
            " 6 6 5 6 6 6 3 6 5 5 7 6 7 6 6 7 7 6 5 6 5 5 6 5 5 5 5 6 5 5 5 6 6 5 5 5 6\n",
            " 7 5 6 5 6 5 4 5 5 6 7 6 5 5 4 5 6 7 6 6 7 5 7 5 6 6 5 5 5 6 6 5 6 6 6 5 6\n",
            " 6 5 6 5 6 5 6 6 6 6 5 5 6 5 5 6 5 5 5 6 4 5 4 6 5 5 5 8 6 6 7 6 5 5 7 5 5\n",
            " 5 5 6 7 5 4 5 5 5 5 8 6 5 6 5 5 7 5 6 5 6 7 5 6 6 5 7 5 6 5 7 5 5 6 7 6 4\n",
            " 6 6 4 7 6 5 5 7 6 6 6 6 5 6 6 6 6 5 6 7 6 6 5 7 5 6 5 5 7 5 5 5 5 6 5 5 6\n",
            " 6 5 7 6 5 5 6 6 6 6 6 5 5 6 5 6 5 5 6 5 6 5 5 5 6 6 6 5 7 6 5 5 6 6 6 6 5\n",
            " 5 5 5 6 6 5 7 5 7 6 6 5 4 5 6 6 3 6 5 6 5 6 7 5 5 5 6 6 5 5 6 5 5 5 6 5]\n"
          ]
        }
      ]
    },
    {
      "cell_type": "code",
      "source": [
        "from sklearn.metrics import mean_absolute_error, mean_squared_error, mean_absolute_percentage_error\n",
        "\n",
        "print(\"MAE: \", mean_absolute_error(y_test, y_predict))\n",
        "print(\"MSE: \", mean_squared_error(y_test, y_predict))\n",
        "print(\"MAPE: \", mean_absolute_percentage_error(y_test, y_predict))"
      ],
      "metadata": {
        "colab": {
          "base_uri": "https://localhost:8080/"
        },
        "id": "5c6qjk5Hwui3",
        "outputId": "afe60b64-5a4b-4c98-b946-d126d947f761"
      },
      "execution_count": null,
      "outputs": [
        {
          "output_type": "stream",
          "name": "stdout",
          "text": [
            "MAE:  0.49620587311786124\n",
            "MSE:  0.4152154047565409\n",
            "MAPE:  0.09247905031538241\n"
          ]
        }
      ]
    },
    {
      "cell_type": "markdown",
      "source": [
        "**วิเคราะห์ผล**\n",
        "\n",
        "\n",
        "ในการพยากรณ์หาคุณภาพของ Red Wines เป็นข้อมูลที่ได้รับมาจาก Kaggle ประกอบด้วย 12 Attribute  \n",
        "ข้อมูลมีทั้งหมด 1599 แถว กำหนดข้อมูล Input และ Output\n",
        "Input : Attribute 1 - 11 ( fixed acidity, volatile acidity, citric acid ,residual sugar , chlorides,   free sulfur dioxide ,total sulfur dioxide, Density, pH ,sulphates ,alcohol )\n",
        "()Output : Attribute 12 (quality) \n",
        "\n",
        "Regression ในการเตรียมข้อมูล\n",
        "ทำตรวจสอบหาค่าว่างข้อมูล การแยกข้อมูลออกเป็น 2 ส่วน คือ ข้อมูล\n",
        "Train 70% Test 30% ของข้อมูลทั้งหมด \n",
        "Model ที่ใช้ในการ train คือ MLPRegressor และ LinearRegression \n",
        "แล้วทำการสร้าง pipeline เพื่อกำหนดกระบวนการการทำงานใน pipeline โดยใช้ minmax StandardScaler และลดมิติของข้อมูลโดยใช้ PCA แล้วเข้าสู่กระบวนการ Train Model โดย MLPRegressor และ LinearRegression ตามลำดับและวัดประสิทธิภาพหาค่าของ Error โดยใช้ mean_absolute_error, mean_squared_error, mean_absolute_percentage_error\n",
        "ผลที่ได้นั้น คือ LinearRegression มีค่า mean_absolute_error ที่น้อยกว่าหรือใกล้เคียงกับ 0 มากที่สุดทำให้สามารถสรุปได้ว่า Model LinearRegression นั้นมีประสิทธิภาพมากกว่า Model MLPRegressor"
      ],
      "metadata": {
        "id": "bu4pqHFJw-Ay"
      }
    },
    {
      "cell_type": "markdown",
      "source": [
        "# **Time-series**"
      ],
      "metadata": {
        "id": "qr8z-3d8423L"
      }
    },
    {
      "cell_type": "code",
      "source": [
        "import pandas as pd\n",
        "import numpy as np\n",
        "import datetime\n",
        "\n",
        "import seaborn as sns\n",
        "import matplotlib.pyplot as plt"
      ],
      "metadata": {
        "id": "rh_hsrbu49KD"
      },
      "execution_count": null,
      "outputs": []
    },
    {
      "cell_type": "markdown",
      "source": [
        "**Construct Data**"
      ],
      "metadata": {
        "id": "zsmAypy2cw6e"
      }
    },
    {
      "cell_type": "markdown",
      "source": [
        "**Collect data**\n",
        "ข้อมูลที่ใช้ในการทำ Time-series คือข้อมูลราคาทอง โดยโหลด Data จาก [kaggle](https://www.kaggle.com/datasets/arashnic/learn-time-series-forecasting-from-gold-price) \n",
        "\n",
        "ประกอบไปด้วย 2 แอตทริบิวต์ จากข้อมูลทั้งหมด 10787 แถวโดยแต่ละข้อมูลมีแอตทริบิวต์มีดังนี้\n",
        "\n",
        "1.Date\n",
        "\n",
        "2.Value"
      ],
      "metadata": {
        "id": "qy_trYyMc0Hs"
      }
    },
    {
      "cell_type": "code",
      "source": [
        "!gdown --id 1LYeWOiCeDmHpd6kag23u7RmT7G1AiuUT"
      ],
      "metadata": {
        "colab": {
          "base_uri": "https://localhost:8080/"
        },
        "id": "ButCrznRctjJ",
        "outputId": "7fccfc47-9a53-4b16-9962-c1f28a1cbaa0"
      },
      "execution_count": null,
      "outputs": [
        {
          "output_type": "stream",
          "name": "stdout",
          "text": [
            "/usr/local/lib/python3.7/dist-packages/gdown/cli.py:131: FutureWarning: Option `--id` was deprecated in version 4.3.1 and will be removed in 5.0. You don't need to pass it anymore to use a file ID.\n",
            "  category=FutureWarning,\n",
            "Downloading...\n",
            "From: https://drive.google.com/uc?id=1LYeWOiCeDmHpd6kag23u7RmT7G1AiuUT\n",
            "To: /content/gold_price_data.csv\n",
            "100% 190k/190k [00:00<00:00, 97.5MB/s]\n"
          ]
        }
      ]
    },
    {
      "cell_type": "code",
      "source": [
        "df = pd.read_csv(\"gold_price_data.csv\")\n",
        "df"
      ],
      "metadata": {
        "colab": {
          "base_uri": "https://localhost:8080/",
          "height": 424
        },
        "id": "_bzwTy4TdAvQ",
        "outputId": "d3bce4bb-6476-4053-f451-5923a08e96b7"
      },
      "execution_count": null,
      "outputs": [
        {
          "output_type": "execute_result",
          "data": {
            "text/plain": [
              "             Date    Value\n",
              "0      1970-01-01    35.20\n",
              "1      1970-04-01    35.10\n",
              "2      1970-07-01    35.40\n",
              "3      1970-10-01    36.20\n",
              "4      1971-01-01    37.40\n",
              "...           ...      ...\n",
              "10782  2020-03-09  1672.50\n",
              "10783  2020-03-10  1655.70\n",
              "10784  2020-03-11  1653.75\n",
              "10785  2020-03-12  1570.70\n",
              "10786  2020-03-13  1562.80\n",
              "\n",
              "[10787 rows x 2 columns]"
            ],
            "text/html": [
              "\n",
              "  <div id=\"df-8ecc041a-59f9-4318-92f2-82b8cdcaf15f\">\n",
              "    <div class=\"colab-df-container\">\n",
              "      <div>\n",
              "<style scoped>\n",
              "    .dataframe tbody tr th:only-of-type {\n",
              "        vertical-align: middle;\n",
              "    }\n",
              "\n",
              "    .dataframe tbody tr th {\n",
              "        vertical-align: top;\n",
              "    }\n",
              "\n",
              "    .dataframe thead th {\n",
              "        text-align: right;\n",
              "    }\n",
              "</style>\n",
              "<table border=\"1\" class=\"dataframe\">\n",
              "  <thead>\n",
              "    <tr style=\"text-align: right;\">\n",
              "      <th></th>\n",
              "      <th>Date</th>\n",
              "      <th>Value</th>\n",
              "    </tr>\n",
              "  </thead>\n",
              "  <tbody>\n",
              "    <tr>\n",
              "      <th>0</th>\n",
              "      <td>1970-01-01</td>\n",
              "      <td>35.20</td>\n",
              "    </tr>\n",
              "    <tr>\n",
              "      <th>1</th>\n",
              "      <td>1970-04-01</td>\n",
              "      <td>35.10</td>\n",
              "    </tr>\n",
              "    <tr>\n",
              "      <th>2</th>\n",
              "      <td>1970-07-01</td>\n",
              "      <td>35.40</td>\n",
              "    </tr>\n",
              "    <tr>\n",
              "      <th>3</th>\n",
              "      <td>1970-10-01</td>\n",
              "      <td>36.20</td>\n",
              "    </tr>\n",
              "    <tr>\n",
              "      <th>4</th>\n",
              "      <td>1971-01-01</td>\n",
              "      <td>37.40</td>\n",
              "    </tr>\n",
              "    <tr>\n",
              "      <th>...</th>\n",
              "      <td>...</td>\n",
              "      <td>...</td>\n",
              "    </tr>\n",
              "    <tr>\n",
              "      <th>10782</th>\n",
              "      <td>2020-03-09</td>\n",
              "      <td>1672.50</td>\n",
              "    </tr>\n",
              "    <tr>\n",
              "      <th>10783</th>\n",
              "      <td>2020-03-10</td>\n",
              "      <td>1655.70</td>\n",
              "    </tr>\n",
              "    <tr>\n",
              "      <th>10784</th>\n",
              "      <td>2020-03-11</td>\n",
              "      <td>1653.75</td>\n",
              "    </tr>\n",
              "    <tr>\n",
              "      <th>10785</th>\n",
              "      <td>2020-03-12</td>\n",
              "      <td>1570.70</td>\n",
              "    </tr>\n",
              "    <tr>\n",
              "      <th>10786</th>\n",
              "      <td>2020-03-13</td>\n",
              "      <td>1562.80</td>\n",
              "    </tr>\n",
              "  </tbody>\n",
              "</table>\n",
              "<p>10787 rows × 2 columns</p>\n",
              "</div>\n",
              "      <button class=\"colab-df-convert\" onclick=\"convertToInteractive('df-8ecc041a-59f9-4318-92f2-82b8cdcaf15f')\"\n",
              "              title=\"Convert this dataframe to an interactive table.\"\n",
              "              style=\"display:none;\">\n",
              "        \n",
              "  <svg xmlns=\"http://www.w3.org/2000/svg\" height=\"24px\"viewBox=\"0 0 24 24\"\n",
              "       width=\"24px\">\n",
              "    <path d=\"M0 0h24v24H0V0z\" fill=\"none\"/>\n",
              "    <path d=\"M18.56 5.44l.94 2.06.94-2.06 2.06-.94-2.06-.94-.94-2.06-.94 2.06-2.06.94zm-11 1L8.5 8.5l.94-2.06 2.06-.94-2.06-.94L8.5 2.5l-.94 2.06-2.06.94zm10 10l.94 2.06.94-2.06 2.06-.94-2.06-.94-.94-2.06-.94 2.06-2.06.94z\"/><path d=\"M17.41 7.96l-1.37-1.37c-.4-.4-.92-.59-1.43-.59-.52 0-1.04.2-1.43.59L10.3 9.45l-7.72 7.72c-.78.78-.78 2.05 0 2.83L4 21.41c.39.39.9.59 1.41.59.51 0 1.02-.2 1.41-.59l7.78-7.78 2.81-2.81c.8-.78.8-2.07 0-2.86zM5.41 20L4 18.59l7.72-7.72 1.47 1.35L5.41 20z\"/>\n",
              "  </svg>\n",
              "      </button>\n",
              "      \n",
              "  <style>\n",
              "    .colab-df-container {\n",
              "      display:flex;\n",
              "      flex-wrap:wrap;\n",
              "      gap: 12px;\n",
              "    }\n",
              "\n",
              "    .colab-df-convert {\n",
              "      background-color: #E8F0FE;\n",
              "      border: none;\n",
              "      border-radius: 50%;\n",
              "      cursor: pointer;\n",
              "      display: none;\n",
              "      fill: #1967D2;\n",
              "      height: 32px;\n",
              "      padding: 0 0 0 0;\n",
              "      width: 32px;\n",
              "    }\n",
              "\n",
              "    .colab-df-convert:hover {\n",
              "      background-color: #E2EBFA;\n",
              "      box-shadow: 0px 1px 2px rgba(60, 64, 67, 0.3), 0px 1px 3px 1px rgba(60, 64, 67, 0.15);\n",
              "      fill: #174EA6;\n",
              "    }\n",
              "\n",
              "    [theme=dark] .colab-df-convert {\n",
              "      background-color: #3B4455;\n",
              "      fill: #D2E3FC;\n",
              "    }\n",
              "\n",
              "    [theme=dark] .colab-df-convert:hover {\n",
              "      background-color: #434B5C;\n",
              "      box-shadow: 0px 1px 3px 1px rgba(0, 0, 0, 0.15);\n",
              "      filter: drop-shadow(0px 1px 2px rgba(0, 0, 0, 0.3));\n",
              "      fill: #FFFFFF;\n",
              "    }\n",
              "  </style>\n",
              "\n",
              "      <script>\n",
              "        const buttonEl =\n",
              "          document.querySelector('#df-8ecc041a-59f9-4318-92f2-82b8cdcaf15f button.colab-df-convert');\n",
              "        buttonEl.style.display =\n",
              "          google.colab.kernel.accessAllowed ? 'block' : 'none';\n",
              "\n",
              "        async function convertToInteractive(key) {\n",
              "          const element = document.querySelector('#df-8ecc041a-59f9-4318-92f2-82b8cdcaf15f');\n",
              "          const dataTable =\n",
              "            await google.colab.kernel.invokeFunction('convertToInteractive',\n",
              "                                                     [key], {});\n",
              "          if (!dataTable) return;\n",
              "\n",
              "          const docLinkHtml = 'Like what you see? Visit the ' +\n",
              "            '<a target=\"_blank\" href=https://colab.research.google.com/notebooks/data_table.ipynb>data table notebook</a>'\n",
              "            + ' to learn more about interactive tables.';\n",
              "          element.innerHTML = '';\n",
              "          dataTable['output_type'] = 'display_data';\n",
              "          await google.colab.output.renderOutput(dataTable, element);\n",
              "          const docLink = document.createElement('div');\n",
              "          docLink.innerHTML = docLinkHtml;\n",
              "          element.appendChild(docLink);\n",
              "        }\n",
              "      </script>\n",
              "    </div>\n",
              "  </div>\n",
              "  "
            ]
          },
          "metadata": {},
          "execution_count": 3
        }
      ]
    },
    {
      "cell_type": "code",
      "source": [
        "df.shape"
      ],
      "metadata": {
        "colab": {
          "base_uri": "https://localhost:8080/"
        },
        "id": "k_V5D0hydTrf",
        "outputId": "b8849061-b92c-4e76-8f16-d37a920979be"
      },
      "execution_count": null,
      "outputs": [
        {
          "output_type": "execute_result",
          "data": {
            "text/plain": [
              "(10787, 2)"
            ]
          },
          "metadata": {},
          "execution_count": 4
        }
      ]
    },
    {
      "cell_type": "markdown",
      "source": [
        "**Exploratory Data Analysis (EDA)**"
      ],
      "metadata": {
        "id": "KC5hLh70dYa7"
      }
    },
    {
      "cell_type": "code",
      "source": [
        "df.info()"
      ],
      "metadata": {
        "colab": {
          "base_uri": "https://localhost:8080/"
        },
        "id": "SzbRPrdsdV3K",
        "outputId": "7a45e612-857a-420e-cb86-a2bc330e1c89"
      },
      "execution_count": null,
      "outputs": [
        {
          "output_type": "stream",
          "name": "stdout",
          "text": [
            "<class 'pandas.core.frame.DataFrame'>\n",
            "RangeIndex: 10787 entries, 0 to 10786\n",
            "Data columns (total 2 columns):\n",
            " #   Column  Non-Null Count  Dtype  \n",
            "---  ------  --------------  -----  \n",
            " 0   Date    10787 non-null  object \n",
            " 1   Value   10787 non-null  float64\n",
            "dtypes: float64(1), object(1)\n",
            "memory usage: 168.7+ KB\n"
          ]
        }
      ]
    },
    {
      "cell_type": "code",
      "source": [
        "# แปลงข้อมูล DATE จาก String เป็น Datetime\n",
        "df['Date'] = pd.to_datetime(df['Date'])\n",
        "df.info()"
      ],
      "metadata": {
        "colab": {
          "base_uri": "https://localhost:8080/"
        },
        "id": "g5fVIDvYddTO",
        "outputId": "4c830e9e-4f03-421c-d39e-45b58599af91"
      },
      "execution_count": null,
      "outputs": [
        {
          "output_type": "stream",
          "name": "stdout",
          "text": [
            "<class 'pandas.core.frame.DataFrame'>\n",
            "RangeIndex: 10787 entries, 0 to 10786\n",
            "Data columns (total 2 columns):\n",
            " #   Column  Non-Null Count  Dtype         \n",
            "---  ------  --------------  -----         \n",
            " 0   Date    10787 non-null  datetime64[ns]\n",
            " 1   Value   10787 non-null  float64       \n",
            "dtypes: datetime64[ns](1), float64(1)\n",
            "memory usage: 168.7 KB\n"
          ]
        }
      ]
    },
    {
      "cell_type": "code",
      "source": [
        "sns.set(rc={'figure.figsize':(20,8)})\n",
        "ax = sns.lineplot(data=df, x=\"Date\", y=\"Value\")\n",
        "ax.set_title('Gold Price')\n",
        "ax.set_xlabel('year');\n",
        "ax.set_ylabel('Value');"
      ],
      "metadata": {
        "colab": {
          "base_uri": "https://localhost:8080/",
          "height": 518
        },
        "id": "tqSTFmiydh5c",
        "outputId": "58acff2a-3770-43f2-9e41-2d05bab99638"
      },
      "execution_count": null,
      "outputs": [
        {
          "output_type": "display_data",
          "data": {
            "text/plain": [
              "<Figure size 1440x576 with 1 Axes>"
            ],
            "image/png": "[encoded data removed]"
          },
          "metadata": {}
        }
      ]
    },
    {
      "cell_type": "markdown",
      "source": [
        "**Identify feature and target**\n",
        "* Target = `'Value'`\n",
        "* Attribute/Feature = `'Date'` ,`'Value'`"
      ],
      "metadata": {
        "id": "IQZ9vIugdm89"
      }
    },
    {
      "cell_type": "markdown",
      "source": [
        "**Train Test Split**"
      ],
      "metadata": {
        "id": "xfLuHxZsd6CI"
      }
    },
    {
      "cell_type": "code",
      "source": [
        "def train_test_split_TS(dfTS, train_size):\n",
        "    train, test = dfTS.iloc[:int(len(dfTS)*train_size)], dfTS.iloc[int(len(dfTS)*train_size):]\n",
        "    return train, test "
      ],
      "metadata": {
        "id": "Z-tBp5fYd8DR"
      },
      "execution_count": null,
      "outputs": []
    },
    {
      "cell_type": "code",
      "source": [
        "#เราได้ทำการแบ่งของมูลเอาไว้เรียนรูั 60% และข้อมูลเอาไว้ทดสอบ 40%\n",
        "train_set, test_set = train_test_split_TS(df, train_size = 0.6)\n",
        "print('Trainset size :', len(train_set))\n",
        "print('Testset size  :', len(test_set))"
      ],
      "metadata": {
        "colab": {
          "base_uri": "https://localhost:8080/"
        },
        "id": "wtZp7cJSeC3E",
        "outputId": "ab550231-6134-4929-85ba-fce78bd9bebc"
      },
      "execution_count": null,
      "outputs": [
        {
          "output_type": "stream",
          "name": "stdout",
          "text": [
            "Trainset size : 6472\n",
            "Testset size  : 4315\n"
          ]
        }
      ]
    },
    {
      "cell_type": "markdown",
      "source": [
        "**Feature Engineering**"
      ],
      "metadata": {
        "id": "-gICmKXoeRTK"
      }
    },
    {
      "cell_type": "markdown",
      "source": [
        "**expand columns by time/days**"
      ],
      "metadata": {
        "id": "mHuCMe4feXne"
      }
    },
    {
      "cell_type": "code",
      "source": [
        "# นำข้อมูลของวันถัดไป n วันมาต่อเพิ่ม column\n",
        "def expand_column(dfTS, target_column_name, new_column_names):\n",
        "  data_expanded = pd.DataFrame() # กำหนด DataFrame\n",
        "\n",
        "  for i, name in enumerate(new_column_names): \n",
        "    data_expanded[name] = dfTS[target_column_name].shift(-i) # shift up \n",
        "    \n",
        "  data_expanded.dropna(inplace = True)\n",
        "\n",
        "  return data_expanded\n",
        "\n",
        "window_size = 40\n",
        "new_column_names = [f\"Day{i+1}\" for i in range(window_size)] + ['Target']\n",
        "\n",
        "data_train = expand_column(train_set, 'Value',new_column_names)\n",
        "data_test = expand_column(test_set, 'Value',new_column_names)"
      ],
      "metadata": {
        "id": "oocMmcE9eXGs"
      },
      "execution_count": null,
      "outputs": []
    },
    {
      "cell_type": "code",
      "source": [
        "data_train"
      ],
      "metadata": {
        "colab": {
          "base_uri": "https://localhost:8080/",
          "height": 424
        },
        "id": "M3-qiZLReTS_",
        "outputId": "660b44a2-db4e-437b-f8e6-c86ed65969dd"
      },
      "execution_count": null,
      "outputs": [
        {
          "output_type": "execute_result",
          "data": {
            "text/plain": [
              "       Day1    Day2    Day3    Day4    Day5    Day6    Day7    Day8    Day9  \\\n",
              "0      35.2   35.10   35.40   36.20   37.40   38.90   40.10   42.00   43.50   \n",
              "1      35.1   35.40   36.20   37.40   38.90   40.10   42.00   43.50   48.30   \n",
              "2      35.4   36.20   37.40   38.90   40.10   42.00   43.50   48.30   62.10   \n",
              "3      36.2   37.40   38.90   40.10   42.00   43.50   48.30   62.10   65.50   \n",
              "4      37.4   38.90   40.10   42.00   43.50   48.30   62.10   65.50   63.90   \n",
              "...     ...     ...     ...     ...     ...     ...     ...     ...     ...   \n",
              "6427  346.0  350.20  351.50  349.40  351.30  348.15  347.20  344.15  343.40   \n",
              "6428  350.2  351.50  349.40  351.30  348.15  347.20  344.15  343.40  343.70   \n",
              "6429  351.5  349.40  351.30  348.15  347.20  344.15  343.40  343.70  347.50   \n",
              "6430  349.4  351.30  348.15  347.20  344.15  343.40  343.70  347.50  348.25   \n",
              "6431  351.3  348.15  347.20  344.15  343.40  343.70  347.50  348.25  343.20   \n",
              "\n",
              "       Day10  ...   Day32   Day33   Day34   Day35   Day36   Day37   Day38  \\\n",
              "0      48.30  ...  155.50  165.00  183.40  183.30  217.10  226.00  226.00   \n",
              "1      62.10  ...  165.00  183.40  183.30  217.10  226.00  226.00  226.80   \n",
              "2      65.50  ...  183.40  183.30  217.10  226.00  226.00  226.80  218.60   \n",
              "3      63.90  ...  183.30  217.10  226.00  226.00  226.80  218.60  223.15   \n",
              "4      84.40  ...  217.10  226.00  226.00  226.80  218.60  223.15  225.50   \n",
              "...      ...  ...     ...     ...     ...     ...     ...     ...     ...   \n",
              "6427  343.70  ...  360.10  358.65  363.60  364.50  360.25  360.40  363.70   \n",
              "6428  347.50  ...  358.65  363.60  364.50  360.25  360.40  363.70  363.30   \n",
              "6429  348.25  ...  363.60  364.50  360.25  360.40  363.70  363.30  358.75   \n",
              "6430  343.20  ...  364.50  360.25  360.40  363.70  363.30  358.75  358.75   \n",
              "6431  342.50  ...  360.25  360.40  363.70  363.30  358.75  358.75  360.50   \n",
              "\n",
              "       Day39   Day40  Target  \n",
              "0     226.80  218.60  223.15  \n",
              "1     218.60  223.15  225.50  \n",
              "2     223.15  225.50  223.10  \n",
              "3     225.50  223.10  224.00  \n",
              "4     223.10  224.00  220.70  \n",
              "...      ...     ...     ...  \n",
              "6427  363.30  358.75  358.75  \n",
              "6428  358.75  358.75  360.50  \n",
              "6429  358.75  360.50  371.25  \n",
              "6430  360.50  371.25  369.80  \n",
              "6431  371.25  369.80  375.60  \n",
              "\n",
              "[6432 rows x 41 columns]"
            ],
            "text/html": [
              "\n",
              "  <div id=\"df-b7ca45e2-dcb3-4c3e-93ab-0064f004cc34\">\n",
              "    <div class=\"colab-df-container\">\n",
              "      <div>\n",
              "<style scoped>\n",
              "    .dataframe tbody tr th:only-of-type {\n",
              "        vertical-align: middle;\n",
              "    }\n",
              "\n",
              "    .dataframe tbody tr th {\n",
              "        vertical-align: top;\n",
              "    }\n",
              "\n",
              "    .dataframe thead th {\n",
              "        text-align: right;\n",
              "    }\n",
              "</style>\n",
              "<table border=\"1\" class=\"dataframe\">\n",
              "  <thead>\n",
              "    <tr style=\"text-align: right;\">\n",
              "      <th></th>\n",
              "      <th>Day1</th>\n",
              "      <th>Day2</th>\n",
              "      <th>Day3</th>\n",
              "      <th>Day4</th>\n",
              "      <th>Day5</th>\n",
              "      <th>Day6</th>\n",
              "      <th>Day7</th>\n",
              "      <th>Day8</th>\n",
              "      <th>Day9</th>\n",
              "      <th>Day10</th>\n",
              "      <th>...</th>\n",
              "      <th>Day32</th>\n",
              "      <th>Day33</th>\n",
              "      <th>Day34</th>\n",
              "      <th>Day35</th>\n",
              "      <th>Day36</th>\n",
              "      <th>Day37</th>\n",
              "      <th>Day38</th>\n",
              "      <th>Day39</th>\n",
              "      <th>Day40</th>\n",
              "      <th>Target</th>\n",
              "    </tr>\n",
              "  </thead>\n",
              "  <tbody>\n",
              "    <tr>\n",
              "      <th>0</th>\n",
              "      <td>35.2</td>\n",
              "      <td>35.10</td>\n",
              "      <td>35.40</td>\n",
              "      <td>36.20</td>\n",
              "      <td>37.40</td>\n",
              "      <td>38.90</td>\n",
              "      <td>40.10</td>\n",
              "      <td>42.00</td>\n",
              "      <td>43.50</td>\n",
              "      <td>48.30</td>\n",
              "      <td>...</td>\n",
              "      <td>155.50</td>\n",
              "      <td>165.00</td>\n",
              "      <td>183.40</td>\n",
              "      <td>183.30</td>\n",
              "      <td>217.10</td>\n",
              "      <td>226.00</td>\n",
              "      <td>226.00</td>\n",
              "      <td>226.80</td>\n",
              "      <td>218.60</td>\n",
              "      <td>223.15</td>\n",
              "    </tr>\n",
              "    <tr>\n",
              "      <th>1</th>\n",
              "      <td>35.1</td>\n",
              "      <td>35.40</td>\n",
              "      <td>36.20</td>\n",
              "      <td>37.40</td>\n",
              "      <td>38.90</td>\n",
              "      <td>40.10</td>\n",
              "      <td>42.00</td>\n",
              "      <td>43.50</td>\n",
              "      <td>48.30</td>\n",
              "      <td>62.10</td>\n",
              "      <td>...</td>\n",
              "      <td>165.00</td>\n",
              "      <td>183.40</td>\n",
              "      <td>183.30</td>\n",
              "      <td>217.10</td>\n",
              "      <td>226.00</td>\n",
              "      <td>226.00</td>\n",
              "      <td>226.80</td>\n",
              "      <td>218.60</td>\n",
              "      <td>223.15</td>\n",
              "      <td>225.50</td>\n",
              "    </tr>\n",
              "    <tr>\n",
              "      <th>2</th>\n",
              "      <td>35.4</td>\n",
              "      <td>36.20</td>\n",
              "      <td>37.40</td>\n",
              "      <td>38.90</td>\n",
              "      <td>40.10</td>\n",
              "      <td>42.00</td>\n",
              "      <td>43.50</td>\n",
              "      <td>48.30</td>\n",
              "      <td>62.10</td>\n",
              "      <td>65.50</td>\n",
              "      <td>...</td>\n",
              "      <td>183.40</td>\n",
              "      <td>183.30</td>\n",
              "      <td>217.10</td>\n",
              "      <td>226.00</td>\n",
              "      <td>226.00</td>\n",
              "      <td>226.80</td>\n",
              "      <td>218.60</td>\n",
              "      <td>223.15</td>\n",
              "      <td>225.50</td>\n",
              "      <td>223.10</td>\n",
              "    </tr>\n",
              "    <tr>\n",
              "      <th>3</th>\n",
              "      <td>36.2</td>\n",
              "      <td>37.40</td>\n",
              "      <td>38.90</td>\n",
              "      <td>40.10</td>\n",
              "      <td>42.00</td>\n",
              "      <td>43.50</td>\n",
              "      <td>48.30</td>\n",
              "      <td>62.10</td>\n",
              "      <td>65.50</td>\n",
              "      <td>63.90</td>\n",
              "      <td>...</td>\n",
              "      <td>183.30</td>\n",
              "      <td>217.10</td>\n",
              "      <td>226.00</td>\n",
              "      <td>226.00</td>\n",
              "      <td>226.80</td>\n",
              "      <td>218.60</td>\n",
              "      <td>223.15</td>\n",
              "      <td>225.50</td>\n",
              "      <td>223.10</td>\n",
              "      <td>224.00</td>\n",
              "    </tr>\n",
              "    <tr>\n",
              "      <th>4</th>\n",
              "      <td>37.4</td>\n",
              "      <td>38.90</td>\n",
              "      <td>40.10</td>\n",
              "      <td>42.00</td>\n",
              "      <td>43.50</td>\n",
              "      <td>48.30</td>\n",
              "      <td>62.10</td>\n",
              "      <td>65.50</td>\n",
              "      <td>63.90</td>\n",
              "      <td>84.40</td>\n",
              "      <td>...</td>\n",
              "      <td>217.10</td>\n",
              "      <td>226.00</td>\n",
              "      <td>226.00</td>\n",
              "      <td>226.80</td>\n",
              "      <td>218.60</td>\n",
              "      <td>223.15</td>\n",
              "      <td>225.50</td>\n",
              "      <td>223.10</td>\n",
              "      <td>224.00</td>\n",
              "      <td>220.70</td>\n",
              "    </tr>\n",
              "    <tr>\n",
              "      <th>...</th>\n",
              "      <td>...</td>\n",
              "      <td>...</td>\n",
              "      <td>...</td>\n",
              "      <td>...</td>\n",
              "      <td>...</td>\n",
              "      <td>...</td>\n",
              "      <td>...</td>\n",
              "      <td>...</td>\n",
              "      <td>...</td>\n",
              "      <td>...</td>\n",
              "      <td>...</td>\n",
              "      <td>...</td>\n",
              "      <td>...</td>\n",
              "      <td>...</td>\n",
              "      <td>...</td>\n",
              "      <td>...</td>\n",
              "      <td>...</td>\n",
              "      <td>...</td>\n",
              "      <td>...</td>\n",
              "      <td>...</td>\n",
              "      <td>...</td>\n",
              "    </tr>\n",
              "    <tr>\n",
              "      <th>6427</th>\n",
              "      <td>346.0</td>\n",
              "      <td>350.20</td>\n",
              "      <td>351.50</td>\n",
              "      <td>349.40</td>\n",
              "      <td>351.30</td>\n",
              "      <td>348.15</td>\n",
              "      <td>347.20</td>\n",
              "      <td>344.15</td>\n",
              "      <td>343.40</td>\n",
              "      <td>343.70</td>\n",
              "      <td>...</td>\n",
              "      <td>360.10</td>\n",
              "      <td>358.65</td>\n",
              "      <td>363.60</td>\n",
              "      <td>364.50</td>\n",
              "      <td>360.25</td>\n",
              "      <td>360.40</td>\n",
              "      <td>363.70</td>\n",
              "      <td>363.30</td>\n",
              "      <td>358.75</td>\n",
              "      <td>358.75</td>\n",
              "    </tr>\n",
              "    <tr>\n",
              "      <th>6428</th>\n",
              "      <td>350.2</td>\n",
              "      <td>351.50</td>\n",
              "      <td>349.40</td>\n",
              "      <td>351.30</td>\n",
              "      <td>348.15</td>\n",
              "      <td>347.20</td>\n",
              "      <td>344.15</td>\n",
              "      <td>343.40</td>\n",
              "      <td>343.70</td>\n",
              "      <td>347.50</td>\n",
              "      <td>...</td>\n",
              "      <td>358.65</td>\n",
              "      <td>363.60</td>\n",
              "      <td>364.50</td>\n",
              "      <td>360.25</td>\n",
              "      <td>360.40</td>\n",
              "      <td>363.70</td>\n",
              "      <td>363.30</td>\n",
              "      <td>358.75</td>\n",
              "      <td>358.75</td>\n",
              "      <td>360.50</td>\n",
              "    </tr>\n",
              "    <tr>\n",
              "      <th>6429</th>\n",
              "      <td>351.5</td>\n",
              "      <td>349.40</td>\n",
              "      <td>351.30</td>\n",
              "      <td>348.15</td>\n",
              "      <td>347.20</td>\n",
              "      <td>344.15</td>\n",
              "      <td>343.40</td>\n",
              "      <td>343.70</td>\n",
              "      <td>347.50</td>\n",
              "      <td>348.25</td>\n",
              "      <td>...</td>\n",
              "      <td>363.60</td>\n",
              "      <td>364.50</td>\n",
              "      <td>360.25</td>\n",
              "      <td>360.40</td>\n",
              "      <td>363.70</td>\n",
              "      <td>363.30</td>\n",
              "      <td>358.75</td>\n",
              "      <td>358.75</td>\n",
              "      <td>360.50</td>\n",
              "      <td>371.25</td>\n",
              "    </tr>\n",
              "    <tr>\n",
              "      <th>6430</th>\n",
              "      <td>349.4</td>\n",
              "      <td>351.30</td>\n",
              "      <td>348.15</td>\n",
              "      <td>347.20</td>\n",
              "      <td>344.15</td>\n",
              "      <td>343.40</td>\n",
              "      <td>343.70</td>\n",
              "      <td>347.50</td>\n",
              "      <td>348.25</td>\n",
              "      <td>343.20</td>\n",
              "      <td>...</td>\n",
              "      <td>364.50</td>\n",
              "      <td>360.25</td>\n",
              "      <td>360.40</td>\n",
              "      <td>363.70</td>\n",
              "      <td>363.30</td>\n",
              "      <td>358.75</td>\n",
              "      <td>358.75</td>\n",
              "      <td>360.50</td>\n",
              "      <td>371.25</td>\n",
              "      <td>369.80</td>\n",
              "    </tr>\n",
              "    <tr>\n",
              "      <th>6431</th>\n",
              "      <td>351.3</td>\n",
              "      <td>348.15</td>\n",
              "      <td>347.20</td>\n",
              "      <td>344.15</td>\n",
              "      <td>343.40</td>\n",
              "      <td>343.70</td>\n",
              "      <td>347.50</td>\n",
              "      <td>348.25</td>\n",
              "      <td>343.20</td>\n",
              "      <td>342.50</td>\n",
              "      <td>...</td>\n",
              "      <td>360.25</td>\n",
              "      <td>360.40</td>\n",
              "      <td>363.70</td>\n",
              "      <td>363.30</td>\n",
              "      <td>358.75</td>\n",
              "      <td>358.75</td>\n",
              "      <td>360.50</td>\n",
              "      <td>371.25</td>\n",
              "      <td>369.80</td>\n",
              "      <td>375.60</td>\n",
              "    </tr>\n",
              "  </tbody>\n",
              "</table>\n",
              "<p>6432 rows × 41 columns</p>\n",
              "</div>\n",
              "      <button class=\"colab-df-convert\" onclick=\"convertToInteractive('df-b7ca45e2-dcb3-4c3e-93ab-0064f004cc34')\"\n",
              "              title=\"Convert this dataframe to an interactive table.\"\n",
              "              style=\"display:none;\">\n",
              "        \n",
              "  <svg xmlns=\"http://www.w3.org/2000/svg\" height=\"24px\"viewBox=\"0 0 24 24\"\n",
              "       width=\"24px\">\n",
              "    <path d=\"M0 0h24v24H0V0z\" fill=\"none\"/>\n",
              "    <path d=\"M18.56 5.44l.94 2.06.94-2.06 2.06-.94-2.06-.94-.94-2.06-.94 2.06-2.06.94zm-11 1L8.5 8.5l.94-2.06 2.06-.94-2.06-.94L8.5 2.5l-.94 2.06-2.06.94zm10 10l.94 2.06.94-2.06 2.06-.94-2.06-.94-.94-2.06-.94 2.06-2.06.94z\"/><path d=\"M17.41 7.96l-1.37-1.37c-.4-.4-.92-.59-1.43-.59-.52 0-1.04.2-1.43.59L10.3 9.45l-7.72 7.72c-.78.78-.78 2.05 0 2.83L4 21.41c.39.39.9.59 1.41.59.51 0 1.02-.2 1.41-.59l7.78-7.78 2.81-2.81c.8-.78.8-2.07 0-2.86zM5.41 20L4 18.59l7.72-7.72 1.47 1.35L5.41 20z\"/>\n",
              "  </svg>\n",
              "      </button>\n",
              "      \n",
              "  <style>\n",
              "    .colab-df-container {\n",
              "      display:flex;\n",
              "      flex-wrap:wrap;\n",
              "      gap: 12px;\n",
              "    }\n",
              "\n",
              "    .colab-df-convert {\n",
              "      background-color: #E8F0FE;\n",
              "      border: none;\n",
              "      border-radius: 50%;\n",
              "      cursor: pointer;\n",
              "      display: none;\n",
              "      fill: #1967D2;\n",
              "      height: 32px;\n",
              "      padding: 0 0 0 0;\n",
              "      width: 32px;\n",
              "    }\n",
              "\n",
              "    .colab-df-convert:hover {\n",
              "      background-color: #E2EBFA;\n",
              "      box-shadow: 0px 1px 2px rgba(60, 64, 67, 0.3), 0px 1px 3px 1px rgba(60, 64, 67, 0.15);\n",
              "      fill: #174EA6;\n",
              "    }\n",
              "\n",
              "    [theme=dark] .colab-df-convert {\n",
              "      background-color: #3B4455;\n",
              "      fill: #D2E3FC;\n",
              "    }\n",
              "\n",
              "    [theme=dark] .colab-df-convert:hover {\n",
              "      background-color: #434B5C;\n",
              "      box-shadow: 0px 1px 3px 1px rgba(0, 0, 0, 0.15);\n",
              "      filter: drop-shadow(0px 1px 2px rgba(0, 0, 0, 0.3));\n",
              "      fill: #FFFFFF;\n",
              "    }\n",
              "  </style>\n",
              "\n",
              "      <script>\n",
              "        const buttonEl =\n",
              "          document.querySelector('#df-b7ca45e2-dcb3-4c3e-93ab-0064f004cc34 button.colab-df-convert');\n",
              "        buttonEl.style.display =\n",
              "          google.colab.kernel.accessAllowed ? 'block' : 'none';\n",
              "\n",
              "        async function convertToInteractive(key) {\n",
              "          const element = document.querySelector('#df-b7ca45e2-dcb3-4c3e-93ab-0064f004cc34');\n",
              "          const dataTable =\n",
              "            await google.colab.kernel.invokeFunction('convertToInteractive',\n",
              "                                                     [key], {});\n",
              "          if (!dataTable) return;\n",
              "\n",
              "          const docLinkHtml = 'Like what you see? Visit the ' +\n",
              "            '<a target=\"_blank\" href=https://colab.research.google.com/notebooks/data_table.ipynb>data table notebook</a>'\n",
              "            + ' to learn more about interactive tables.';\n",
              "          element.innerHTML = '';\n",
              "          dataTable['output_type'] = 'display_data';\n",
              "          await google.colab.output.renderOutput(dataTable, element);\n",
              "          const docLink = document.createElement('div');\n",
              "          docLink.innerHTML = docLinkHtml;\n",
              "          element.appendChild(docLink);\n",
              "        }\n",
              "      </script>\n",
              "    </div>\n",
              "  </div>\n",
              "  "
            ]
          },
          "metadata": {},
          "execution_count": 11
        }
      ]
    },
    {
      "cell_type": "code",
      "source": [
        "data_test"
      ],
      "metadata": {
        "colab": {
          "base_uri": "https://localhost:8080/",
          "height": 468
        },
        "id": "FFHTBF5pedeN",
        "outputId": "457c2e5c-5a45-43d6-9b11-7a94b526703a"
      },
      "execution_count": null,
      "outputs": [
        {
          "output_type": "execute_result",
          "data": {
            "text/plain": [
              "          Day1     Day2     Day3     Day4     Day5     Day6     Day7     Day8  \\\n",
              "6472    376.25   373.70   370.00   370.75   375.80   374.65   382.25   380.00   \n",
              "6473    373.70   370.00   370.75   375.80   374.65   382.25   380.00   376.30   \n",
              "6474    370.00   370.75   375.80   374.65   382.25   380.00   376.30   378.25   \n",
              "6475    370.75   375.80   374.65   382.25   380.00   376.30   378.25   373.50   \n",
              "6476    375.80   374.65   382.25   380.00   376.30   378.25   373.50   374.60   \n",
              "...        ...      ...      ...      ...      ...      ...      ...      ...   \n",
              "10742  1549.90  1545.10  1549.00  1554.55  1557.60  1560.15  1551.30  1556.90   \n",
              "10743  1545.10  1549.00  1554.55  1557.60  1560.15  1551.30  1556.90  1562.90   \n",
              "10744  1549.00  1554.55  1557.60  1560.15  1551.30  1556.90  1562.90  1564.30   \n",
              "10745  1554.55  1557.60  1560.15  1551.30  1556.90  1562.90  1564.30  1580.10   \n",
              "10746  1557.60  1560.15  1551.30  1556.90  1562.90  1564.30  1580.10  1574.00   \n",
              "\n",
              "          Day9    Day10  ...    Day32    Day33    Day34    Day35    Day36  \\\n",
              "6472    376.30   378.25  ...   373.95   373.50   373.40   370.50   373.80   \n",
              "6473    378.25   373.50  ...   373.50   373.40   370.50   373.80   378.20   \n",
              "6474    373.50   374.60  ...   373.40   370.50   373.80   378.20   384.75   \n",
              "6475    374.60   374.25  ...   370.50   373.80   378.20   384.75   384.50   \n",
              "6476    374.25   378.30  ...   373.80   378.20   384.75   384.50   388.25   \n",
              "...        ...      ...  ...      ...      ...      ...      ...      ...   \n",
              "10742  1562.90  1564.30  ...  1650.30  1634.90  1652.00  1609.85  1599.65   \n",
              "10743  1564.30  1580.10  ...  1634.90  1652.00  1609.85  1599.65  1615.50   \n",
              "10744  1580.10  1574.00  ...  1652.00  1609.85  1599.65  1615.50  1641.85   \n",
              "10745  1574.00  1573.45  ...  1609.85  1599.65  1615.50  1641.85  1659.60   \n",
              "10746  1573.45  1578.25  ...  1599.65  1615.50  1641.85  1659.60  1683.65   \n",
              "\n",
              "         Day37    Day38    Day39    Day40   Target  \n",
              "6472    378.20   384.75   384.50   388.25   386.00  \n",
              "6473    384.75   384.50   388.25   386.00   384.40  \n",
              "6474    384.50   388.25   386.00   384.40   385.40  \n",
              "6475    388.25   386.00   384.40   385.40   386.50  \n",
              "6476    386.00   384.40   385.40   386.50   386.25  \n",
              "...        ...      ...      ...      ...      ...  \n",
              "10742  1615.50  1641.85  1659.60  1683.65  1672.50  \n",
              "10743  1641.85  1659.60  1683.65  1672.50  1655.70  \n",
              "10744  1659.60  1683.65  1672.50  1655.70  1653.75  \n",
              "10745  1683.65  1672.50  1655.70  1653.75  1570.70  \n",
              "10746  1672.50  1655.70  1653.75  1570.70  1562.80  \n",
              "\n",
              "[4275 rows x 41 columns]"
            ],
            "text/html": [
              "\n",
              "  <div id=\"df-04d209b0-1119-4023-a54f-2a3e9107e371\">\n",
              "    <div class=\"colab-df-container\">\n",
              "      <div>\n",
              "<style scoped>\n",
              "    .dataframe tbody tr th:only-of-type {\n",
              "        vertical-align: middle;\n",
              "    }\n",
              "\n",
              "    .dataframe tbody tr th {\n",
              "        vertical-align: top;\n",
              "    }\n",
              "\n",
              "    .dataframe thead th {\n",
              "        text-align: right;\n",
              "    }\n",
              "</style>\n",
              "<table border=\"1\" class=\"dataframe\">\n",
              "  <thead>\n",
              "    <tr style=\"text-align: right;\">\n",
              "      <th></th>\n",
              "      <th>Day1</th>\n",
              "      <th>Day2</th>\n",
              "      <th>Day3</th>\n",
              "      <th>Day4</th>\n",
              "      <th>Day5</th>\n",
              "      <th>Day6</th>\n",
              "      <th>Day7</th>\n",
              "      <th>Day8</th>\n",
              "      <th>Day9</th>\n",
              "      <th>Day10</th>\n",
              "      <th>...</th>\n",
              "      <th>Day32</th>\n",
              "      <th>Day33</th>\n",
              "      <th>Day34</th>\n",
              "      <th>Day35</th>\n",
              "      <th>Day36</th>\n",
              "      <th>Day37</th>\n",
              "      <th>Day38</th>\n",
              "      <th>Day39</th>\n",
              "      <th>Day40</th>\n",
              "      <th>Target</th>\n",
              "    </tr>\n",
              "  </thead>\n",
              "  <tbody>\n",
              "    <tr>\n",
              "      <th>6472</th>\n",
              "      <td>376.25</td>\n",
              "      <td>373.70</td>\n",
              "      <td>370.00</td>\n",
              "      <td>370.75</td>\n",
              "      <td>375.80</td>\n",
              "      <td>374.65</td>\n",
              "      <td>382.25</td>\n",
              "      <td>380.00</td>\n",
              "      <td>376.30</td>\n",
              "      <td>378.25</td>\n",
              "      <td>...</td>\n",
              "      <td>373.95</td>\n",
              "      <td>373.50</td>\n",
              "      <td>373.40</td>\n",
              "      <td>370.50</td>\n",
              "      <td>373.80</td>\n",
              "      <td>378.20</td>\n",
              "      <td>384.75</td>\n",
              "      <td>384.50</td>\n",
              "      <td>388.25</td>\n",
              "      <td>386.00</td>\n",
              "    </tr>\n",
              "    <tr>\n",
              "      <th>6473</th>\n",
              "      <td>373.70</td>\n",
              "      <td>370.00</td>\n",
              "      <td>370.75</td>\n",
              "      <td>375.80</td>\n",
              "      <td>374.65</td>\n",
              "      <td>382.25</td>\n",
              "      <td>380.00</td>\n",
              "      <td>376.30</td>\n",
              "      <td>378.25</td>\n",
              "      <td>373.50</td>\n",
              "      <td>...</td>\n",
              "      <td>373.50</td>\n",
              "      <td>373.40</td>\n",
              "      <td>370.50</td>\n",
              "      <td>373.80</td>\n",
              "      <td>378.20</td>\n",
              "      <td>384.75</td>\n",
              "      <td>384.50</td>\n",
              "      <td>388.25</td>\n",
              "      <td>386.00</td>\n",
              "      <td>384.40</td>\n",
              "    </tr>\n",
              "    <tr>\n",
              "      <th>6474</th>\n",
              "      <td>370.00</td>\n",
              "      <td>370.75</td>\n",
              "      <td>375.80</td>\n",
              "      <td>374.65</td>\n",
              "      <td>382.25</td>\n",
              "      <td>380.00</td>\n",
              "      <td>376.30</td>\n",
              "      <td>378.25</td>\n",
              "      <td>373.50</td>\n",
              "      <td>374.60</td>\n",
              "      <td>...</td>\n",
              "      <td>373.40</td>\n",
              "      <td>370.50</td>\n",
              "      <td>373.80</td>\n",
              "      <td>378.20</td>\n",
              "      <td>384.75</td>\n",
              "      <td>384.50</td>\n",
              "      <td>388.25</td>\n",
              "      <td>386.00</td>\n",
              "      <td>384.40</td>\n",
              "      <td>385.40</td>\n",
              "    </tr>\n",
              "    <tr>\n",
              "      <th>6475</th>\n",
              "      <td>370.75</td>\n",
              "      <td>375.80</td>\n",
              "      <td>374.65</td>\n",
              "      <td>382.25</td>\n",
              "      <td>380.00</td>\n",
              "      <td>376.30</td>\n",
              "      <td>378.25</td>\n",
              "      <td>373.50</td>\n",
              "      <td>374.60</td>\n",
              "      <td>374.25</td>\n",
              "      <td>...</td>\n",
              "      <td>370.50</td>\n",
              "      <td>373.80</td>\n",
              "      <td>378.20</td>\n",
              "      <td>384.75</td>\n",
              "      <td>384.50</td>\n",
              "      <td>388.25</td>\n",
              "      <td>386.00</td>\n",
              "      <td>384.40</td>\n",
              "      <td>385.40</td>\n",
              "      <td>386.50</td>\n",
              "    </tr>\n",
              "    <tr>\n",
              "      <th>6476</th>\n",
              "      <td>375.80</td>\n",
              "      <td>374.65</td>\n",
              "      <td>382.25</td>\n",
              "      <td>380.00</td>\n",
              "      <td>376.30</td>\n",
              "      <td>378.25</td>\n",
              "      <td>373.50</td>\n",
              "      <td>374.60</td>\n",
              "      <td>374.25</td>\n",
              "      <td>378.30</td>\n",
              "      <td>...</td>\n",
              "      <td>373.80</td>\n",
              "      <td>378.20</td>\n",
              "      <td>384.75</td>\n",
              "      <td>384.50</td>\n",
              "      <td>388.25</td>\n",
              "      <td>386.00</td>\n",
              "      <td>384.40</td>\n",
              "      <td>385.40</td>\n",
              "      <td>386.50</td>\n",
              "      <td>386.25</td>\n",
              "    </tr>\n",
              "    <tr>\n",
              "      <th>...</th>\n",
              "      <td>...</td>\n",
              "      <td>...</td>\n",
              "      <td>...</td>\n",
              "      <td>...</td>\n",
              "      <td>...</td>\n",
              "      <td>...</td>\n",
              "      <td>...</td>\n",
              "      <td>...</td>\n",
              "      <td>...</td>\n",
              "      <td>...</td>\n",
              "      <td>...</td>\n",
              "      <td>...</td>\n",
              "      <td>...</td>\n",
              "      <td>...</td>\n",
              "      <td>...</td>\n",
              "      <td>...</td>\n",
              "      <td>...</td>\n",
              "      <td>...</td>\n",
              "      <td>...</td>\n",
              "      <td>...</td>\n",
              "      <td>...</td>\n",
              "    </tr>\n",
              "    <tr>\n",
              "      <th>10742</th>\n",
              "      <td>1549.90</td>\n",
              "      <td>1545.10</td>\n",
              "      <td>1549.00</td>\n",
              "      <td>1554.55</td>\n",
              "      <td>1557.60</td>\n",
              "      <td>1560.15</td>\n",
              "      <td>1551.30</td>\n",
              "      <td>1556.90</td>\n",
              "      <td>1562.90</td>\n",
              "      <td>1564.30</td>\n",
              "      <td>...</td>\n",
              "      <td>1650.30</td>\n",
              "      <td>1634.90</td>\n",
              "      <td>1652.00</td>\n",
              "      <td>1609.85</td>\n",
              "      <td>1599.65</td>\n",
              "      <td>1615.50</td>\n",
              "      <td>1641.85</td>\n",
              "      <td>1659.60</td>\n",
              "      <td>1683.65</td>\n",
              "      <td>1672.50</td>\n",
              "    </tr>\n",
              "    <tr>\n",
              "      <th>10743</th>\n",
              "      <td>1545.10</td>\n",
              "      <td>1549.00</td>\n",
              "      <td>1554.55</td>\n",
              "      <td>1557.60</td>\n",
              "      <td>1560.15</td>\n",
              "      <td>1551.30</td>\n",
              "      <td>1556.90</td>\n",
              "      <td>1562.90</td>\n",
              "      <td>1564.30</td>\n",
              "      <td>1580.10</td>\n",
              "      <td>...</td>\n",
              "      <td>1634.90</td>\n",
              "      <td>1652.00</td>\n",
              "      <td>1609.85</td>\n",
              "      <td>1599.65</td>\n",
              "      <td>1615.50</td>\n",
              "      <td>1641.85</td>\n",
              "      <td>1659.60</td>\n",
              "      <td>1683.65</td>\n",
              "      <td>1672.50</td>\n",
              "      <td>1655.70</td>\n",
              "    </tr>\n",
              "    <tr>\n",
              "      <th>10744</th>\n",
              "      <td>1549.00</td>\n",
              "      <td>1554.55</td>\n",
              "      <td>1557.60</td>\n",
              "      <td>1560.15</td>\n",
              "      <td>1551.30</td>\n",
              "      <td>1556.90</td>\n",
              "      <td>1562.90</td>\n",
              "      <td>1564.30</td>\n",
              "      <td>1580.10</td>\n",
              "      <td>1574.00</td>\n",
              "      <td>...</td>\n",
              "      <td>1652.00</td>\n",
              "      <td>1609.85</td>\n",
              "      <td>1599.65</td>\n",
              "      <td>1615.50</td>\n",
              "      <td>1641.85</td>\n",
              "      <td>1659.60</td>\n",
              "      <td>1683.65</td>\n",
              "      <td>1672.50</td>\n",
              "      <td>1655.70</td>\n",
              "      <td>1653.75</td>\n",
              "    </tr>\n",
              "    <tr>\n",
              "      <th>10745</th>\n",
              "      <td>1554.55</td>\n",
              "      <td>1557.60</td>\n",
              "      <td>1560.15</td>\n",
              "      <td>1551.30</td>\n",
              "      <td>1556.90</td>\n",
              "      <td>1562.90</td>\n",
              "      <td>1564.30</td>\n",
              "      <td>1580.10</td>\n",
              "      <td>1574.00</td>\n",
              "      <td>1573.45</td>\n",
              "      <td>...</td>\n",
              "      <td>1609.85</td>\n",
              "      <td>1599.65</td>\n",
              "      <td>1615.50</td>\n",
              "      <td>1641.85</td>\n",
              "      <td>1659.60</td>\n",
              "      <td>1683.65</td>\n",
              "      <td>1672.50</td>\n",
              "      <td>1655.70</td>\n",
              "      <td>1653.75</td>\n",
              "      <td>1570.70</td>\n",
              "    </tr>\n",
              "    <tr>\n",
              "      <th>10746</th>\n",
              "      <td>1557.60</td>\n",
              "      <td>1560.15</td>\n",
              "      <td>1551.30</td>\n",
              "      <td>1556.90</td>\n",
              "      <td>1562.90</td>\n",
              "      <td>1564.30</td>\n",
              "      <td>1580.10</td>\n",
              "      <td>1574.00</td>\n",
              "      <td>1573.45</td>\n",
              "      <td>1578.25</td>\n",
              "      <td>...</td>\n",
              "      <td>1599.65</td>\n",
              "      <td>1615.50</td>\n",
              "      <td>1641.85</td>\n",
              "      <td>1659.60</td>\n",
              "      <td>1683.65</td>\n",
              "      <td>1672.50</td>\n",
              "      <td>1655.70</td>\n",
              "      <td>1653.75</td>\n",
              "      <td>1570.70</td>\n",
              "      <td>1562.80</td>\n",
              "    </tr>\n",
              "  </tbody>\n",
              "</table>\n",
              "<p>4275 rows × 41 columns</p>\n",
              "</div>\n",
              "      <button class=\"colab-df-convert\" onclick=\"convertToInteractive('df-04d209b0-1119-4023-a54f-2a3e9107e371')\"\n",
              "              title=\"Convert this dataframe to an interactive table.\"\n",
              "              style=\"display:none;\">\n",
              "        \n",
              "  <svg xmlns=\"http://www.w3.org/2000/svg\" height=\"24px\"viewBox=\"0 0 24 24\"\n",
              "       width=\"24px\">\n",
              "    <path d=\"M0 0h24v24H0V0z\" fill=\"none\"/>\n",
              "    <path d=\"M18.56 5.44l.94 2.06.94-2.06 2.06-.94-2.06-.94-.94-2.06-.94 2.06-2.06.94zm-11 1L8.5 8.5l.94-2.06 2.06-.94-2.06-.94L8.5 2.5l-.94 2.06-2.06.94zm10 10l.94 2.06.94-2.06 2.06-.94-2.06-.94-.94-2.06-.94 2.06-2.06.94z\"/><path d=\"M17.41 7.96l-1.37-1.37c-.4-.4-.92-.59-1.43-.59-.52 0-1.04.2-1.43.59L10.3 9.45l-7.72 7.72c-.78.78-.78 2.05 0 2.83L4 21.41c.39.39.9.59 1.41.59.51 0 1.02-.2 1.41-.59l7.78-7.78 2.81-2.81c.8-.78.8-2.07 0-2.86zM5.41 20L4 18.59l7.72-7.72 1.47 1.35L5.41 20z\"/>\n",
              "  </svg>\n",
              "      </button>\n",
              "      \n",
              "  <style>\n",
              "    .colab-df-container {\n",
              "      display:flex;\n",
              "      flex-wrap:wrap;\n",
              "      gap: 12px;\n",
              "    }\n",
              "\n",
              "    .colab-df-convert {\n",
              "      background-color: #E8F0FE;\n",
              "      border: none;\n",
              "      border-radius: 50%;\n",
              "      cursor: pointer;\n",
              "      display: none;\n",
              "      fill: #1967D2;\n",
              "      height: 32px;\n",
              "      padding: 0 0 0 0;\n",
              "      width: 32px;\n",
              "    }\n",
              "\n",
              "    .colab-df-convert:hover {\n",
              "      background-color: #E2EBFA;\n",
              "      box-shadow: 0px 1px 2px rgba(60, 64, 67, 0.3), 0px 1px 3px 1px rgba(60, 64, 67, 0.15);\n",
              "      fill: #174EA6;\n",
              "    }\n",
              "\n",
              "    [theme=dark] .colab-df-convert {\n",
              "      background-color: #3B4455;\n",
              "      fill: #D2E3FC;\n",
              "    }\n",
              "\n",
              "    [theme=dark] .colab-df-convert:hover {\n",
              "      background-color: #434B5C;\n",
              "      box-shadow: 0px 1px 3px 1px rgba(0, 0, 0, 0.15);\n",
              "      filter: drop-shadow(0px 1px 2px rgba(0, 0, 0, 0.3));\n",
              "      fill: #FFFFFF;\n",
              "    }\n",
              "  </style>\n",
              "\n",
              "      <script>\n",
              "        const buttonEl =\n",
              "          document.querySelector('#df-04d209b0-1119-4023-a54f-2a3e9107e371 button.colab-df-convert');\n",
              "        buttonEl.style.display =\n",
              "          google.colab.kernel.accessAllowed ? 'block' : 'none';\n",
              "\n",
              "        async function convertToInteractive(key) {\n",
              "          const element = document.querySelector('#df-04d209b0-1119-4023-a54f-2a3e9107e371');\n",
              "          const dataTable =\n",
              "            await google.colab.kernel.invokeFunction('convertToInteractive',\n",
              "                                                     [key], {});\n",
              "          if (!dataTable) return;\n",
              "\n",
              "          const docLinkHtml = 'Like what you see? Visit the ' +\n",
              "            '<a target=\"_blank\" href=https://colab.research.google.com/notebooks/data_table.ipynb>data table notebook</a>'\n",
              "            + ' to learn more about interactive tables.';\n",
              "          element.innerHTML = '';\n",
              "          dataTable['output_type'] = 'display_data';\n",
              "          await google.colab.output.renderOutput(dataTable, element);\n",
              "          const docLink = document.createElement('div');\n",
              "          docLink.innerHTML = docLinkHtml;\n",
              "          element.appendChild(docLink);\n",
              "        }\n",
              "      </script>\n",
              "    </div>\n",
              "  </div>\n",
              "  "
            ]
          },
          "metadata": {},
          "execution_count": 12
        }
      ]
    },
    {
      "cell_type": "markdown",
      "source": [
        "**Now! new data contain only `Value` values!!**\n",
        "* Target = column[`'Value'`] contains `Value` value of next day!\n",
        "* Attribute/Feature = column[`'Day0'`...`'Day_n'`] contain `Value` value of previous days!"
      ],
      "metadata": {
        "id": "8jLKLlliepJ6"
      }
    },
    {
      "cell_type": "code",
      "source": [
        "X_train = data_train[data_train.columns[:-1]].values\n",
        "y_train = data_train[data_train.columns[-1]].values\n",
        "\n",
        "X_test = data_test[data_test.columns[:-1]].values\n",
        "y_test = data_test[data_test.columns[-1]].values"
      ],
      "metadata": {
        "id": "8rcaijHwehMh"
      },
      "execution_count": null,
      "outputs": []
    },
    {
      "cell_type": "markdown",
      "source": [
        "**Modelling - Machine Learning**\n",
        "\n",
        "กระบวนการ Machie learning ที่ออกแบบมาสำหรับ Time Series\n",
        "\n",
        "ในการออกแบบโมเดลเพื่อนพยากรณ์ราคาของทอง เราได้ลองใช้แค่โมเดลเดียวคือโมเดล MLPRegressor โดยตัวของพารามิเตอร์ของโมเดลแรก ในส่วนของ activation ใส่เป็น 'logistic'เจ้าตัวของ logistic มันซึ่งเป็นฟังก์ชัน logistic sigmoid ส่งกลับค่า f(x) = 1 / (1 + exp (-x)) และในส่วนของ solver ใส่เป็น 'lbfgs' จะเป็นเครื่องมือที่มีประสิทธิภาพในตระกูลวิธีกึ่งนิวตันมันช่วยทำให้กระบวนการทำของโมเดลมีประสิทธิภาพมากขึ้นด้วย"
      ],
      "metadata": {
        "id": "K-DSoyVNexwc"
      }
    },
    {
      "cell_type": "code",
      "source": [
        "from sklearn.preprocessing import MinMaxScaler\n",
        "from sklearn.neural_network import MLPRegressor\n",
        "from sklearn.compose import TransformedTargetRegressor\n",
        "\n",
        "scaler = MinMaxScaler()\n",
        "scaler.fit(X_train)\n",
        "\n",
        "# out_enc = output_encoder()\n",
        "# out_enc.fit(target_train)\n",
        "\n",
        "model = MLPRegressor(activation='logistic',solver='lbfgs')\n",
        "model = TransformedTargetRegressor(regressor=model, transformer=MinMaxScaler())\n",
        "model.fit(scaler.transform(X_train), y_train)\n",
        "y_predict = model.predict(X_test)\n",
        "print(y_predict)\n",
        "\n",
        "preds = model.predict(scaler.transform(X_test))\n",
        "preds_df = pd.DataFrame({'Date':test_set['Date'].values[window_size-1:-1], 'Predicted':preds})\n",
        "sns.lineplot(x=df['Date'], y=df['Value'])\n",
        "sns.lineplot(x=preds_df['Date'],  y=preds_df['Predicted']);\n",
        "\n",
        "from sklearn.metrics import mean_absolute_error, mean_squared_error, mean_absolute_percentage_error\n",
        "\n",
        "print(\"MAE: \", mean_absolute_error(y_test, y_predict))\n",
        "print(\"MSE: \", mean_squared_error(y_test, y_predict))\n",
        "print(\"MAPE: \", mean_absolute_percentage_error(y_test, y_predict))"
      ],
      "metadata": {
        "colab": {
          "base_uri": "https://localhost:8080/",
          "height": 589
        },
        "id": "tEA6qWrEexYm",
        "outputId": "c9f78dd8-46fc-419b-f96e-76f8bfa9aa52"
      },
      "execution_count": null,
      "outputs": [
        {
          "output_type": "stream",
          "name": "stdout",
          "text": [
            "[1564.30536074 1565.54660123 1566.01567968 ... 1566.14492453 1566.14492415\n",
            " 1566.14492446]\n",
            "MAE:  487.32318251287563\n",
            "MSE:  362565.1963531325\n",
            "MAPE:  0.7308600036574501\n"
          ]
        },
        {
          "output_type": "display_data",
          "data": {
            "text/plain": [
              "<Figure size 1440x576 with 1 Axes>"
            ],
            "image/png": "[encoded data removed]"
          },
          "metadata": {}
        }
      ]
    },
    {
      "cell_type": "markdown",
      "source": [
        "ในส่วนโมเดลที่สอง เราใส่ค่าพารามิเตอร์ที่แตกต่างจากโมเดลแรกคือ ในส่วนของ activation ใส่เป็น 'identity' เป็นฟังก์ชันที่การเปิดใช้งาน no-op และคืนค่า f(x)=x ในส่วนของ solver ได้ใส่เป็น 'sgd' เป็นตัวแก้ปัญหาโดยไล่ลำดับสีสุ่ม ซึ่งมันก็ช่วยให้กระบวนการทำของโมเดลมีประสิทธิภาพมากขึ้นเช่นกัน"
      ],
      "metadata": {
        "id": "njEBKgmlfHN9"
      }
    },
    {
      "cell_type": "code",
      "source": [
        "from sklearn.preprocessing import MinMaxScaler\n",
        "from sklearn.neural_network import MLPRegressor\n",
        "from sklearn.compose import TransformedTargetRegressor\n",
        "\n",
        "scaler = MinMaxScaler()\n",
        "scaler.fit(X_train)\n",
        "\n",
        "# out_enc = output_encoder()\n",
        "# out_enc.fit(target_train)\n",
        "\n",
        "model = MLPRegressor(activation='identity',solver='sgd')\n",
        "model = TransformedTargetRegressor(regressor=model, transformer=MinMaxScaler())\n",
        "model.fit(scaler.transform(X_train), y_train)\n",
        "y_predict = model.predict(X_test)\n",
        "print(y_predict)\n",
        "preds = model.predict(scaler.transform(X_test))\n",
        "preds_df = pd.DataFrame({'Date':test_set['Date'].values[window_size-1:-1], 'Predicted':preds})\n",
        "sns.lineplot(x=df['Date'], y=df['Value'])\n",
        "sns.lineplot(x=preds_df['Date'],  y=preds_df['Predicted']);\n",
        "\n",
        "from sklearn.metrics import mean_absolute_error, mean_squared_error, mean_absolute_percentage_error\n",
        "\n",
        "print(\"MAE: \", mean_absolute_error(y_test, y_predict))\n",
        "print(\"MSE: \", mean_squared_error(y_test, y_predict))\n",
        "print(\"MAPE: \", mean_absolute_percentage_error(y_test, y_predict))"
      ],
      "metadata": {
        "colab": {
          "base_uri": "https://localhost:8080/",
          "height": 589
        },
        "id": "rAs2QCty0G1i",
        "outputId": "38447542-5a2e-415b-d824-81e59e0a1ff6"
      },
      "execution_count": null,
      "outputs": [
        {
          "output_type": "stream",
          "name": "stdout",
          "text": [
            "[ 270253.63340103  274561.05118162  269300.17735958 ... 1166320.20688114\n",
            " 1172006.46743453 1169535.50241934]\n",
            "MAE:  791694.1508260769\n",
            "MSE:  707336599193.9656\n",
            "MAPE:  726.1639165065667\n"
          ]
        },
        {
          "output_type": "display_data",
          "data": {
            "text/plain": [
              "<Figure size 1440x576 with 1 Axes>"
            ],
            "image/png": "[encoded data removed]"
          },
          "metadata": {}
        }
      ]
    },
    {
      "cell_type": "markdown",
      "source": [
        "ในความแตกต่างระหว่างโมเดลเดียว แต่ค่าพารามิเตอร์ที่แตกต่างกัน โดยที่ค่าพยากรณ์ของโมเดลแรกนั้นในแต่ละตัวมีค่าพยากรณ์น้อยกว่าโมเดลที่สอง และกราฟที่ออกมาจากทั้งสองโมเดลนั้นมีความแม่นยำต่างกันด้วย"
      ],
      "metadata": {
        "id": "v9JENuir0Mxf"
      }
    },
    {
      "cell_type": "markdown",
      "source": [
        "**วิเคราะห์ผล**\n",
        "\n",
        "ในการพยากรณ์ราคาของทอง ซึ่งเป็นข้อมูลที่ได้มาจาก Kaggle ประกอบไปด้วย 2 แอตทริบิวต์ จากข้อมูลทั้งหมด 10787 แถวโดยกำหนด input ข้อมูลเป็น แอตทริบิวต์มีดังนี้\n",
        "\n",
        "1.Date(วันที่)\n",
        "\n",
        "2.Value(ราคาของทอง)\n",
        "โดย output ที่เราจะหาหรือพยากรณ์ก็คือ Value(ราคาทอง) นั้นเอง\n",
        "โดยเราได้ทำการนำข้อมูลมาทำความสะอาดเพื่อง่ายต่อการพยากรณ์ แล้วได้ทำการเเบ่งข้อมูลไว้สองชุด โดยชุดไว้เรียนรู้ 60% และชุดทดสอบ 40%  เราได้ใช้โมเดลที่เอาไว้เรียนรู้และทำการพยากรณ์เป็น MLPRegressor แค่โมเดลเดียวแต่ว่าเราได้ทำการให้ค่าพารามิเตอร์ที่แตกต่างกัน ผลปรากฎว่าค่าทองที่พยากรณ์ออกมาของโมเดลที่สองนั้นมีมากกว่าของโมเดลแรกทุกตัวในการพยากรณ์ออกมา จะเห็นได้ชัดเลยว่าการใช้โมเดลเดียวแต่ค่าพารามิเตอร์ที่แตกต่างกันนั้นทำให้ค่าพยากรณ์นั้นเปลี่ยนไปได้ และกราฟพยากรณ์ที่พล็อตออกมานั้นก็มีความแม่นยำที่แตกต่างกันด้วย"
      ],
      "metadata": {
        "id": "SO1poeNbftKr"
      }
    },
    {
      "cell_type": "markdown",
      "source": [
        "# **Clustering**"
      ],
      "metadata": {
        "id": "rYxKEwRI5BGN"
      }
    },
    {
      "cell_type": "markdown",
      "source": [
        "**เกี่ยวกับข้อมูล**\n",
        "เป็นชุดข้อมูลคะแนนของนักเรียน ได้จาก [Kaggle](https://www.kaggle.com/datasets/whenamancodes/students-performance-in-exams) ซึ่งมีข้อมูลทั้งหมด 1000 แถว 8 แอททริบิวต์ ดังนี้ \n",
        "1. gender เพศ\n",
        "2. race/ethnicity เชื้อชาติ/ชาติพันธุ์ \n",
        "3. parental level of education ระดับของการศึกษา\n",
        "4. lunch อาหารกลางวัน\n",
        "5. test preparation course คอร์สเตรียมสอบ \n",
        "6. math score คะแนนคณิตศาสตร์\n",
        "7. reading score คะแนนการอ่าน\n",
        "8. writing score คะแนนการเขียน\n",
        "\n",
        "กำหนดข้อมูล\n",
        "\n",
        "Input : gender,parental level of education,lunch, test preparation course, math score, reading score และ writig score\n",
        "\n",
        "Output : race/ethnicity"
      ],
      "metadata": {
        "id": "9KmGwfqHtpam"
      }
    },
    {
      "cell_type": "markdown",
      "source": [
        "**เพื่อทำการจำแนกกลุ่ม race/ethnicity ของนักเรียน**"
      ],
      "metadata": {
        "id": "WgS-8OGdxh1a"
      }
    },
    {
      "cell_type": "markdown",
      "source": [
        "**ตรวจสอบข้อมูล**"
      ],
      "metadata": {
        "id": "dFmbKIpRyBDP"
      }
    },
    {
      "cell_type": "code",
      "source": [
        "# download ข้อมูล แล้วอัพลง Google Drive เพื่อให้ง่ายต่อการนำข้อมูลมาใช้งานใน Google Colab\n",
        "!gdown --id 1_uz2xWuDYOeYW4YPhi6rA33L_8-ISFso #ใช้คำสั่ง !gdown --id <link id> เพื่อโหลดข้อมูลจาก Google Drive"
      ],
      "metadata": {
        "id": "B0ocCvLbgNly",
        "colab": {
          "base_uri": "https://localhost:8080/"
        },
        "outputId": "60490d2d-3a72-49b7-8904-3302631d1720"
      },
      "execution_count": null,
      "outputs": [
        {
          "output_type": "stream",
          "name": "stdout",
          "text": [
            "/usr/local/lib/python3.7/dist-packages/gdown/cli.py:131: FutureWarning: Option `--id` was deprecated in version 4.3.1 and will be removed in 5.0. You don't need to pass it anymore to use a file ID.\n",
            "  category=FutureWarning,\n",
            "Downloading...\n",
            "From: https://drive.google.com/uc?id=1_uz2xWuDYOeYW4YPhi6rA33L_8-ISFso\n",
            "To: /content/exams.csv\n",
            "100% 71.8k/71.8k [00:00<00:00, 46.7MB/s]\n"
          ]
        }
      ]
    },
    {
      "cell_type": "code",
      "source": [
        "import pandas as pd\n",
        "exams = pd.read_csv(\"exams.csv\")\n",
        "exams"
      ],
      "metadata": {
        "colab": {
          "base_uri": "https://localhost:8080/",
          "height": 424
        },
        "id": "kbIPWoHwtFco",
        "outputId": "568a9707-ab9c-4655-91a6-83f19a6ca3de"
      },
      "execution_count": null,
      "outputs": [
        {
          "output_type": "execute_result",
          "data": {
            "text/plain": [
              "     gender race/ethnicity parental level of education         lunch  \\\n",
              "0      male        group A                 high school      standard   \n",
              "1    female        group D            some high school  free/reduced   \n",
              "2      male        group E                some college  free/reduced   \n",
              "3      male        group B                 high school      standard   \n",
              "4      male        group E          associate's degree      standard   \n",
              "..      ...            ...                         ...           ...   \n",
              "995    male        group C                 high school      standard   \n",
              "996    male        group D          associate's degree  free/reduced   \n",
              "997  female        group C            some high school  free/reduced   \n",
              "998  female        group C                some college      standard   \n",
              "999    male        group A                some college      standard   \n",
              "\n",
              "    test preparation course  math score  reading score  writing score  \n",
              "0                 completed          67             67             63  \n",
              "1                      none          40             59             55  \n",
              "2                      none          59             60             50  \n",
              "3                      none          77             78             68  \n",
              "4                 completed          78             73             68  \n",
              "..                      ...         ...            ...            ...  \n",
              "995                    none          73             70             65  \n",
              "996               completed          85             91             92  \n",
              "997                    none          32             35             41  \n",
              "998                    none          73             74             82  \n",
              "999               completed          65             60             62  \n",
              "\n",
              "[1000 rows x 8 columns]"
            ],
            "text/html": [
              "\n",
              "  <div id=\"df-85e37f05-0579-4842-a7d0-9d927e1ef2dd\">\n",
              "    <div class=\"colab-df-container\">\n",
              "      <div>\n",
              "<style scoped>\n",
              "    .dataframe tbody tr th:only-of-type {\n",
              "        vertical-align: middle;\n",
              "    }\n",
              "\n",
              "    .dataframe tbody tr th {\n",
              "        vertical-align: top;\n",
              "    }\n",
              "\n",
              "    .dataframe thead th {\n",
              "        text-align: right;\n",
              "    }\n",
              "</style>\n",
              "<table border=\"1\" class=\"dataframe\">\n",
              "  <thead>\n",
              "    <tr style=\"text-align: right;\">\n",
              "      <th></th>\n",
              "      <th>gender</th>\n",
              "      <th>race/ethnicity</th>\n",
              "      <th>parental level of education</th>\n",
              "      <th>lunch</th>\n",
              "      <th>test preparation course</th>\n",
              "      <th>math score</th>\n",
              "      <th>reading score</th>\n",
              "      <th>writing score</th>\n",
              "    </tr>\n",
              "  </thead>\n",
              "  <tbody>\n",
              "    <tr>\n",
              "      <th>0</th>\n",
              "      <td>male</td>\n",
              "      <td>group A</td>\n",
              "      <td>high school</td>\n",
              "      <td>standard</td>\n",
              "      <td>completed</td>\n",
              "      <td>67</td>\n",
              "      <td>67</td>\n",
              "      <td>63</td>\n",
              "    </tr>\n",
              "    <tr>\n",
              "      <th>1</th>\n",
              "      <td>female</td>\n",
              "      <td>group D</td>\n",
              "      <td>some high school</td>\n",
              "      <td>free/reduced</td>\n",
              "      <td>none</td>\n",
              "      <td>40</td>\n",
              "      <td>59</td>\n",
              "      <td>55</td>\n",
              "    </tr>\n",
              "    <tr>\n",
              "      <th>2</th>\n",
              "      <td>male</td>\n",
              "      <td>group E</td>\n",
              "      <td>some college</td>\n",
              "      <td>free/reduced</td>\n",
              "      <td>none</td>\n",
              "      <td>59</td>\n",
              "      <td>60</td>\n",
              "      <td>50</td>\n",
              "    </tr>\n",
              "    <tr>\n",
              "      <th>3</th>\n",
              "      <td>male</td>\n",
              "      <td>group B</td>\n",
              "      <td>high school</td>\n",
              "      <td>standard</td>\n",
              "      <td>none</td>\n",
              "      <td>77</td>\n",
              "      <td>78</td>\n",
              "      <td>68</td>\n",
              "    </tr>\n",
              "    <tr>\n",
              "      <th>4</th>\n",
              "      <td>male</td>\n",
              "      <td>group E</td>\n",
              "      <td>associate's degree</td>\n",
              "      <td>standard</td>\n",
              "      <td>completed</td>\n",
              "      <td>78</td>\n",
              "      <td>73</td>\n",
              "      <td>68</td>\n",
              "    </tr>\n",
              "    <tr>\n",
              "      <th>...</th>\n",
              "      <td>...</td>\n",
              "      <td>...</td>\n",
              "      <td>...</td>\n",
              "      <td>...</td>\n",
              "      <td>...</td>\n",
              "      <td>...</td>\n",
              "      <td>...</td>\n",
              "      <td>...</td>\n",
              "    </tr>\n",
              "    <tr>\n",
              "      <th>995</th>\n",
              "      <td>male</td>\n",
              "      <td>group C</td>\n",
              "      <td>high school</td>\n",
              "      <td>standard</td>\n",
              "      <td>none</td>\n",
              "      <td>73</td>\n",
              "      <td>70</td>\n",
              "      <td>65</td>\n",
              "    </tr>\n",
              "    <tr>\n",
              "      <th>996</th>\n",
              "      <td>male</td>\n",
              "      <td>group D</td>\n",
              "      <td>associate's degree</td>\n",
              "      <td>free/reduced</td>\n",
              "      <td>completed</td>\n",
              "      <td>85</td>\n",
              "      <td>91</td>\n",
              "      <td>92</td>\n",
              "    </tr>\n",
              "    <tr>\n",
              "      <th>997</th>\n",
              "      <td>female</td>\n",
              "      <td>group C</td>\n",
              "      <td>some high school</td>\n",
              "      <td>free/reduced</td>\n",
              "      <td>none</td>\n",
              "      <td>32</td>\n",
              "      <td>35</td>\n",
              "      <td>41</td>\n",
              "    </tr>\n",
              "    <tr>\n",
              "      <th>998</th>\n",
              "      <td>female</td>\n",
              "      <td>group C</td>\n",
              "      <td>some college</td>\n",
              "      <td>standard</td>\n",
              "      <td>none</td>\n",
              "      <td>73</td>\n",
              "      <td>74</td>\n",
              "      <td>82</td>\n",
              "    </tr>\n",
              "    <tr>\n",
              "      <th>999</th>\n",
              "      <td>male</td>\n",
              "      <td>group A</td>\n",
              "      <td>some college</td>\n",
              "      <td>standard</td>\n",
              "      <td>completed</td>\n",
              "      <td>65</td>\n",
              "      <td>60</td>\n",
              "      <td>62</td>\n",
              "    </tr>\n",
              "  </tbody>\n",
              "</table>\n",
              "<p>1000 rows × 8 columns</p>\n",
              "</div>\n",
              "      <button class=\"colab-df-convert\" onclick=\"convertToInteractive('df-85e37f05-0579-4842-a7d0-9d927e1ef2dd')\"\n",
              "              title=\"Convert this dataframe to an interactive table.\"\n",
              "              style=\"display:none;\">\n",
              "        \n",
              "  <svg xmlns=\"http://www.w3.org/2000/svg\" height=\"24px\"viewBox=\"0 0 24 24\"\n",
              "       width=\"24px\">\n",
              "    <path d=\"M0 0h24v24H0V0z\" fill=\"none\"/>\n",
              "    <path d=\"M18.56 5.44l.94 2.06.94-2.06 2.06-.94-2.06-.94-.94-2.06-.94 2.06-2.06.94zm-11 1L8.5 8.5l.94-2.06 2.06-.94-2.06-.94L8.5 2.5l-.94 2.06-2.06.94zm10 10l.94 2.06.94-2.06 2.06-.94-2.06-.94-.94-2.06-.94 2.06-2.06.94z\"/><path d=\"M17.41 7.96l-1.37-1.37c-.4-.4-.92-.59-1.43-.59-.52 0-1.04.2-1.43.59L10.3 9.45l-7.72 7.72c-.78.78-.78 2.05 0 2.83L4 21.41c.39.39.9.59 1.41.59.51 0 1.02-.2 1.41-.59l7.78-7.78 2.81-2.81c.8-.78.8-2.07 0-2.86zM5.41 20L4 18.59l7.72-7.72 1.47 1.35L5.41 20z\"/>\n",
              "  </svg>\n",
              "      </button>\n",
              "      \n",
              "  <style>\n",
              "    .colab-df-container {\n",
              "      display:flex;\n",
              "      flex-wrap:wrap;\n",
              "      gap: 12px;\n",
              "    }\n",
              "\n",
              "    .colab-df-convert {\n",
              "      background-color: #E8F0FE;\n",
              "      border: none;\n",
              "      border-radius: 50%;\n",
              "      cursor: pointer;\n",
              "      display: none;\n",
              "      fill: #1967D2;\n",
              "      height: 32px;\n",
              "      padding: 0 0 0 0;\n",
              "      width: 32px;\n",
              "    }\n",
              "\n",
              "    .colab-df-convert:hover {\n",
              "      background-color: #E2EBFA;\n",
              "      box-shadow: 0px 1px 2px rgba(60, 64, 67, 0.3), 0px 1px 3px 1px rgba(60, 64, 67, 0.15);\n",
              "      fill: #174EA6;\n",
              "    }\n",
              "\n",
              "    [theme=dark] .colab-df-convert {\n",
              "      background-color: #3B4455;\n",
              "      fill: #D2E3FC;\n",
              "    }\n",
              "\n",
              "    [theme=dark] .colab-df-convert:hover {\n",
              "      background-color: #434B5C;\n",
              "      box-shadow: 0px 1px 3px 1px rgba(0, 0, 0, 0.15);\n",
              "      filter: drop-shadow(0px 1px 2px rgba(0, 0, 0, 0.3));\n",
              "      fill: #FFFFFF;\n",
              "    }\n",
              "  </style>\n",
              "\n",
              "      <script>\n",
              "        const buttonEl =\n",
              "          document.querySelector('#df-85e37f05-0579-4842-a7d0-9d927e1ef2dd button.colab-df-convert');\n",
              "        buttonEl.style.display =\n",
              "          google.colab.kernel.accessAllowed ? 'block' : 'none';\n",
              "\n",
              "        async function convertToInteractive(key) {\n",
              "          const element = document.querySelector('#df-85e37f05-0579-4842-a7d0-9d927e1ef2dd');\n",
              "          const dataTable =\n",
              "            await google.colab.kernel.invokeFunction('convertToInteractive',\n",
              "                                                     [key], {});\n",
              "          if (!dataTable) return;\n",
              "\n",
              "          const docLinkHtml = 'Like what you see? Visit the ' +\n",
              "            '<a target=\"_blank\" href=https://colab.research.google.com/notebooks/data_table.ipynb>data table notebook</a>'\n",
              "            + ' to learn more about interactive tables.';\n",
              "          element.innerHTML = '';\n",
              "          dataTable['output_type'] = 'display_data';\n",
              "          await google.colab.output.renderOutput(dataTable, element);\n",
              "          const docLink = document.createElement('div');\n",
              "          docLink.innerHTML = docLinkHtml;\n",
              "          element.appendChild(docLink);\n",
              "        }\n",
              "      </script>\n",
              "    </div>\n",
              "  </div>\n",
              "  "
            ]
          },
          "metadata": {},
          "execution_count": 3
        }
      ]
    },
    {
      "cell_type": "code",
      "source": [
        "exams.shape # dimension "
      ],
      "metadata": {
        "colab": {
          "base_uri": "https://localhost:8080/"
        },
        "id": "QqkQKyIbwBiX",
        "outputId": "334f9295-a843-486d-b94b-a7d84937af4d"
      },
      "execution_count": null,
      "outputs": [
        {
          "output_type": "execute_result",
          "data": {
            "text/plain": [
              "(1000, 8)"
            ]
          },
          "metadata": {},
          "execution_count": 4
        }
      ]
    },
    {
      "cell_type": "code",
      "source": [
        "exams.info()"
      ],
      "metadata": {
        "colab": {
          "base_uri": "https://localhost:8080/"
        },
        "id": "wh1weL_Bx5UJ",
        "outputId": "aff626d3-b73f-40e5-9ebe-67f345e0bf44"
      },
      "execution_count": null,
      "outputs": [
        {
          "output_type": "stream",
          "name": "stdout",
          "text": [
            "<class 'pandas.core.frame.DataFrame'>\n",
            "RangeIndex: 1000 entries, 0 to 999\n",
            "Data columns (total 8 columns):\n",
            " #   Column                       Non-Null Count  Dtype \n",
            "---  ------                       --------------  ----- \n",
            " 0   gender                       1000 non-null   object\n",
            " 1   race/ethnicity               1000 non-null   object\n",
            " 2   parental level of education  1000 non-null   object\n",
            " 3   lunch                        1000 non-null   object\n",
            " 4   test preparation course      1000 non-null   object\n",
            " 5   math score                   1000 non-null   int64 \n",
            " 6   reading score                1000 non-null   int64 \n",
            " 7   writing score                1000 non-null   int64 \n",
            "dtypes: int64(3), object(5)\n",
            "memory usage: 62.6+ KB\n"
          ]
        }
      ]
    },
    {
      "cell_type": "code",
      "source": [
        "exams.isna().sum().sort_values() #ตรวจสอบหาข้อมูลที่เป็น null"
      ],
      "metadata": {
        "colab": {
          "base_uri": "https://localhost:8080/"
        },
        "id": "aDfB_8eExaS6",
        "outputId": "e5522c8c-1794-4a69-b29f-3bb725d777ed"
      },
      "execution_count": null,
      "outputs": [
        {
          "output_type": "execute_result",
          "data": {
            "text/plain": [
              "gender                         0\n",
              "race/ethnicity                 0\n",
              "parental level of education    0\n",
              "lunch                          0\n",
              "test preparation course        0\n",
              "math score                     0\n",
              "reading score                  0\n",
              "writing score                  0\n",
              "dtype: int64"
            ]
          },
          "metadata": {},
          "execution_count": 6
        }
      ]
    },
    {
      "cell_type": "code",
      "source": [
        "exams.columns # ดูคอลัมน์"
      ],
      "metadata": {
        "colab": {
          "base_uri": "https://localhost:8080/"
        },
        "id": "2fIRLahdyc7H",
        "outputId": "b41d641f-c6a4-4f4a-81df-1f6d066133e8"
      },
      "execution_count": null,
      "outputs": [
        {
          "output_type": "execute_result",
          "data": {
            "text/plain": [
              "Index(['gender', 'race/ethnicity', 'parental level of education', 'lunch',\n",
              "       'test preparation course', 'math score', 'reading score',\n",
              "       'writing score'],\n",
              "      dtype='object')"
            ]
          },
          "metadata": {},
          "execution_count": 7
        }
      ]
    },
    {
      "cell_type": "code",
      "source": [
        "exams['gender'].value_counts() #ดูค่าข้อมูลของ gender"
      ],
      "metadata": {
        "colab": {
          "base_uri": "https://localhost:8080/"
        },
        "id": "zaaYjrqjzfRI",
        "outputId": "029878f0-d20c-40d2-d18c-656b47508662"
      },
      "execution_count": null,
      "outputs": [
        {
          "output_type": "execute_result",
          "data": {
            "text/plain": [
              "male      517\n",
              "female    483\n",
              "Name: gender, dtype: int64"
            ]
          },
          "metadata": {},
          "execution_count": 8
        }
      ]
    },
    {
      "cell_type": "code",
      "source": [
        "exams['race/ethnicity'].value_counts() #ดูค่าข้อมูลของ race/ethnicity"
      ],
      "metadata": {
        "colab": {
          "base_uri": "https://localhost:8080/"
        },
        "id": "pCi_69Lrzsf4",
        "outputId": "0031d72f-784f-4ee8-9f36-57c127306072"
      },
      "execution_count": null,
      "outputs": [
        {
          "output_type": "execute_result",
          "data": {
            "text/plain": [
              "group C    323\n",
              "group D    262\n",
              "group B    205\n",
              "group E    131\n",
              "group A     79\n",
              "Name: race/ethnicity, dtype: int64"
            ]
          },
          "metadata": {},
          "execution_count": 9
        }
      ]
    },
    {
      "cell_type": "code",
      "source": [
        "exams['parental level of education'].value_counts() #ดูค่าข้อมูลของ parental level of education"
      ],
      "metadata": {
        "colab": {
          "base_uri": "https://localhost:8080/"
        },
        "id": "i_-KASctzyax",
        "outputId": "d8f9148e-fe4b-4493-a6b5-9140735fe4b2"
      },
      "execution_count": null,
      "outputs": [
        {
          "output_type": "execute_result",
          "data": {
            "text/plain": [
              "some college          222\n",
              "associate's degree    203\n",
              "high school           202\n",
              "some high school      191\n",
              "bachelor's degree     112\n",
              "master's degree        70\n",
              "Name: parental level of education, dtype: int64"
            ]
          },
          "metadata": {},
          "execution_count": 10
        }
      ]
    },
    {
      "cell_type": "code",
      "source": [
        "exams['lunch'].value_counts() #ดูค่าข้อมูลของ lunch"
      ],
      "metadata": {
        "colab": {
          "base_uri": "https://localhost:8080/"
        },
        "id": "RnVfOrKYz35Q",
        "outputId": "71357080-5f35-4874-e19d-ca4c63dfc411"
      },
      "execution_count": null,
      "outputs": [
        {
          "output_type": "execute_result",
          "data": {
            "text/plain": [
              "standard        652\n",
              "free/reduced    348\n",
              "Name: lunch, dtype: int64"
            ]
          },
          "metadata": {},
          "execution_count": 11
        }
      ]
    },
    {
      "cell_type": "code",
      "source": [
        "exams['test preparation course'].value_counts() #ดูค่าข้อมูลของ test preparation course"
      ],
      "metadata": {
        "colab": {
          "base_uri": "https://localhost:8080/"
        },
        "id": "WQx_Hx990AnO",
        "outputId": "8bfc8330-a083-47a1-97ae-fb61f76733ae"
      },
      "execution_count": null,
      "outputs": [
        {
          "output_type": "execute_result",
          "data": {
            "text/plain": [
              "none         665\n",
              "completed    335\n",
              "Name: test preparation course, dtype: int64"
            ]
          },
          "metadata": {},
          "execution_count": 12
        }
      ]
    },
    {
      "cell_type": "markdown",
      "source": [
        "**เตรียมข้อมูล**"
      ],
      "metadata": {
        "id": "lRlew7wIyE3R"
      }
    },
    {
      "cell_type": "code",
      "source": [
        "#split data ทำการแบ่งข้อมูลออกเป็น 2 ชุด คือ ข้อมูล train (ให้โมเดลเรียนรู้) และ ข้อมูล test (สำหรับทดสอบโมเดล)\n",
        "from sklearn.model_selection import train_test_split # libraly ที่้ไช้เพื่อแยกข้อมูลออกเป็น 2 ส่วน\n",
        "\n",
        "X = exams.drop('race/ethnicity', axis=1) # สำหรับแยกข้อมูล Input\n",
        "y = exams['race/ethnicity'] # สำหรับแยกข้อมูล Output\n",
        "\n",
        "#แยกข้อมูล train, test : ข้อมูล train 70 % และข้อมูล test 30 % \n",
        "X_train, X_test, y_train, y_test = train_test_split(X, y, test_size = 0.3, random_state=0)"
      ],
      "metadata": {
        "id": "zBwXsPMryEIk"
      },
      "execution_count": null,
      "outputs": []
    },
    {
      "cell_type": "code",
      "source": [
        "print(\"input:\")\n",
        "print(\"train data : \", X_train.shape)\n",
        "print(\"test data :\", X_test.shape)\n",
        "print(\"output:\")\n",
        "print(\"train data : \", y_train.shape)\n",
        "print(\"test data :\", y_test.shape)"
      ],
      "metadata": {
        "colab": {
          "base_uri": "https://localhost:8080/"
        },
        "id": "xpPTXrCE1H5z",
        "outputId": "f78bf109-fc18-4329-a18a-bdb857ca4dc6"
      },
      "execution_count": null,
      "outputs": [
        {
          "output_type": "stream",
          "name": "stdout",
          "text": [
            "input:\n",
            "train data :  (700, 7)\n",
            "test data : (300, 7)\n",
            "output:\n",
            "train data :  (700,)\n",
            "test data : (300,)\n"
          ]
        }
      ]
    },
    {
      "cell_type": "markdown",
      "source": [
        "**Model**\n",
        "ใช้โมเดล 2 ตัว คือ KMeans และ DBSCAN"
      ],
      "metadata": {
        "id": "_L9VzIhn7joo"
      }
    },
    {
      "cell_type": "code",
      "source": [
        "#KMeans model\n",
        "from sklearn.preprocessing import OrdinalEncoder #แปลงข้อมูลประเภทหมวดหมู่ ให้ข้อมูลเป็นข้อมูลเชิงปริมาณ\n",
        "from sklearn.preprocessing import MinMaxScaler\n",
        "from sklearn.pipeline import Pipeline\n",
        "from sklearn.cluster import KMeans # โมเดล KMeans\n",
        "from sklearn.decomposition import PCA\n",
        "\n",
        "pipe = Pipeline([\n",
        "    ('ord_encoder',OrdinalEncoder(handle_unknown='use_encoded_value', unknown_value=-1)), \n",
        "     ('minmax', MinMaxScaler()),\n",
        "    ('pca',PCA(n_components=3)),\n",
        "    ('kmeans',KMeans(n_clusters=5, random_state=0))\n",
        "])\n",
        "\n",
        "pipe.fit(X_train,y_train)\n",
        "y_predict = pipe.predict(X_test)\n"
      ],
      "metadata": {
        "id": "yfmZl-7Q1t7x"
      },
      "execution_count": null,
      "outputs": []
    },
    {
      "cell_type": "code",
      "source": [
        "#วัดประสิทธิภาพ\n",
        "from sklearn.metrics import homogeneity_score\n",
        "from sklearn.metrics import mutual_info_score\n",
        "\n",
        "print(\"homogeneity: \", homogeneity_score(y_test, y_predict))\n",
        "print(\"mutual_info: \", mutual_info_score(y_test, y_predict))"
      ],
      "metadata": {
        "colab": {
          "base_uri": "https://localhost:8080/"
        },
        "id": "vdLq-JGF3Mgn",
        "outputId": "51c00270-82d4-44a3-9649-b15cf5569798"
      },
      "execution_count": null,
      "outputs": [
        {
          "output_type": "stream",
          "name": "stdout",
          "text": [
            "homogeneity:  0.030700202104596532\n",
            "mutual_info:  0.044478921148583886\n"
          ]
        }
      ]
    },
    {
      "cell_type": "code",
      "source": [
        "# DBSCAN Model\n",
        "from sklearn.preprocessing import OrdinalEncoder #แปลงข้อมูลประเภทหมวดหมู่ ให้ข้อมูลเป็นข้อมูลเชิงปริมาณ\n",
        "from sklearn.pipeline import Pipeline\n",
        "from sklearn.cluster import DBSCAN #โมเดล DBSCAN\n",
        "from sklearn.decomposition import PCA\n",
        "# DBSCAN - Density-Based Spatial Clustering of Applications with Noise\n",
        "pipe = Pipeline([\n",
        "    ('ord_encoder',OrdinalEncoder(handle_unknown='use_encoded_value', unknown_value=-1)), \n",
        "    ('pca',PCA(n_components=3)),\n",
        "    ('DBSCAN',DBSCAN(eps=3, min_samples=2))\n",
        "])\n",
        "\n",
        "# pipe.fit(X_train,y_train)\n",
        "y_predict = pipe.fit_predict(X_test)"
      ],
      "metadata": {
        "id": "LXodCPWt5jSb"
      },
      "execution_count": null,
      "outputs": []
    },
    {
      "cell_type": "code",
      "source": [
        "#วัดประสิทธิภาพ\n",
        "from sklearn.metrics import homogeneity_score\n",
        "from sklearn.metrics import mutual_info_score\n",
        "\n",
        "print(\"homogeneity: \", homogeneity_score(y_test, y_predict)) \n",
        "print(\"mutual_info: \", mutual_info_score(y_test, y_predict))\n",
        "#ยิ่งเข้าใกล้ 1 ยิ่งดี"
      ],
      "metadata": {
        "colab": {
          "base_uri": "https://localhost:8080/"
        },
        "id": "JXqse_xF53c5",
        "outputId": "b0b47838-a352-4fe8-b20d-deee48a536d5"
      },
      "execution_count": null,
      "outputs": [
        {
          "output_type": "stream",
          "name": "stdout",
          "text": [
            "homogeneity:  0.2861690209381055\n",
            "mutual_info:  0.41460604311682026\n"
          ]
        }
      ]
    },
    {
      "cell_type": "markdown",
      "source": [
        "**วิเคราะห์ผล**\n",
        "\n",
        "การจำแนกกลุ่ม race/ethnicity ของนักเรียน รับมาจาก Kaggle ข้อมูลมี 8 แอตทริบิวต์ ทั้งหมด 100 แถว ซึ่งกำหนดข้อมูล Input คือgender (เพศ), parental level of education (ระดับของการศึกษา), lunch (อาหารกลางวัน), test preparation course (คอร์สเตรียมสอบ), math score (คะแนนคณิตศาสตร์), reading score (คะแนนการอ่าน), writig score (คะแนนการเขียน) และข้อมูล Output คือ race/ethnicity (เชื้อชาติ/ชาติพันธุ์) ในการจำแนกจะใช้โมเดล KMeans และ DBSCAN ในการเตรียมข้อมูล จะแยกเป็น 2 ชุด train 70% และ test 30% ของข้อมูลทั้งหมด ซึ่งจะรวบรวมการทำงานเป็นขั้นตอนไว้ใน pipeline ใช้ OrdinalEncoderเพื่อแปลงข้อมูลประเภทหมวดหมู่ ให้ข้อมูลเป็นข้อมูลเชิงปริมาณ ,MinMaxScaler เพื่อปรับขนาดของข้อมูลให้อยู่ในช่วงที่กำหนด และใช้ PCA เพื่อลดขนาด Matrix ข้อมูลให้เล็กลง ผลจากการวัดประสิทธิภาพของโมเดลได้ว่า การจำแนกกลุ่ม race/ethnicity ของนักเรียน โดยใช้โมเดล DBSCAN มีประสิทธิภาพดีกว่า KMeans"
      ],
      "metadata": {
        "id": "yGJgsI9A72pT"
      }
    }
  ]
}